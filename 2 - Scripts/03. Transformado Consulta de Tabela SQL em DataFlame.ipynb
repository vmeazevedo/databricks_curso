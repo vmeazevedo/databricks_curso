{
 "cells": [
  {
   "cell_type": "code",
   "execution_count": 0,
   "metadata": {
    "application/vnd.databricks.v1+cell": {
     "cellMetadata": {},
     "inputWidgets": {},
     "nuid": "ede20b8a-9f2a-4882-9173-2e6cf95825a4",
     "showTitle": false,
     "tableResultSettingsMap": {},
     "title": ""
    }
   },
   "outputs": [],
   "source": [
    "#Obs quando seu Cluster Desligar vai perder os dados do Banco de dados e tabelas criadas (Database Tables)\n",
    "# Dados do DBFS não sao perdidos\n",
    "# Run All no Notbook ( 2. Criando Tabelas Via Comando SQL) para subir os dados"
   ]
  },
  {
   "cell_type": "markdown",
   "metadata": {
    "application/vnd.databricks.v1+cell": {
     "cellMetadata": {},
     "inputWidgets": {},
     "nuid": "8aa963af-7eee-4b8d-826e-2baae7ac89e6",
     "showTitle": false,
     "tableResultSettingsMap": {},
     "title": ""
    }
   },
   "source": [
    "##### Criando Banco de dados "
   ]
  },
  {
   "cell_type": "code",
   "execution_count": 0,
   "metadata": {
    "application/vnd.databricks.v1+cell": {
     "cellMetadata": {
      "byteLimit": 2048000,
      "implicitDf": true,
      "rowLimit": 10000
     },
     "inputWidgets": {},
     "nuid": "29c0ae81-ebe1-4de0-9291-9702222e9d2a",
     "showTitle": false,
     "tableResultSettingsMap": {},
     "title": ""
    }
   },
   "outputs": [],
   "source": [
    "%sql\n",
    "CREATE DATABASE IF NOT EXISTS Teste;\n"
   ]
  },
  {
   "cell_type": "markdown",
   "metadata": {
    "application/vnd.databricks.v1+cell": {
     "cellMetadata": {},
     "inputWidgets": {},
     "nuid": "d6de5a08-bf40-4dad-9276-5802ddbde014",
     "showTitle": false,
     "tableResultSettingsMap": {},
     "title": ""
    }
   },
   "source": [
    "##### Criando tabela de Clientes"
   ]
  },
  {
   "cell_type": "code",
   "execution_count": 0,
   "metadata": {
    "application/vnd.databricks.v1+cell": {
     "cellMetadata": {
      "byteLimit": 2048000,
      "implicitDf": true,
      "rowLimit": 10000
     },
     "inputWidgets": {},
     "nuid": "601d80d6-bb00-4848-9ce9-a1046f826187",
     "showTitle": false,
     "tableResultSettingsMap": {},
     "title": ""
    }
   },
   "outputs": [
    {
     "output_type": "display_data",
     "data": {
      "text/html": [
       "<style scoped>\n",
       "  .table-result-container {\n",
       "    max-height: 300px;\n",
       "    overflow: auto;\n",
       "  }\n",
       "  table, th, td {\n",
       "    border: 1px solid black;\n",
       "    border-collapse: collapse;\n",
       "  }\n",
       "  th, td {\n",
       "    padding: 5px;\n",
       "  }\n",
       "  th {\n",
       "    text-align: left;\n",
       "  }\n",
       "</style><div class='table-result-container'><table class='table-result'><thead style='background-color: white'><tr><th>num_affected_rows</th><th>num_inserted_rows</th></tr></thead><tbody></tbody></table></div>"
      ]
     },
     "metadata": {
      "application/vnd.databricks.v1+output": {
       "addedWidgets": {},
       "aggData": [],
       "aggError": "",
       "aggOverflow": false,
       "aggSchema": [],
       "aggSeriesLimitReached": false,
       "aggType": "",
       "arguments": {},
       "columnCustomDisplayInfos": {},
       "data": [],
       "datasetInfos": [
        {
         "name": "_sqldf",
         "schema": {
          "fields": [
           {
            "metadata": {},
            "name": "num_affected_rows",
            "nullable": true,
            "type": "long"
           },
           {
            "metadata": {},
            "name": "num_inserted_rows",
            "nullable": true,
            "type": "long"
           }
          ],
          "type": "struct"
         },
         "tableIdentifier": null,
         "typeStr": "pyspark.sql.connect.dataframe.DataFrame"
        }
       ],
       "dbfsResultPath": null,
       "isJsonSchema": true,
       "metadata": {
        "createTempViewForImplicitDf": true,
        "dataframeName": "_sqldf",
        "executionCount": 2
       },
       "overflow": false,
       "plotOptions": {
        "customPlotOptions": {},
        "displayType": "table",
        "pivotAggregation": null,
        "pivotColumns": null,
        "xColumns": null,
        "yColumns": null
       },
       "removedWidgets": [],
       "schema": [
        {
         "metadata": "{}",
         "name": "num_affected_rows",
         "type": "\"long\""
        },
        {
         "metadata": "{}",
         "name": "num_inserted_rows",
         "type": "\"long\""
        }
       ],
       "type": "table"
      }
     },
     "output_type": "display_data"
    }
   ],
   "source": [
    "%sql\n",
    "\n",
    "-- Criando tabelas a parte de csv\n",
    "use teste;\n",
    "\n",
    "-- tabela clientes\n",
    "CREATE OR REPLACE TEMPORARY VIEW clientes_tmp USING CSV \n",
    "OPTIONS (path '/Volumes/workspace/default/arquivos-aula/arquivos_csv/Clientes.csv', header 'true', inferSchema 'true');\n",
    "CREATE TABLE IF NOT EXISTS clientes AS SELECT * FROM clientes_tmp;"
   ]
  },
  {
   "cell_type": "code",
   "execution_count": 0,
   "metadata": {
    "application/vnd.databricks.v1+cell": {
     "cellMetadata": {
      "byteLimit": 2048000,
      "implicitDf": true,
      "rowLimit": 10000
     },
     "inputWidgets": {},
     "nuid": "34ac938e-bab8-40c1-b445-cd2e6eeccb9a",
     "showTitle": false,
     "tableResultSettingsMap": {},
     "title": ""
    }
   },
   "outputs": [
    {
     "output_type": "display_data",
     "data": {
      "text/html": [
       "<style scoped>\n",
       "  .table-result-container {\n",
       "    max-height: 300px;\n",
       "    overflow: auto;\n",
       "  }\n",
       "  table, th, td {\n",
       "    border: 1px solid black;\n",
       "    border-collapse: collapse;\n",
       "  }\n",
       "  th, td {\n",
       "    padding: 5px;\n",
       "  }\n",
       "  th {\n",
       "    text-align: left;\n",
       "  }\n",
       "</style><div class='table-result-container'><table class='table-result'><thead style='background-color: white'><tr><th>id</th><th>created_at</th><th>first_name</th><th>last_name</th><th>email</th><th>cell_phone</th><th>country</th><th>state</th><th>street</th><th>number</th><th>additionals</th></tr></thead><tbody><tr><td>0</td><td>2017-11-01T14:45:41.000Z</td><td>Marta</td><td>Jesus</td><td>null</td><td>9 9102-7834</td><td>Brasil</td><td>Acre</td><td>null</td><td>null</td><td>Conjunto 16</td></tr><tr><td>1</td><td>2017-10-16T00:50:39.000Z</td><td>Luana</td><td>Almeida</td><td>null</td><td>9 7328-8718</td><td>Brasil</td><td>Rio Grande do Sul</td><td>Avenida 56 do Estado Rio Grande do Sul</td><td>989.0</td><td>Conjunto 17</td></tr><tr><td>2</td><td>2018-06-16T17:51:29.000Z</td><td>Frida</td><td>Mendes</td><td>frida@meu_email.com</td><td>9 5906-7552</td><td>Brasil</td><td>São Paulo</td><td>Avenida 59 do Estado São Paulo</td><td>534.0</td><td>null</td></tr><tr><td>3</td><td>2018-01-17T03:02:58.000Z</td><td>Daniela</td><td>Avelino</td><td>daniela@exemplo.com</td><td>9 4642-9486</td><td>Brasil</td><td>Mato Grosso</td><td>null</td><td>null</td><td>null</td></tr><tr><td>4</td><td>2018-08-06T07:24:16.000Z</td><td>Romário</td><td>Teixeira</td><td>null</td><td>9 3093-6522</td><td>Brasil</td><td>Bahia</td><td>Praça 56 do Estado Bahia</td><td>191.0</td><td>Apto 12</td></tr><tr><td>5</td><td>2018-01-05T17:20:49.000Z</td><td>Marcelo</td><td>Barroso</td><td>null</td><td>9 2830-2088</td><td>Brasil</td><td>Rio Grande do Sul</td><td>Rua 28 do Estado Rio Grande do Sul</td><td>805.0</td><td>Conjunto 13</td></tr><tr><td>6</td><td>2018-06-18T11:17:42.000Z</td><td>Cristiano</td><td>Elísio</td><td>cristiano@exemplo.com</td><td>9 3532-8404</td><td>Brasil</td><td>Goiás</td><td>Rua 78 do Estado Goiás</td><td>877.0</td><td>Apto 14</td></tr><tr><td>7</td><td>2018-02-08T12:36:09.000Z</td><td>Everton</td><td>Barbosa</td><td>everton@meu_email.com</td><td>9 2553-4087</td><td>Brasil</td><td>Distrito Federal</td><td>Avenida 86 do Estado Distrito Federal</td><td>864.0</td><td>Apto 14</td></tr><tr><td>8</td><td>2017-12-16T20:47:03.000Z</td><td>Gabriela</td><td>Alves</td><td>gabriela@exemplo.com</td><td>9 1353-8433</td><td>Brasil</td><td>Santa Catarina</td><td>null</td><td>null</td><td>null</td></tr><tr><td>9</td><td>2018-11-11T11:48:41.000Z</td><td>Luan</td><td>Dias</td><td>luan@exemplo.com</td><td>9 2417-3678</td><td>Brasil</td><td>Distrito Federal</td><td>Avenida 54 do Estado Distrito Federal</td><td>889.0</td><td>Conjunto 14</td></tr><tr><td>10</td><td>2017-12-16T15:41:00.000Z</td><td>Mariana</td><td>Alves</td><td>mariana@meu_email.com</td><td>9 1846-6377</td><td>Brasil</td><td>Santa Catarina</td><td>null</td><td>null</td><td>null</td></tr><tr><td>11</td><td>2018-05-16T03:39:52.000Z</td><td>James</td><td>Albuquerque</td><td>null</td><td>9 2430-5905</td><td>Brasil</td><td>Sergipe</td><td>Rua 30 do Estado Sergipe</td><td>229.0</td><td>null</td></tr><tr><td>12</td><td>2018-03-28T00:24:00.000Z</td><td>Carol</td><td>Barboza</td><td>carol@exemplo.com</td><td>9 8487-3501</td><td>Brasil</td><td>Mato Grosso</td><td>Rua 31 do Estado Mato Grosso</td><td>1.0</td><td>Conjunto 23</td></tr><tr><td>13</td><td>2018-08-27T21:15:17.000Z</td><td>Carolina</td><td>Monteiro</td><td>carolina@teste.com</td><td>9 1226-4267</td><td>Brasil</td><td>Rio Grande do Sul</td><td>Rua 4 do Estado Rio Grande do Sul</td><td>444.0</td><td>Apto 21</td></tr><tr><td>14</td><td>2017-11-12T03:02:41.000Z</td><td>Francisco</td><td>Nascimento</td><td>francisco@exemplo.com</td><td>9 7264-9020</td><td>Brasil</td><td>Distrito Federal</td><td>Rua 75 do Estado Distrito Federal</td><td>47.0</td><td>null</td></tr><tr><td>15</td><td>2018-11-15T18:00:53.000Z</td><td>Stephanie</td><td>Barbosa</td><td>stephanie@usuario.com</td><td>9 1446-3560</td><td>Brasil</td><td>Mato Grosso</td><td>null</td><td>null</td><td>Conjunto 4</td></tr><tr><td>16</td><td>2017-12-12T21:29:54.000Z</td><td>Laura</td><td>Santos</td><td>laura@exemplo.com</td><td>9 7802-6152</td><td>Brasil</td><td>Maranhão</td><td>Rua 57 do Estado Maranhão</td><td>213.0</td><td>null</td></tr><tr><td>17</td><td>2017-10-19T20:18:14.000Z</td><td>João</td><td>Magalhães</td><td>joão@exemplo.com</td><td>9 5995-1272</td><td>Brasil</td><td>Pernambuco</td><td>Rua 20 do Estado Pernambuco</td><td>781.0</td><td>Apto 17</td></tr><tr><td>18</td><td>2018-06-28T04:53:52.000Z</td><td>Jair</td><td>Magalhães</td><td>jair@exemplo.com</td><td>9 8368-1315</td><td>Brasil</td><td>Alagoas</td><td>Avenida 74 do Estado Alagoas</td><td>118.0</td><td>Conjunto 8</td></tr><tr><td>19</td><td>2018-10-20T19:31:52.000Z</td><td>Caíque</td><td>Monteiro</td><td>caíque@exemplo.com</td><td>9 9793-9986</td><td>Brasil</td><td>Piauí</td><td>null</td><td>null</td><td>Conjunto 13</td></tr><tr><td>20</td><td>2017-12-22T10:51:28.000Z</td><td>Adalberto</td><td>Silva</td><td>adalberto@usuario.com</td><td>9 1338-1447</td><td>Brasil</td><td>São Paulo</td><td>Rua 57 do Estado São Paulo</td><td>851.0</td><td>Conjunto 20</td></tr><tr><td>21</td><td>2018-02-21T15:35:55.000Z</td><td>Diego</td><td>Freire</td><td>diego@teste.com</td><td>9 6686-4094</td><td>Brasil</td><td>Bahia</td><td>Praça 4 do Estado Bahia</td><td>906.0</td><td>Apto 20</td></tr><tr><td>22</td><td>2018-04-18T22:43:29.000Z</td><td>Heitor</td><td>Pereira</td><td>null</td><td>9 4839-8118</td><td>Brasil</td><td>Maranhão</td><td>Avenida 84 do Estado Maranhão</td><td>948.0</td><td>null</td></tr><tr><td>23</td><td>2017-10-26T00:35:22.000Z</td><td>Maria</td><td>Pires</td><td>null</td><td>9 8229-1067</td><td>Brasil</td><td>Amazonas</td><td>Avenida 80 do Estado Amazonas</td><td>581.0</td><td>null</td></tr><tr><td>24</td><td>2018-07-25T09:34:12.000Z</td><td>Jair</td><td>Barroso</td><td>jair@teste.com</td><td>9 6679-6120</td><td>Brasil</td><td>Ceará</td><td>Rua 86 do Estado Ceará</td><td>770.0</td><td>Apto 21</td></tr><tr><td>25</td><td>2018-08-07T12:22:40.000Z</td><td>Alice</td><td>Veloso</td><td>alice@exemplo.com</td><td>9 9869-3706</td><td>Brasil</td><td>Minas Gerais</td><td>Praça 73 do Estado Minas Gerais</td><td>571.0</td><td>null</td></tr><tr><td>26</td><td>2018-12-12T11:56:14.000Z</td><td>Eloá</td><td>da Silva</td><td>eloá@usuario.com</td><td>9 3982-5948</td><td>Brasil</td><td>Espírito Santo</td><td>Avenida 98 do Estado Espírito Santo</td><td>706.0</td><td>null</td></tr><tr><td>27</td><td>2018-11-08T11:12:47.000Z</td><td>Luan</td><td>Lima</td><td>luan@teste.com</td><td>9 2529-8197</td><td>Brasil</td><td>Acre</td><td>Praça 86 do Estado Acre</td><td>303.0</td><td>Apto 27</td></tr><tr><td>28</td><td>2017-11-26T05:17:39.000Z</td><td>Beatriz</td><td>Araújo</td><td>beatriz@usuario.com</td><td>9 4543-3853</td><td>Brasil</td><td>Minas Gerais</td><td>Praça 7 do Estado Minas Gerais</td><td>536.0</td><td>Conjunto 5</td></tr><tr><td>29</td><td>2018-06-03T17:08:52.000Z</td><td>Geisa</td><td>Santos</td><td>geisa@meu_email.com</td><td>9 4653-9739</td><td>Brasil</td><td>Rio Grande do Norte</td><td>Avenida 77 do Estado Rio Grande do Norte</td><td>486.0</td><td>Conjunto 13</td></tr><tr><td>30</td><td>2018-06-08T07:49:50.000Z</td><td>Gabriel</td><td>Teixeira</td><td>gabriel@exemplo.com</td><td>9 7419-5325</td><td>Brasil</td><td>Rio Grande do Sul</td><td>Avenida 7 do Estado Rio Grande do Sul</td><td>94.0</td><td>null</td></tr><tr><td>31</td><td>2018-07-02T22:04:08.000Z</td><td>Geisa</td><td>Freitas</td><td>geisa@exemplo.com</td><td>9 6772-5310</td><td>Brasil</td><td>Mato Grosso do Sul</td><td>Rua 18 do Estado Mato Grosso do Sul</td><td>128.0</td><td>null</td></tr><tr><td>32</td><td>2018-07-22T11:59:27.000Z</td><td>Ana</td><td>Campos</td><td>ana@teste.com</td><td>9 1932-9841</td><td>Brasil</td><td>Bahia</td><td>Avenida 52 do Estado Bahia</td><td>402.0</td><td>null</td></tr><tr><td>33</td><td>2017-12-28T12:51:34.000Z</td><td>João</td><td>da Silva</td><td>joão@usuario.com</td><td>9 2813-8103</td><td>Brasil</td><td>Paraná</td><td>Avenida 27 do Estado Paraná</td><td>240.0</td><td>Apto 6</td></tr><tr><td>34</td><td>2018-10-05T01:14:05.000Z</td><td>José</td><td>Campos</td><td>josé@teste.com</td><td>9 7552-4340</td><td>Brasil</td><td>Goiás</td><td>Praça 25 do Estado Goiás</td><td>884.0</td><td>Apto 7</td></tr><tr><td>35</td><td>2018-04-19T10:10:22.000Z</td><td>Adalberto</td><td>Dias</td><td>adalberto@usuario.com</td><td>9 8395-7004</td><td>Brasil</td><td>Espírito Santo</td><td>Rua 37 do Estado Espírito Santo</td><td>383.0</td><td>Apto 13</td></tr><tr><td>36</td><td>2018-01-26T03:29:13.000Z</td><td>Mariana</td><td>Góes</td><td>mariana@meu_email.com</td><td>9 7324-4293</td><td>Brasil</td><td>null</td><td>null</td><td>null</td><td>Apto 25</td></tr><tr><td>37</td><td>2018-03-02T22:27:03.000Z</td><td>Daniela</td><td>Monteiro</td><td>daniela@meu_email.com</td><td>9 4704-5844</td><td>Brasil</td><td>Goiás</td><td>Rua 43 do Estado Goiás</td><td>116.0</td><td>Apto 28</td></tr><tr><td>38</td><td>2018-09-01T09:33:57.000Z</td><td>Marcelo</td><td>Mendes</td><td>null</td><td>9 6773-1560</td><td>Brasil</td><td>Espírito Santo</td><td>Avenida 64 do Estado Espírito Santo</td><td>213.0</td><td>null</td></tr><tr><td>39</td><td>2017-11-15T07:17:25.000Z</td><td>Caio</td><td>Batista</td><td>caio@usuario.com</td><td>9 4761-6542</td><td>Brasil</td><td>Maranhão</td><td>Avenida 87 do Estado Maranhão</td><td>656.0</td><td>Apto 25</td></tr><tr><td>40</td><td>2018-08-17T13:21:08.000Z</td><td>Gabriela</td><td>Nascimento</td><td>gabriela@teste.com</td><td>9 5382-5772</td><td>Brasil</td><td>Amapá</td><td>Avenida 85 do Estado Amapá</td><td>476.0</td><td>null</td></tr><tr><td>41</td><td>2018-11-30T17:44:09.000Z</td><td>Maria</td><td>Morais</td><td>maria@usuario.com</td><td>9 1519-4181</td><td>Brasil</td><td>Pernambuco</td><td>Avenida 69 do Estado Pernambuco</td><td>633.0</td><td>null</td></tr><tr><td>42</td><td>2018-04-09T19:12:23.000Z</td><td>João</td><td>Almeida</td><td>joão@usuario.com</td><td>9 4650-1753</td><td>Brasil</td><td>Goiás</td><td>Praça 3 do Estado Goiás</td><td>986.0</td><td>Apto 9</td></tr><tr><td>43</td><td>2018-01-07T07:54:22.000Z</td><td>Daniela</td><td>Lima</td><td>null</td><td>9 1763-2584</td><td>Brasil</td><td>Rio de Janeiro</td><td>null</td><td>null</td><td>Apto 20</td></tr><tr><td>44</td><td>2018-04-08T07:18:45.000Z</td><td>Júlia</td><td>Costa</td><td>júlia@usuario.com</td><td>9 5446-9508</td><td>Brasil</td><td>Rio Grande do Norte</td><td>Avenida 46 do Estado Rio Grande do Norte</td><td>277.0</td><td>Conjunto 14</td></tr><tr><td>45</td><td>2018-05-10T23:09:25.000Z</td><td>Gerson</td><td>Anjos</td><td>gerson@meu_email.com</td><td>9 1590-8972</td><td>Brasil</td><td>Mato Grosso do Sul</td><td>Avenida 35 do Estado Mato Grosso do Sul</td><td>229.0</td><td>Apto 29</td></tr><tr><td>46</td><td>2018-07-19T08:33:32.000Z</td><td>Rafael</td><td>Freire</td><td>rafael@exemplo.com</td><td>9 8703-1006</td><td>Brasil</td><td>Maranhão</td><td>Praça 97 do Estado Maranhão</td><td>138.0</td><td>null</td></tr><tr><td>47</td><td>2018-09-01T23:00:40.000Z</td><td>Júlia</td><td>Castro</td><td>júlia@exemplo.com</td><td>9 7096-1780</td><td>Brasil</td><td>Rio de Janeiro</td><td>Rua 39 do Estado Rio de Janeiro</td><td>983.0</td><td>Conjunto 7</td></tr><tr><td>48</td><td>2018-05-29T04:22:54.000Z</td><td>Clarissa</td><td>Albuquerque</td><td>clarissa@exemplo.com</td><td>9 7403-4273</td><td>Brasil</td><td>Ceará</td><td>null</td><td>null</td><td>Apto 12</td></tr><tr><td>49</td><td>2018-11-01T02:13:51.000Z</td><td>Júlia</td><td>Sousa</td><td>júlia@exemplo.com</td><td>9 2094-8467</td><td>Brasil</td><td>Rondônia</td><td>Rua 12 do Estado Rondônia</td><td>260.0</td><td>Apto 27</td></tr><tr><td>50</td><td>2018-08-24T07:52:23.000Z</td><td>Beatriz</td><td>Monteiro</td><td>beatriz@teste.com</td><td>9 3570-4464</td><td>Brasil</td><td>Minas Gerais</td><td>Avenida 17 do Estado Minas Gerais</td><td>223.0</td><td>Conjunto 22</td></tr><tr><td>51</td><td>2017-12-26T15:38:15.000Z</td><td>Caio</td><td>Mendes</td><td>caio@teste.com</td><td>9 6437-5008</td><td>Brasil</td><td>Pernambuco</td><td>Rua 34 do Estado Pernambuco</td><td>931.0</td><td>null</td></tr><tr><td>52</td><td>2017-12-04T17:42:34.000Z</td><td>Bruno</td><td>Anjos</td><td>bruno@teste.com</td><td>9 3004-3740</td><td>Brasil</td><td>Goiás</td><td>Rua 53 do Estado Goiás</td><td>825.0</td><td>null</td></tr><tr><td>53</td><td>2018-03-25T14:26:49.000Z</td><td>Daniela</td><td>Mendes</td><td>daniela@teste.com</td><td>9 3797-3399</td><td>Brasil</td><td>Pernambuco</td><td>Rua 71 do Estado Pernambuco</td><td>760.0</td><td>Apto 14</td></tr><tr><td>54</td><td>2018-01-25T02:11:25.000Z</td><td>Diego</td><td>Teixeira</td><td>diego@exemplo.com</td><td>9 5247-1737</td><td>Brasil</td><td>Pará</td><td>Rua 8 do Estado Pará</td><td>722.0</td><td>Conjunto 16</td></tr><tr><td>55</td><td>2018-07-10T18:40:07.000Z</td><td>Gabriela</td><td>Pires</td><td>gabriela@meu_email.com</td><td>9 1214-1539</td><td>Brasil</td><td>Rio de Janeiro</td><td>Rua 32 do Estado Rio de Janeiro</td><td>838.0</td><td>Apto 29</td></tr><tr><td>56</td><td>2017-12-01T22:40:40.000Z</td><td>Cristiano</td><td>Fagundes</td><td>cristiano@usuario.com</td><td>9 7680-6400</td><td>Brasil</td><td>Piauí</td><td>Avenida 20 do Estado Piauí</td><td>236.0</td><td>Apto 30</td></tr><tr><td>57</td><td>2018-08-23T03:31:05.000Z</td><td>Stephanie</td><td>Barboza</td><td>stephanie@meu_email.com</td><td>9 1168-6722</td><td>Brasil</td><td>Maranhão</td><td>Avenida 25 do Estado Maranhão</td><td>795.0</td><td>null</td></tr><tr><td>58</td><td>2018-09-13T03:13:02.000Z</td><td>Rafael</td><td>Rodrigues</td><td>rafael@meu_email.com</td><td>9 6550-3557</td><td>Brasil</td><td>Bahia</td><td>Praça 94 do Estado Bahia</td><td>647.0</td><td>Apto 25</td></tr><tr><td>59</td><td>2017-12-03T16:24:32.000Z</td><td>Stephanie</td><td>Freire</td><td>stephanie@usuario.com</td><td>9 3256-1853</td><td>Brasil</td><td>São Paulo</td><td>Rua 52 do Estado São Paulo</td><td>34.0</td><td>Apto 24</td></tr><tr><td>60</td><td>2018-06-26T18:47:12.000Z</td><td>Carol</td><td>Bueno</td><td>carol@usuario.com</td><td>9 9814-4736</td><td>Brasil</td><td>Santa Catarina</td><td>Rua 10 do Estado Santa Catarina</td><td>47.0</td><td>Conjunto 12</td></tr><tr><td>61</td><td>2018-04-30T18:36:56.000Z</td><td>Francisco</td><td>Abreu</td><td>francisco@exemplo.com</td><td>9 6754-1775</td><td>Brasil</td><td>Amapá</td><td>Rua 72 do Estado Amapá</td><td>50.0</td><td>Apto 12</td></tr><tr><td>62</td><td>2018-01-21T13:56:16.000Z</td><td>Carol</td><td>Anjos</td><td>carol@usuario.com</td><td>9 2123-9306</td><td>Brasil</td><td>Pernambuco</td><td>Praça 12 do Estado Pernambuco</td><td>928.0</td><td>Conjunto 26</td></tr><tr><td>63</td><td>2018-05-05T17:52:26.000Z</td><td>Caíque</td><td>Batista</td><td>caíque@teste.com</td><td>9 8818-5886</td><td>Brasil</td><td>Ceará</td><td>Rua 76 do Estado Ceará</td><td>239.0</td><td>Apto 19</td></tr><tr><td>64</td><td>2018-10-30T15:47:32.000Z</td><td>Luan</td><td>Ramos</td><td>luan@exemplo.com</td><td>9 6843-3876</td><td>Brasil</td><td>Pernambuco</td><td>Rua 63 do Estado Pernambuco</td><td>345.0</td><td>Conjunto 10</td></tr><tr><td>65</td><td>2018-02-06T05:56:36.000Z</td><td>Willian</td><td>Freitas</td><td>null</td><td>9 3043-7382</td><td>Brasil</td><td>Rio de Janeiro</td><td>Rua 91 do Estado Rio de Janeiro</td><td>96.0</td><td>Apto 7</td></tr><tr><td>66</td><td>2018-10-18T04:31:59.000Z</td><td>Stephanie</td><td>Abreu</td><td>stephanie@meu_email.com</td><td>9 6466-2389</td><td>Brasil</td><td>Mato Grosso</td><td>Rua 19 do Estado Mato Grosso</td><td>53.0</td><td>Conjunto 13</td></tr><tr><td>67</td><td>2018-08-31T18:22:52.000Z</td><td>Laura</td><td>Pires</td><td>laura@meu_email.com</td><td>9 8144-6047</td><td>Brasil</td><td>Mato Grosso do Sul</td><td>Praça 23 do Estado Mato Grosso do Sul</td><td>47.0</td><td>Apto 7</td></tr><tr><td>68</td><td>2018-11-14T11:04:35.000Z</td><td>José</td><td>Pires</td><td>josé@usuario.com</td><td>9 8189-2149</td><td>Brasil</td><td>Ceará</td><td>Avenida 99 do Estado Ceará</td><td>231.0</td><td>null</td></tr><tr><td>69</td><td>2018-02-20T19:16:26.000Z</td><td>Gustavo</td><td>Cardoso</td><td>gustavo@teste.com</td><td>9 7594-9211</td><td>Brasil</td><td>Amazonas</td><td>Praça 52 do Estado Amazonas</td><td>698.0</td><td>null</td></tr><tr><td>70</td><td>2017-10-22T12:49:39.000Z</td><td>Diego</td><td>Barboza</td><td>null</td><td>9 4849-7409</td><td>Brasil</td><td>Mato Grosso do Sul</td><td>Avenida 3 do Estado Mato Grosso do Sul</td><td>250.0</td><td>null</td></tr><tr><td>71</td><td>2017-12-12T16:16:52.000Z</td><td>Gerson</td><td>Barroso</td><td>gerson@exemplo.com</td><td>9 5719-4227</td><td>Brasil</td><td>Pernambuco</td><td>null</td><td>null</td><td>Apto 2</td></tr><tr><td>72</td><td>2018-01-29T03:19:24.000Z</td><td>Neymar</td><td>Elísio</td><td>neymar@teste.com</td><td>9 5373-1785</td><td>Brasil</td><td>Rio Grande do Sul</td><td>Rua 49 do Estado Rio Grande do Sul</td><td>929.0</td><td>null</td></tr><tr><td>73</td><td>2018-02-03T07:37:38.000Z</td><td>Cristiano</td><td>Almeida</td><td>cristiano@usuario.com</td><td>9 2630-9907</td><td>Brasil</td><td>null</td><td>null</td><td>null</td><td>Conjunto 24</td></tr><tr><td>74</td><td>2018-04-22T05:00:28.000Z</td><td>Júlia</td><td>Almeida</td><td>júlia@meu_email.com</td><td>9 9208-5213</td><td>Brasil</td><td>Maranhão</td><td>Praça 25 do Estado Maranhão</td><td>953.0</td><td>Conjunto 4</td></tr><tr><td>75</td><td>2018-06-21T14:28:03.000Z</td><td>Marta</td><td>Abreu</td><td>null</td><td>9 9024-3467</td><td>Brasil</td><td>Roraima</td><td>Avenida 67 do Estado Roraima</td><td>410.0</td><td>Conjunto 23</td></tr><tr><td>76</td><td>2018-04-16T04:53:31.000Z</td><td>Romário</td><td>Rosa</td><td>romário@meu_email.com</td><td>9 8710-8305</td><td>Brasil</td><td>Rio Grande do Sul</td><td>Praça 75 do Estado Rio Grande do Sul</td><td>110.0</td><td>Conjunto 10</td></tr><tr><td>77</td><td>2018-11-30T10:29:55.000Z</td><td>Ana</td><td>Monteiro</td><td>ana@teste.com</td><td>9 3871-4132</td><td>Brasil</td><td>Bahia</td><td>Praça 86 do Estado Bahia</td><td>604.0</td><td>Apto 30</td></tr><tr><td>78</td><td>2017-11-02T22:13:22.000Z</td><td>Laura</td><td>Queiroz</td><td>laura@exemplo.com</td><td>9 6338-8617</td><td>Brasil</td><td>São Paulo</td><td>Praça 19 do Estado São Paulo</td><td>878.0</td><td>Conjunto 3</td></tr><tr><td>79</td><td>2017-12-13T08:41:05.000Z</td><td>Hélen</td><td>Souza</td><td>hélen@teste.com</td><td>9 9974-1066</td><td>Brasil</td><td>Paraná</td><td>Avenida 20 do Estado Paraná</td><td>661.0</td><td>Conjunto 13</td></tr><tr><td>80</td><td>2018-10-10T00:06:32.000Z</td><td>Daniela</td><td>Góes</td><td>daniela@usuario.com</td><td>9 5394-6677</td><td>Brasil</td><td>Alagoas</td><td>Praça 22 do Estado Alagoas</td><td>235.0</td><td>null</td></tr><tr><td>81</td><td>2018-01-13T10:35:01.000Z</td><td>Alice</td><td>Ferreira</td><td>alice@teste.com</td><td>9 9005-2493</td><td>Brasil</td><td>Minas Gerais</td><td>Praça 53 do Estado Minas Gerais</td><td>83.0</td><td>null</td></tr><tr><td>82</td><td>2018-11-04T18:02:42.000Z</td><td>Heitor</td><td>Rocha</td><td>heitor@teste.com</td><td>9 3236-7429</td><td>Brasil</td><td>Espírito Santo</td><td>Praça 82 do Estado Espírito Santo</td><td>14.0</td><td>null</td></tr><tr><td>83</td><td>2018-01-05T00:15:03.000Z</td><td>Frida</td><td>Freire</td><td>null</td><td>9 4760-1383</td><td>Brasil</td><td>Alagoas</td><td>Rua 25 do Estado Alagoas</td><td>679.0</td><td>Conjunto 9</td></tr><tr><td>84</td><td>2018-11-01T15:39:40.000Z</td><td>Carol</td><td>Bueno</td><td>carol@meu_email.com</td><td>9 3760-2211</td><td>Brasil</td><td>null</td><td>null</td><td>null</td><td>Conjunto 26</td></tr><tr><td>85</td><td>2017-11-24T12:44:36.000Z</td><td>Eduardo</td><td>Teixeira</td><td>null</td><td>9 2537-7930</td><td>Brasil</td><td>Rio Grande do Norte</td><td>null</td><td>null</td><td>null</td></tr><tr><td>86</td><td>2018-03-12T09:30:24.000Z</td><td>Adalberto</td><td>Oliveira</td><td>adalberto@teste.com</td><td>9 3081-3441</td><td>Brasil</td><td>Roraima</td><td>Rua 40 do Estado Roraima</td><td>401.0</td><td>Conjunto 17</td></tr><tr><td>87</td><td>2018-08-16T20:25:23.000Z</td><td>Beatriz</td><td>Abreu</td><td>beatriz@usuario.com</td><td>9 2254-6798</td><td>Brasil</td><td>Acre</td><td>Rua 95 do Estado Acre</td><td>482.0</td><td>Conjunto 16</td></tr><tr><td>88</td><td>2017-10-12T15:17:05.000Z</td><td>Rafael</td><td>Batista</td><td>rafael@usuario.com</td><td>9 8656-5668</td><td>Brasil</td><td>Ceará</td><td>Rua 78 do Estado Ceará</td><td>787.0</td><td>Apto 3</td></tr><tr><td>89</td><td>2017-12-07T19:24:54.000Z</td><td>Daniela</td><td>Pires</td><td>daniela@usuario.com</td><td>9 6666-2265</td><td>Brasil</td><td>Bahia</td><td>Rua 31 do Estado Bahia</td><td>441.0</td><td>null</td></tr><tr><td>90</td><td>2017-12-16T22:14:58.000Z</td><td>Stephanie</td><td>Rosa</td><td>null</td><td>9 3040-4414</td><td>Brasil</td><td>Rio Grande do Norte</td><td>null</td><td>null</td><td>null</td></tr><tr><td>91</td><td>2018-09-12T22:12:05.000Z</td><td>Daniel</td><td>Costa</td><td>daniel@teste.com</td><td>9 4761-6557</td><td>Brasil</td><td>Rio Grande do Norte</td><td>Praça 25 do Estado Rio Grande do Norte</td><td>281.0</td><td>Apto 8</td></tr><tr><td>92</td><td>2017-10-16T16:29:15.000Z</td><td>Beatriz</td><td>Bueno</td><td>beatriz@teste.com</td><td>9 4435-2960</td><td>Brasil</td><td>Acre</td><td>Rua 71 do Estado Acre</td><td>978.0</td><td>Apto 24</td></tr><tr><td>93</td><td>2018-11-02T08:43:47.000Z</td><td>Ronaldo</td><td>Galo</td><td>ronaldo@meu_email.com</td><td>9 8821-9577</td><td>Brasil</td><td>Pernambuco</td><td>Avenida 8 do Estado Pernambuco</td><td>758.0</td><td>Apto 2</td></tr><tr><td>94</td><td>2018-10-29T11:39:58.000Z</td><td>Cristiano</td><td>Pereira</td><td>cristiano@meu_email.com</td><td>9 4404-8717</td><td>Brasil</td><td>Piauí</td><td>Praça 100 do Estado Piauí</td><td>809.0</td><td>null</td></tr><tr><td>95</td><td>2018-10-01T11:35:59.000Z</td><td>Mariana</td><td>Rosa</td><td>mariana@usuario.com</td><td>9 3139-2145</td><td>Brasil</td><td>null</td><td>null</td><td>null</td><td>null</td></tr><tr><td>96</td><td>2018-01-23T19:14:21.000Z</td><td>Paulo</td><td>Câmara</td><td>paulo@usuario.com</td><td>9 4785-1135</td><td>Brasil</td><td>Sergipe</td><td>Praça 73 do Estado Sergipe</td><td>219.0</td><td>Apto 6</td></tr><tr><td>97</td><td>2018-07-04T18:45:41.000Z</td><td>Marta</td><td>Góes</td><td>marta@teste.com</td><td>9 4102-4352</td><td>Brasil</td><td>Paraná</td><td>Rua 61 do Estado Paraná</td><td>402.0</td><td>Apto 24</td></tr><tr><td>98</td><td>2018-01-24T16:21:06.000Z</td><td>Cibele</td><td>Costa</td><td>cibele@meu_email.com</td><td>9 4211-6968</td><td>Brasil</td><td>Mato Grosso</td><td>Praça 75 do Estado Mato Grosso</td><td>24.0</td><td>null</td></tr><tr><td>99</td><td>2018-07-24T08:26:27.000Z</td><td>Jéssica</td><td>Jesus</td><td>jéssica@usuario.com</td><td>9 6100-1466</td><td>Brasil</td><td>Paraná</td><td>Avenida 19 do Estado Paraná</td><td>738.0</td><td>Conjunto 22</td></tr></tbody></table></div>"
      ]
     },
     "metadata": {
      "application/vnd.databricks.v1+output": {
       "addedWidgets": {},
       "aggData": [],
       "aggError": "",
       "aggOverflow": false,
       "aggSchema": [],
       "aggSeriesLimitReached": false,
       "aggType": "",
       "arguments": {},
       "columnCustomDisplayInfos": {},
       "data": [
        [
         0,
         "2017-11-01T14:45:41.000Z",
         "Marta",
         "Jesus",
         null,
         "9 9102-7834",
         "Brasil",
         "Acre",
         null,
         null,
         "Conjunto 16"
        ],
        [
         1,
         "2017-10-16T00:50:39.000Z",
         "Luana",
         "Almeida",
         null,
         "9 7328-8718",
         "Brasil",
         "Rio Grande do Sul",
         "Avenida 56 do Estado Rio Grande do Sul",
         989.0,
         "Conjunto 17"
        ],
        [
         2,
         "2018-06-16T17:51:29.000Z",
         "Frida",
         "Mendes",
         "frida@meu_email.com",
         "9 5906-7552",
         "Brasil",
         "São Paulo",
         "Avenida 59 do Estado São Paulo",
         534.0,
         null
        ],
        [
         3,
         "2018-01-17T03:02:58.000Z",
         "Daniela",
         "Avelino",
         "daniela@exemplo.com",
         "9 4642-9486",
         "Brasil",
         "Mato Grosso",
         null,
         null,
         null
        ],
        [
         4,
         "2018-08-06T07:24:16.000Z",
         "Romário",
         "Teixeira",
         null,
         "9 3093-6522",
         "Brasil",
         "Bahia",
         "Praça 56 do Estado Bahia",
         191.0,
         "Apto 12"
        ],
        [
         5,
         "2018-01-05T17:20:49.000Z",
         "Marcelo",
         "Barroso",
         null,
         "9 2830-2088",
         "Brasil",
         "Rio Grande do Sul",
         "Rua 28 do Estado Rio Grande do Sul",
         805.0,
         "Conjunto 13"
        ],
        [
         6,
         "2018-06-18T11:17:42.000Z",
         "Cristiano",
         "Elísio",
         "cristiano@exemplo.com",
         "9 3532-8404",
         "Brasil",
         "Goiás",
         "Rua 78 do Estado Goiás",
         877.0,
         "Apto 14"
        ],
        [
         7,
         "2018-02-08T12:36:09.000Z",
         "Everton",
         "Barbosa",
         "everton@meu_email.com",
         "9 2553-4087",
         "Brasil",
         "Distrito Federal",
         "Avenida 86 do Estado Distrito Federal",
         864.0,
         "Apto 14"
        ],
        [
         8,
         "2017-12-16T20:47:03.000Z",
         "Gabriela",
         "Alves",
         "gabriela@exemplo.com",
         "9 1353-8433",
         "Brasil",
         "Santa Catarina",
         null,
         null,
         null
        ],
        [
         9,
         "2018-11-11T11:48:41.000Z",
         "Luan",
         "Dias",
         "luan@exemplo.com",
         "9 2417-3678",
         "Brasil",
         "Distrito Federal",
         "Avenida 54 do Estado Distrito Federal",
         889.0,
         "Conjunto 14"
        ],
        [
         10,
         "2017-12-16T15:41:00.000Z",
         "Mariana",
         "Alves",
         "mariana@meu_email.com",
         "9 1846-6377",
         "Brasil",
         "Santa Catarina",
         null,
         null,
         null
        ],
        [
         11,
         "2018-05-16T03:39:52.000Z",
         "James",
         "Albuquerque",
         null,
         "9 2430-5905",
         "Brasil",
         "Sergipe",
         "Rua 30 do Estado Sergipe",
         229.0,
         null
        ],
        [
         12,
         "2018-03-28T00:24:00.000Z",
         "Carol",
         "Barboza",
         "carol@exemplo.com",
         "9 8487-3501",
         "Brasil",
         "Mato Grosso",
         "Rua 31 do Estado Mato Grosso",
         1.0,
         "Conjunto 23"
        ],
        [
         13,
         "2018-08-27T21:15:17.000Z",
         "Carolina",
         "Monteiro",
         "carolina@teste.com",
         "9 1226-4267",
         "Brasil",
         "Rio Grande do Sul",
         "Rua 4 do Estado Rio Grande do Sul",
         444.0,
         "Apto 21"
        ],
        [
         14,
         "2017-11-12T03:02:41.000Z",
         "Francisco",
         "Nascimento",
         "francisco@exemplo.com",
         "9 7264-9020",
         "Brasil",
         "Distrito Federal",
         "Rua 75 do Estado Distrito Federal",
         47.0,
         null
        ],
        [
         15,
         "2018-11-15T18:00:53.000Z",
         "Stephanie",
         "Barbosa",
         "stephanie@usuario.com",
         "9 1446-3560",
         "Brasil",
         "Mato Grosso",
         null,
         null,
         "Conjunto 4"
        ],
        [
         16,
         "2017-12-12T21:29:54.000Z",
         "Laura",
         "Santos",
         "laura@exemplo.com",
         "9 7802-6152",
         "Brasil",
         "Maranhão",
         "Rua 57 do Estado Maranhão",
         213.0,
         null
        ],
        [
         17,
         "2017-10-19T20:18:14.000Z",
         "João",
         "Magalhães",
         "joão@exemplo.com",
         "9 5995-1272",
         "Brasil",
         "Pernambuco",
         "Rua 20 do Estado Pernambuco",
         781.0,
         "Apto 17"
        ],
        [
         18,
         "2018-06-28T04:53:52.000Z",
         "Jair",
         "Magalhães",
         "jair@exemplo.com",
         "9 8368-1315",
         "Brasil",
         "Alagoas",
         "Avenida 74 do Estado Alagoas",
         118.0,
         "Conjunto 8"
        ],
        [
         19,
         "2018-10-20T19:31:52.000Z",
         "Caíque",
         "Monteiro",
         "caíque@exemplo.com",
         "9 9793-9986",
         "Brasil",
         "Piauí",
         null,
         null,
         "Conjunto 13"
        ],
        [
         20,
         "2017-12-22T10:51:28.000Z",
         "Adalberto",
         "Silva",
         "adalberto@usuario.com",
         "9 1338-1447",
         "Brasil",
         "São Paulo",
         "Rua 57 do Estado São Paulo",
         851.0,
         "Conjunto 20"
        ],
        [
         21,
         "2018-02-21T15:35:55.000Z",
         "Diego",
         "Freire",
         "diego@teste.com",
         "9 6686-4094",
         "Brasil",
         "Bahia",
         "Praça 4 do Estado Bahia",
         906.0,
         "Apto 20"
        ],
        [
         22,
         "2018-04-18T22:43:29.000Z",
         "Heitor",
         "Pereira",
         null,
         "9 4839-8118",
         "Brasil",
         "Maranhão",
         "Avenida 84 do Estado Maranhão",
         948.0,
         null
        ],
        [
         23,
         "2017-10-26T00:35:22.000Z",
         "Maria",
         "Pires",
         null,
         "9 8229-1067",
         "Brasil",
         "Amazonas",
         "Avenida 80 do Estado Amazonas",
         581.0,
         null
        ],
        [
         24,
         "2018-07-25T09:34:12.000Z",
         "Jair",
         "Barroso",
         "jair@teste.com",
         "9 6679-6120",
         "Brasil",
         "Ceará",
         "Rua 86 do Estado Ceará",
         770.0,
         "Apto 21"
        ],
        [
         25,
         "2018-08-07T12:22:40.000Z",
         "Alice",
         "Veloso",
         "alice@exemplo.com",
         "9 9869-3706",
         "Brasil",
         "Minas Gerais",
         "Praça 73 do Estado Minas Gerais",
         571.0,
         null
        ],
        [
         26,
         "2018-12-12T11:56:14.000Z",
         "Eloá",
         "da Silva",
         "eloá@usuario.com",
         "9 3982-5948",
         "Brasil",
         "Espírito Santo",
         "Avenida 98 do Estado Espírito Santo",
         706.0,
         null
        ],
        [
         27,
         "2018-11-08T11:12:47.000Z",
         "Luan",
         "Lima",
         "luan@teste.com",
         "9 2529-8197",
         "Brasil",
         "Acre",
         "Praça 86 do Estado Acre",
         303.0,
         "Apto 27"
        ],
        [
         28,
         "2017-11-26T05:17:39.000Z",
         "Beatriz",
         "Araújo",
         "beatriz@usuario.com",
         "9 4543-3853",
         "Brasil",
         "Minas Gerais",
         "Praça 7 do Estado Minas Gerais",
         536.0,
         "Conjunto 5"
        ],
        [
         29,
         "2018-06-03T17:08:52.000Z",
         "Geisa",
         "Santos",
         "geisa@meu_email.com",
         "9 4653-9739",
         "Brasil",
         "Rio Grande do Norte",
         "Avenida 77 do Estado Rio Grande do Norte",
         486.0,
         "Conjunto 13"
        ],
        [
         30,
         "2018-06-08T07:49:50.000Z",
         "Gabriel",
         "Teixeira",
         "gabriel@exemplo.com",
         "9 7419-5325",
         "Brasil",
         "Rio Grande do Sul",
         "Avenida 7 do Estado Rio Grande do Sul",
         94.0,
         null
        ],
        [
         31,
         "2018-07-02T22:04:08.000Z",
         "Geisa",
         "Freitas",
         "geisa@exemplo.com",
         "9 6772-5310",
         "Brasil",
         "Mato Grosso do Sul",
         "Rua 18 do Estado Mato Grosso do Sul",
         128.0,
         null
        ],
        [
         32,
         "2018-07-22T11:59:27.000Z",
         "Ana",
         "Campos",
         "ana@teste.com",
         "9 1932-9841",
         "Brasil",
         "Bahia",
         "Avenida 52 do Estado Bahia",
         402.0,
         null
        ],
        [
         33,
         "2017-12-28T12:51:34.000Z",
         "João",
         "da Silva",
         "joão@usuario.com",
         "9 2813-8103",
         "Brasil",
         "Paraná",
         "Avenida 27 do Estado Paraná",
         240.0,
         "Apto 6"
        ],
        [
         34,
         "2018-10-05T01:14:05.000Z",
         "José",
         "Campos",
         "josé@teste.com",
         "9 7552-4340",
         "Brasil",
         "Goiás",
         "Praça 25 do Estado Goiás",
         884.0,
         "Apto 7"
        ],
        [
         35,
         "2018-04-19T10:10:22.000Z",
         "Adalberto",
         "Dias",
         "adalberto@usuario.com",
         "9 8395-7004",
         "Brasil",
         "Espírito Santo",
         "Rua 37 do Estado Espírito Santo",
         383.0,
         "Apto 13"
        ],
        [
         36,
         "2018-01-26T03:29:13.000Z",
         "Mariana",
         "Góes",
         "mariana@meu_email.com",
         "9 7324-4293",
         "Brasil",
         null,
         null,
         null,
         "Apto 25"
        ],
        [
         37,
         "2018-03-02T22:27:03.000Z",
         "Daniela",
         "Monteiro",
         "daniela@meu_email.com",
         "9 4704-5844",
         "Brasil",
         "Goiás",
         "Rua 43 do Estado Goiás",
         116.0,
         "Apto 28"
        ],
        [
         38,
         "2018-09-01T09:33:57.000Z",
         "Marcelo",
         "Mendes",
         null,
         "9 6773-1560",
         "Brasil",
         "Espírito Santo",
         "Avenida 64 do Estado Espírito Santo",
         213.0,
         null
        ],
        [
         39,
         "2017-11-15T07:17:25.000Z",
         "Caio",
         "Batista",
         "caio@usuario.com",
         "9 4761-6542",
         "Brasil",
         "Maranhão",
         "Avenida 87 do Estado Maranhão",
         656.0,
         "Apto 25"
        ],
        [
         40,
         "2018-08-17T13:21:08.000Z",
         "Gabriela",
         "Nascimento",
         "gabriela@teste.com",
         "9 5382-5772",
         "Brasil",
         "Amapá",
         "Avenida 85 do Estado Amapá",
         476.0,
         null
        ],
        [
         41,
         "2018-11-30T17:44:09.000Z",
         "Maria",
         "Morais",
         "maria@usuario.com",
         "9 1519-4181",
         "Brasil",
         "Pernambuco",
         "Avenida 69 do Estado Pernambuco",
         633.0,
         null
        ],
        [
         42,
         "2018-04-09T19:12:23.000Z",
         "João",
         "Almeida",
         "joão@usuario.com",
         "9 4650-1753",
         "Brasil",
         "Goiás",
         "Praça 3 do Estado Goiás",
         986.0,
         "Apto 9"
        ],
        [
         43,
         "2018-01-07T07:54:22.000Z",
         "Daniela",
         "Lima",
         null,
         "9 1763-2584",
         "Brasil",
         "Rio de Janeiro",
         null,
         null,
         "Apto 20"
        ],
        [
         44,
         "2018-04-08T07:18:45.000Z",
         "Júlia",
         "Costa",
         "júlia@usuario.com",
         "9 5446-9508",
         "Brasil",
         "Rio Grande do Norte",
         "Avenida 46 do Estado Rio Grande do Norte",
         277.0,
         "Conjunto 14"
        ],
        [
         45,
         "2018-05-10T23:09:25.000Z",
         "Gerson",
         "Anjos",
         "gerson@meu_email.com",
         "9 1590-8972",
         "Brasil",
         "Mato Grosso do Sul",
         "Avenida 35 do Estado Mato Grosso do Sul",
         229.0,
         "Apto 29"
        ],
        [
         46,
         "2018-07-19T08:33:32.000Z",
         "Rafael",
         "Freire",
         "rafael@exemplo.com",
         "9 8703-1006",
         "Brasil",
         "Maranhão",
         "Praça 97 do Estado Maranhão",
         138.0,
         null
        ],
        [
         47,
         "2018-09-01T23:00:40.000Z",
         "Júlia",
         "Castro",
         "júlia@exemplo.com",
         "9 7096-1780",
         "Brasil",
         "Rio de Janeiro",
         "Rua 39 do Estado Rio de Janeiro",
         983.0,
         "Conjunto 7"
        ],
        [
         48,
         "2018-05-29T04:22:54.000Z",
         "Clarissa",
         "Albuquerque",
         "clarissa@exemplo.com",
         "9 7403-4273",
         "Brasil",
         "Ceará",
         null,
         null,
         "Apto 12"
        ],
        [
         49,
         "2018-11-01T02:13:51.000Z",
         "Júlia",
         "Sousa",
         "júlia@exemplo.com",
         "9 2094-8467",
         "Brasil",
         "Rondônia",
         "Rua 12 do Estado Rondônia",
         260.0,
         "Apto 27"
        ],
        [
         50,
         "2018-08-24T07:52:23.000Z",
         "Beatriz",
         "Monteiro",
         "beatriz@teste.com",
         "9 3570-4464",
         "Brasil",
         "Minas Gerais",
         "Avenida 17 do Estado Minas Gerais",
         223.0,
         "Conjunto 22"
        ],
        [
         51,
         "2017-12-26T15:38:15.000Z",
         "Caio",
         "Mendes",
         "caio@teste.com",
         "9 6437-5008",
         "Brasil",
         "Pernambuco",
         "Rua 34 do Estado Pernambuco",
         931.0,
         null
        ],
        [
         52,
         "2017-12-04T17:42:34.000Z",
         "Bruno",
         "Anjos",
         "bruno@teste.com",
         "9 3004-3740",
         "Brasil",
         "Goiás",
         "Rua 53 do Estado Goiás",
         825.0,
         null
        ],
        [
         53,
         "2018-03-25T14:26:49.000Z",
         "Daniela",
         "Mendes",
         "daniela@teste.com",
         "9 3797-3399",
         "Brasil",
         "Pernambuco",
         "Rua 71 do Estado Pernambuco",
         760.0,
         "Apto 14"
        ],
        [
         54,
         "2018-01-25T02:11:25.000Z",
         "Diego",
         "Teixeira",
         "diego@exemplo.com",
         "9 5247-1737",
         "Brasil",
         "Pará",
         "Rua 8 do Estado Pará",
         722.0,
         "Conjunto 16"
        ],
        [
         55,
         "2018-07-10T18:40:07.000Z",
         "Gabriela",
         "Pires",
         "gabriela@meu_email.com",
         "9 1214-1539",
         "Brasil",
         "Rio de Janeiro",
         "Rua 32 do Estado Rio de Janeiro",
         838.0,
         "Apto 29"
        ],
        [
         56,
         "2017-12-01T22:40:40.000Z",
         "Cristiano",
         "Fagundes",
         "cristiano@usuario.com",
         "9 7680-6400",
         "Brasil",
         "Piauí",
         "Avenida 20 do Estado Piauí",
         236.0,
         "Apto 30"
        ],
        [
         57,
         "2018-08-23T03:31:05.000Z",
         "Stephanie",
         "Barboza",
         "stephanie@meu_email.com",
         "9 1168-6722",
         "Brasil",
         "Maranhão",
         "Avenida 25 do Estado Maranhão",
         795.0,
         null
        ],
        [
         58,
         "2018-09-13T03:13:02.000Z",
         "Rafael",
         "Rodrigues",
         "rafael@meu_email.com",
         "9 6550-3557",
         "Brasil",
         "Bahia",
         "Praça 94 do Estado Bahia",
         647.0,
         "Apto 25"
        ],
        [
         59,
         "2017-12-03T16:24:32.000Z",
         "Stephanie",
         "Freire",
         "stephanie@usuario.com",
         "9 3256-1853",
         "Brasil",
         "São Paulo",
         "Rua 52 do Estado São Paulo",
         34.0,
         "Apto 24"
        ],
        [
         60,
         "2018-06-26T18:47:12.000Z",
         "Carol",
         "Bueno",
         "carol@usuario.com",
         "9 9814-4736",
         "Brasil",
         "Santa Catarina",
         "Rua 10 do Estado Santa Catarina",
         47.0,
         "Conjunto 12"
        ],
        [
         61,
         "2018-04-30T18:36:56.000Z",
         "Francisco",
         "Abreu",
         "francisco@exemplo.com",
         "9 6754-1775",
         "Brasil",
         "Amapá",
         "Rua 72 do Estado Amapá",
         50.0,
         "Apto 12"
        ],
        [
         62,
         "2018-01-21T13:56:16.000Z",
         "Carol",
         "Anjos",
         "carol@usuario.com",
         "9 2123-9306",
         "Brasil",
         "Pernambuco",
         "Praça 12 do Estado Pernambuco",
         928.0,
         "Conjunto 26"
        ],
        [
         63,
         "2018-05-05T17:52:26.000Z",
         "Caíque",
         "Batista",
         "caíque@teste.com",
         "9 8818-5886",
         "Brasil",
         "Ceará",
         "Rua 76 do Estado Ceará",
         239.0,
         "Apto 19"
        ],
        [
         64,
         "2018-10-30T15:47:32.000Z",
         "Luan",
         "Ramos",
         "luan@exemplo.com",
         "9 6843-3876",
         "Brasil",
         "Pernambuco",
         "Rua 63 do Estado Pernambuco",
         345.0,
         "Conjunto 10"
        ],
        [
         65,
         "2018-02-06T05:56:36.000Z",
         "Willian",
         "Freitas",
         null,
         "9 3043-7382",
         "Brasil",
         "Rio de Janeiro",
         "Rua 91 do Estado Rio de Janeiro",
         96.0,
         "Apto 7"
        ],
        [
         66,
         "2018-10-18T04:31:59.000Z",
         "Stephanie",
         "Abreu",
         "stephanie@meu_email.com",
         "9 6466-2389",
         "Brasil",
         "Mato Grosso",
         "Rua 19 do Estado Mato Grosso",
         53.0,
         "Conjunto 13"
        ],
        [
         67,
         "2018-08-31T18:22:52.000Z",
         "Laura",
         "Pires",
         "laura@meu_email.com",
         "9 8144-6047",
         "Brasil",
         "Mato Grosso do Sul",
         "Praça 23 do Estado Mato Grosso do Sul",
         47.0,
         "Apto 7"
        ],
        [
         68,
         "2018-11-14T11:04:35.000Z",
         "José",
         "Pires",
         "josé@usuario.com",
         "9 8189-2149",
         "Brasil",
         "Ceará",
         "Avenida 99 do Estado Ceará",
         231.0,
         null
        ],
        [
         69,
         "2018-02-20T19:16:26.000Z",
         "Gustavo",
         "Cardoso",
         "gustavo@teste.com",
         "9 7594-9211",
         "Brasil",
         "Amazonas",
         "Praça 52 do Estado Amazonas",
         698.0,
         null
        ],
        [
         70,
         "2017-10-22T12:49:39.000Z",
         "Diego",
         "Barboza",
         null,
         "9 4849-7409",
         "Brasil",
         "Mato Grosso do Sul",
         "Avenida 3 do Estado Mato Grosso do Sul",
         250.0,
         null
        ],
        [
         71,
         "2017-12-12T16:16:52.000Z",
         "Gerson",
         "Barroso",
         "gerson@exemplo.com",
         "9 5719-4227",
         "Brasil",
         "Pernambuco",
         null,
         null,
         "Apto 2"
        ],
        [
         72,
         "2018-01-29T03:19:24.000Z",
         "Neymar",
         "Elísio",
         "neymar@teste.com",
         "9 5373-1785",
         "Brasil",
         "Rio Grande do Sul",
         "Rua 49 do Estado Rio Grande do Sul",
         929.0,
         null
        ],
        [
         73,
         "2018-02-03T07:37:38.000Z",
         "Cristiano",
         "Almeida",
         "cristiano@usuario.com",
         "9 2630-9907",
         "Brasil",
         null,
         null,
         null,
         "Conjunto 24"
        ],
        [
         74,
         "2018-04-22T05:00:28.000Z",
         "Júlia",
         "Almeida",
         "júlia@meu_email.com",
         "9 9208-5213",
         "Brasil",
         "Maranhão",
         "Praça 25 do Estado Maranhão",
         953.0,
         "Conjunto 4"
        ],
        [
         75,
         "2018-06-21T14:28:03.000Z",
         "Marta",
         "Abreu",
         null,
         "9 9024-3467",
         "Brasil",
         "Roraima",
         "Avenida 67 do Estado Roraima",
         410.0,
         "Conjunto 23"
        ],
        [
         76,
         "2018-04-16T04:53:31.000Z",
         "Romário",
         "Rosa",
         "romário@meu_email.com",
         "9 8710-8305",
         "Brasil",
         "Rio Grande do Sul",
         "Praça 75 do Estado Rio Grande do Sul",
         110.0,
         "Conjunto 10"
        ],
        [
         77,
         "2018-11-30T10:29:55.000Z",
         "Ana",
         "Monteiro",
         "ana@teste.com",
         "9 3871-4132",
         "Brasil",
         "Bahia",
         "Praça 86 do Estado Bahia",
         604.0,
         "Apto 30"
        ],
        [
         78,
         "2017-11-02T22:13:22.000Z",
         "Laura",
         "Queiroz",
         "laura@exemplo.com",
         "9 6338-8617",
         "Brasil",
         "São Paulo",
         "Praça 19 do Estado São Paulo",
         878.0,
         "Conjunto 3"
        ],
        [
         79,
         "2017-12-13T08:41:05.000Z",
         "Hélen",
         "Souza",
         "hélen@teste.com",
         "9 9974-1066",
         "Brasil",
         "Paraná",
         "Avenida 20 do Estado Paraná",
         661.0,
         "Conjunto 13"
        ],
        [
         80,
         "2018-10-10T00:06:32.000Z",
         "Daniela",
         "Góes",
         "daniela@usuario.com",
         "9 5394-6677",
         "Brasil",
         "Alagoas",
         "Praça 22 do Estado Alagoas",
         235.0,
         null
        ],
        [
         81,
         "2018-01-13T10:35:01.000Z",
         "Alice",
         "Ferreira",
         "alice@teste.com",
         "9 9005-2493",
         "Brasil",
         "Minas Gerais",
         "Praça 53 do Estado Minas Gerais",
         83.0,
         null
        ],
        [
         82,
         "2018-11-04T18:02:42.000Z",
         "Heitor",
         "Rocha",
         "heitor@teste.com",
         "9 3236-7429",
         "Brasil",
         "Espírito Santo",
         "Praça 82 do Estado Espírito Santo",
         14.0,
         null
        ],
        [
         83,
         "2018-01-05T00:15:03.000Z",
         "Frida",
         "Freire",
         null,
         "9 4760-1383",
         "Brasil",
         "Alagoas",
         "Rua 25 do Estado Alagoas",
         679.0,
         "Conjunto 9"
        ],
        [
         84,
         "2018-11-01T15:39:40.000Z",
         "Carol",
         "Bueno",
         "carol@meu_email.com",
         "9 3760-2211",
         "Brasil",
         null,
         null,
         null,
         "Conjunto 26"
        ],
        [
         85,
         "2017-11-24T12:44:36.000Z",
         "Eduardo",
         "Teixeira",
         null,
         "9 2537-7930",
         "Brasil",
         "Rio Grande do Norte",
         null,
         null,
         null
        ],
        [
         86,
         "2018-03-12T09:30:24.000Z",
         "Adalberto",
         "Oliveira",
         "adalberto@teste.com",
         "9 3081-3441",
         "Brasil",
         "Roraima",
         "Rua 40 do Estado Roraima",
         401.0,
         "Conjunto 17"
        ],
        [
         87,
         "2018-08-16T20:25:23.000Z",
         "Beatriz",
         "Abreu",
         "beatriz@usuario.com",
         "9 2254-6798",
         "Brasil",
         "Acre",
         "Rua 95 do Estado Acre",
         482.0,
         "Conjunto 16"
        ],
        [
         88,
         "2017-10-12T15:17:05.000Z",
         "Rafael",
         "Batista",
         "rafael@usuario.com",
         "9 8656-5668",
         "Brasil",
         "Ceará",
         "Rua 78 do Estado Ceará",
         787.0,
         "Apto 3"
        ],
        [
         89,
         "2017-12-07T19:24:54.000Z",
         "Daniela",
         "Pires",
         "daniela@usuario.com",
         "9 6666-2265",
         "Brasil",
         "Bahia",
         "Rua 31 do Estado Bahia",
         441.0,
         null
        ],
        [
         90,
         "2017-12-16T22:14:58.000Z",
         "Stephanie",
         "Rosa",
         null,
         "9 3040-4414",
         "Brasil",
         "Rio Grande do Norte",
         null,
         null,
         null
        ],
        [
         91,
         "2018-09-12T22:12:05.000Z",
         "Daniel",
         "Costa",
         "daniel@teste.com",
         "9 4761-6557",
         "Brasil",
         "Rio Grande do Norte",
         "Praça 25 do Estado Rio Grande do Norte",
         281.0,
         "Apto 8"
        ],
        [
         92,
         "2017-10-16T16:29:15.000Z",
         "Beatriz",
         "Bueno",
         "beatriz@teste.com",
         "9 4435-2960",
         "Brasil",
         "Acre",
         "Rua 71 do Estado Acre",
         978.0,
         "Apto 24"
        ],
        [
         93,
         "2018-11-02T08:43:47.000Z",
         "Ronaldo",
         "Galo",
         "ronaldo@meu_email.com",
         "9 8821-9577",
         "Brasil",
         "Pernambuco",
         "Avenida 8 do Estado Pernambuco",
         758.0,
         "Apto 2"
        ],
        [
         94,
         "2018-10-29T11:39:58.000Z",
         "Cristiano",
         "Pereira",
         "cristiano@meu_email.com",
         "9 4404-8717",
         "Brasil",
         "Piauí",
         "Praça 100 do Estado Piauí",
         809.0,
         null
        ],
        [
         95,
         "2018-10-01T11:35:59.000Z",
         "Mariana",
         "Rosa",
         "mariana@usuario.com",
         "9 3139-2145",
         "Brasil",
         null,
         null,
         null,
         null
        ],
        [
         96,
         "2018-01-23T19:14:21.000Z",
         "Paulo",
         "Câmara",
         "paulo@usuario.com",
         "9 4785-1135",
         "Brasil",
         "Sergipe",
         "Praça 73 do Estado Sergipe",
         219.0,
         "Apto 6"
        ],
        [
         97,
         "2018-07-04T18:45:41.000Z",
         "Marta",
         "Góes",
         "marta@teste.com",
         "9 4102-4352",
         "Brasil",
         "Paraná",
         "Rua 61 do Estado Paraná",
         402.0,
         "Apto 24"
        ],
        [
         98,
         "2018-01-24T16:21:06.000Z",
         "Cibele",
         "Costa",
         "cibele@meu_email.com",
         "9 4211-6968",
         "Brasil",
         "Mato Grosso",
         "Praça 75 do Estado Mato Grosso",
         24.0,
         null
        ],
        [
         99,
         "2018-07-24T08:26:27.000Z",
         "Jéssica",
         "Jesus",
         "jéssica@usuario.com",
         "9 6100-1466",
         "Brasil",
         "Paraná",
         "Avenida 19 do Estado Paraná",
         738.0,
         "Conjunto 22"
        ]
       ],
       "datasetInfos": [
        {
         "name": "_sqldf",
         "schema": {
          "fields": [
           {
            "metadata": {},
            "name": "id",
            "nullable": true,
            "type": "integer"
           },
           {
            "metadata": {},
            "name": "created_at",
            "nullable": true,
            "type": "timestamp"
           },
           {
            "metadata": {},
            "name": "first_name",
            "nullable": true,
            "type": "string"
           },
           {
            "metadata": {},
            "name": "last_name",
            "nullable": true,
            "type": "string"
           },
           {
            "metadata": {},
            "name": "email",
            "nullable": true,
            "type": "string"
           },
           {
            "metadata": {},
            "name": "cell_phone",
            "nullable": true,
            "type": "string"
           },
           {
            "metadata": {},
            "name": "country",
            "nullable": true,
            "type": "string"
           },
           {
            "metadata": {},
            "name": "state",
            "nullable": true,
            "type": "string"
           },
           {
            "metadata": {},
            "name": "street",
            "nullable": true,
            "type": "string"
           },
           {
            "metadata": {},
            "name": "number",
            "nullable": true,
            "type": "double"
           },
           {
            "metadata": {},
            "name": "additionals",
            "nullable": true,
            "type": "string"
           }
          ],
          "type": "struct"
         },
         "tableIdentifier": null,
         "typeStr": "pyspark.sql.connect.dataframe.DataFrame"
        }
       ],
       "dbfsResultPath": null,
       "isJsonSchema": true,
       "metadata": {
        "createTempViewForImplicitDf": true,
        "dataframeName": "_sqldf",
        "executionCount": 3
       },
       "overflow": false,
       "plotOptions": {
        "customPlotOptions": {},
        "displayType": "table",
        "pivotAggregation": null,
        "pivotColumns": null,
        "xColumns": null,
        "yColumns": null
       },
       "removedWidgets": [],
       "schema": [
        {
         "metadata": "{}",
         "name": "id",
         "type": "\"integer\""
        },
        {
         "metadata": "{}",
         "name": "created_at",
         "type": "\"timestamp\""
        },
        {
         "metadata": "{}",
         "name": "first_name",
         "type": "\"string\""
        },
        {
         "metadata": "{}",
         "name": "last_name",
         "type": "\"string\""
        },
        {
         "metadata": "{}",
         "name": "email",
         "type": "\"string\""
        },
        {
         "metadata": "{}",
         "name": "cell_phone",
         "type": "\"string\""
        },
        {
         "metadata": "{}",
         "name": "country",
         "type": "\"string\""
        },
        {
         "metadata": "{}",
         "name": "state",
         "type": "\"string\""
        },
        {
         "metadata": "{}",
         "name": "street",
         "type": "\"string\""
        },
        {
         "metadata": "{}",
         "name": "number",
         "type": "\"double\""
        },
        {
         "metadata": "{}",
         "name": "additionals",
         "type": "\"string\""
        }
       ],
       "type": "table"
      }
     },
     "output_type": "display_data"
    }
   ],
   "source": [
    "%sql\n",
    "use Teste;\n",
    "select * from Clientes"
   ]
  },
  {
   "cell_type": "code",
   "execution_count": 0,
   "metadata": {
    "application/vnd.databricks.v1+cell": {
     "cellMetadata": {},
     "inputWidgets": {},
     "nuid": "e0a4af45-eeaa-401e-a9c7-539eabb42cc2",
     "showTitle": false,
     "tableResultSettingsMap": {},
     "title": ""
    }
   },
   "outputs": [],
   "source": [
    "%sql\n",
    "use Teste;\n",
    "--  Consulta de Contatos de Clientes convertendo em um DF\n",
    "select \n",
    "customer_id\n",
    ",first_name\n",
    ",phone\n",
    ",email\n",
    "from Clientes "
   ]
  },
  {
   "cell_type": "code",
   "execution_count": 0,
   "metadata": {
    "application/vnd.databricks.v1+cell": {
     "cellMetadata": {
      "byteLimit": 2048000,
      "implicitDf": true,
      "rowLimit": 10000
     },
     "inputWidgets": {},
     "nuid": "0d1cbf6a-265c-4f57-98c3-4b89f94abd25",
     "showTitle": false,
     "tableResultSettingsMap": {},
     "title": ""
    }
   },
   "outputs": [
    {
     "output_type": "display_data",
     "data": {
      "text/html": [
       "<style scoped>\n",
       "  .table-result-container {\n",
       "    max-height: 300px;\n",
       "    overflow: auto;\n",
       "  }\n",
       "  table, th, td {\n",
       "    border: 1px solid black;\n",
       "    border-collapse: collapse;\n",
       "  }\n",
       "  th, td {\n",
       "    padding: 5px;\n",
       "  }\n",
       "  th {\n",
       "    text-align: left;\n",
       "  }\n",
       "</style><div class='table-result-container'><table class='table-result'><thead style='background-color: white'><tr><th>id</th><th>first_name</th><th>cell_phone</th><th>email</th></tr></thead><tbody><tr><td>3</td><td>Daniela</td><td>9 4642-9486</td><td>daniela@exemplo.com</td></tr><tr><td>5</td><td>Marcelo</td><td>9 2830-2088</td><td>null</td></tr><tr><td>8</td><td>Gabriela</td><td>9 1353-8433</td><td>gabriela@exemplo.com</td></tr><tr><td>30</td><td>Gabriel</td><td>9 7419-5325</td><td>gabriel@exemplo.com</td></tr><tr><td>37</td><td>Daniela</td><td>9 4704-5844</td><td>daniela@meu_email.com</td></tr><tr><td>38</td><td>Marcelo</td><td>9 6773-1560</td><td>null</td></tr><tr><td>40</td><td>Gabriela</td><td>9 5382-5772</td><td>gabriela@teste.com</td></tr><tr><td>43</td><td>Daniela</td><td>9 1763-2584</td><td>null</td></tr><tr><td>46</td><td>Rafael</td><td>9 8703-1006</td><td>rafael@exemplo.com</td></tr><tr><td>53</td><td>Daniela</td><td>9 3797-3399</td><td>daniela@teste.com</td></tr><tr><td>55</td><td>Gabriela</td><td>9 1214-1539</td><td>gabriela@meu_email.com</td></tr><tr><td>58</td><td>Rafael</td><td>9 6550-3557</td><td>rafael@meu_email.com</td></tr><tr><td>80</td><td>Daniela</td><td>9 5394-6677</td><td>daniela@usuario.com</td></tr><tr><td>88</td><td>Rafael</td><td>9 8656-5668</td><td>rafael@usuario.com</td></tr><tr><td>89</td><td>Daniela</td><td>9 6666-2265</td><td>daniela@usuario.com</td></tr><tr><td>91</td><td>Daniel</td><td>9 4761-6557</td><td>daniel@teste.com</td></tr><tr><td>98</td><td>Cibele</td><td>9 4211-6968</td><td>cibele@meu_email.com</td></tr></tbody></table></div>"
      ]
     },
     "metadata": {
      "application/vnd.databricks.v1+output": {
       "addedWidgets": {},
       "aggData": [],
       "aggError": "",
       "aggOverflow": false,
       "aggSchema": [],
       "aggSeriesLimitReached": false,
       "aggType": "",
       "arguments": {},
       "columnCustomDisplayInfos": {},
       "data": [
        [
         3,
         "Daniela",
         "9 4642-9486",
         "daniela@exemplo.com"
        ],
        [
         5,
         "Marcelo",
         "9 2830-2088",
         null
        ],
        [
         8,
         "Gabriela",
         "9 1353-8433",
         "gabriela@exemplo.com"
        ],
        [
         30,
         "Gabriel",
         "9 7419-5325",
         "gabriel@exemplo.com"
        ],
        [
         37,
         "Daniela",
         "9 4704-5844",
         "daniela@meu_email.com"
        ],
        [
         38,
         "Marcelo",
         "9 6773-1560",
         null
        ],
        [
         40,
         "Gabriela",
         "9 5382-5772",
         "gabriela@teste.com"
        ],
        [
         43,
         "Daniela",
         "9 1763-2584",
         null
        ],
        [
         46,
         "Rafael",
         "9 8703-1006",
         "rafael@exemplo.com"
        ],
        [
         53,
         "Daniela",
         "9 3797-3399",
         "daniela@teste.com"
        ],
        [
         55,
         "Gabriela",
         "9 1214-1539",
         "gabriela@meu_email.com"
        ],
        [
         58,
         "Rafael",
         "9 6550-3557",
         "rafael@meu_email.com"
        ],
        [
         80,
         "Daniela",
         "9 5394-6677",
         "daniela@usuario.com"
        ],
        [
         88,
         "Rafael",
         "9 8656-5668",
         "rafael@usuario.com"
        ],
        [
         89,
         "Daniela",
         "9 6666-2265",
         "daniela@usuario.com"
        ],
        [
         91,
         "Daniel",
         "9 4761-6557",
         "daniel@teste.com"
        ],
        [
         98,
         "Cibele",
         "9 4211-6968",
         "cibele@meu_email.com"
        ]
       ],
       "datasetInfos": [
        {
         "name": "_sqldf",
         "schema": {
          "fields": [
           {
            "metadata": {},
            "name": "id",
            "nullable": true,
            "type": "integer"
           },
           {
            "metadata": {},
            "name": "first_name",
            "nullable": true,
            "type": "string"
           },
           {
            "metadata": {},
            "name": "cell_phone",
            "nullable": true,
            "type": "string"
           },
           {
            "metadata": {},
            "name": "email",
            "nullable": true,
            "type": "string"
           }
          ],
          "type": "struct"
         },
         "tableIdentifier": null,
         "typeStr": "pyspark.sql.connect.dataframe.DataFrame"
        }
       ],
       "dbfsResultPath": null,
       "isJsonSchema": true,
       "metadata": {
        "createTempViewForImplicitDf": true,
        "dataframeName": "_sqldf",
        "executionCount": 8
       },
       "overflow": false,
       "plotOptions": {
        "customPlotOptions": {},
        "displayType": "table",
        "pivotAggregation": null,
        "pivotColumns": null,
        "xColumns": null,
        "yColumns": null
       },
       "removedWidgets": [],
       "schema": [
        {
         "metadata": "{}",
         "name": "id",
         "type": "\"integer\""
        },
        {
         "metadata": "{}",
         "name": "first_name",
         "type": "\"string\""
        },
        {
         "metadata": "{}",
         "name": "cell_phone",
         "type": "\"string\""
        },
        {
         "metadata": "{}",
         "name": "email",
         "type": "\"string\""
        }
       ],
       "type": "table"
      }
     },
     "output_type": "display_data"
    }
   ],
   "source": [
    "%sql\n",
    "use Teste;\n",
    "--  Consulta de Contatos de Clientes\n",
    "select \n",
    "id, first_name, cell_phone, email, \n",
    "from Clientes\n",
    "where first_name like \"%el%\"\n"
   ]
  },
  {
   "cell_type": "code",
   "execution_count": 0,
   "metadata": {
    "application/vnd.databricks.v1+cell": {
     "cellMetadata": {
      "byteLimit": 2048000,
      "rowLimit": 10000
     },
     "inputWidgets": {},
     "nuid": "f26e9f2d-02c6-4c3a-bbf7-7304c7fd46b5",
     "showTitle": false,
     "tableResultSettingsMap": {},
     "title": ""
    }
   },
   "outputs": [],
   "source": [
    "DfSQL =  spark.sql('''\n",
    "select \n",
    "id as Id, first_name as Nome, cell_phone as Telefone, email as Email\n",
    "from Clientes\n",
    "where first_name like \"%el%\"          \n",
    "'''\n",
    ")"
   ]
  },
  {
   "cell_type": "code",
   "execution_count": 0,
   "metadata": {
    "application/vnd.databricks.v1+cell": {
     "cellMetadata": {
      "byteLimit": 2048000,
      "rowLimit": 10000
     },
     "inputWidgets": {},
     "nuid": "cc367b9e-0f66-49c0-ae5e-9f03c245a8ef",
     "showTitle": false,
     "tableResultSettingsMap": {},
     "title": ""
    }
   },
   "outputs": [
    {
     "output_type": "stream",
     "name": "stdout",
     "output_type": "stream",
     "text": [
      "+---+--------+-----------+--------------------+\n| Id|    Nome|   Telefone|               Email|\n+---+--------+-----------+--------------------+\n|  3| Daniela|9 4642-9486| daniela@exemplo.com|\n|  5| Marcelo|9 2830-2088|                NULL|\n|  8|Gabriela|9 1353-8433|gabriela@exemplo.com|\n| 30| Gabriel|9 7419-5325| gabriel@exemplo.com|\n| 37| Daniela|9 4704-5844|daniela@meu_email...|\n+---+--------+-----------+--------------------+\nonly showing top 5 rows\n"
     ]
    }
   ],
   "source": [
    "DfSQL.show(5)"
   ]
  },
  {
   "cell_type": "code",
   "execution_count": 0,
   "metadata": {
    "application/vnd.databricks.v1+cell": {
     "cellMetadata": {
      "byteLimit": 2048000,
      "rowLimit": 10000
     },
     "inputWidgets": {},
     "nuid": "d795131c-734b-4b92-b465-7926e63108f3",
     "showTitle": false,
     "tableResultSettingsMap": {},
     "title": ""
    }
   },
   "outputs": [
    {
     "output_type": "stream",
     "name": "stdout",
     "output_type": "stream",
     "text": [
      "+---+-------------------+----------+---------+--------------------+-----------+-------+-----------------+--------------------+------+-----------+\n| id|         created_at|first_name|last_name|               email| cell_phone|country|            state|              street|number|additionals|\n+---+-------------------+----------+---------+--------------------+-----------+-------+-----------------+--------------------+------+-----------+\n|  0|2017-11-01 14:45:41|     Marta|    Jesus|                NULL|9 9102-7834| Brasil|             Acre|                NULL|  NULL|Conjunto 16|\n|  1|2017-10-16 00:50:39|     Luana|  Almeida|                NULL|9 7328-8718| Brasil|Rio Grande do Sul|Avenida 56 do Est...| 989.0|Conjunto 17|\n|  2|2018-06-16 17:51:29|     Frida|   Mendes| frida@meu_email.com|9 5906-7552| Brasil|        São Paulo|Avenida 59 do Est...| 534.0|       NULL|\n|  3|2018-01-17 03:02:58|   Daniela|  Avelino| daniela@exemplo.com|9 4642-9486| Brasil|      Mato Grosso|                NULL|  NULL|       NULL|\n|  4|2018-08-06 07:24:16|   Romário| Teixeira|                NULL|9 3093-6522| Brasil|            Bahia|Praça 56 do Estad...| 191.0|    Apto 12|\n|  5|2018-01-05 17:20:49|   Marcelo|  Barroso|                NULL|9 2830-2088| Brasil|Rio Grande do Sul|Rua 28 do Estado ...| 805.0|Conjunto 13|\n|  6|2018-06-18 11:17:42| Cristiano|   Elísio|cristiano@exemplo...|9 3532-8404| Brasil|            Goiás|Rua 78 do Estado ...| 877.0|    Apto 14|\n|  7|2018-02-08 12:36:09|   Everton|  Barbosa|everton@meu_email...|9 2553-4087| Brasil| Distrito Federal|Avenida 86 do Est...| 864.0|    Apto 14|\n|  8|2017-12-16 20:47:03|  Gabriela|    Alves|gabriela@exemplo.com|9 1353-8433| Brasil|   Santa Catarina|                NULL|  NULL|       NULL|\n|  9|2018-11-11 11:48:41|      Luan|     Dias|    luan@exemplo.com|9 2417-3678| Brasil| Distrito Federal|Avenida 54 do Est...| 889.0|Conjunto 14|\n+---+-------------------+----------+---------+--------------------+-----------+-------+-----------------+--------------------+------+-----------+\nonly showing top 10 rows\n"
     ]
    }
   ],
   "source": [
    "spark.sql(\"\"\"select * from clientes\"\"\").show(10)"
   ]
  },
  {
   "cell_type": "markdown",
   "metadata": {
    "application/vnd.databricks.v1+cell": {
     "cellMetadata": {},
     "inputWidgets": {},
     "nuid": "5636474d-99fe-44aa-ae16-eff6f0d6233e",
     "showTitle": false,
     "tableResultSettingsMap": {},
     "title": ""
    }
   },
   "source": [
    "##### Salvando Df em diferentes formatos"
   ]
  },
  {
   "cell_type": "code",
   "execution_count": 0,
   "metadata": {
    "application/vnd.databricks.v1+cell": {
     "cellMetadata": {
      "byteLimit": 2048000,
      "implicitDf": true,
      "rowLimit": 10000
     },
     "inputWidgets": {},
     "nuid": "5f698684-7a1c-439d-95a6-b04a9fa57441",
     "showTitle": false,
     "tableResultSettingsMap": {},
     "title": ""
    }
   },
   "outputs": [
    {
     "output_type": "display_data",
     "data": {
      "text/html": [
       "<style scoped>\n",
       "  .table-result-container {\n",
       "    max-height: 300px;\n",
       "    overflow: auto;\n",
       "  }\n",
       "  table, th, td {\n",
       "    border: 1px solid black;\n",
       "    border-collapse: collapse;\n",
       "  }\n",
       "  th, td {\n",
       "    padding: 5px;\n",
       "  }\n",
       "  th {\n",
       "    text-align: left;\n",
       "  }\n",
       "</style><div class='table-result-container'><table class='table-result'><thead style='background-color: white'><tr><th>num_affected_rows</th><th>num_inserted_rows</th></tr></thead><tbody></tbody></table></div>"
      ]
     },
     "metadata": {
      "application/vnd.databricks.v1+output": {
       "addedWidgets": {},
       "aggData": [],
       "aggError": "",
       "aggOverflow": false,
       "aggSchema": [],
       "aggSeriesLimitReached": false,
       "aggType": "",
       "arguments": {},
       "columnCustomDisplayInfos": {},
       "data": [],
       "datasetInfos": [
        {
         "name": "_sqldf",
         "schema": {
          "fields": [
           {
            "metadata": {},
            "name": "num_affected_rows",
            "nullable": true,
            "type": "long"
           },
           {
            "metadata": {},
            "name": "num_inserted_rows",
            "nullable": true,
            "type": "long"
           }
          ],
          "type": "struct"
         },
         "tableIdentifier": null,
         "typeStr": "pyspark.sql.connect.dataframe.DataFrame"
        }
       ],
       "dbfsResultPath": null,
       "isJsonSchema": true,
       "metadata": {
        "createTempViewForImplicitDf": true,
        "dataframeName": "_sqldf",
        "executionCount": 18
       },
       "overflow": false,
       "plotOptions": {
        "customPlotOptions": {},
        "displayType": "table",
        "pivotAggregation": null,
        "pivotColumns": null,
        "xColumns": null,
        "yColumns": null
       },
       "removedWidgets": [],
       "schema": [
        {
         "metadata": "{}",
         "name": "num_affected_rows",
         "type": "\"long\""
        },
        {
         "metadata": "{}",
         "name": "num_inserted_rows",
         "type": "\"long\""
        }
       ],
       "type": "table"
      }
     },
     "output_type": "display_data"
    }
   ],
   "source": [
    "%sql\n",
    "use teste;\n",
    "-- tabela clientes\n",
    "CREATE OR REPLACE TEMPORARY VIEW clientes_tmp USING CSV \n",
    "OPTIONS (path '/Volumes/workspace/default/arquivos-aula/arquivos_csv/Clientes.csv', header 'true', inferSchema 'true');\n",
    "CREATE TABLE IF NOT EXISTS clientes AS SELECT * FROM clientes_tmp;\n"
   ]
  },
  {
   "cell_type": "code",
   "execution_count": 0,
   "metadata": {
    "application/vnd.databricks.v1+cell": {
     "cellMetadata": {
      "byteLimit": 2048000,
      "rowLimit": 10000
     },
     "inputWidgets": {},
     "nuid": "98ef6c97-692e-4cab-927f-3c091d173cc8",
     "showTitle": false,
     "tableResultSettingsMap": {},
     "title": ""
    }
   },
   "outputs": [],
   "source": [
    "DfSQL =  spark.sql(\n",
    "'''         \n",
    "select \n",
    "id as Id,first_name as Nome,cell_phone as Telefone,email as Email\n",
    "from Clientes\n",
    "where first_name like \"%el%\"                \n",
    "'''\n",
    ")"
   ]
  },
  {
   "cell_type": "code",
   "execution_count": 0,
   "metadata": {
    "application/vnd.databricks.v1+cell": {
     "cellMetadata": {
      "byteLimit": 2048000,
      "rowLimit": 10000
     },
     "inputWidgets": {},
     "nuid": "1600ea67-1524-4ddf-9655-8b714df83956",
     "showTitle": false,
     "tableResultSettingsMap": {},
     "title": ""
    }
   },
   "outputs": [
    {
     "output_type": "display_data",
     "data": {
      "text/html": [
       "<style scoped>\n",
       "  .table-result-container {\n",
       "    max-height: 300px;\n",
       "    overflow: auto;\n",
       "  }\n",
       "  table, th, td {\n",
       "    border: 1px solid black;\n",
       "    border-collapse: collapse;\n",
       "  }\n",
       "  th, td {\n",
       "    padding: 5px;\n",
       "  }\n",
       "  th {\n",
       "    text-align: left;\n",
       "  }\n",
       "</style><div class='table-result-container'><table class='table-result'><thead style='background-color: white'><tr><th>Id</th><th>Nome</th><th>Telefone</th><th>Email</th></tr></thead><tbody><tr><td>3</td><td>Daniela</td><td>9 4642-9486</td><td>daniela@exemplo.com</td></tr><tr><td>5</td><td>Marcelo</td><td>9 2830-2088</td><td>null</td></tr><tr><td>8</td><td>Gabriela</td><td>9 1353-8433</td><td>gabriela@exemplo.com</td></tr><tr><td>30</td><td>Gabriel</td><td>9 7419-5325</td><td>gabriel@exemplo.com</td></tr><tr><td>37</td><td>Daniela</td><td>9 4704-5844</td><td>daniela@meu_email.com</td></tr><tr><td>38</td><td>Marcelo</td><td>9 6773-1560</td><td>null</td></tr><tr><td>40</td><td>Gabriela</td><td>9 5382-5772</td><td>gabriela@teste.com</td></tr><tr><td>43</td><td>Daniela</td><td>9 1763-2584</td><td>null</td></tr><tr><td>46</td><td>Rafael</td><td>9 8703-1006</td><td>rafael@exemplo.com</td></tr><tr><td>53</td><td>Daniela</td><td>9 3797-3399</td><td>daniela@teste.com</td></tr><tr><td>55</td><td>Gabriela</td><td>9 1214-1539</td><td>gabriela@meu_email.com</td></tr><tr><td>58</td><td>Rafael</td><td>9 6550-3557</td><td>rafael@meu_email.com</td></tr><tr><td>80</td><td>Daniela</td><td>9 5394-6677</td><td>daniela@usuario.com</td></tr><tr><td>88</td><td>Rafael</td><td>9 8656-5668</td><td>rafael@usuario.com</td></tr><tr><td>89</td><td>Daniela</td><td>9 6666-2265</td><td>daniela@usuario.com</td></tr><tr><td>91</td><td>Daniel</td><td>9 4761-6557</td><td>daniel@teste.com</td></tr><tr><td>98</td><td>Cibele</td><td>9 4211-6968</td><td>cibele@meu_email.com</td></tr></tbody></table></div>"
      ]
     },
     "metadata": {
      "application/vnd.databricks.v1+output": {
       "addedWidgets": {},
       "aggData": [],
       "aggError": "",
       "aggOverflow": false,
       "aggSchema": [],
       "aggSeriesLimitReached": false,
       "aggType": "",
       "arguments": {},
       "columnCustomDisplayInfos": {},
       "data": [
        [
         3,
         "Daniela",
         "9 4642-9486",
         "daniela@exemplo.com"
        ],
        [
         5,
         "Marcelo",
         "9 2830-2088",
         null
        ],
        [
         8,
         "Gabriela",
         "9 1353-8433",
         "gabriela@exemplo.com"
        ],
        [
         30,
         "Gabriel",
         "9 7419-5325",
         "gabriel@exemplo.com"
        ],
        [
         37,
         "Daniela",
         "9 4704-5844",
         "daniela@meu_email.com"
        ],
        [
         38,
         "Marcelo",
         "9 6773-1560",
         null
        ],
        [
         40,
         "Gabriela",
         "9 5382-5772",
         "gabriela@teste.com"
        ],
        [
         43,
         "Daniela",
         "9 1763-2584",
         null
        ],
        [
         46,
         "Rafael",
         "9 8703-1006",
         "rafael@exemplo.com"
        ],
        [
         53,
         "Daniela",
         "9 3797-3399",
         "daniela@teste.com"
        ],
        [
         55,
         "Gabriela",
         "9 1214-1539",
         "gabriela@meu_email.com"
        ],
        [
         58,
         "Rafael",
         "9 6550-3557",
         "rafael@meu_email.com"
        ],
        [
         80,
         "Daniela",
         "9 5394-6677",
         "daniela@usuario.com"
        ],
        [
         88,
         "Rafael",
         "9 8656-5668",
         "rafael@usuario.com"
        ],
        [
         89,
         "Daniela",
         "9 6666-2265",
         "daniela@usuario.com"
        ],
        [
         91,
         "Daniel",
         "9 4761-6557",
         "daniel@teste.com"
        ],
        [
         98,
         "Cibele",
         "9 4211-6968",
         "cibele@meu_email.com"
        ]
       ],
       "datasetInfos": [],
       "dbfsResultPath": null,
       "isJsonSchema": true,
       "metadata": {},
       "overflow": false,
       "plotOptions": {
        "customPlotOptions": {},
        "displayType": "table",
        "pivotAggregation": null,
        "pivotColumns": null,
        "xColumns": null,
        "yColumns": null
       },
       "removedWidgets": [],
       "schema": [
        {
         "metadata": "{}",
         "name": "Id",
         "type": "\"integer\""
        },
        {
         "metadata": "{}",
         "name": "Nome",
         "type": "\"string\""
        },
        {
         "metadata": "{}",
         "name": "Telefone",
         "type": "\"string\""
        },
        {
         "metadata": "{}",
         "name": "Email",
         "type": "\"string\""
        }
       ],
       "type": "table"
      }
     },
     "output_type": "display_data"
    }
   ],
   "source": [
    "display(DfSQL)"
   ]
  },
  {
   "cell_type": "code",
   "execution_count": 0,
   "metadata": {
    "application/vnd.databricks.v1+cell": {
     "cellMetadata": {
      "byteLimit": 2048000,
      "rowLimit": 10000
     },
     "inputWidgets": {},
     "nuid": "8d4f471e-22c1-4bd8-9ab5-2fcb4857281c",
     "showTitle": false,
     "tableResultSettingsMap": {},
     "title": ""
    }
   },
   "outputs": [
    {
     "output_type": "display_data",
     "data": {
      "text/html": [
       "<style scoped>\n",
       "  .table-result-container {\n",
       "    max-height: 300px;\n",
       "    overflow: auto;\n",
       "  }\n",
       "  table, th, td {\n",
       "    border: 1px solid black;\n",
       "    border-collapse: collapse;\n",
       "  }\n",
       "  th, td {\n",
       "    padding: 5px;\n",
       "  }\n",
       "  th {\n",
       "    text-align: left;\n",
       "  }\n",
       "</style><div class='table-result-container'><table class='table-result'><thead style='background-color: white'><tr><th>path</th><th>name</th><th>size</th><th>modificationTime</th></tr></thead><tbody><tr><td>dbfs:/Volumes/workspace/default/arquivos-aula/Anac/</td><td>Anac/</td><td>0</td><td>1755201086327</td></tr><tr><td>dbfs:/Volumes/workspace/default/arquivos-aula/Bike Store/</td><td>Bike Store/</td><td>0</td><td>1755201086327</td></tr><tr><td>dbfs:/Volumes/workspace/default/arquivos-aula/arquivos_csv/</td><td>arquivos_csv/</td><td>0</td><td>1755201086327</td></tr></tbody></table></div>"
      ]
     },
     "metadata": {
      "application/vnd.databricks.v1+output": {
       "addedWidgets": {},
       "aggData": [],
       "aggError": "",
       "aggOverflow": false,
       "aggSchema": [],
       "aggSeriesLimitReached": false,
       "aggType": "",
       "arguments": {},
       "columnCustomDisplayInfos": {},
       "data": [
        [
         "dbfs:/Volumes/workspace/default/arquivos-aula/Anac/",
         "Anac/",
         0,
         1755201086327
        ],
        [
         "dbfs:/Volumes/workspace/default/arquivos-aula/Bike Store/",
         "Bike Store/",
         0,
         1755201086327
        ],
        [
         "dbfs:/Volumes/workspace/default/arquivos-aula/arquivos_csv/",
         "arquivos_csv/",
         0,
         1755201086327
        ]
       ],
       "datasetInfos": [],
       "dbfsResultPath": null,
       "isJsonSchema": true,
       "metadata": {},
       "overflow": false,
       "plotOptions": {
        "customPlotOptions": {},
        "displayType": "table",
        "pivotAggregation": null,
        "pivotColumns": null,
        "xColumns": null,
        "yColumns": null
       },
       "removedWidgets": [],
       "schema": [
        {
         "metadata": "{}",
         "name": "path",
         "type": "\"string\""
        },
        {
         "metadata": "{}",
         "name": "name",
         "type": "\"string\""
        },
        {
         "metadata": "{}",
         "name": "size",
         "type": "\"long\""
        },
        {
         "metadata": "{}",
         "name": "modificationTime",
         "type": "\"long\""
        }
       ],
       "type": "table"
      }
     },
     "output_type": "display_data"
    }
   ],
   "source": [
    "display(dbutils.fs.ls(\"/Volumes/workspace/default/arquivos-aula/\")) # a partir da pasta ja criada podemos criar uma nova\n",
    "\n"
   ]
  },
  {
   "cell_type": "markdown",
   "metadata": {
    "application/vnd.databricks.v1+cell": {
     "cellMetadata": {},
     "inputWidgets": {},
     "nuid": "e13f9f76-fac2-4f00-ad46-f492a571ad7a",
     "showTitle": false,
     "tableResultSettingsMap": {},
     "title": ""
    }
   },
   "source": [
    "##### Salvando no formato Parquet"
   ]
  },
  {
   "cell_type": "code",
   "execution_count": 0,
   "metadata": {
    "application/vnd.databricks.v1+cell": {
     "cellMetadata": {
      "byteLimit": 2048000,
      "rowLimit": 10000
     },
     "inputWidgets": {},
     "nuid": "dc2d7f7e-7aa4-44c2-8c49-4c84fe870d32",
     "showTitle": false,
     "tableResultSettingsMap": {},
     "title": ""
    }
   },
   "outputs": [
    {
     "output_type": "execute_result",
     "data": {
      "text/plain": [
       "True"
      ]
     },
     "execution_count": 34,
     "metadata": {},
     "output_type": "execute_result"
    }
   ],
   "source": [
    "#criar nova pasta\n",
    "dbutils.fs.mkdirs('/Volumes/workspace/default/arquivos-aula/DiferentesSaidas') "
   ]
  },
  {
   "cell_type": "code",
   "execution_count": 0,
   "metadata": {
    "application/vnd.databricks.v1+cell": {
     "cellMetadata": {},
     "inputWidgets": {},
     "nuid": "7c0481b8-c6a3-4d1e-9cf2-3c39ea35dde1",
     "showTitle": false,
     "tableResultSettingsMap": {},
     "title": ""
    }
   },
   "outputs": [],
   "source": [
    "\n",
    "#Obs Termos Tecnicos Para voce ir treinando \n",
    "\"\"\"\n",
    "write= Escrever/ Gravar\n",
    "-----  Modos de Escritas Mais usados-----\n",
    "overwrite   = se existe ele sobescreve/subistitui\n",
    "append      = Mantem o existente e adiciona o conteudo no final \n",
    "ignore      = Usado para salvar os dados apenas se o local de destino não existir\n",
    "\n",
    "\"\"\"\n"
   ]
  },
  {
   "cell_type": "code",
   "execution_count": 0,
   "metadata": {
    "application/vnd.databricks.v1+cell": {
     "cellMetadata": {
      "byteLimit": 2048000,
      "rowLimit": 10000
     },
     "inputWidgets": {},
     "nuid": "6895b09b-14fc-4e19-97cf-a00c688e6ce2",
     "showTitle": false,
     "tableResultSettingsMap": {},
     "title": ""
    }
   },
   "outputs": [],
   "source": [
    "# Salvar em CSV, JSON e Parquet\n",
    "DfSQL.write.option(\"delimiter\", \",\").mode(\"overwrite\").csv(\"/Volumes/workspace/default/arquivos-aula/DiferentesSaidas/ContatoEl.csv\")\n",
    "DfSQL.write.mode(\"overwrite\").json(\"/Volumes/workspace/default/arquivos-aula/DiferentesSaidas/ContatoEl.json\")\n",
    "DfSQL.write.mode(\"overwrite\").parquet(\"/Volumes/workspace/default/arquivos-aula/DiferentesSaidas/ContatoEl.parquet\")\n"
   ]
  },
  {
   "cell_type": "code",
   "execution_count": 0,
   "metadata": {
    "application/vnd.databricks.v1+cell": {
     "cellMetadata": {
      "byteLimit": 2048000,
      "rowLimit": 10000
     },
     "inputWidgets": {},
     "nuid": "6055e492-51c8-494d-8961-72a76f28664e",
     "showTitle": false,
     "tableResultSettingsMap": {
      "0": {
       "dataGridStateBlob": "{\"version\":1,\"tableState\":{\"columnPinning\":{\"left\":[\"#row_number#\"],\"right\":[]},\"columnSizing\":{\"path\":538,\"name\":158},\"columnVisibility\":{}},\"settings\":{\"columns\":{}},\"syncTimestamp\":1755201408727}",
       "filterBlob": null,
       "queryPlanFiltersBlob": null,
       "tableResultIndex": 0
      }
     },
     "title": ""
    }
   },
   "outputs": [
    {
     "output_type": "display_data",
     "data": {
      "text/html": [
       "<style scoped>\n",
       "  .table-result-container {\n",
       "    max-height: 300px;\n",
       "    overflow: auto;\n",
       "  }\n",
       "  table, th, td {\n",
       "    border: 1px solid black;\n",
       "    border-collapse: collapse;\n",
       "  }\n",
       "  th, td {\n",
       "    padding: 5px;\n",
       "  }\n",
       "  th {\n",
       "    text-align: left;\n",
       "  }\n",
       "</style><div class='table-result-container'><table class='table-result'><thead style='background-color: white'><tr><th>path</th><th>name</th><th>size</th><th>modificationTime</th></tr></thead><tbody><tr><td>dbfs:/Volumes/workspace/default/arquivos-aula/DiferentesSaidas/ContatoEl.csv/</td><td>ContatoEl.csv/</td><td>0</td><td>1755201406006</td></tr><tr><td>dbfs:/Volumes/workspace/default/arquivos-aula/DiferentesSaidas/ContatoEl.json/</td><td>ContatoEl.json/</td><td>0</td><td>1755201406007</td></tr><tr><td>dbfs:/Volumes/workspace/default/arquivos-aula/DiferentesSaidas/ContatoEl.parquet/</td><td>ContatoEl.parquet/</td><td>0</td><td>1755201406007</td></tr></tbody></table></div>"
      ]
     },
     "metadata": {
      "application/vnd.databricks.v1+output": {
       "addedWidgets": {},
       "aggData": [],
       "aggError": "",
       "aggOverflow": false,
       "aggSchema": [],
       "aggSeriesLimitReached": false,
       "aggType": "",
       "arguments": {},
       "columnCustomDisplayInfos": {},
       "data": [
        [
         "dbfs:/Volumes/workspace/default/arquivos-aula/DiferentesSaidas/ContatoEl.csv/",
         "ContatoEl.csv/",
         0,
         1755201406006
        ],
        [
         "dbfs:/Volumes/workspace/default/arquivos-aula/DiferentesSaidas/ContatoEl.json/",
         "ContatoEl.json/",
         0,
         1755201406007
        ],
        [
         "dbfs:/Volumes/workspace/default/arquivos-aula/DiferentesSaidas/ContatoEl.parquet/",
         "ContatoEl.parquet/",
         0,
         1755201406007
        ]
       ],
       "datasetInfos": [],
       "dbfsResultPath": null,
       "isJsonSchema": true,
       "metadata": {},
       "overflow": false,
       "plotOptions": {
        "customPlotOptions": {},
        "displayType": "table",
        "pivotAggregation": null,
        "pivotColumns": null,
        "xColumns": null,
        "yColumns": null
       },
       "removedWidgets": [],
       "schema": [
        {
         "metadata": "{}",
         "name": "path",
         "type": "\"string\""
        },
        {
         "metadata": "{}",
         "name": "name",
         "type": "\"string\""
        },
        {
         "metadata": "{}",
         "name": "size",
         "type": "\"long\""
        },
        {
         "metadata": "{}",
         "name": "modificationTime",
         "type": "\"long\""
        }
       ],
       "type": "table"
      }
     },
     "output_type": "display_data"
    }
   ],
   "source": [
    "display(dbutils.fs.ls('/Volumes/workspace/default/arquivos-aula/DiferentesSaidas'))"
   ]
  },
  {
   "cell_type": "markdown",
   "metadata": {
    "application/vnd.databricks.v1+cell": {
     "cellMetadata": {},
     "inputWidgets": {},
     "nuid": "bca3351d-5562-45f1-95ff-a1ee29fa9a1f",
     "showTitle": false,
     "tableResultSettingsMap": {},
     "title": ""
    }
   },
   "source": [
    "##### Ler arquivos CSV , Json e Parquet"
   ]
  },
  {
   "cell_type": "code",
   "execution_count": 0,
   "metadata": {
    "application/vnd.databricks.v1+cell": {
     "cellMetadata": {
      "byteLimit": 2048000,
      "rowLimit": 10000
     },
     "inputWidgets": {},
     "nuid": "ea1efd90-f9a0-4471-862f-203968f2b149",
     "showTitle": false,
     "tableResultSettingsMap": {},
     "title": ""
    }
   },
   "outputs": [
    {
     "output_type": "display_data",
     "data": {
      "text/html": [
       "<style scoped>\n",
       "  .table-result-container {\n",
       "    max-height: 300px;\n",
       "    overflow: auto;\n",
       "  }\n",
       "  table, th, td {\n",
       "    border: 1px solid black;\n",
       "    border-collapse: collapse;\n",
       "  }\n",
       "  th, td {\n",
       "    padding: 5px;\n",
       "  }\n",
       "  th {\n",
       "    text-align: left;\n",
       "  }\n",
       "</style><div class='table-result-container'><table class='table-result'><thead style='background-color: white'><tr><th>path</th><th>name</th><th>size</th><th>modificationTime</th></tr></thead><tbody><tr><td>dbfs:/Volumes/workspace/default/arquivos-aula/DiferentesSaidas/ContatoEl.csv/</td><td>ContatoEl.csv/</td><td>0</td><td>1755201456603</td></tr><tr><td>dbfs:/Volumes/workspace/default/arquivos-aula/DiferentesSaidas/ContatoEl.json/</td><td>ContatoEl.json/</td><td>0</td><td>1755201456603</td></tr><tr><td>dbfs:/Volumes/workspace/default/arquivos-aula/DiferentesSaidas/ContatoEl.parquet/</td><td>ContatoEl.parquet/</td><td>0</td><td>1755201456603</td></tr></tbody></table></div>"
      ]
     },
     "metadata": {
      "application/vnd.databricks.v1+output": {
       "addedWidgets": {},
       "aggData": [],
       "aggError": "",
       "aggOverflow": false,
       "aggSchema": [],
       "aggSeriesLimitReached": false,
       "aggType": "",
       "arguments": {},
       "columnCustomDisplayInfos": {},
       "data": [
        [
         "dbfs:/Volumes/workspace/default/arquivos-aula/DiferentesSaidas/ContatoEl.csv/",
         "ContatoEl.csv/",
         0,
         1755201456603
        ],
        [
         "dbfs:/Volumes/workspace/default/arquivos-aula/DiferentesSaidas/ContatoEl.json/",
         "ContatoEl.json/",
         0,
         1755201456603
        ],
        [
         "dbfs:/Volumes/workspace/default/arquivos-aula/DiferentesSaidas/ContatoEl.parquet/",
         "ContatoEl.parquet/",
         0,
         1755201456603
        ]
       ],
       "datasetInfos": [],
       "dbfsResultPath": null,
       "isJsonSchema": true,
       "metadata": {},
       "overflow": false,
       "plotOptions": {
        "customPlotOptions": {},
        "displayType": "table",
        "pivotAggregation": null,
        "pivotColumns": null,
        "xColumns": null,
        "yColumns": null
       },
       "removedWidgets": [],
       "schema": [
        {
         "metadata": "{}",
         "name": "path",
         "type": "\"string\""
        },
        {
         "metadata": "{}",
         "name": "name",
         "type": "\"string\""
        },
        {
         "metadata": "{}",
         "name": "size",
         "type": "\"long\""
        },
        {
         "metadata": "{}",
         "name": "modificationTime",
         "type": "\"long\""
        }
       ],
       "type": "table"
      }
     },
     "output_type": "display_data"
    }
   ],
   "source": [
    "display(dbutils.fs.ls('/Volumes/workspace/default/arquivos-aula/DiferentesSaidas'))"
   ]
  },
  {
   "cell_type": "code",
   "execution_count": 0,
   "metadata": {
    "application/vnd.databricks.v1+cell": {
     "cellMetadata": {
      "byteLimit": 2048000,
      "rowLimit": 10000
     },
     "inputWidgets": {},
     "nuid": "dc73da6f-a0fe-4f83-969e-8799258869c9",
     "showTitle": false,
     "tableResultSettingsMap": {},
     "title": ""
    }
   },
   "outputs": [
    {
     "output_type": "display_data",
     "data": {
      "text/html": [
       "<style scoped>\n",
       "  .table-result-container {\n",
       "    max-height: 300px;\n",
       "    overflow: auto;\n",
       "  }\n",
       "  table, th, td {\n",
       "    border: 1px solid black;\n",
       "    border-collapse: collapse;\n",
       "  }\n",
       "  th, td {\n",
       "    padding: 5px;\n",
       "  }\n",
       "  th {\n",
       "    text-align: left;\n",
       "  }\n",
       "</style><div class='table-result-container'><table class='table-result'><thead style='background-color: white'><tr><th>_c0</th><th>_c1</th><th>_c2</th><th>_c3</th></tr></thead><tbody><tr><td>3</td><td>Daniela</td><td>9 4642-9486</td><td>daniela@exemplo.com</td></tr><tr><td>5</td><td>Marcelo</td><td>9 2830-2088</td><td>null</td></tr><tr><td>8</td><td>Gabriela</td><td>9 1353-8433</td><td>gabriela@exemplo.com</td></tr><tr><td>30</td><td>Gabriel</td><td>9 7419-5325</td><td>gabriel@exemplo.com</td></tr><tr><td>37</td><td>Daniela</td><td>9 4704-5844</td><td>daniela@meu_email.com</td></tr><tr><td>38</td><td>Marcelo</td><td>9 6773-1560</td><td>null</td></tr><tr><td>40</td><td>Gabriela</td><td>9 5382-5772</td><td>gabriela@teste.com</td></tr><tr><td>43</td><td>Daniela</td><td>9 1763-2584</td><td>null</td></tr><tr><td>46</td><td>Rafael</td><td>9 8703-1006</td><td>rafael@exemplo.com</td></tr><tr><td>53</td><td>Daniela</td><td>9 3797-3399</td><td>daniela@teste.com</td></tr><tr><td>55</td><td>Gabriela</td><td>9 1214-1539</td><td>gabriela@meu_email.com</td></tr><tr><td>58</td><td>Rafael</td><td>9 6550-3557</td><td>rafael@meu_email.com</td></tr><tr><td>80</td><td>Daniela</td><td>9 5394-6677</td><td>daniela@usuario.com</td></tr><tr><td>88</td><td>Rafael</td><td>9 8656-5668</td><td>rafael@usuario.com</td></tr><tr><td>89</td><td>Daniela</td><td>9 6666-2265</td><td>daniela@usuario.com</td></tr><tr><td>91</td><td>Daniel</td><td>9 4761-6557</td><td>daniel@teste.com</td></tr><tr><td>98</td><td>Cibele</td><td>9 4211-6968</td><td>cibele@meu_email.com</td></tr></tbody></table></div>"
      ]
     },
     "metadata": {
      "application/vnd.databricks.v1+output": {
       "addedWidgets": {},
       "aggData": [],
       "aggError": "",
       "aggOverflow": false,
       "aggSchema": [],
       "aggSeriesLimitReached": false,
       "aggType": "",
       "arguments": {},
       "columnCustomDisplayInfos": {},
       "data": [
        [
         3,
         "Daniela",
         "9 4642-9486",
         "daniela@exemplo.com"
        ],
        [
         5,
         "Marcelo",
         "9 2830-2088",
         null
        ],
        [
         8,
         "Gabriela",
         "9 1353-8433",
         "gabriela@exemplo.com"
        ],
        [
         30,
         "Gabriel",
         "9 7419-5325",
         "gabriel@exemplo.com"
        ],
        [
         37,
         "Daniela",
         "9 4704-5844",
         "daniela@meu_email.com"
        ],
        [
         38,
         "Marcelo",
         "9 6773-1560",
         null
        ],
        [
         40,
         "Gabriela",
         "9 5382-5772",
         "gabriela@teste.com"
        ],
        [
         43,
         "Daniela",
         "9 1763-2584",
         null
        ],
        [
         46,
         "Rafael",
         "9 8703-1006",
         "rafael@exemplo.com"
        ],
        [
         53,
         "Daniela",
         "9 3797-3399",
         "daniela@teste.com"
        ],
        [
         55,
         "Gabriela",
         "9 1214-1539",
         "gabriela@meu_email.com"
        ],
        [
         58,
         "Rafael",
         "9 6550-3557",
         "rafael@meu_email.com"
        ],
        [
         80,
         "Daniela",
         "9 5394-6677",
         "daniela@usuario.com"
        ],
        [
         88,
         "Rafael",
         "9 8656-5668",
         "rafael@usuario.com"
        ],
        [
         89,
         "Daniela",
         "9 6666-2265",
         "daniela@usuario.com"
        ],
        [
         91,
         "Daniel",
         "9 4761-6557",
         "daniel@teste.com"
        ],
        [
         98,
         "Cibele",
         "9 4211-6968",
         "cibele@meu_email.com"
        ]
       ],
       "datasetInfos": [],
       "dbfsResultPath": null,
       "isJsonSchema": true,
       "metadata": {},
       "overflow": false,
       "plotOptions": {
        "customPlotOptions": {},
        "displayType": "table",
        "pivotAggregation": null,
        "pivotColumns": null,
        "xColumns": null,
        "yColumns": null
       },
       "removedWidgets": [],
       "schema": [
        {
         "metadata": "{}",
         "name": "_c0",
         "type": "\"integer\""
        },
        {
         "metadata": "{}",
         "name": "_c1",
         "type": "\"string\""
        },
        {
         "metadata": "{}",
         "name": "_c2",
         "type": "\"string\""
        },
        {
         "metadata": "{}",
         "name": "_c3",
         "type": "\"string\""
        }
       ],
       "type": "table"
      }
     },
     "output_type": "display_data"
    }
   ],
   "source": [
    "# Caminho para o arquivo CSV\n",
    "caminho_csv = \"dbfs:/Volumes/workspace/default/arquivos-aula/DiferentesSaidas/ContatoEl.csv/\"\n",
    "\n",
    "# Ler o arquivo CSV em um DataFrame\n",
    "df_csv = spark.read.csv(caminho_csv, header=False, inferSchema=True)\n",
    "display(df_csv)\n",
    "\n"
   ]
  },
  {
   "cell_type": "code",
   "execution_count": 0,
   "metadata": {
    "application/vnd.databricks.v1+cell": {
     "cellMetadata": {
      "byteLimit": 2048000,
      "rowLimit": 10000
     },
     "inputWidgets": {},
     "nuid": "8ef5169b-f89b-4f8f-8a6c-df7f9b5beb24",
     "showTitle": false,
     "tableResultSettingsMap": {},
     "title": ""
    }
   },
   "outputs": [
    {
     "output_type": "display_data",
     "data": {
      "text/html": [
       "<style scoped>\n",
       "  .table-result-container {\n",
       "    max-height: 300px;\n",
       "    overflow: auto;\n",
       "  }\n",
       "  table, th, td {\n",
       "    border: 1px solid black;\n",
       "    border-collapse: collapse;\n",
       "  }\n",
       "  th, td {\n",
       "    padding: 5px;\n",
       "  }\n",
       "  th {\n",
       "    text-align: left;\n",
       "  }\n",
       "</style><div class='table-result-container'><table class='table-result'><thead style='background-color: white'><tr><th>Email</th><th>Id</th><th>Nome</th><th>Telefone</th></tr></thead><tbody><tr><td>daniela@exemplo.com</td><td>3</td><td>Daniela</td><td>9 4642-9486</td></tr><tr><td>null</td><td>5</td><td>Marcelo</td><td>9 2830-2088</td></tr><tr><td>gabriela@exemplo.com</td><td>8</td><td>Gabriela</td><td>9 1353-8433</td></tr><tr><td>gabriel@exemplo.com</td><td>30</td><td>Gabriel</td><td>9 7419-5325</td></tr><tr><td>daniela@meu_email.com</td><td>37</td><td>Daniela</td><td>9 4704-5844</td></tr><tr><td>null</td><td>38</td><td>Marcelo</td><td>9 6773-1560</td></tr><tr><td>gabriela@teste.com</td><td>40</td><td>Gabriela</td><td>9 5382-5772</td></tr><tr><td>null</td><td>43</td><td>Daniela</td><td>9 1763-2584</td></tr><tr><td>rafael@exemplo.com</td><td>46</td><td>Rafael</td><td>9 8703-1006</td></tr><tr><td>daniela@teste.com</td><td>53</td><td>Daniela</td><td>9 3797-3399</td></tr><tr><td>gabriela@meu_email.com</td><td>55</td><td>Gabriela</td><td>9 1214-1539</td></tr><tr><td>rafael@meu_email.com</td><td>58</td><td>Rafael</td><td>9 6550-3557</td></tr><tr><td>daniela@usuario.com</td><td>80</td><td>Daniela</td><td>9 5394-6677</td></tr><tr><td>rafael@usuario.com</td><td>88</td><td>Rafael</td><td>9 8656-5668</td></tr><tr><td>daniela@usuario.com</td><td>89</td><td>Daniela</td><td>9 6666-2265</td></tr><tr><td>daniel@teste.com</td><td>91</td><td>Daniel</td><td>9 4761-6557</td></tr><tr><td>cibele@meu_email.com</td><td>98</td><td>Cibele</td><td>9 4211-6968</td></tr></tbody></table></div>"
      ]
     },
     "metadata": {
      "application/vnd.databricks.v1+output": {
       "addedWidgets": {},
       "aggData": [],
       "aggError": "",
       "aggOverflow": false,
       "aggSchema": [],
       "aggSeriesLimitReached": false,
       "aggType": "",
       "arguments": {},
       "columnCustomDisplayInfos": {},
       "data": [
        [
         "daniela@exemplo.com",
         3,
         "Daniela",
         "9 4642-9486"
        ],
        [
         null,
         5,
         "Marcelo",
         "9 2830-2088"
        ],
        [
         "gabriela@exemplo.com",
         8,
         "Gabriela",
         "9 1353-8433"
        ],
        [
         "gabriel@exemplo.com",
         30,
         "Gabriel",
         "9 7419-5325"
        ],
        [
         "daniela@meu_email.com",
         37,
         "Daniela",
         "9 4704-5844"
        ],
        [
         null,
         38,
         "Marcelo",
         "9 6773-1560"
        ],
        [
         "gabriela@teste.com",
         40,
         "Gabriela",
         "9 5382-5772"
        ],
        [
         null,
         43,
         "Daniela",
         "9 1763-2584"
        ],
        [
         "rafael@exemplo.com",
         46,
         "Rafael",
         "9 8703-1006"
        ],
        [
         "daniela@teste.com",
         53,
         "Daniela",
         "9 3797-3399"
        ],
        [
         "gabriela@meu_email.com",
         55,
         "Gabriela",
         "9 1214-1539"
        ],
        [
         "rafael@meu_email.com",
         58,
         "Rafael",
         "9 6550-3557"
        ],
        [
         "daniela@usuario.com",
         80,
         "Daniela",
         "9 5394-6677"
        ],
        [
         "rafael@usuario.com",
         88,
         "Rafael",
         "9 8656-5668"
        ],
        [
         "daniela@usuario.com",
         89,
         "Daniela",
         "9 6666-2265"
        ],
        [
         "daniel@teste.com",
         91,
         "Daniel",
         "9 4761-6557"
        ],
        [
         "cibele@meu_email.com",
         98,
         "Cibele",
         "9 4211-6968"
        ]
       ],
       "datasetInfos": [],
       "dbfsResultPath": null,
       "isJsonSchema": true,
       "metadata": {},
       "overflow": false,
       "plotOptions": {
        "customPlotOptions": {},
        "displayType": "table",
        "pivotAggregation": null,
        "pivotColumns": null,
        "xColumns": null,
        "yColumns": null
       },
       "removedWidgets": [],
       "schema": [
        {
         "metadata": "{}",
         "name": "Email",
         "type": "\"string\""
        },
        {
         "metadata": "{}",
         "name": "Id",
         "type": "\"long\""
        },
        {
         "metadata": "{}",
         "name": "Nome",
         "type": "\"string\""
        },
        {
         "metadata": "{}",
         "name": "Telefone",
         "type": "\"string\""
        }
       ],
       "type": "table"
      }
     },
     "output_type": "display_data"
    }
   ],
   "source": [
    "# Caminho para o arquivo JSON\n",
    "caminho_json = \"dbfs:/Volumes/workspace/default/arquivos-aula/DiferentesSaidas/ContatoEl.json/\"\n",
    "\n",
    "# Ler o arquivo JSON em um DataFrame\n",
    "df_json = spark.read.json(caminho_json)\n",
    "display(df_json)"
   ]
  },
  {
   "cell_type": "code",
   "execution_count": 0,
   "metadata": {
    "application/vnd.databricks.v1+cell": {
     "cellMetadata": {
      "byteLimit": 2048000,
      "rowLimit": 10000
     },
     "inputWidgets": {},
     "nuid": "fc103817-fb35-4122-8f78-0bacd8ecdfde",
     "showTitle": false,
     "tableResultSettingsMap": {},
     "title": ""
    }
   },
   "outputs": [
    {
     "output_type": "display_data",
     "data": {
      "text/html": [
       "<style scoped>\n",
       "  .table-result-container {\n",
       "    max-height: 300px;\n",
       "    overflow: auto;\n",
       "  }\n",
       "  table, th, td {\n",
       "    border: 1px solid black;\n",
       "    border-collapse: collapse;\n",
       "  }\n",
       "  th, td {\n",
       "    padding: 5px;\n",
       "  }\n",
       "  th {\n",
       "    text-align: left;\n",
       "  }\n",
       "</style><div class='table-result-container'><table class='table-result'><thead style='background-color: white'><tr><th>Id</th><th>Nome</th><th>Telefone</th><th>Email</th></tr></thead><tbody><tr><td>3</td><td>Daniela</td><td>9 4642-9486</td><td>daniela@exemplo.com</td></tr><tr><td>5</td><td>Marcelo</td><td>9 2830-2088</td><td>null</td></tr><tr><td>8</td><td>Gabriela</td><td>9 1353-8433</td><td>gabriela@exemplo.com</td></tr><tr><td>30</td><td>Gabriel</td><td>9 7419-5325</td><td>gabriel@exemplo.com</td></tr><tr><td>37</td><td>Daniela</td><td>9 4704-5844</td><td>daniela@meu_email.com</td></tr><tr><td>38</td><td>Marcelo</td><td>9 6773-1560</td><td>null</td></tr><tr><td>40</td><td>Gabriela</td><td>9 5382-5772</td><td>gabriela@teste.com</td></tr><tr><td>43</td><td>Daniela</td><td>9 1763-2584</td><td>null</td></tr><tr><td>46</td><td>Rafael</td><td>9 8703-1006</td><td>rafael@exemplo.com</td></tr><tr><td>53</td><td>Daniela</td><td>9 3797-3399</td><td>daniela@teste.com</td></tr><tr><td>55</td><td>Gabriela</td><td>9 1214-1539</td><td>gabriela@meu_email.com</td></tr><tr><td>58</td><td>Rafael</td><td>9 6550-3557</td><td>rafael@meu_email.com</td></tr><tr><td>80</td><td>Daniela</td><td>9 5394-6677</td><td>daniela@usuario.com</td></tr><tr><td>88</td><td>Rafael</td><td>9 8656-5668</td><td>rafael@usuario.com</td></tr><tr><td>89</td><td>Daniela</td><td>9 6666-2265</td><td>daniela@usuario.com</td></tr><tr><td>91</td><td>Daniel</td><td>9 4761-6557</td><td>daniel@teste.com</td></tr><tr><td>98</td><td>Cibele</td><td>9 4211-6968</td><td>cibele@meu_email.com</td></tr></tbody></table></div>"
      ]
     },
     "metadata": {
      "application/vnd.databricks.v1+output": {
       "addedWidgets": {},
       "aggData": [],
       "aggError": "",
       "aggOverflow": false,
       "aggSchema": [],
       "aggSeriesLimitReached": false,
       "aggType": "",
       "arguments": {},
       "columnCustomDisplayInfos": {},
       "data": [
        [
         3,
         "Daniela",
         "9 4642-9486",
         "daniela@exemplo.com"
        ],
        [
         5,
         "Marcelo",
         "9 2830-2088",
         null
        ],
        [
         8,
         "Gabriela",
         "9 1353-8433",
         "gabriela@exemplo.com"
        ],
        [
         30,
         "Gabriel",
         "9 7419-5325",
         "gabriel@exemplo.com"
        ],
        [
         37,
         "Daniela",
         "9 4704-5844",
         "daniela@meu_email.com"
        ],
        [
         38,
         "Marcelo",
         "9 6773-1560",
         null
        ],
        [
         40,
         "Gabriela",
         "9 5382-5772",
         "gabriela@teste.com"
        ],
        [
         43,
         "Daniela",
         "9 1763-2584",
         null
        ],
        [
         46,
         "Rafael",
         "9 8703-1006",
         "rafael@exemplo.com"
        ],
        [
         53,
         "Daniela",
         "9 3797-3399",
         "daniela@teste.com"
        ],
        [
         55,
         "Gabriela",
         "9 1214-1539",
         "gabriela@meu_email.com"
        ],
        [
         58,
         "Rafael",
         "9 6550-3557",
         "rafael@meu_email.com"
        ],
        [
         80,
         "Daniela",
         "9 5394-6677",
         "daniela@usuario.com"
        ],
        [
         88,
         "Rafael",
         "9 8656-5668",
         "rafael@usuario.com"
        ],
        [
         89,
         "Daniela",
         "9 6666-2265",
         "daniela@usuario.com"
        ],
        [
         91,
         "Daniel",
         "9 4761-6557",
         "daniel@teste.com"
        ],
        [
         98,
         "Cibele",
         "9 4211-6968",
         "cibele@meu_email.com"
        ]
       ],
       "datasetInfos": [],
       "dbfsResultPath": null,
       "isJsonSchema": true,
       "metadata": {},
       "overflow": false,
       "plotOptions": {
        "customPlotOptions": {},
        "displayType": "table",
        "pivotAggregation": null,
        "pivotColumns": null,
        "xColumns": null,
        "yColumns": null
       },
       "removedWidgets": [],
       "schema": [
        {
         "metadata": "{}",
         "name": "Id",
         "type": "\"integer\""
        },
        {
         "metadata": "{}",
         "name": "Nome",
         "type": "\"string\""
        },
        {
         "metadata": "{}",
         "name": "Telefone",
         "type": "\"string\""
        },
        {
         "metadata": "{}",
         "name": "Email",
         "type": "\"string\""
        }
       ],
       "type": "table"
      }
     },
     "output_type": "display_data"
    }
   ],
   "source": [
    "# Caminho para o arquivo Parquet\n",
    "caminho_parquet = \"dbfs:/Volumes/workspace/default/arquivos-aula/DiferentesSaidas/ContatoEl.parquet/\"\n",
    "\n",
    "# Ler o arquivo Sem Salvar em Um DF\n",
    "Df_Parquet =  spark.read.parquet(caminho_parquet)\n",
    "display(Df_Parquet)"
   ]
  },
  {
   "cell_type": "markdown",
   "metadata": {
    "application/vnd.databricks.v1+cell": {
     "cellMetadata": {},
     "inputWidgets": {},
     "nuid": "feb01262-a539-4674-b3a2-dd7c2cf0636e",
     "showTitle": false,
     "tableResultSettingsMap": {},
     "title": ""
    }
   },
   "source": [
    "##### Saiba mais sobre tipos de arquivos Databricks\n",
    "\n",
    "https://docs.databricks.com/pt/external-data/index.html\n"
   ]
  },
  {
   "cell_type": "code",
   "execution_count": 0,
   "metadata": {
    "application/vnd.databricks.v1+cell": {
     "cellMetadata": {
      "byteLimit": 2048000,
      "implicitDf": true,
      "rowLimit": 10000
     },
     "inputWidgets": {},
     "nuid": "e76c60f3-b2a2-459f-88e4-f09db858b2c7",
     "showTitle": false,
     "tableResultSettingsMap": {},
     "title": ""
    }
   },
   "outputs": [
    {
     "output_type": "display_data",
     "data": {
      "text/html": [
       "<style scoped>\n",
       "  .table-result-container {\n",
       "    max-height: 300px;\n",
       "    overflow: auto;\n",
       "  }\n",
       "  table, th, td {\n",
       "    border: 1px solid black;\n",
       "    border-collapse: collapse;\n",
       "  }\n",
       "  th, td {\n",
       "    padding: 5px;\n",
       "  }\n",
       "  th {\n",
       "    text-align: left;\n",
       "  }\n",
       "</style><div class='table-result-container'><table class='table-result'><thead style='background-color: white'><tr><th>id</th><th>created_at</th><th>first_name</th><th>last_name</th><th>email</th><th>cell_phone</th><th>country</th><th>state</th><th>street</th><th>number</th><th>additionals</th></tr></thead><tbody><tr><td>0</td><td>2017-11-01T14:45:41.000Z</td><td>Marta</td><td>Jesus</td><td>null</td><td>9 9102-7834</td><td>Brasil</td><td>Acre</td><td>null</td><td>null</td><td>Conjunto 16</td></tr><tr><td>1</td><td>2017-10-16T00:50:39.000Z</td><td>Luana</td><td>Almeida</td><td>null</td><td>9 7328-8718</td><td>Brasil</td><td>Rio Grande do Sul</td><td>Avenida 56 do Estado Rio Grande do Sul</td><td>989.0</td><td>Conjunto 17</td></tr><tr><td>2</td><td>2018-06-16T17:51:29.000Z</td><td>Frida</td><td>Mendes</td><td>frida@meu_email.com</td><td>9 5906-7552</td><td>Brasil</td><td>São Paulo</td><td>Avenida 59 do Estado São Paulo</td><td>534.0</td><td>null</td></tr><tr><td>3</td><td>2018-01-17T03:02:58.000Z</td><td>Daniela</td><td>Avelino</td><td>daniela@exemplo.com</td><td>9 4642-9486</td><td>Brasil</td><td>Mato Grosso</td><td>null</td><td>null</td><td>null</td></tr><tr><td>4</td><td>2018-08-06T07:24:16.000Z</td><td>Romário</td><td>Teixeira</td><td>null</td><td>9 3093-6522</td><td>Brasil</td><td>Bahia</td><td>Praça 56 do Estado Bahia</td><td>191.0</td><td>Apto 12</td></tr><tr><td>5</td><td>2018-01-05T17:20:49.000Z</td><td>Marcelo</td><td>Barroso</td><td>null</td><td>9 2830-2088</td><td>Brasil</td><td>Rio Grande do Sul</td><td>Rua 28 do Estado Rio Grande do Sul</td><td>805.0</td><td>Conjunto 13</td></tr><tr><td>6</td><td>2018-06-18T11:17:42.000Z</td><td>Cristiano</td><td>Elísio</td><td>cristiano@exemplo.com</td><td>9 3532-8404</td><td>Brasil</td><td>Goiás</td><td>Rua 78 do Estado Goiás</td><td>877.0</td><td>Apto 14</td></tr><tr><td>7</td><td>2018-02-08T12:36:09.000Z</td><td>Everton</td><td>Barbosa</td><td>everton@meu_email.com</td><td>9 2553-4087</td><td>Brasil</td><td>Distrito Federal</td><td>Avenida 86 do Estado Distrito Federal</td><td>864.0</td><td>Apto 14</td></tr><tr><td>8</td><td>2017-12-16T20:47:03.000Z</td><td>Gabriela</td><td>Alves</td><td>gabriela@exemplo.com</td><td>9 1353-8433</td><td>Brasil</td><td>Santa Catarina</td><td>null</td><td>null</td><td>null</td></tr><tr><td>9</td><td>2018-11-11T11:48:41.000Z</td><td>Luan</td><td>Dias</td><td>luan@exemplo.com</td><td>9 2417-3678</td><td>Brasil</td><td>Distrito Federal</td><td>Avenida 54 do Estado Distrito Federal</td><td>889.0</td><td>Conjunto 14</td></tr></tbody></table></div>"
      ]
     },
     "metadata": {
      "application/vnd.databricks.v1+output": {
       "addedWidgets": {},
       "aggData": [],
       "aggError": "",
       "aggOverflow": false,
       "aggSchema": [],
       "aggSeriesLimitReached": false,
       "aggType": "",
       "arguments": {},
       "columnCustomDisplayInfos": {},
       "data": [
        [
         0,
         "2017-11-01T14:45:41.000Z",
         "Marta",
         "Jesus",
         null,
         "9 9102-7834",
         "Brasil",
         "Acre",
         null,
         null,
         "Conjunto 16"
        ],
        [
         1,
         "2017-10-16T00:50:39.000Z",
         "Luana",
         "Almeida",
         null,
         "9 7328-8718",
         "Brasil",
         "Rio Grande do Sul",
         "Avenida 56 do Estado Rio Grande do Sul",
         989.0,
         "Conjunto 17"
        ],
        [
         2,
         "2018-06-16T17:51:29.000Z",
         "Frida",
         "Mendes",
         "frida@meu_email.com",
         "9 5906-7552",
         "Brasil",
         "São Paulo",
         "Avenida 59 do Estado São Paulo",
         534.0,
         null
        ],
        [
         3,
         "2018-01-17T03:02:58.000Z",
         "Daniela",
         "Avelino",
         "daniela@exemplo.com",
         "9 4642-9486",
         "Brasil",
         "Mato Grosso",
         null,
         null,
         null
        ],
        [
         4,
         "2018-08-06T07:24:16.000Z",
         "Romário",
         "Teixeira",
         null,
         "9 3093-6522",
         "Brasil",
         "Bahia",
         "Praça 56 do Estado Bahia",
         191.0,
         "Apto 12"
        ],
        [
         5,
         "2018-01-05T17:20:49.000Z",
         "Marcelo",
         "Barroso",
         null,
         "9 2830-2088",
         "Brasil",
         "Rio Grande do Sul",
         "Rua 28 do Estado Rio Grande do Sul",
         805.0,
         "Conjunto 13"
        ],
        [
         6,
         "2018-06-18T11:17:42.000Z",
         "Cristiano",
         "Elísio",
         "cristiano@exemplo.com",
         "9 3532-8404",
         "Brasil",
         "Goiás",
         "Rua 78 do Estado Goiás",
         877.0,
         "Apto 14"
        ],
        [
         7,
         "2018-02-08T12:36:09.000Z",
         "Everton",
         "Barbosa",
         "everton@meu_email.com",
         "9 2553-4087",
         "Brasil",
         "Distrito Federal",
         "Avenida 86 do Estado Distrito Federal",
         864.0,
         "Apto 14"
        ],
        [
         8,
         "2017-12-16T20:47:03.000Z",
         "Gabriela",
         "Alves",
         "gabriela@exemplo.com",
         "9 1353-8433",
         "Brasil",
         "Santa Catarina",
         null,
         null,
         null
        ],
        [
         9,
         "2018-11-11T11:48:41.000Z",
         "Luan",
         "Dias",
         "luan@exemplo.com",
         "9 2417-3678",
         "Brasil",
         "Distrito Federal",
         "Avenida 54 do Estado Distrito Federal",
         889.0,
         "Conjunto 14"
        ]
       ],
       "datasetInfos": [
        {
         "name": "_sqldf",
         "schema": {
          "fields": [
           {
            "metadata": {},
            "name": "id",
            "nullable": true,
            "type": "integer"
           },
           {
            "metadata": {},
            "name": "created_at",
            "nullable": true,
            "type": "timestamp"
           },
           {
            "metadata": {},
            "name": "first_name",
            "nullable": true,
            "type": "string"
           },
           {
            "metadata": {},
            "name": "last_name",
            "nullable": true,
            "type": "string"
           },
           {
            "metadata": {},
            "name": "email",
            "nullable": true,
            "type": "string"
           },
           {
            "metadata": {},
            "name": "cell_phone",
            "nullable": true,
            "type": "string"
           },
           {
            "metadata": {},
            "name": "country",
            "nullable": true,
            "type": "string"
           },
           {
            "metadata": {},
            "name": "state",
            "nullable": true,
            "type": "string"
           },
           {
            "metadata": {},
            "name": "street",
            "nullable": true,
            "type": "string"
           },
           {
            "metadata": {},
            "name": "number",
            "nullable": true,
            "type": "double"
           },
           {
            "metadata": {},
            "name": "additionals",
            "nullable": true,
            "type": "string"
           }
          ],
          "type": "struct"
         },
         "tableIdentifier": null,
         "typeStr": "pyspark.sql.connect.dataframe.DataFrame"
        }
       ],
       "dbfsResultPath": null,
       "isJsonSchema": true,
       "metadata": {
        "createTempViewForImplicitDf": true,
        "dataframeName": "_sqldf",
        "executionCount": 47
       },
       "overflow": false,
       "plotOptions": {
        "customPlotOptions": {},
        "displayType": "table",
        "pivotAggregation": null,
        "pivotColumns": null,
        "xColumns": null,
        "yColumns": null
       },
       "removedWidgets": [],
       "schema": [
        {
         "metadata": "{}",
         "name": "id",
         "type": "\"integer\""
        },
        {
         "metadata": "{}",
         "name": "created_at",
         "type": "\"timestamp\""
        },
        {
         "metadata": "{}",
         "name": "first_name",
         "type": "\"string\""
        },
        {
         "metadata": "{}",
         "name": "last_name",
         "type": "\"string\""
        },
        {
         "metadata": "{}",
         "name": "email",
         "type": "\"string\""
        },
        {
         "metadata": "{}",
         "name": "cell_phone",
         "type": "\"string\""
        },
        {
         "metadata": "{}",
         "name": "country",
         "type": "\"string\""
        },
        {
         "metadata": "{}",
         "name": "state",
         "type": "\"string\""
        },
        {
         "metadata": "{}",
         "name": "street",
         "type": "\"string\""
        },
        {
         "metadata": "{}",
         "name": "number",
         "type": "\"double\""
        },
        {
         "metadata": "{}",
         "name": "additionals",
         "type": "\"string\""
        }
       ],
       "type": "table"
      }
     },
     "output_type": "display_data"
    }
   ],
   "source": [
    "%sql\n",
    "select * from clientes limit 10"
   ]
  },
  {
   "cell_type": "code",
   "execution_count": 0,
   "metadata": {
    "application/vnd.databricks.v1+cell": {
     "cellMetadata": {
      "byteLimit": 2048000,
      "rowLimit": 10000
     },
     "inputWidgets": {},
     "nuid": "07390e2d-9541-4627-b8d4-34394dda7c24",
     "showTitle": false,
     "tableResultSettingsMap": {
      "0": {
       "dataGridStateBlob": "{\"version\":1,\"tableState\":{\"columnPinning\":{\"left\":[\"#row_number#\"],\"right\":[]},\"columnSizing\":{},\"columnVisibility\":{}},\"settings\":{\"columns\":{}},\"syncTimestamp\":1755201577149}",
       "filterBlob": null,
       "queryPlanFiltersBlob": null,
       "tableResultIndex": 0
      }
     },
     "title": ""
    }
   },
   "outputs": [
    {
     "output_type": "display_data",
     "data": {
      "text/html": [
       "<style scoped>\n",
       "  .table-result-container {\n",
       "    max-height: 300px;\n",
       "    overflow: auto;\n",
       "  }\n",
       "  table, th, td {\n",
       "    border: 1px solid black;\n",
       "    border-collapse: collapse;\n",
       "  }\n",
       "  th, td {\n",
       "    padding: 5px;\n",
       "  }\n",
       "  th {\n",
       "    text-align: left;\n",
       "  }\n",
       "</style><div class='table-result-container'><table class='table-result'><thead style='background-color: white'><tr><th>id</th><th>created_at</th><th>first_name</th><th>last_name</th><th>email</th><th>cell_phone</th><th>country</th><th>state</th><th>street</th><th>number</th><th>additionals</th></tr></thead><tbody><tr><td>0</td><td>2017-11-01T14:45:41.000Z</td><td>Marta</td><td>Jesus</td><td>null</td><td>9 9102-7834</td><td>Brasil</td><td>Acre</td><td>null</td><td>null</td><td>Conjunto 16</td></tr><tr><td>1</td><td>2017-10-16T00:50:39.000Z</td><td>Luana</td><td>Almeida</td><td>null</td><td>9 7328-8718</td><td>Brasil</td><td>Rio Grande do Sul</td><td>Avenida 56 do Estado Rio Grande do Sul</td><td>989.0</td><td>Conjunto 17</td></tr><tr><td>2</td><td>2018-06-16T17:51:29.000Z</td><td>Frida</td><td>Mendes</td><td>frida@meu_email.com</td><td>9 5906-7552</td><td>Brasil</td><td>São Paulo</td><td>Avenida 59 do Estado São Paulo</td><td>534.0</td><td>null</td></tr><tr><td>3</td><td>2018-01-17T03:02:58.000Z</td><td>Daniela</td><td>Avelino</td><td>daniela@exemplo.com</td><td>9 4642-9486</td><td>Brasil</td><td>Mato Grosso</td><td>null</td><td>null</td><td>null</td></tr><tr><td>4</td><td>2018-08-06T07:24:16.000Z</td><td>Romário</td><td>Teixeira</td><td>null</td><td>9 3093-6522</td><td>Brasil</td><td>Bahia</td><td>Praça 56 do Estado Bahia</td><td>191.0</td><td>Apto 12</td></tr><tr><td>5</td><td>2018-01-05T17:20:49.000Z</td><td>Marcelo</td><td>Barroso</td><td>null</td><td>9 2830-2088</td><td>Brasil</td><td>Rio Grande do Sul</td><td>Rua 28 do Estado Rio Grande do Sul</td><td>805.0</td><td>Conjunto 13</td></tr><tr><td>6</td><td>2018-06-18T11:17:42.000Z</td><td>Cristiano</td><td>Elísio</td><td>cristiano@exemplo.com</td><td>9 3532-8404</td><td>Brasil</td><td>Goiás</td><td>Rua 78 do Estado Goiás</td><td>877.0</td><td>Apto 14</td></tr><tr><td>7</td><td>2018-02-08T12:36:09.000Z</td><td>Everton</td><td>Barbosa</td><td>everton@meu_email.com</td><td>9 2553-4087</td><td>Brasil</td><td>Distrito Federal</td><td>Avenida 86 do Estado Distrito Federal</td><td>864.0</td><td>Apto 14</td></tr><tr><td>8</td><td>2017-12-16T20:47:03.000Z</td><td>Gabriela</td><td>Alves</td><td>gabriela@exemplo.com</td><td>9 1353-8433</td><td>Brasil</td><td>Santa Catarina</td><td>null</td><td>null</td><td>null</td></tr><tr><td>9</td><td>2018-11-11T11:48:41.000Z</td><td>Luan</td><td>Dias</td><td>luan@exemplo.com</td><td>9 2417-3678</td><td>Brasil</td><td>Distrito Federal</td><td>Avenida 54 do Estado Distrito Federal</td><td>889.0</td><td>Conjunto 14</td></tr><tr><td>10</td><td>2017-12-16T15:41:00.000Z</td><td>Mariana</td><td>Alves</td><td>mariana@meu_email.com</td><td>9 1846-6377</td><td>Brasil</td><td>Santa Catarina</td><td>null</td><td>null</td><td>null</td></tr><tr><td>11</td><td>2018-05-16T03:39:52.000Z</td><td>James</td><td>Albuquerque</td><td>null</td><td>9 2430-5905</td><td>Brasil</td><td>Sergipe</td><td>Rua 30 do Estado Sergipe</td><td>229.0</td><td>null</td></tr><tr><td>12</td><td>2018-03-28T00:24:00.000Z</td><td>Carol</td><td>Barboza</td><td>carol@exemplo.com</td><td>9 8487-3501</td><td>Brasil</td><td>Mato Grosso</td><td>Rua 31 do Estado Mato Grosso</td><td>1.0</td><td>Conjunto 23</td></tr><tr><td>13</td><td>2018-08-27T21:15:17.000Z</td><td>Carolina</td><td>Monteiro</td><td>carolina@teste.com</td><td>9 1226-4267</td><td>Brasil</td><td>Rio Grande do Sul</td><td>Rua 4 do Estado Rio Grande do Sul</td><td>444.0</td><td>Apto 21</td></tr><tr><td>14</td><td>2017-11-12T03:02:41.000Z</td><td>Francisco</td><td>Nascimento</td><td>francisco@exemplo.com</td><td>9 7264-9020</td><td>Brasil</td><td>Distrito Federal</td><td>Rua 75 do Estado Distrito Federal</td><td>47.0</td><td>null</td></tr><tr><td>15</td><td>2018-11-15T18:00:53.000Z</td><td>Stephanie</td><td>Barbosa</td><td>stephanie@usuario.com</td><td>9 1446-3560</td><td>Brasil</td><td>Mato Grosso</td><td>null</td><td>null</td><td>Conjunto 4</td></tr><tr><td>16</td><td>2017-12-12T21:29:54.000Z</td><td>Laura</td><td>Santos</td><td>laura@exemplo.com</td><td>9 7802-6152</td><td>Brasil</td><td>Maranhão</td><td>Rua 57 do Estado Maranhão</td><td>213.0</td><td>null</td></tr><tr><td>17</td><td>2017-10-19T20:18:14.000Z</td><td>João</td><td>Magalhães</td><td>joão@exemplo.com</td><td>9 5995-1272</td><td>Brasil</td><td>Pernambuco</td><td>Rua 20 do Estado Pernambuco</td><td>781.0</td><td>Apto 17</td></tr><tr><td>18</td><td>2018-06-28T04:53:52.000Z</td><td>Jair</td><td>Magalhães</td><td>jair@exemplo.com</td><td>9 8368-1315</td><td>Brasil</td><td>Alagoas</td><td>Avenida 74 do Estado Alagoas</td><td>118.0</td><td>Conjunto 8</td></tr><tr><td>19</td><td>2018-10-20T19:31:52.000Z</td><td>Caíque</td><td>Monteiro</td><td>caíque@exemplo.com</td><td>9 9793-9986</td><td>Brasil</td><td>Piauí</td><td>null</td><td>null</td><td>Conjunto 13</td></tr><tr><td>20</td><td>2017-12-22T10:51:28.000Z</td><td>Adalberto</td><td>Silva</td><td>adalberto@usuario.com</td><td>9 1338-1447</td><td>Brasil</td><td>São Paulo</td><td>Rua 57 do Estado São Paulo</td><td>851.0</td><td>Conjunto 20</td></tr><tr><td>21</td><td>2018-02-21T15:35:55.000Z</td><td>Diego</td><td>Freire</td><td>diego@teste.com</td><td>9 6686-4094</td><td>Brasil</td><td>Bahia</td><td>Praça 4 do Estado Bahia</td><td>906.0</td><td>Apto 20</td></tr><tr><td>22</td><td>2018-04-18T22:43:29.000Z</td><td>Heitor</td><td>Pereira</td><td>null</td><td>9 4839-8118</td><td>Brasil</td><td>Maranhão</td><td>Avenida 84 do Estado Maranhão</td><td>948.0</td><td>null</td></tr><tr><td>23</td><td>2017-10-26T00:35:22.000Z</td><td>Maria</td><td>Pires</td><td>null</td><td>9 8229-1067</td><td>Brasil</td><td>Amazonas</td><td>Avenida 80 do Estado Amazonas</td><td>581.0</td><td>null</td></tr><tr><td>24</td><td>2018-07-25T09:34:12.000Z</td><td>Jair</td><td>Barroso</td><td>jair@teste.com</td><td>9 6679-6120</td><td>Brasil</td><td>Ceará</td><td>Rua 86 do Estado Ceará</td><td>770.0</td><td>Apto 21</td></tr><tr><td>25</td><td>2018-08-07T12:22:40.000Z</td><td>Alice</td><td>Veloso</td><td>alice@exemplo.com</td><td>9 9869-3706</td><td>Brasil</td><td>Minas Gerais</td><td>Praça 73 do Estado Minas Gerais</td><td>571.0</td><td>null</td></tr><tr><td>26</td><td>2018-12-12T11:56:14.000Z</td><td>Eloá</td><td>da Silva</td><td>eloá@usuario.com</td><td>9 3982-5948</td><td>Brasil</td><td>Espírito Santo</td><td>Avenida 98 do Estado Espírito Santo</td><td>706.0</td><td>null</td></tr><tr><td>27</td><td>2018-11-08T11:12:47.000Z</td><td>Luan</td><td>Lima</td><td>luan@teste.com</td><td>9 2529-8197</td><td>Brasil</td><td>Acre</td><td>Praça 86 do Estado Acre</td><td>303.0</td><td>Apto 27</td></tr><tr><td>28</td><td>2017-11-26T05:17:39.000Z</td><td>Beatriz</td><td>Araújo</td><td>beatriz@usuario.com</td><td>9 4543-3853</td><td>Brasil</td><td>Minas Gerais</td><td>Praça 7 do Estado Minas Gerais</td><td>536.0</td><td>Conjunto 5</td></tr><tr><td>29</td><td>2018-06-03T17:08:52.000Z</td><td>Geisa</td><td>Santos</td><td>geisa@meu_email.com</td><td>9 4653-9739</td><td>Brasil</td><td>Rio Grande do Norte</td><td>Avenida 77 do Estado Rio Grande do Norte</td><td>486.0</td><td>Conjunto 13</td></tr><tr><td>30</td><td>2018-06-08T07:49:50.000Z</td><td>Gabriel</td><td>Teixeira</td><td>gabriel@exemplo.com</td><td>9 7419-5325</td><td>Brasil</td><td>Rio Grande do Sul</td><td>Avenida 7 do Estado Rio Grande do Sul</td><td>94.0</td><td>null</td></tr><tr><td>31</td><td>2018-07-02T22:04:08.000Z</td><td>Geisa</td><td>Freitas</td><td>geisa@exemplo.com</td><td>9 6772-5310</td><td>Brasil</td><td>Mato Grosso do Sul</td><td>Rua 18 do Estado Mato Grosso do Sul</td><td>128.0</td><td>null</td></tr><tr><td>32</td><td>2018-07-22T11:59:27.000Z</td><td>Ana</td><td>Campos</td><td>ana@teste.com</td><td>9 1932-9841</td><td>Brasil</td><td>Bahia</td><td>Avenida 52 do Estado Bahia</td><td>402.0</td><td>null</td></tr><tr><td>33</td><td>2017-12-28T12:51:34.000Z</td><td>João</td><td>da Silva</td><td>joão@usuario.com</td><td>9 2813-8103</td><td>Brasil</td><td>Paraná</td><td>Avenida 27 do Estado Paraná</td><td>240.0</td><td>Apto 6</td></tr><tr><td>34</td><td>2018-10-05T01:14:05.000Z</td><td>José</td><td>Campos</td><td>josé@teste.com</td><td>9 7552-4340</td><td>Brasil</td><td>Goiás</td><td>Praça 25 do Estado Goiás</td><td>884.0</td><td>Apto 7</td></tr><tr><td>35</td><td>2018-04-19T10:10:22.000Z</td><td>Adalberto</td><td>Dias</td><td>adalberto@usuario.com</td><td>9 8395-7004</td><td>Brasil</td><td>Espírito Santo</td><td>Rua 37 do Estado Espírito Santo</td><td>383.0</td><td>Apto 13</td></tr><tr><td>36</td><td>2018-01-26T03:29:13.000Z</td><td>Mariana</td><td>Góes</td><td>mariana@meu_email.com</td><td>9 7324-4293</td><td>Brasil</td><td>null</td><td>null</td><td>null</td><td>Apto 25</td></tr><tr><td>37</td><td>2018-03-02T22:27:03.000Z</td><td>Daniela</td><td>Monteiro</td><td>daniela@meu_email.com</td><td>9 4704-5844</td><td>Brasil</td><td>Goiás</td><td>Rua 43 do Estado Goiás</td><td>116.0</td><td>Apto 28</td></tr><tr><td>38</td><td>2018-09-01T09:33:57.000Z</td><td>Marcelo</td><td>Mendes</td><td>null</td><td>9 6773-1560</td><td>Brasil</td><td>Espírito Santo</td><td>Avenida 64 do Estado Espírito Santo</td><td>213.0</td><td>null</td></tr><tr><td>39</td><td>2017-11-15T07:17:25.000Z</td><td>Caio</td><td>Batista</td><td>caio@usuario.com</td><td>9 4761-6542</td><td>Brasil</td><td>Maranhão</td><td>Avenida 87 do Estado Maranhão</td><td>656.0</td><td>Apto 25</td></tr><tr><td>40</td><td>2018-08-17T13:21:08.000Z</td><td>Gabriela</td><td>Nascimento</td><td>gabriela@teste.com</td><td>9 5382-5772</td><td>Brasil</td><td>Amapá</td><td>Avenida 85 do Estado Amapá</td><td>476.0</td><td>null</td></tr><tr><td>41</td><td>2018-11-30T17:44:09.000Z</td><td>Maria</td><td>Morais</td><td>maria@usuario.com</td><td>9 1519-4181</td><td>Brasil</td><td>Pernambuco</td><td>Avenida 69 do Estado Pernambuco</td><td>633.0</td><td>null</td></tr><tr><td>42</td><td>2018-04-09T19:12:23.000Z</td><td>João</td><td>Almeida</td><td>joão@usuario.com</td><td>9 4650-1753</td><td>Brasil</td><td>Goiás</td><td>Praça 3 do Estado Goiás</td><td>986.0</td><td>Apto 9</td></tr><tr><td>43</td><td>2018-01-07T07:54:22.000Z</td><td>Daniela</td><td>Lima</td><td>null</td><td>9 1763-2584</td><td>Brasil</td><td>Rio de Janeiro</td><td>null</td><td>null</td><td>Apto 20</td></tr><tr><td>44</td><td>2018-04-08T07:18:45.000Z</td><td>Júlia</td><td>Costa</td><td>júlia@usuario.com</td><td>9 5446-9508</td><td>Brasil</td><td>Rio Grande do Norte</td><td>Avenida 46 do Estado Rio Grande do Norte</td><td>277.0</td><td>Conjunto 14</td></tr><tr><td>45</td><td>2018-05-10T23:09:25.000Z</td><td>Gerson</td><td>Anjos</td><td>gerson@meu_email.com</td><td>9 1590-8972</td><td>Brasil</td><td>Mato Grosso do Sul</td><td>Avenida 35 do Estado Mato Grosso do Sul</td><td>229.0</td><td>Apto 29</td></tr><tr><td>46</td><td>2018-07-19T08:33:32.000Z</td><td>Rafael</td><td>Freire</td><td>rafael@exemplo.com</td><td>9 8703-1006</td><td>Brasil</td><td>Maranhão</td><td>Praça 97 do Estado Maranhão</td><td>138.0</td><td>null</td></tr><tr><td>47</td><td>2018-09-01T23:00:40.000Z</td><td>Júlia</td><td>Castro</td><td>júlia@exemplo.com</td><td>9 7096-1780</td><td>Brasil</td><td>Rio de Janeiro</td><td>Rua 39 do Estado Rio de Janeiro</td><td>983.0</td><td>Conjunto 7</td></tr><tr><td>48</td><td>2018-05-29T04:22:54.000Z</td><td>Clarissa</td><td>Albuquerque</td><td>clarissa@exemplo.com</td><td>9 7403-4273</td><td>Brasil</td><td>Ceará</td><td>null</td><td>null</td><td>Apto 12</td></tr><tr><td>49</td><td>2018-11-01T02:13:51.000Z</td><td>Júlia</td><td>Sousa</td><td>júlia@exemplo.com</td><td>9 2094-8467</td><td>Brasil</td><td>Rondônia</td><td>Rua 12 do Estado Rondônia</td><td>260.0</td><td>Apto 27</td></tr><tr><td>50</td><td>2018-08-24T07:52:23.000Z</td><td>Beatriz</td><td>Monteiro</td><td>beatriz@teste.com</td><td>9 3570-4464</td><td>Brasil</td><td>Minas Gerais</td><td>Avenida 17 do Estado Minas Gerais</td><td>223.0</td><td>Conjunto 22</td></tr><tr><td>51</td><td>2017-12-26T15:38:15.000Z</td><td>Caio</td><td>Mendes</td><td>caio@teste.com</td><td>9 6437-5008</td><td>Brasil</td><td>Pernambuco</td><td>Rua 34 do Estado Pernambuco</td><td>931.0</td><td>null</td></tr><tr><td>52</td><td>2017-12-04T17:42:34.000Z</td><td>Bruno</td><td>Anjos</td><td>bruno@teste.com</td><td>9 3004-3740</td><td>Brasil</td><td>Goiás</td><td>Rua 53 do Estado Goiás</td><td>825.0</td><td>null</td></tr><tr><td>53</td><td>2018-03-25T14:26:49.000Z</td><td>Daniela</td><td>Mendes</td><td>daniela@teste.com</td><td>9 3797-3399</td><td>Brasil</td><td>Pernambuco</td><td>Rua 71 do Estado Pernambuco</td><td>760.0</td><td>Apto 14</td></tr><tr><td>54</td><td>2018-01-25T02:11:25.000Z</td><td>Diego</td><td>Teixeira</td><td>diego@exemplo.com</td><td>9 5247-1737</td><td>Brasil</td><td>Pará</td><td>Rua 8 do Estado Pará</td><td>722.0</td><td>Conjunto 16</td></tr><tr><td>55</td><td>2018-07-10T18:40:07.000Z</td><td>Gabriela</td><td>Pires</td><td>gabriela@meu_email.com</td><td>9 1214-1539</td><td>Brasil</td><td>Rio de Janeiro</td><td>Rua 32 do Estado Rio de Janeiro</td><td>838.0</td><td>Apto 29</td></tr><tr><td>56</td><td>2017-12-01T22:40:40.000Z</td><td>Cristiano</td><td>Fagundes</td><td>cristiano@usuario.com</td><td>9 7680-6400</td><td>Brasil</td><td>Piauí</td><td>Avenida 20 do Estado Piauí</td><td>236.0</td><td>Apto 30</td></tr><tr><td>57</td><td>2018-08-23T03:31:05.000Z</td><td>Stephanie</td><td>Barboza</td><td>stephanie@meu_email.com</td><td>9 1168-6722</td><td>Brasil</td><td>Maranhão</td><td>Avenida 25 do Estado Maranhão</td><td>795.0</td><td>null</td></tr><tr><td>58</td><td>2018-09-13T03:13:02.000Z</td><td>Rafael</td><td>Rodrigues</td><td>rafael@meu_email.com</td><td>9 6550-3557</td><td>Brasil</td><td>Bahia</td><td>Praça 94 do Estado Bahia</td><td>647.0</td><td>Apto 25</td></tr><tr><td>59</td><td>2017-12-03T16:24:32.000Z</td><td>Stephanie</td><td>Freire</td><td>stephanie@usuario.com</td><td>9 3256-1853</td><td>Brasil</td><td>São Paulo</td><td>Rua 52 do Estado São Paulo</td><td>34.0</td><td>Apto 24</td></tr><tr><td>60</td><td>2018-06-26T18:47:12.000Z</td><td>Carol</td><td>Bueno</td><td>carol@usuario.com</td><td>9 9814-4736</td><td>Brasil</td><td>Santa Catarina</td><td>Rua 10 do Estado Santa Catarina</td><td>47.0</td><td>Conjunto 12</td></tr><tr><td>61</td><td>2018-04-30T18:36:56.000Z</td><td>Francisco</td><td>Abreu</td><td>francisco@exemplo.com</td><td>9 6754-1775</td><td>Brasil</td><td>Amapá</td><td>Rua 72 do Estado Amapá</td><td>50.0</td><td>Apto 12</td></tr><tr><td>62</td><td>2018-01-21T13:56:16.000Z</td><td>Carol</td><td>Anjos</td><td>carol@usuario.com</td><td>9 2123-9306</td><td>Brasil</td><td>Pernambuco</td><td>Praça 12 do Estado Pernambuco</td><td>928.0</td><td>Conjunto 26</td></tr><tr><td>63</td><td>2018-05-05T17:52:26.000Z</td><td>Caíque</td><td>Batista</td><td>caíque@teste.com</td><td>9 8818-5886</td><td>Brasil</td><td>Ceará</td><td>Rua 76 do Estado Ceará</td><td>239.0</td><td>Apto 19</td></tr><tr><td>64</td><td>2018-10-30T15:47:32.000Z</td><td>Luan</td><td>Ramos</td><td>luan@exemplo.com</td><td>9 6843-3876</td><td>Brasil</td><td>Pernambuco</td><td>Rua 63 do Estado Pernambuco</td><td>345.0</td><td>Conjunto 10</td></tr><tr><td>65</td><td>2018-02-06T05:56:36.000Z</td><td>Willian</td><td>Freitas</td><td>null</td><td>9 3043-7382</td><td>Brasil</td><td>Rio de Janeiro</td><td>Rua 91 do Estado Rio de Janeiro</td><td>96.0</td><td>Apto 7</td></tr><tr><td>66</td><td>2018-10-18T04:31:59.000Z</td><td>Stephanie</td><td>Abreu</td><td>stephanie@meu_email.com</td><td>9 6466-2389</td><td>Brasil</td><td>Mato Grosso</td><td>Rua 19 do Estado Mato Grosso</td><td>53.0</td><td>Conjunto 13</td></tr><tr><td>67</td><td>2018-08-31T18:22:52.000Z</td><td>Laura</td><td>Pires</td><td>laura@meu_email.com</td><td>9 8144-6047</td><td>Brasil</td><td>Mato Grosso do Sul</td><td>Praça 23 do Estado Mato Grosso do Sul</td><td>47.0</td><td>Apto 7</td></tr><tr><td>68</td><td>2018-11-14T11:04:35.000Z</td><td>José</td><td>Pires</td><td>josé@usuario.com</td><td>9 8189-2149</td><td>Brasil</td><td>Ceará</td><td>Avenida 99 do Estado Ceará</td><td>231.0</td><td>null</td></tr><tr><td>69</td><td>2018-02-20T19:16:26.000Z</td><td>Gustavo</td><td>Cardoso</td><td>gustavo@teste.com</td><td>9 7594-9211</td><td>Brasil</td><td>Amazonas</td><td>Praça 52 do Estado Amazonas</td><td>698.0</td><td>null</td></tr><tr><td>70</td><td>2017-10-22T12:49:39.000Z</td><td>Diego</td><td>Barboza</td><td>null</td><td>9 4849-7409</td><td>Brasil</td><td>Mato Grosso do Sul</td><td>Avenida 3 do Estado Mato Grosso do Sul</td><td>250.0</td><td>null</td></tr><tr><td>71</td><td>2017-12-12T16:16:52.000Z</td><td>Gerson</td><td>Barroso</td><td>gerson@exemplo.com</td><td>9 5719-4227</td><td>Brasil</td><td>Pernambuco</td><td>null</td><td>null</td><td>Apto 2</td></tr><tr><td>72</td><td>2018-01-29T03:19:24.000Z</td><td>Neymar</td><td>Elísio</td><td>neymar@teste.com</td><td>9 5373-1785</td><td>Brasil</td><td>Rio Grande do Sul</td><td>Rua 49 do Estado Rio Grande do Sul</td><td>929.0</td><td>null</td></tr><tr><td>73</td><td>2018-02-03T07:37:38.000Z</td><td>Cristiano</td><td>Almeida</td><td>cristiano@usuario.com</td><td>9 2630-9907</td><td>Brasil</td><td>null</td><td>null</td><td>null</td><td>Conjunto 24</td></tr><tr><td>74</td><td>2018-04-22T05:00:28.000Z</td><td>Júlia</td><td>Almeida</td><td>júlia@meu_email.com</td><td>9 9208-5213</td><td>Brasil</td><td>Maranhão</td><td>Praça 25 do Estado Maranhão</td><td>953.0</td><td>Conjunto 4</td></tr><tr><td>75</td><td>2018-06-21T14:28:03.000Z</td><td>Marta</td><td>Abreu</td><td>null</td><td>9 9024-3467</td><td>Brasil</td><td>Roraima</td><td>Avenida 67 do Estado Roraima</td><td>410.0</td><td>Conjunto 23</td></tr><tr><td>76</td><td>2018-04-16T04:53:31.000Z</td><td>Romário</td><td>Rosa</td><td>romário@meu_email.com</td><td>9 8710-8305</td><td>Brasil</td><td>Rio Grande do Sul</td><td>Praça 75 do Estado Rio Grande do Sul</td><td>110.0</td><td>Conjunto 10</td></tr><tr><td>77</td><td>2018-11-30T10:29:55.000Z</td><td>Ana</td><td>Monteiro</td><td>ana@teste.com</td><td>9 3871-4132</td><td>Brasil</td><td>Bahia</td><td>Praça 86 do Estado Bahia</td><td>604.0</td><td>Apto 30</td></tr><tr><td>78</td><td>2017-11-02T22:13:22.000Z</td><td>Laura</td><td>Queiroz</td><td>laura@exemplo.com</td><td>9 6338-8617</td><td>Brasil</td><td>São Paulo</td><td>Praça 19 do Estado São Paulo</td><td>878.0</td><td>Conjunto 3</td></tr><tr><td>79</td><td>2017-12-13T08:41:05.000Z</td><td>Hélen</td><td>Souza</td><td>hélen@teste.com</td><td>9 9974-1066</td><td>Brasil</td><td>Paraná</td><td>Avenida 20 do Estado Paraná</td><td>661.0</td><td>Conjunto 13</td></tr><tr><td>80</td><td>2018-10-10T00:06:32.000Z</td><td>Daniela</td><td>Góes</td><td>daniela@usuario.com</td><td>9 5394-6677</td><td>Brasil</td><td>Alagoas</td><td>Praça 22 do Estado Alagoas</td><td>235.0</td><td>null</td></tr><tr><td>81</td><td>2018-01-13T10:35:01.000Z</td><td>Alice</td><td>Ferreira</td><td>alice@teste.com</td><td>9 9005-2493</td><td>Brasil</td><td>Minas Gerais</td><td>Praça 53 do Estado Minas Gerais</td><td>83.0</td><td>null</td></tr><tr><td>82</td><td>2018-11-04T18:02:42.000Z</td><td>Heitor</td><td>Rocha</td><td>heitor@teste.com</td><td>9 3236-7429</td><td>Brasil</td><td>Espírito Santo</td><td>Praça 82 do Estado Espírito Santo</td><td>14.0</td><td>null</td></tr><tr><td>83</td><td>2018-01-05T00:15:03.000Z</td><td>Frida</td><td>Freire</td><td>null</td><td>9 4760-1383</td><td>Brasil</td><td>Alagoas</td><td>Rua 25 do Estado Alagoas</td><td>679.0</td><td>Conjunto 9</td></tr><tr><td>84</td><td>2018-11-01T15:39:40.000Z</td><td>Carol</td><td>Bueno</td><td>carol@meu_email.com</td><td>9 3760-2211</td><td>Brasil</td><td>null</td><td>null</td><td>null</td><td>Conjunto 26</td></tr><tr><td>85</td><td>2017-11-24T12:44:36.000Z</td><td>Eduardo</td><td>Teixeira</td><td>null</td><td>9 2537-7930</td><td>Brasil</td><td>Rio Grande do Norte</td><td>null</td><td>null</td><td>null</td></tr><tr><td>86</td><td>2018-03-12T09:30:24.000Z</td><td>Adalberto</td><td>Oliveira</td><td>adalberto@teste.com</td><td>9 3081-3441</td><td>Brasil</td><td>Roraima</td><td>Rua 40 do Estado Roraima</td><td>401.0</td><td>Conjunto 17</td></tr><tr><td>87</td><td>2018-08-16T20:25:23.000Z</td><td>Beatriz</td><td>Abreu</td><td>beatriz@usuario.com</td><td>9 2254-6798</td><td>Brasil</td><td>Acre</td><td>Rua 95 do Estado Acre</td><td>482.0</td><td>Conjunto 16</td></tr><tr><td>88</td><td>2017-10-12T15:17:05.000Z</td><td>Rafael</td><td>Batista</td><td>rafael@usuario.com</td><td>9 8656-5668</td><td>Brasil</td><td>Ceará</td><td>Rua 78 do Estado Ceará</td><td>787.0</td><td>Apto 3</td></tr><tr><td>89</td><td>2017-12-07T19:24:54.000Z</td><td>Daniela</td><td>Pires</td><td>daniela@usuario.com</td><td>9 6666-2265</td><td>Brasil</td><td>Bahia</td><td>Rua 31 do Estado Bahia</td><td>441.0</td><td>null</td></tr><tr><td>90</td><td>2017-12-16T22:14:58.000Z</td><td>Stephanie</td><td>Rosa</td><td>null</td><td>9 3040-4414</td><td>Brasil</td><td>Rio Grande do Norte</td><td>null</td><td>null</td><td>null</td></tr><tr><td>91</td><td>2018-09-12T22:12:05.000Z</td><td>Daniel</td><td>Costa</td><td>daniel@teste.com</td><td>9 4761-6557</td><td>Brasil</td><td>Rio Grande do Norte</td><td>Praça 25 do Estado Rio Grande do Norte</td><td>281.0</td><td>Apto 8</td></tr><tr><td>92</td><td>2017-10-16T16:29:15.000Z</td><td>Beatriz</td><td>Bueno</td><td>beatriz@teste.com</td><td>9 4435-2960</td><td>Brasil</td><td>Acre</td><td>Rua 71 do Estado Acre</td><td>978.0</td><td>Apto 24</td></tr><tr><td>93</td><td>2018-11-02T08:43:47.000Z</td><td>Ronaldo</td><td>Galo</td><td>ronaldo@meu_email.com</td><td>9 8821-9577</td><td>Brasil</td><td>Pernambuco</td><td>Avenida 8 do Estado Pernambuco</td><td>758.0</td><td>Apto 2</td></tr><tr><td>94</td><td>2018-10-29T11:39:58.000Z</td><td>Cristiano</td><td>Pereira</td><td>cristiano@meu_email.com</td><td>9 4404-8717</td><td>Brasil</td><td>Piauí</td><td>Praça 100 do Estado Piauí</td><td>809.0</td><td>null</td></tr><tr><td>95</td><td>2018-10-01T11:35:59.000Z</td><td>Mariana</td><td>Rosa</td><td>mariana@usuario.com</td><td>9 3139-2145</td><td>Brasil</td><td>null</td><td>null</td><td>null</td><td>null</td></tr><tr><td>96</td><td>2018-01-23T19:14:21.000Z</td><td>Paulo</td><td>Câmara</td><td>paulo@usuario.com</td><td>9 4785-1135</td><td>Brasil</td><td>Sergipe</td><td>Praça 73 do Estado Sergipe</td><td>219.0</td><td>Apto 6</td></tr><tr><td>97</td><td>2018-07-04T18:45:41.000Z</td><td>Marta</td><td>Góes</td><td>marta@teste.com</td><td>9 4102-4352</td><td>Brasil</td><td>Paraná</td><td>Rua 61 do Estado Paraná</td><td>402.0</td><td>Apto 24</td></tr><tr><td>98</td><td>2018-01-24T16:21:06.000Z</td><td>Cibele</td><td>Costa</td><td>cibele@meu_email.com</td><td>9 4211-6968</td><td>Brasil</td><td>Mato Grosso</td><td>Praça 75 do Estado Mato Grosso</td><td>24.0</td><td>null</td></tr><tr><td>99</td><td>2018-07-24T08:26:27.000Z</td><td>Jéssica</td><td>Jesus</td><td>jéssica@usuario.com</td><td>9 6100-1466</td><td>Brasil</td><td>Paraná</td><td>Avenida 19 do Estado Paraná</td><td>738.0</td><td>Conjunto 22</td></tr></tbody></table></div>"
      ]
     },
     "metadata": {
      "application/vnd.databricks.v1+output": {
       "addedWidgets": {},
       "aggData": [],
       "aggError": "",
       "aggOverflow": false,
       "aggSchema": [],
       "aggSeriesLimitReached": false,
       "aggType": "",
       "arguments": {},
       "columnCustomDisplayInfos": {},
       "data": [
        [
         0,
         "2017-11-01T14:45:41.000Z",
         "Marta",
         "Jesus",
         null,
         "9 9102-7834",
         "Brasil",
         "Acre",
         null,
         null,
         "Conjunto 16"
        ],
        [
         1,
         "2017-10-16T00:50:39.000Z",
         "Luana",
         "Almeida",
         null,
         "9 7328-8718",
         "Brasil",
         "Rio Grande do Sul",
         "Avenida 56 do Estado Rio Grande do Sul",
         989.0,
         "Conjunto 17"
        ],
        [
         2,
         "2018-06-16T17:51:29.000Z",
         "Frida",
         "Mendes",
         "frida@meu_email.com",
         "9 5906-7552",
         "Brasil",
         "São Paulo",
         "Avenida 59 do Estado São Paulo",
         534.0,
         null
        ],
        [
         3,
         "2018-01-17T03:02:58.000Z",
         "Daniela",
         "Avelino",
         "daniela@exemplo.com",
         "9 4642-9486",
         "Brasil",
         "Mato Grosso",
         null,
         null,
         null
        ],
        [
         4,
         "2018-08-06T07:24:16.000Z",
         "Romário",
         "Teixeira",
         null,
         "9 3093-6522",
         "Brasil",
         "Bahia",
         "Praça 56 do Estado Bahia",
         191.0,
         "Apto 12"
        ],
        [
         5,
         "2018-01-05T17:20:49.000Z",
         "Marcelo",
         "Barroso",
         null,
         "9 2830-2088",
         "Brasil",
         "Rio Grande do Sul",
         "Rua 28 do Estado Rio Grande do Sul",
         805.0,
         "Conjunto 13"
        ],
        [
         6,
         "2018-06-18T11:17:42.000Z",
         "Cristiano",
         "Elísio",
         "cristiano@exemplo.com",
         "9 3532-8404",
         "Brasil",
         "Goiás",
         "Rua 78 do Estado Goiás",
         877.0,
         "Apto 14"
        ],
        [
         7,
         "2018-02-08T12:36:09.000Z",
         "Everton",
         "Barbosa",
         "everton@meu_email.com",
         "9 2553-4087",
         "Brasil",
         "Distrito Federal",
         "Avenida 86 do Estado Distrito Federal",
         864.0,
         "Apto 14"
        ],
        [
         8,
         "2017-12-16T20:47:03.000Z",
         "Gabriela",
         "Alves",
         "gabriela@exemplo.com",
         "9 1353-8433",
         "Brasil",
         "Santa Catarina",
         null,
         null,
         null
        ],
        [
         9,
         "2018-11-11T11:48:41.000Z",
         "Luan",
         "Dias",
         "luan@exemplo.com",
         "9 2417-3678",
         "Brasil",
         "Distrito Federal",
         "Avenida 54 do Estado Distrito Federal",
         889.0,
         "Conjunto 14"
        ],
        [
         10,
         "2017-12-16T15:41:00.000Z",
         "Mariana",
         "Alves",
         "mariana@meu_email.com",
         "9 1846-6377",
         "Brasil",
         "Santa Catarina",
         null,
         null,
         null
        ],
        [
         11,
         "2018-05-16T03:39:52.000Z",
         "James",
         "Albuquerque",
         null,
         "9 2430-5905",
         "Brasil",
         "Sergipe",
         "Rua 30 do Estado Sergipe",
         229.0,
         null
        ],
        [
         12,
         "2018-03-28T00:24:00.000Z",
         "Carol",
         "Barboza",
         "carol@exemplo.com",
         "9 8487-3501",
         "Brasil",
         "Mato Grosso",
         "Rua 31 do Estado Mato Grosso",
         1.0,
         "Conjunto 23"
        ],
        [
         13,
         "2018-08-27T21:15:17.000Z",
         "Carolina",
         "Monteiro",
         "carolina@teste.com",
         "9 1226-4267",
         "Brasil",
         "Rio Grande do Sul",
         "Rua 4 do Estado Rio Grande do Sul",
         444.0,
         "Apto 21"
        ],
        [
         14,
         "2017-11-12T03:02:41.000Z",
         "Francisco",
         "Nascimento",
         "francisco@exemplo.com",
         "9 7264-9020",
         "Brasil",
         "Distrito Federal",
         "Rua 75 do Estado Distrito Federal",
         47.0,
         null
        ],
        [
         15,
         "2018-11-15T18:00:53.000Z",
         "Stephanie",
         "Barbosa",
         "stephanie@usuario.com",
         "9 1446-3560",
         "Brasil",
         "Mato Grosso",
         null,
         null,
         "Conjunto 4"
        ],
        [
         16,
         "2017-12-12T21:29:54.000Z",
         "Laura",
         "Santos",
         "laura@exemplo.com",
         "9 7802-6152",
         "Brasil",
         "Maranhão",
         "Rua 57 do Estado Maranhão",
         213.0,
         null
        ],
        [
         17,
         "2017-10-19T20:18:14.000Z",
         "João",
         "Magalhães",
         "joão@exemplo.com",
         "9 5995-1272",
         "Brasil",
         "Pernambuco",
         "Rua 20 do Estado Pernambuco",
         781.0,
         "Apto 17"
        ],
        [
         18,
         "2018-06-28T04:53:52.000Z",
         "Jair",
         "Magalhães",
         "jair@exemplo.com",
         "9 8368-1315",
         "Brasil",
         "Alagoas",
         "Avenida 74 do Estado Alagoas",
         118.0,
         "Conjunto 8"
        ],
        [
         19,
         "2018-10-20T19:31:52.000Z",
         "Caíque",
         "Monteiro",
         "caíque@exemplo.com",
         "9 9793-9986",
         "Brasil",
         "Piauí",
         null,
         null,
         "Conjunto 13"
        ],
        [
         20,
         "2017-12-22T10:51:28.000Z",
         "Adalberto",
         "Silva",
         "adalberto@usuario.com",
         "9 1338-1447",
         "Brasil",
         "São Paulo",
         "Rua 57 do Estado São Paulo",
         851.0,
         "Conjunto 20"
        ],
        [
         21,
         "2018-02-21T15:35:55.000Z",
         "Diego",
         "Freire",
         "diego@teste.com",
         "9 6686-4094",
         "Brasil",
         "Bahia",
         "Praça 4 do Estado Bahia",
         906.0,
         "Apto 20"
        ],
        [
         22,
         "2018-04-18T22:43:29.000Z",
         "Heitor",
         "Pereira",
         null,
         "9 4839-8118",
         "Brasil",
         "Maranhão",
         "Avenida 84 do Estado Maranhão",
         948.0,
         null
        ],
        [
         23,
         "2017-10-26T00:35:22.000Z",
         "Maria",
         "Pires",
         null,
         "9 8229-1067",
         "Brasil",
         "Amazonas",
         "Avenida 80 do Estado Amazonas",
         581.0,
         null
        ],
        [
         24,
         "2018-07-25T09:34:12.000Z",
         "Jair",
         "Barroso",
         "jair@teste.com",
         "9 6679-6120",
         "Brasil",
         "Ceará",
         "Rua 86 do Estado Ceará",
         770.0,
         "Apto 21"
        ],
        [
         25,
         "2018-08-07T12:22:40.000Z",
         "Alice",
         "Veloso",
         "alice@exemplo.com",
         "9 9869-3706",
         "Brasil",
         "Minas Gerais",
         "Praça 73 do Estado Minas Gerais",
         571.0,
         null
        ],
        [
         26,
         "2018-12-12T11:56:14.000Z",
         "Eloá",
         "da Silva",
         "eloá@usuario.com",
         "9 3982-5948",
         "Brasil",
         "Espírito Santo",
         "Avenida 98 do Estado Espírito Santo",
         706.0,
         null
        ],
        [
         27,
         "2018-11-08T11:12:47.000Z",
         "Luan",
         "Lima",
         "luan@teste.com",
         "9 2529-8197",
         "Brasil",
         "Acre",
         "Praça 86 do Estado Acre",
         303.0,
         "Apto 27"
        ],
        [
         28,
         "2017-11-26T05:17:39.000Z",
         "Beatriz",
         "Araújo",
         "beatriz@usuario.com",
         "9 4543-3853",
         "Brasil",
         "Minas Gerais",
         "Praça 7 do Estado Minas Gerais",
         536.0,
         "Conjunto 5"
        ],
        [
         29,
         "2018-06-03T17:08:52.000Z",
         "Geisa",
         "Santos",
         "geisa@meu_email.com",
         "9 4653-9739",
         "Brasil",
         "Rio Grande do Norte",
         "Avenida 77 do Estado Rio Grande do Norte",
         486.0,
         "Conjunto 13"
        ],
        [
         30,
         "2018-06-08T07:49:50.000Z",
         "Gabriel",
         "Teixeira",
         "gabriel@exemplo.com",
         "9 7419-5325",
         "Brasil",
         "Rio Grande do Sul",
         "Avenida 7 do Estado Rio Grande do Sul",
         94.0,
         null
        ],
        [
         31,
         "2018-07-02T22:04:08.000Z",
         "Geisa",
         "Freitas",
         "geisa@exemplo.com",
         "9 6772-5310",
         "Brasil",
         "Mato Grosso do Sul",
         "Rua 18 do Estado Mato Grosso do Sul",
         128.0,
         null
        ],
        [
         32,
         "2018-07-22T11:59:27.000Z",
         "Ana",
         "Campos",
         "ana@teste.com",
         "9 1932-9841",
         "Brasil",
         "Bahia",
         "Avenida 52 do Estado Bahia",
         402.0,
         null
        ],
        [
         33,
         "2017-12-28T12:51:34.000Z",
         "João",
         "da Silva",
         "joão@usuario.com",
         "9 2813-8103",
         "Brasil",
         "Paraná",
         "Avenida 27 do Estado Paraná",
         240.0,
         "Apto 6"
        ],
        [
         34,
         "2018-10-05T01:14:05.000Z",
         "José",
         "Campos",
         "josé@teste.com",
         "9 7552-4340",
         "Brasil",
         "Goiás",
         "Praça 25 do Estado Goiás",
         884.0,
         "Apto 7"
        ],
        [
         35,
         "2018-04-19T10:10:22.000Z",
         "Adalberto",
         "Dias",
         "adalberto@usuario.com",
         "9 8395-7004",
         "Brasil",
         "Espírito Santo",
         "Rua 37 do Estado Espírito Santo",
         383.0,
         "Apto 13"
        ],
        [
         36,
         "2018-01-26T03:29:13.000Z",
         "Mariana",
         "Góes",
         "mariana@meu_email.com",
         "9 7324-4293",
         "Brasil",
         null,
         null,
         null,
         "Apto 25"
        ],
        [
         37,
         "2018-03-02T22:27:03.000Z",
         "Daniela",
         "Monteiro",
         "daniela@meu_email.com",
         "9 4704-5844",
         "Brasil",
         "Goiás",
         "Rua 43 do Estado Goiás",
         116.0,
         "Apto 28"
        ],
        [
         38,
         "2018-09-01T09:33:57.000Z",
         "Marcelo",
         "Mendes",
         null,
         "9 6773-1560",
         "Brasil",
         "Espírito Santo",
         "Avenida 64 do Estado Espírito Santo",
         213.0,
         null
        ],
        [
         39,
         "2017-11-15T07:17:25.000Z",
         "Caio",
         "Batista",
         "caio@usuario.com",
         "9 4761-6542",
         "Brasil",
         "Maranhão",
         "Avenida 87 do Estado Maranhão",
         656.0,
         "Apto 25"
        ],
        [
         40,
         "2018-08-17T13:21:08.000Z",
         "Gabriela",
         "Nascimento",
         "gabriela@teste.com",
         "9 5382-5772",
         "Brasil",
         "Amapá",
         "Avenida 85 do Estado Amapá",
         476.0,
         null
        ],
        [
         41,
         "2018-11-30T17:44:09.000Z",
         "Maria",
         "Morais",
         "maria@usuario.com",
         "9 1519-4181",
         "Brasil",
         "Pernambuco",
         "Avenida 69 do Estado Pernambuco",
         633.0,
         null
        ],
        [
         42,
         "2018-04-09T19:12:23.000Z",
         "João",
         "Almeida",
         "joão@usuario.com",
         "9 4650-1753",
         "Brasil",
         "Goiás",
         "Praça 3 do Estado Goiás",
         986.0,
         "Apto 9"
        ],
        [
         43,
         "2018-01-07T07:54:22.000Z",
         "Daniela",
         "Lima",
         null,
         "9 1763-2584",
         "Brasil",
         "Rio de Janeiro",
         null,
         null,
         "Apto 20"
        ],
        [
         44,
         "2018-04-08T07:18:45.000Z",
         "Júlia",
         "Costa",
         "júlia@usuario.com",
         "9 5446-9508",
         "Brasil",
         "Rio Grande do Norte",
         "Avenida 46 do Estado Rio Grande do Norte",
         277.0,
         "Conjunto 14"
        ],
        [
         45,
         "2018-05-10T23:09:25.000Z",
         "Gerson",
         "Anjos",
         "gerson@meu_email.com",
         "9 1590-8972",
         "Brasil",
         "Mato Grosso do Sul",
         "Avenida 35 do Estado Mato Grosso do Sul",
         229.0,
         "Apto 29"
        ],
        [
         46,
         "2018-07-19T08:33:32.000Z",
         "Rafael",
         "Freire",
         "rafael@exemplo.com",
         "9 8703-1006",
         "Brasil",
         "Maranhão",
         "Praça 97 do Estado Maranhão",
         138.0,
         null
        ],
        [
         47,
         "2018-09-01T23:00:40.000Z",
         "Júlia",
         "Castro",
         "júlia@exemplo.com",
         "9 7096-1780",
         "Brasil",
         "Rio de Janeiro",
         "Rua 39 do Estado Rio de Janeiro",
         983.0,
         "Conjunto 7"
        ],
        [
         48,
         "2018-05-29T04:22:54.000Z",
         "Clarissa",
         "Albuquerque",
         "clarissa@exemplo.com",
         "9 7403-4273",
         "Brasil",
         "Ceará",
         null,
         null,
         "Apto 12"
        ],
        [
         49,
         "2018-11-01T02:13:51.000Z",
         "Júlia",
         "Sousa",
         "júlia@exemplo.com",
         "9 2094-8467",
         "Brasil",
         "Rondônia",
         "Rua 12 do Estado Rondônia",
         260.0,
         "Apto 27"
        ],
        [
         50,
         "2018-08-24T07:52:23.000Z",
         "Beatriz",
         "Monteiro",
         "beatriz@teste.com",
         "9 3570-4464",
         "Brasil",
         "Minas Gerais",
         "Avenida 17 do Estado Minas Gerais",
         223.0,
         "Conjunto 22"
        ],
        [
         51,
         "2017-12-26T15:38:15.000Z",
         "Caio",
         "Mendes",
         "caio@teste.com",
         "9 6437-5008",
         "Brasil",
         "Pernambuco",
         "Rua 34 do Estado Pernambuco",
         931.0,
         null
        ],
        [
         52,
         "2017-12-04T17:42:34.000Z",
         "Bruno",
         "Anjos",
         "bruno@teste.com",
         "9 3004-3740",
         "Brasil",
         "Goiás",
         "Rua 53 do Estado Goiás",
         825.0,
         null
        ],
        [
         53,
         "2018-03-25T14:26:49.000Z",
         "Daniela",
         "Mendes",
         "daniela@teste.com",
         "9 3797-3399",
         "Brasil",
         "Pernambuco",
         "Rua 71 do Estado Pernambuco",
         760.0,
         "Apto 14"
        ],
        [
         54,
         "2018-01-25T02:11:25.000Z",
         "Diego",
         "Teixeira",
         "diego@exemplo.com",
         "9 5247-1737",
         "Brasil",
         "Pará",
         "Rua 8 do Estado Pará",
         722.0,
         "Conjunto 16"
        ],
        [
         55,
         "2018-07-10T18:40:07.000Z",
         "Gabriela",
         "Pires",
         "gabriela@meu_email.com",
         "9 1214-1539",
         "Brasil",
         "Rio de Janeiro",
         "Rua 32 do Estado Rio de Janeiro",
         838.0,
         "Apto 29"
        ],
        [
         56,
         "2017-12-01T22:40:40.000Z",
         "Cristiano",
         "Fagundes",
         "cristiano@usuario.com",
         "9 7680-6400",
         "Brasil",
         "Piauí",
         "Avenida 20 do Estado Piauí",
         236.0,
         "Apto 30"
        ],
        [
         57,
         "2018-08-23T03:31:05.000Z",
         "Stephanie",
         "Barboza",
         "stephanie@meu_email.com",
         "9 1168-6722",
         "Brasil",
         "Maranhão",
         "Avenida 25 do Estado Maranhão",
         795.0,
         null
        ],
        [
         58,
         "2018-09-13T03:13:02.000Z",
         "Rafael",
         "Rodrigues",
         "rafael@meu_email.com",
         "9 6550-3557",
         "Brasil",
         "Bahia",
         "Praça 94 do Estado Bahia",
         647.0,
         "Apto 25"
        ],
        [
         59,
         "2017-12-03T16:24:32.000Z",
         "Stephanie",
         "Freire",
         "stephanie@usuario.com",
         "9 3256-1853",
         "Brasil",
         "São Paulo",
         "Rua 52 do Estado São Paulo",
         34.0,
         "Apto 24"
        ],
        [
         60,
         "2018-06-26T18:47:12.000Z",
         "Carol",
         "Bueno",
         "carol@usuario.com",
         "9 9814-4736",
         "Brasil",
         "Santa Catarina",
         "Rua 10 do Estado Santa Catarina",
         47.0,
         "Conjunto 12"
        ],
        [
         61,
         "2018-04-30T18:36:56.000Z",
         "Francisco",
         "Abreu",
         "francisco@exemplo.com",
         "9 6754-1775",
         "Brasil",
         "Amapá",
         "Rua 72 do Estado Amapá",
         50.0,
         "Apto 12"
        ],
        [
         62,
         "2018-01-21T13:56:16.000Z",
         "Carol",
         "Anjos",
         "carol@usuario.com",
         "9 2123-9306",
         "Brasil",
         "Pernambuco",
         "Praça 12 do Estado Pernambuco",
         928.0,
         "Conjunto 26"
        ],
        [
         63,
         "2018-05-05T17:52:26.000Z",
         "Caíque",
         "Batista",
         "caíque@teste.com",
         "9 8818-5886",
         "Brasil",
         "Ceará",
         "Rua 76 do Estado Ceará",
         239.0,
         "Apto 19"
        ],
        [
         64,
         "2018-10-30T15:47:32.000Z",
         "Luan",
         "Ramos",
         "luan@exemplo.com",
         "9 6843-3876",
         "Brasil",
         "Pernambuco",
         "Rua 63 do Estado Pernambuco",
         345.0,
         "Conjunto 10"
        ],
        [
         65,
         "2018-02-06T05:56:36.000Z",
         "Willian",
         "Freitas",
         null,
         "9 3043-7382",
         "Brasil",
         "Rio de Janeiro",
         "Rua 91 do Estado Rio de Janeiro",
         96.0,
         "Apto 7"
        ],
        [
         66,
         "2018-10-18T04:31:59.000Z",
         "Stephanie",
         "Abreu",
         "stephanie@meu_email.com",
         "9 6466-2389",
         "Brasil",
         "Mato Grosso",
         "Rua 19 do Estado Mato Grosso",
         53.0,
         "Conjunto 13"
        ],
        [
         67,
         "2018-08-31T18:22:52.000Z",
         "Laura",
         "Pires",
         "laura@meu_email.com",
         "9 8144-6047",
         "Brasil",
         "Mato Grosso do Sul",
         "Praça 23 do Estado Mato Grosso do Sul",
         47.0,
         "Apto 7"
        ],
        [
         68,
         "2018-11-14T11:04:35.000Z",
         "José",
         "Pires",
         "josé@usuario.com",
         "9 8189-2149",
         "Brasil",
         "Ceará",
         "Avenida 99 do Estado Ceará",
         231.0,
         null
        ],
        [
         69,
         "2018-02-20T19:16:26.000Z",
         "Gustavo",
         "Cardoso",
         "gustavo@teste.com",
         "9 7594-9211",
         "Brasil",
         "Amazonas",
         "Praça 52 do Estado Amazonas",
         698.0,
         null
        ],
        [
         70,
         "2017-10-22T12:49:39.000Z",
         "Diego",
         "Barboza",
         null,
         "9 4849-7409",
         "Brasil",
         "Mato Grosso do Sul",
         "Avenida 3 do Estado Mato Grosso do Sul",
         250.0,
         null
        ],
        [
         71,
         "2017-12-12T16:16:52.000Z",
         "Gerson",
         "Barroso",
         "gerson@exemplo.com",
         "9 5719-4227",
         "Brasil",
         "Pernambuco",
         null,
         null,
         "Apto 2"
        ],
        [
         72,
         "2018-01-29T03:19:24.000Z",
         "Neymar",
         "Elísio",
         "neymar@teste.com",
         "9 5373-1785",
         "Brasil",
         "Rio Grande do Sul",
         "Rua 49 do Estado Rio Grande do Sul",
         929.0,
         null
        ],
        [
         73,
         "2018-02-03T07:37:38.000Z",
         "Cristiano",
         "Almeida",
         "cristiano@usuario.com",
         "9 2630-9907",
         "Brasil",
         null,
         null,
         null,
         "Conjunto 24"
        ],
        [
         74,
         "2018-04-22T05:00:28.000Z",
         "Júlia",
         "Almeida",
         "júlia@meu_email.com",
         "9 9208-5213",
         "Brasil",
         "Maranhão",
         "Praça 25 do Estado Maranhão",
         953.0,
         "Conjunto 4"
        ],
        [
         75,
         "2018-06-21T14:28:03.000Z",
         "Marta",
         "Abreu",
         null,
         "9 9024-3467",
         "Brasil",
         "Roraima",
         "Avenida 67 do Estado Roraima",
         410.0,
         "Conjunto 23"
        ],
        [
         76,
         "2018-04-16T04:53:31.000Z",
         "Romário",
         "Rosa",
         "romário@meu_email.com",
         "9 8710-8305",
         "Brasil",
         "Rio Grande do Sul",
         "Praça 75 do Estado Rio Grande do Sul",
         110.0,
         "Conjunto 10"
        ],
        [
         77,
         "2018-11-30T10:29:55.000Z",
         "Ana",
         "Monteiro",
         "ana@teste.com",
         "9 3871-4132",
         "Brasil",
         "Bahia",
         "Praça 86 do Estado Bahia",
         604.0,
         "Apto 30"
        ],
        [
         78,
         "2017-11-02T22:13:22.000Z",
         "Laura",
         "Queiroz",
         "laura@exemplo.com",
         "9 6338-8617",
         "Brasil",
         "São Paulo",
         "Praça 19 do Estado São Paulo",
         878.0,
         "Conjunto 3"
        ],
        [
         79,
         "2017-12-13T08:41:05.000Z",
         "Hélen",
         "Souza",
         "hélen@teste.com",
         "9 9974-1066",
         "Brasil",
         "Paraná",
         "Avenida 20 do Estado Paraná",
         661.0,
         "Conjunto 13"
        ],
        [
         80,
         "2018-10-10T00:06:32.000Z",
         "Daniela",
         "Góes",
         "daniela@usuario.com",
         "9 5394-6677",
         "Brasil",
         "Alagoas",
         "Praça 22 do Estado Alagoas",
         235.0,
         null
        ],
        [
         81,
         "2018-01-13T10:35:01.000Z",
         "Alice",
         "Ferreira",
         "alice@teste.com",
         "9 9005-2493",
         "Brasil",
         "Minas Gerais",
         "Praça 53 do Estado Minas Gerais",
         83.0,
         null
        ],
        [
         82,
         "2018-11-04T18:02:42.000Z",
         "Heitor",
         "Rocha",
         "heitor@teste.com",
         "9 3236-7429",
         "Brasil",
         "Espírito Santo",
         "Praça 82 do Estado Espírito Santo",
         14.0,
         null
        ],
        [
         83,
         "2018-01-05T00:15:03.000Z",
         "Frida",
         "Freire",
         null,
         "9 4760-1383",
         "Brasil",
         "Alagoas",
         "Rua 25 do Estado Alagoas",
         679.0,
         "Conjunto 9"
        ],
        [
         84,
         "2018-11-01T15:39:40.000Z",
         "Carol",
         "Bueno",
         "carol@meu_email.com",
         "9 3760-2211",
         "Brasil",
         null,
         null,
         null,
         "Conjunto 26"
        ],
        [
         85,
         "2017-11-24T12:44:36.000Z",
         "Eduardo",
         "Teixeira",
         null,
         "9 2537-7930",
         "Brasil",
         "Rio Grande do Norte",
         null,
         null,
         null
        ],
        [
         86,
         "2018-03-12T09:30:24.000Z",
         "Adalberto",
         "Oliveira",
         "adalberto@teste.com",
         "9 3081-3441",
         "Brasil",
         "Roraima",
         "Rua 40 do Estado Roraima",
         401.0,
         "Conjunto 17"
        ],
        [
         87,
         "2018-08-16T20:25:23.000Z",
         "Beatriz",
         "Abreu",
         "beatriz@usuario.com",
         "9 2254-6798",
         "Brasil",
         "Acre",
         "Rua 95 do Estado Acre",
         482.0,
         "Conjunto 16"
        ],
        [
         88,
         "2017-10-12T15:17:05.000Z",
         "Rafael",
         "Batista",
         "rafael@usuario.com",
         "9 8656-5668",
         "Brasil",
         "Ceará",
         "Rua 78 do Estado Ceará",
         787.0,
         "Apto 3"
        ],
        [
         89,
         "2017-12-07T19:24:54.000Z",
         "Daniela",
         "Pires",
         "daniela@usuario.com",
         "9 6666-2265",
         "Brasil",
         "Bahia",
         "Rua 31 do Estado Bahia",
         441.0,
         null
        ],
        [
         90,
         "2017-12-16T22:14:58.000Z",
         "Stephanie",
         "Rosa",
         null,
         "9 3040-4414",
         "Brasil",
         "Rio Grande do Norte",
         null,
         null,
         null
        ],
        [
         91,
         "2018-09-12T22:12:05.000Z",
         "Daniel",
         "Costa",
         "daniel@teste.com",
         "9 4761-6557",
         "Brasil",
         "Rio Grande do Norte",
         "Praça 25 do Estado Rio Grande do Norte",
         281.0,
         "Apto 8"
        ],
        [
         92,
         "2017-10-16T16:29:15.000Z",
         "Beatriz",
         "Bueno",
         "beatriz@teste.com",
         "9 4435-2960",
         "Brasil",
         "Acre",
         "Rua 71 do Estado Acre",
         978.0,
         "Apto 24"
        ],
        [
         93,
         "2018-11-02T08:43:47.000Z",
         "Ronaldo",
         "Galo",
         "ronaldo@meu_email.com",
         "9 8821-9577",
         "Brasil",
         "Pernambuco",
         "Avenida 8 do Estado Pernambuco",
         758.0,
         "Apto 2"
        ],
        [
         94,
         "2018-10-29T11:39:58.000Z",
         "Cristiano",
         "Pereira",
         "cristiano@meu_email.com",
         "9 4404-8717",
         "Brasil",
         "Piauí",
         "Praça 100 do Estado Piauí",
         809.0,
         null
        ],
        [
         95,
         "2018-10-01T11:35:59.000Z",
         "Mariana",
         "Rosa",
         "mariana@usuario.com",
         "9 3139-2145",
         "Brasil",
         null,
         null,
         null,
         null
        ],
        [
         96,
         "2018-01-23T19:14:21.000Z",
         "Paulo",
         "Câmara",
         "paulo@usuario.com",
         "9 4785-1135",
         "Brasil",
         "Sergipe",
         "Praça 73 do Estado Sergipe",
         219.0,
         "Apto 6"
        ],
        [
         97,
         "2018-07-04T18:45:41.000Z",
         "Marta",
         "Góes",
         "marta@teste.com",
         "9 4102-4352",
         "Brasil",
         "Paraná",
         "Rua 61 do Estado Paraná",
         402.0,
         "Apto 24"
        ],
        [
         98,
         "2018-01-24T16:21:06.000Z",
         "Cibele",
         "Costa",
         "cibele@meu_email.com",
         "9 4211-6968",
         "Brasil",
         "Mato Grosso",
         "Praça 75 do Estado Mato Grosso",
         24.0,
         null
        ],
        [
         99,
         "2018-07-24T08:26:27.000Z",
         "Jéssica",
         "Jesus",
         "jéssica@usuario.com",
         "9 6100-1466",
         "Brasil",
         "Paraná",
         "Avenida 19 do Estado Paraná",
         738.0,
         "Conjunto 22"
        ]
       ],
       "datasetInfos": [],
       "dbfsResultPath": null,
       "isJsonSchema": true,
       "metadata": {},
       "overflow": false,
       "plotOptions": {
        "customPlotOptions": {},
        "displayType": "table",
        "pivotAggregation": null,
        "pivotColumns": null,
        "xColumns": null,
        "yColumns": null
       },
       "removedWidgets": [],
       "schema": [
        {
         "metadata": "{}",
         "name": "id",
         "type": "\"integer\""
        },
        {
         "metadata": "{}",
         "name": "created_at",
         "type": "\"timestamp\""
        },
        {
         "metadata": "{}",
         "name": "first_name",
         "type": "\"string\""
        },
        {
         "metadata": "{}",
         "name": "last_name",
         "type": "\"string\""
        },
        {
         "metadata": "{}",
         "name": "email",
         "type": "\"string\""
        },
        {
         "metadata": "{}",
         "name": "cell_phone",
         "type": "\"string\""
        },
        {
         "metadata": "{}",
         "name": "country",
         "type": "\"string\""
        },
        {
         "metadata": "{}",
         "name": "state",
         "type": "\"string\""
        },
        {
         "metadata": "{}",
         "name": "street",
         "type": "\"string\""
        },
        {
         "metadata": "{}",
         "name": "number",
         "type": "\"double\""
        },
        {
         "metadata": "{}",
         "name": "additionals",
         "type": "\"string\""
        }
       ],
       "type": "table"
      }
     },
     "output_type": "display_data"
    }
   ],
   "source": [
    "novodf= spark.sql ('select * from clientes')\n",
    "display(novodf)"
   ]
  },
  {
   "cell_type": "code",
   "execution_count": 0,
   "metadata": {
    "application/vnd.databricks.v1+cell": {
     "cellMetadata": {
      "byteLimit": 2048000,
      "rowLimit": 10000
     },
     "inputWidgets": {},
     "nuid": "20f259b3-eea6-4015-8c7c-76e03d824212",
     "showTitle": false,
     "tableResultSettingsMap": {},
     "title": ""
    }
   },
   "outputs": [],
   "source": [
    "#Gravar Particionado tem como?\n",
    "novodf.write\\\n",
    "    .partitionBy(\"state\")\\\n",
    "    .mode(\"overwrite\")\\\n",
    "    .parquet('/Volumes/workspace/default/arquivos-aula/DiferentesSaidas/Contato_Particionado.parquet')"
   ]
  },
  {
   "cell_type": "code",
   "execution_count": 0,
   "metadata": {
    "application/vnd.databricks.v1+cell": {
     "cellMetadata": {
      "byteLimit": 2048000,
      "rowLimit": 10000
     },
     "inputWidgets": {},
     "nuid": "c0cd554a-335b-4820-916f-d93a95453e3b",
     "showTitle": false,
     "tableResultSettingsMap": {},
     "title": ""
    }
   },
   "outputs": [
    {
     "output_type": "display_data",
     "data": {
      "text/html": [
       "<style scoped>\n",
       "  .table-result-container {\n",
       "    max-height: 300px;\n",
       "    overflow: auto;\n",
       "  }\n",
       "  table, th, td {\n",
       "    border: 1px solid black;\n",
       "    border-collapse: collapse;\n",
       "  }\n",
       "  th, td {\n",
       "    padding: 5px;\n",
       "  }\n",
       "  th {\n",
       "    text-align: left;\n",
       "  }\n",
       "</style><div class='table-result-container'><table class='table-result'><thead style='background-color: white'><tr><th>path</th><th>name</th><th>size</th><th>modificationTime</th></tr></thead><tbody><tr><td>dbfs:/Volumes/workspace/default/arquivos-aula/DiferentesSaidas/Contato_Particionado.parquet/state=Bahia/_SUCCESS</td><td>_SUCCESS</td><td>0</td><td>1755201608000</td></tr><tr><td>dbfs:/Volumes/workspace/default/arquivos-aula/DiferentesSaidas/Contato_Particionado.parquet/state=Bahia/_committed_7128957490106860562</td><td>_committed_7128957490106860562</td><td>125</td><td>1755201607000</td></tr><tr><td>dbfs:/Volumes/workspace/default/arquivos-aula/DiferentesSaidas/Contato_Particionado.parquet/state=Bahia/_started_7128957490106860562</td><td>_started_7128957490106860562</td><td>0</td><td>1755201606000</td></tr><tr><td>dbfs:/Volumes/workspace/default/arquivos-aula/DiferentesSaidas/Contato_Particionado.parquet/state=Bahia/part-00000-tid-7128957490106860562-5ff9bb4c-cbc2-4836-9bb7-7ebcc1e3fcba-272-22.c000.snappy.parquet</td><td>part-00000-tid-7128957490106860562-5ff9bb4c-cbc2-4836-9bb7-7ebcc1e3fcba-272-22.c000.snappy.parquet</td><td>3164</td><td>1755201606000</td></tr></tbody></table></div>"
      ]
     },
     "metadata": {
      "application/vnd.databricks.v1+output": {
       "addedWidgets": {},
       "aggData": [],
       "aggError": "",
       "aggOverflow": false,
       "aggSchema": [],
       "aggSeriesLimitReached": false,
       "aggType": "",
       "arguments": {},
       "columnCustomDisplayInfos": {},
       "data": [
        [
         "dbfs:/Volumes/workspace/default/arquivos-aula/DiferentesSaidas/Contato_Particionado.parquet/state=Bahia/_SUCCESS",
         "_SUCCESS",
         0,
         1755201608000
        ],
        [
         "dbfs:/Volumes/workspace/default/arquivos-aula/DiferentesSaidas/Contato_Particionado.parquet/state=Bahia/_committed_7128957490106860562",
         "_committed_7128957490106860562",
         125,
         1755201607000
        ],
        [
         "dbfs:/Volumes/workspace/default/arquivos-aula/DiferentesSaidas/Contato_Particionado.parquet/state=Bahia/_started_7128957490106860562",
         "_started_7128957490106860562",
         0,
         1755201606000
        ],
        [
         "dbfs:/Volumes/workspace/default/arquivos-aula/DiferentesSaidas/Contato_Particionado.parquet/state=Bahia/part-00000-tid-7128957490106860562-5ff9bb4c-cbc2-4836-9bb7-7ebcc1e3fcba-272-22.c000.snappy.parquet",
         "part-00000-tid-7128957490106860562-5ff9bb4c-cbc2-4836-9bb7-7ebcc1e3fcba-272-22.c000.snappy.parquet",
         3164,
         1755201606000
        ]
       ],
       "datasetInfos": [],
       "dbfsResultPath": null,
       "isJsonSchema": true,
       "metadata": {},
       "overflow": false,
       "plotOptions": {
        "customPlotOptions": {},
        "displayType": "table",
        "pivotAggregation": null,
        "pivotColumns": null,
        "xColumns": null,
        "yColumns": null
       },
       "removedWidgets": [],
       "schema": [
        {
         "metadata": "{}",
         "name": "path",
         "type": "\"string\""
        },
        {
         "metadata": "{}",
         "name": "name",
         "type": "\"string\""
        },
        {
         "metadata": "{}",
         "name": "size",
         "type": "\"long\""
        },
        {
         "metadata": "{}",
         "name": "modificationTime",
         "type": "\"long\""
        }
       ],
       "type": "table"
      }
     },
     "output_type": "display_data"
    }
   ],
   "source": [
    "display(dbutils.fs.ls('dbfs:/Volumes/workspace/default/arquivos-aula/DiferentesSaidas/Contato_Particionado.parquet/state=Bahia/'))\n"
   ]
  },
  {
   "cell_type": "code",
   "execution_count": 0,
   "metadata": {
    "application/vnd.databricks.v1+cell": {
     "cellMetadata": {
      "byteLimit": 2048000,
      "rowLimit": 10000
     },
     "inputWidgets": {},
     "nuid": "1d0dbed6-c31f-4030-b38e-e1f507a35541",
     "showTitle": false,
     "tableResultSettingsMap": {},
     "title": ""
    }
   },
   "outputs": [
    {
     "output_type": "display_data",
     "data": {
      "text/html": [
       "<style scoped>\n",
       "  .table-result-container {\n",
       "    max-height: 300px;\n",
       "    overflow: auto;\n",
       "  }\n",
       "  table, th, td {\n",
       "    border: 1px solid black;\n",
       "    border-collapse: collapse;\n",
       "  }\n",
       "  th, td {\n",
       "    padding: 5px;\n",
       "  }\n",
       "  th {\n",
       "    text-align: left;\n",
       "  }\n",
       "</style><div class='table-result-container'><table class='table-result'><thead style='background-color: white'><tr><th>id</th><th>created_at</th><th>first_name</th><th>last_name</th><th>email</th><th>cell_phone</th><th>country</th><th>street</th><th>number</th><th>additionals</th></tr></thead><tbody><tr><td>89</td><td>2017-12-07T19:24:54.000Z</td><td>Daniela</td><td>Pires</td><td>daniela@usuario.com</td><td>9 6666-2265</td><td>Brasil</td><td>Rua 31 do Estado Bahia</td><td>441.0</td><td>null</td></tr><tr><td>77</td><td>2018-11-30T10:29:55.000Z</td><td>Ana</td><td>Monteiro</td><td>ana@teste.com</td><td>9 3871-4132</td><td>Brasil</td><td>Praça 86 do Estado Bahia</td><td>604.0</td><td>Apto 30</td></tr><tr><td>58</td><td>2018-09-13T03:13:02.000Z</td><td>Rafael</td><td>Rodrigues</td><td>rafael@meu_email.com</td><td>9 6550-3557</td><td>Brasil</td><td>Praça 94 do Estado Bahia</td><td>647.0</td><td>Apto 25</td></tr><tr><td>32</td><td>2018-07-22T11:59:27.000Z</td><td>Ana</td><td>Campos</td><td>ana@teste.com</td><td>9 1932-9841</td><td>Brasil</td><td>Avenida 52 do Estado Bahia</td><td>402.0</td><td>null</td></tr><tr><td>21</td><td>2018-02-21T15:35:55.000Z</td><td>Diego</td><td>Freire</td><td>diego@teste.com</td><td>9 6686-4094</td><td>Brasil</td><td>Praça 4 do Estado Bahia</td><td>906.0</td><td>Apto 20</td></tr><tr><td>4</td><td>2018-08-06T07:24:16.000Z</td><td>Romário</td><td>Teixeira</td><td>null</td><td>9 3093-6522</td><td>Brasil</td><td>Praça 56 do Estado Bahia</td><td>191.0</td><td>Apto 12</td></tr></tbody></table></div>"
      ]
     },
     "metadata": {
      "application/vnd.databricks.v1+output": {
       "addedWidgets": {},
       "aggData": [],
       "aggError": "",
       "aggOverflow": false,
       "aggSchema": [],
       "aggSeriesLimitReached": false,
       "aggType": "",
       "arguments": {},
       "columnCustomDisplayInfos": {},
       "data": [
        [
         89,
         "2017-12-07T19:24:54.000Z",
         "Daniela",
         "Pires",
         "daniela@usuario.com",
         "9 6666-2265",
         "Brasil",
         "Rua 31 do Estado Bahia",
         441.0,
         null
        ],
        [
         77,
         "2018-11-30T10:29:55.000Z",
         "Ana",
         "Monteiro",
         "ana@teste.com",
         "9 3871-4132",
         "Brasil",
         "Praça 86 do Estado Bahia",
         604.0,
         "Apto 30"
        ],
        [
         58,
         "2018-09-13T03:13:02.000Z",
         "Rafael",
         "Rodrigues",
         "rafael@meu_email.com",
         "9 6550-3557",
         "Brasil",
         "Praça 94 do Estado Bahia",
         647.0,
         "Apto 25"
        ],
        [
         32,
         "2018-07-22T11:59:27.000Z",
         "Ana",
         "Campos",
         "ana@teste.com",
         "9 1932-9841",
         "Brasil",
         "Avenida 52 do Estado Bahia",
         402.0,
         null
        ],
        [
         21,
         "2018-02-21T15:35:55.000Z",
         "Diego",
         "Freire",
         "diego@teste.com",
         "9 6686-4094",
         "Brasil",
         "Praça 4 do Estado Bahia",
         906.0,
         "Apto 20"
        ],
        [
         4,
         "2018-08-06T07:24:16.000Z",
         "Romário",
         "Teixeira",
         null,
         "9 3093-6522",
         "Brasil",
         "Praça 56 do Estado Bahia",
         191.0,
         "Apto 12"
        ]
       ],
       "datasetInfos": [],
       "dbfsResultPath": null,
       "isJsonSchema": true,
       "metadata": {},
       "overflow": false,
       "plotOptions": {
        "customPlotOptions": {},
        "displayType": "table",
        "pivotAggregation": null,
        "pivotColumns": null,
        "xColumns": null,
        "yColumns": null
       },
       "removedWidgets": [],
       "schema": [
        {
         "metadata": "{}",
         "name": "id",
         "type": "\"integer\""
        },
        {
         "metadata": "{}",
         "name": "created_at",
         "type": "\"timestamp\""
        },
        {
         "metadata": "{}",
         "name": "first_name",
         "type": "\"string\""
        },
        {
         "metadata": "{}",
         "name": "last_name",
         "type": "\"string\""
        },
        {
         "metadata": "{}",
         "name": "email",
         "type": "\"string\""
        },
        {
         "metadata": "{}",
         "name": "cell_phone",
         "type": "\"string\""
        },
        {
         "metadata": "{}",
         "name": "country",
         "type": "\"string\""
        },
        {
         "metadata": "{}",
         "name": "street",
         "type": "\"string\""
        },
        {
         "metadata": "{}",
         "name": "number",
         "type": "\"double\""
        },
        {
         "metadata": "{}",
         "name": "additionals",
         "type": "\"string\""
        }
       ],
       "type": "table"
      }
     },
     "output_type": "display_data"
    }
   ],
   "source": [
    "#Ler Arquivo particionado \n",
    "state_CA = spark.read.parquet('dbfs:/Volumes/workspace/default/arquivos-aula/DiferentesSaidas/Contato_Particionado.parquet/state=Bahia/')\n",
    "display(state_CA)"
   ]
  },
  {
   "cell_type": "code",
   "execution_count": 0,
   "metadata": {
    "application/vnd.databricks.v1+cell": {
     "cellMetadata": {
      "byteLimit": 2048000,
      "rowLimit": 10000
     },
     "inputWidgets": {},
     "nuid": "cfe395bf-8f35-4f67-92df-3fd0b362e9a2",
     "showTitle": false,
     "tableResultSettingsMap": {
      "0": {
       "dataGridStateBlob": "{\"version\":1,\"tableState\":{\"columnPinning\":{\"left\":[\"#row_number#\"],\"right\":[]},\"columnSizing\":{},\"columnVisibility\":{}},\"settings\":{\"columns\":{}},\"syncTimestamp\":1755201729328}",
       "filterBlob": null,
       "queryPlanFiltersBlob": null,
       "tableResultIndex": 0
      }
     },
     "title": ""
    }
   },
   "outputs": [
    {
     "output_type": "display_data",
     "data": {
      "text/html": [
       "<style scoped>\n",
       "  .table-result-container {\n",
       "    max-height: 300px;\n",
       "    overflow: auto;\n",
       "  }\n",
       "  table, th, td {\n",
       "    border: 1px solid black;\n",
       "    border-collapse: collapse;\n",
       "  }\n",
       "  th, td {\n",
       "    padding: 5px;\n",
       "  }\n",
       "  th {\n",
       "    text-align: left;\n",
       "  }\n",
       "</style><div class='table-result-container'><table class='table-result'><thead style='background-color: white'><tr><th>id</th><th>created_at</th><th>first_name</th><th>last_name</th><th>email</th><th>cell_phone</th><th>country</th><th>street</th><th>number</th><th>additionals</th><th>state</th></tr></thead><tbody><tr><td>93</td><td>2018-11-02T08:43:47.000Z</td><td>Ronaldo</td><td>Galo</td><td>ronaldo@meu_email.com</td><td>9 8821-9577</td><td>Brasil</td><td>Avenida 8 do Estado Pernambuco</td><td>758.0</td><td>Apto 2</td><td>Pernambuco</td></tr><tr><td>71</td><td>2017-12-12T16:16:52.000Z</td><td>Gerson</td><td>Barroso</td><td>gerson@exemplo.com</td><td>9 5719-4227</td><td>Brasil</td><td>null</td><td>null</td><td>Apto 2</td><td>Pernambuco</td></tr><tr><td>64</td><td>2018-10-30T15:47:32.000Z</td><td>Luan</td><td>Ramos</td><td>luan@exemplo.com</td><td>9 6843-3876</td><td>Brasil</td><td>Rua 63 do Estado Pernambuco</td><td>345.0</td><td>Conjunto 10</td><td>Pernambuco</td></tr><tr><td>62</td><td>2018-01-21T13:56:16.000Z</td><td>Carol</td><td>Anjos</td><td>carol@usuario.com</td><td>9 2123-9306</td><td>Brasil</td><td>Praça 12 do Estado Pernambuco</td><td>928.0</td><td>Conjunto 26</td><td>Pernambuco</td></tr><tr><td>53</td><td>2018-03-25T14:26:49.000Z</td><td>Daniela</td><td>Mendes</td><td>daniela@teste.com</td><td>9 3797-3399</td><td>Brasil</td><td>Rua 71 do Estado Pernambuco</td><td>760.0</td><td>Apto 14</td><td>Pernambuco</td></tr><tr><td>51</td><td>2017-12-26T15:38:15.000Z</td><td>Caio</td><td>Mendes</td><td>caio@teste.com</td><td>9 6437-5008</td><td>Brasil</td><td>Rua 34 do Estado Pernambuco</td><td>931.0</td><td>null</td><td>Pernambuco</td></tr><tr><td>41</td><td>2018-11-30T17:44:09.000Z</td><td>Maria</td><td>Morais</td><td>maria@usuario.com</td><td>9 1519-4181</td><td>Brasil</td><td>Avenida 69 do Estado Pernambuco</td><td>633.0</td><td>null</td><td>Pernambuco</td></tr><tr><td>17</td><td>2017-10-19T20:18:14.000Z</td><td>João</td><td>Magalhães</td><td>joão@exemplo.com</td><td>9 5995-1272</td><td>Brasil</td><td>Rua 20 do Estado Pernambuco</td><td>781.0</td><td>Apto 17</td><td>Pernambuco</td></tr><tr><td>76</td><td>2018-04-16T04:53:31.000Z</td><td>Romário</td><td>Rosa</td><td>romário@meu_email.com</td><td>9 8710-8305</td><td>Brasil</td><td>Praça 75 do Estado Rio Grande do Sul</td><td>110.0</td><td>Conjunto 10</td><td>Rio Grande do Sul</td></tr><tr><td>72</td><td>2018-01-29T03:19:24.000Z</td><td>Neymar</td><td>Elísio</td><td>neymar@teste.com</td><td>9 5373-1785</td><td>Brasil</td><td>Rua 49 do Estado Rio Grande do Sul</td><td>929.0</td><td>null</td><td>Rio Grande do Sul</td></tr><tr><td>30</td><td>2018-06-08T07:49:50.000Z</td><td>Gabriel</td><td>Teixeira</td><td>gabriel@exemplo.com</td><td>9 7419-5325</td><td>Brasil</td><td>Avenida 7 do Estado Rio Grande do Sul</td><td>94.0</td><td>null</td><td>Rio Grande do Sul</td></tr><tr><td>13</td><td>2018-08-27T21:15:17.000Z</td><td>Carolina</td><td>Monteiro</td><td>carolina@teste.com</td><td>9 1226-4267</td><td>Brasil</td><td>Rua 4 do Estado Rio Grande do Sul</td><td>444.0</td><td>Apto 21</td><td>Rio Grande do Sul</td></tr><tr><td>5</td><td>2018-01-05T17:20:49.000Z</td><td>Marcelo</td><td>Barroso</td><td>null</td><td>9 2830-2088</td><td>Brasil</td><td>Rua 28 do Estado Rio Grande do Sul</td><td>805.0</td><td>Conjunto 13</td><td>Rio Grande do Sul</td></tr><tr><td>1</td><td>2017-10-16T00:50:39.000Z</td><td>Luana</td><td>Almeida</td><td>null</td><td>9 7328-8718</td><td>Brasil</td><td>Avenida 56 do Estado Rio Grande do Sul</td><td>989.0</td><td>Conjunto 17</td><td>Rio Grande do Sul</td></tr><tr><td>89</td><td>2017-12-07T19:24:54.000Z</td><td>Daniela</td><td>Pires</td><td>daniela@usuario.com</td><td>9 6666-2265</td><td>Brasil</td><td>Rua 31 do Estado Bahia</td><td>441.0</td><td>null</td><td>Bahia</td></tr><tr><td>77</td><td>2018-11-30T10:29:55.000Z</td><td>Ana</td><td>Monteiro</td><td>ana@teste.com</td><td>9 3871-4132</td><td>Brasil</td><td>Praça 86 do Estado Bahia</td><td>604.0</td><td>Apto 30</td><td>Bahia</td></tr><tr><td>58</td><td>2018-09-13T03:13:02.000Z</td><td>Rafael</td><td>Rodrigues</td><td>rafael@meu_email.com</td><td>9 6550-3557</td><td>Brasil</td><td>Praça 94 do Estado Bahia</td><td>647.0</td><td>Apto 25</td><td>Bahia</td></tr><tr><td>32</td><td>2018-07-22T11:59:27.000Z</td><td>Ana</td><td>Campos</td><td>ana@teste.com</td><td>9 1932-9841</td><td>Brasil</td><td>Avenida 52 do Estado Bahia</td><td>402.0</td><td>null</td><td>Bahia</td></tr><tr><td>21</td><td>2018-02-21T15:35:55.000Z</td><td>Diego</td><td>Freire</td><td>diego@teste.com</td><td>9 6686-4094</td><td>Brasil</td><td>Praça 4 do Estado Bahia</td><td>906.0</td><td>Apto 20</td><td>Bahia</td></tr><tr><td>4</td><td>2018-08-06T07:24:16.000Z</td><td>Romário</td><td>Teixeira</td><td>null</td><td>9 3093-6522</td><td>Brasil</td><td>Praça 56 do Estado Bahia</td><td>191.0</td><td>Apto 12</td><td>Bahia</td></tr><tr><td>74</td><td>2018-04-22T05:00:28.000Z</td><td>Júlia</td><td>Almeida</td><td>júlia@meu_email.com</td><td>9 9208-5213</td><td>Brasil</td><td>Praça 25 do Estado Maranhão</td><td>953.0</td><td>Conjunto 4</td><td>Maranhão</td></tr><tr><td>57</td><td>2018-08-23T03:31:05.000Z</td><td>Stephanie</td><td>Barboza</td><td>stephanie@meu_email.com</td><td>9 1168-6722</td><td>Brasil</td><td>Avenida 25 do Estado Maranhão</td><td>795.0</td><td>null</td><td>Maranhão</td></tr><tr><td>46</td><td>2018-07-19T08:33:32.000Z</td><td>Rafael</td><td>Freire</td><td>rafael@exemplo.com</td><td>9 8703-1006</td><td>Brasil</td><td>Praça 97 do Estado Maranhão</td><td>138.0</td><td>null</td><td>Maranhão</td></tr><tr><td>39</td><td>2017-11-15T07:17:25.000Z</td><td>Caio</td><td>Batista</td><td>caio@usuario.com</td><td>9 4761-6542</td><td>Brasil</td><td>Avenida 87 do Estado Maranhão</td><td>656.0</td><td>Apto 25</td><td>Maranhão</td></tr><tr><td>22</td><td>2018-04-18T22:43:29.000Z</td><td>Heitor</td><td>Pereira</td><td>null</td><td>9 4839-8118</td><td>Brasil</td><td>Avenida 84 do Estado Maranhão</td><td>948.0</td><td>null</td><td>Maranhão</td></tr><tr><td>16</td><td>2017-12-12T21:29:54.000Z</td><td>Laura</td><td>Santos</td><td>laura@exemplo.com</td><td>9 7802-6152</td><td>Brasil</td><td>Rua 57 do Estado Maranhão</td><td>213.0</td><td>null</td><td>Maranhão</td></tr><tr><td>91</td><td>2018-09-12T22:12:05.000Z</td><td>Daniel</td><td>Costa</td><td>daniel@teste.com</td><td>9 4761-6557</td><td>Brasil</td><td>Praça 25 do Estado Rio Grande do Norte</td><td>281.0</td><td>Apto 8</td><td>Rio Grande do Norte</td></tr><tr><td>90</td><td>2017-12-16T22:14:58.000Z</td><td>Stephanie</td><td>Rosa</td><td>null</td><td>9 3040-4414</td><td>Brasil</td><td>null</td><td>null</td><td>null</td><td>Rio Grande do Norte</td></tr><tr><td>85</td><td>2017-11-24T12:44:36.000Z</td><td>Eduardo</td><td>Teixeira</td><td>null</td><td>9 2537-7930</td><td>Brasil</td><td>null</td><td>null</td><td>null</td><td>Rio Grande do Norte</td></tr><tr><td>44</td><td>2018-04-08T07:18:45.000Z</td><td>Júlia</td><td>Costa</td><td>júlia@usuario.com</td><td>9 5446-9508</td><td>Brasil</td><td>Avenida 46 do Estado Rio Grande do Norte</td><td>277.0</td><td>Conjunto 14</td><td>Rio Grande do Norte</td></tr><tr><td>29</td><td>2018-06-03T17:08:52.000Z</td><td>Geisa</td><td>Santos</td><td>geisa@meu_email.com</td><td>9 4653-9739</td><td>Brasil</td><td>Avenida 77 do Estado Rio Grande do Norte</td><td>486.0</td><td>Conjunto 13</td><td>Rio Grande do Norte</td></tr><tr><td>98</td><td>2018-01-24T16:21:06.000Z</td><td>Cibele</td><td>Costa</td><td>cibele@meu_email.com</td><td>9 4211-6968</td><td>Brasil</td><td>Praça 75 do Estado Mato Grosso</td><td>24.0</td><td>null</td><td>Mato Grosso</td></tr><tr><td>66</td><td>2018-10-18T04:31:59.000Z</td><td>Stephanie</td><td>Abreu</td><td>stephanie@meu_email.com</td><td>9 6466-2389</td><td>Brasil</td><td>Rua 19 do Estado Mato Grosso</td><td>53.0</td><td>Conjunto 13</td><td>Mato Grosso</td></tr><tr><td>15</td><td>2018-11-15T18:00:53.000Z</td><td>Stephanie</td><td>Barbosa</td><td>stephanie@usuario.com</td><td>9 1446-3560</td><td>Brasil</td><td>null</td><td>null</td><td>Conjunto 4</td><td>Mato Grosso</td></tr><tr><td>12</td><td>2018-03-28T00:24:00.000Z</td><td>Carol</td><td>Barboza</td><td>carol@exemplo.com</td><td>9 8487-3501</td><td>Brasil</td><td>Rua 31 do Estado Mato Grosso</td><td>1.0</td><td>Conjunto 23</td><td>Mato Grosso</td></tr><tr><td>3</td><td>2018-01-17T03:02:58.000Z</td><td>Daniela</td><td>Avelino</td><td>daniela@exemplo.com</td><td>9 4642-9486</td><td>Brasil</td><td>null</td><td>null</td><td>null</td><td>Mato Grosso</td></tr><tr><td>88</td><td>2017-10-12T15:17:05.000Z</td><td>Rafael</td><td>Batista</td><td>rafael@usuario.com</td><td>9 8656-5668</td><td>Brasil</td><td>Rua 78 do Estado Ceará</td><td>787.0</td><td>Apto 3</td><td>Ceará</td></tr><tr><td>68</td><td>2018-11-14T11:04:35.000Z</td><td>José</td><td>Pires</td><td>josé@usuario.com</td><td>9 8189-2149</td><td>Brasil</td><td>Avenida 99 do Estado Ceará</td><td>231.0</td><td>null</td><td>Ceará</td></tr><tr><td>63</td><td>2018-05-05T17:52:26.000Z</td><td>Caíque</td><td>Batista</td><td>caíque@teste.com</td><td>9 8818-5886</td><td>Brasil</td><td>Rua 76 do Estado Ceará</td><td>239.0</td><td>Apto 19</td><td>Ceará</td></tr><tr><td>48</td><td>2018-05-29T04:22:54.000Z</td><td>Clarissa</td><td>Albuquerque</td><td>clarissa@exemplo.com</td><td>9 7403-4273</td><td>Brasil</td><td>null</td><td>null</td><td>Apto 12</td><td>Ceará</td></tr><tr><td>24</td><td>2018-07-25T09:34:12.000Z</td><td>Jair</td><td>Barroso</td><td>jair@teste.com</td><td>9 6679-6120</td><td>Brasil</td><td>Rua 86 do Estado Ceará</td><td>770.0</td><td>Apto 21</td><td>Ceará</td></tr><tr><td>52</td><td>2017-12-04T17:42:34.000Z</td><td>Bruno</td><td>Anjos</td><td>bruno@teste.com</td><td>9 3004-3740</td><td>Brasil</td><td>Rua 53 do Estado Goiás</td><td>825.0</td><td>null</td><td>Goiás</td></tr><tr><td>42</td><td>2018-04-09T19:12:23.000Z</td><td>João</td><td>Almeida</td><td>joão@usuario.com</td><td>9 4650-1753</td><td>Brasil</td><td>Praça 3 do Estado Goiás</td><td>986.0</td><td>Apto 9</td><td>Goiás</td></tr><tr><td>37</td><td>2018-03-02T22:27:03.000Z</td><td>Daniela</td><td>Monteiro</td><td>daniela@meu_email.com</td><td>9 4704-5844</td><td>Brasil</td><td>Rua 43 do Estado Goiás</td><td>116.0</td><td>Apto 28</td><td>Goiás</td></tr><tr><td>34</td><td>2018-10-05T01:14:05.000Z</td><td>José</td><td>Campos</td><td>josé@teste.com</td><td>9 7552-4340</td><td>Brasil</td><td>Praça 25 do Estado Goiás</td><td>884.0</td><td>Apto 7</td><td>Goiás</td></tr><tr><td>6</td><td>2018-06-18T11:17:42.000Z</td><td>Cristiano</td><td>Elísio</td><td>cristiano@exemplo.com</td><td>9 3532-8404</td><td>Brasil</td><td>Rua 78 do Estado Goiás</td><td>877.0</td><td>Apto 14</td><td>Goiás</td></tr><tr><td>78</td><td>2017-11-02T22:13:22.000Z</td><td>Laura</td><td>Queiroz</td><td>laura@exemplo.com</td><td>9 6338-8617</td><td>Brasil</td><td>Praça 19 do Estado São Paulo</td><td>878.0</td><td>Conjunto 3</td><td>São Paulo</td></tr><tr><td>59</td><td>2017-12-03T16:24:32.000Z</td><td>Stephanie</td><td>Freire</td><td>stephanie@usuario.com</td><td>9 3256-1853</td><td>Brasil</td><td>Rua 52 do Estado São Paulo</td><td>34.0</td><td>Apto 24</td><td>São Paulo</td></tr><tr><td>20</td><td>2017-12-22T10:51:28.000Z</td><td>Adalberto</td><td>Silva</td><td>adalberto@usuario.com</td><td>9 1338-1447</td><td>Brasil</td><td>Rua 57 do Estado São Paulo</td><td>851.0</td><td>Conjunto 20</td><td>São Paulo</td></tr><tr><td>2</td><td>2018-06-16T17:51:29.000Z</td><td>Frida</td><td>Mendes</td><td>frida@meu_email.com</td><td>9 5906-7552</td><td>Brasil</td><td>Avenida 59 do Estado São Paulo</td><td>534.0</td><td>null</td><td>São Paulo</td></tr><tr><td>81</td><td>2018-01-13T10:35:01.000Z</td><td>Alice</td><td>Ferreira</td><td>alice@teste.com</td><td>9 9005-2493</td><td>Brasil</td><td>Praça 53 do Estado Minas Gerais</td><td>83.0</td><td>null</td><td>Minas Gerais</td></tr><tr><td>50</td><td>2018-08-24T07:52:23.000Z</td><td>Beatriz</td><td>Monteiro</td><td>beatriz@teste.com</td><td>9 3570-4464</td><td>Brasil</td><td>Avenida 17 do Estado Minas Gerais</td><td>223.0</td><td>Conjunto 22</td><td>Minas Gerais</td></tr><tr><td>28</td><td>2017-11-26T05:17:39.000Z</td><td>Beatriz</td><td>Araújo</td><td>beatriz@usuario.com</td><td>9 4543-3853</td><td>Brasil</td><td>Praça 7 do Estado Minas Gerais</td><td>536.0</td><td>Conjunto 5</td><td>Minas Gerais</td></tr><tr><td>25</td><td>2018-08-07T12:22:40.000Z</td><td>Alice</td><td>Veloso</td><td>alice@exemplo.com</td><td>9 9869-3706</td><td>Brasil</td><td>Praça 73 do Estado Minas Gerais</td><td>571.0</td><td>null</td><td>Minas Gerais</td></tr><tr><td>82</td><td>2018-11-04T18:02:42.000Z</td><td>Heitor</td><td>Rocha</td><td>heitor@teste.com</td><td>9 3236-7429</td><td>Brasil</td><td>Praça 82 do Estado Espírito Santo</td><td>14.0</td><td>null</td><td>Espírito Santo</td></tr><tr><td>38</td><td>2018-09-01T09:33:57.000Z</td><td>Marcelo</td><td>Mendes</td><td>null</td><td>9 6773-1560</td><td>Brasil</td><td>Avenida 64 do Estado Espírito Santo</td><td>213.0</td><td>null</td><td>Espírito Santo</td></tr><tr><td>35</td><td>2018-04-19T10:10:22.000Z</td><td>Adalberto</td><td>Dias</td><td>adalberto@usuario.com</td><td>9 8395-7004</td><td>Brasil</td><td>Rua 37 do Estado Espírito Santo</td><td>383.0</td><td>Apto 13</td><td>Espírito Santo</td></tr><tr><td>26</td><td>2018-12-12T11:56:14.000Z</td><td>Eloá</td><td>da Silva</td><td>eloá@usuario.com</td><td>9 3982-5948</td><td>Brasil</td><td>Avenida 98 do Estado Espírito Santo</td><td>706.0</td><td>null</td><td>Espírito Santo</td></tr><tr><td>70</td><td>2017-10-22T12:49:39.000Z</td><td>Diego</td><td>Barboza</td><td>null</td><td>9 4849-7409</td><td>Brasil</td><td>Avenida 3 do Estado Mato Grosso do Sul</td><td>250.0</td><td>null</td><td>Mato Grosso do Sul</td></tr><tr><td>67</td><td>2018-08-31T18:22:52.000Z</td><td>Laura</td><td>Pires</td><td>laura@meu_email.com</td><td>9 8144-6047</td><td>Brasil</td><td>Praça 23 do Estado Mato Grosso do Sul</td><td>47.0</td><td>Apto 7</td><td>Mato Grosso do Sul</td></tr><tr><td>45</td><td>2018-05-10T23:09:25.000Z</td><td>Gerson</td><td>Anjos</td><td>gerson@meu_email.com</td><td>9 1590-8972</td><td>Brasil</td><td>Avenida 35 do Estado Mato Grosso do Sul</td><td>229.0</td><td>Apto 29</td><td>Mato Grosso do Sul</td></tr><tr><td>31</td><td>2018-07-02T22:04:08.000Z</td><td>Geisa</td><td>Freitas</td><td>geisa@exemplo.com</td><td>9 6772-5310</td><td>Brasil</td><td>Rua 18 do Estado Mato Grosso do Sul</td><td>128.0</td><td>null</td><td>Mato Grosso do Sul</td></tr><tr><td>99</td><td>2018-07-24T08:26:27.000Z</td><td>Jéssica</td><td>Jesus</td><td>jéssica@usuario.com</td><td>9 6100-1466</td><td>Brasil</td><td>Avenida 19 do Estado Paraná</td><td>738.0</td><td>Conjunto 22</td><td>Paraná</td></tr><tr><td>97</td><td>2018-07-04T18:45:41.000Z</td><td>Marta</td><td>Góes</td><td>marta@teste.com</td><td>9 4102-4352</td><td>Brasil</td><td>Rua 61 do Estado Paraná</td><td>402.0</td><td>Apto 24</td><td>Paraná</td></tr><tr><td>79</td><td>2017-12-13T08:41:05.000Z</td><td>Hélen</td><td>Souza</td><td>hélen@teste.com</td><td>9 9974-1066</td><td>Brasil</td><td>Avenida 20 do Estado Paraná</td><td>661.0</td><td>Conjunto 13</td><td>Paraná</td></tr><tr><td>33</td><td>2017-12-28T12:51:34.000Z</td><td>João</td><td>da Silva</td><td>joão@usuario.com</td><td>9 2813-8103</td><td>Brasil</td><td>Avenida 27 do Estado Paraná</td><td>240.0</td><td>Apto 6</td><td>Paraná</td></tr><tr><td>65</td><td>2018-02-06T05:56:36.000Z</td><td>Willian</td><td>Freitas</td><td>null</td><td>9 3043-7382</td><td>Brasil</td><td>Rua 91 do Estado Rio de Janeiro</td><td>96.0</td><td>Apto 7</td><td>Rio de Janeiro</td></tr><tr><td>55</td><td>2018-07-10T18:40:07.000Z</td><td>Gabriela</td><td>Pires</td><td>gabriela@meu_email.com</td><td>9 1214-1539</td><td>Brasil</td><td>Rua 32 do Estado Rio de Janeiro</td><td>838.0</td><td>Apto 29</td><td>Rio de Janeiro</td></tr><tr><td>47</td><td>2018-09-01T23:00:40.000Z</td><td>Júlia</td><td>Castro</td><td>júlia@exemplo.com</td><td>9 7096-1780</td><td>Brasil</td><td>Rua 39 do Estado Rio de Janeiro</td><td>983.0</td><td>Conjunto 7</td><td>Rio de Janeiro</td></tr><tr><td>43</td><td>2018-01-07T07:54:22.000Z</td><td>Daniela</td><td>Lima</td><td>null</td><td>9 1763-2584</td><td>Brasil</td><td>null</td><td>null</td><td>Apto 20</td><td>Rio de Janeiro</td></tr><tr><td>92</td><td>2017-10-16T16:29:15.000Z</td><td>Beatriz</td><td>Bueno</td><td>beatriz@teste.com</td><td>9 4435-2960</td><td>Brasil</td><td>Rua 71 do Estado Acre</td><td>978.0</td><td>Apto 24</td><td>Acre</td></tr><tr><td>87</td><td>2018-08-16T20:25:23.000Z</td><td>Beatriz</td><td>Abreu</td><td>beatriz@usuario.com</td><td>9 2254-6798</td><td>Brasil</td><td>Rua 95 do Estado Acre</td><td>482.0</td><td>Conjunto 16</td><td>Acre</td></tr><tr><td>27</td><td>2018-11-08T11:12:47.000Z</td><td>Luan</td><td>Lima</td><td>luan@teste.com</td><td>9 2529-8197</td><td>Brasil</td><td>Praça 86 do Estado Acre</td><td>303.0</td><td>Apto 27</td><td>Acre</td></tr><tr><td>0</td><td>2017-11-01T14:45:41.000Z</td><td>Marta</td><td>Jesus</td><td>null</td><td>9 9102-7834</td><td>Brasil</td><td>null</td><td>null</td><td>Conjunto 16</td><td>Acre</td></tr><tr><td>14</td><td>2017-11-12T03:02:41.000Z</td><td>Francisco</td><td>Nascimento</td><td>francisco@exemplo.com</td><td>9 7264-9020</td><td>Brasil</td><td>Rua 75 do Estado Distrito Federal</td><td>47.0</td><td>null</td><td>Distrito Federal</td></tr><tr><td>9</td><td>2018-11-11T11:48:41.000Z</td><td>Luan</td><td>Dias</td><td>luan@exemplo.com</td><td>9 2417-3678</td><td>Brasil</td><td>Avenida 54 do Estado Distrito Federal</td><td>889.0</td><td>Conjunto 14</td><td>Distrito Federal</td></tr><tr><td>7</td><td>2018-02-08T12:36:09.000Z</td><td>Everton</td><td>Barbosa</td><td>everton@meu_email.com</td><td>9 2553-4087</td><td>Brasil</td><td>Avenida 86 do Estado Distrito Federal</td><td>864.0</td><td>Apto 14</td><td>Distrito Federal</td></tr><tr><td>94</td><td>2018-10-29T11:39:58.000Z</td><td>Cristiano</td><td>Pereira</td><td>cristiano@meu_email.com</td><td>9 4404-8717</td><td>Brasil</td><td>Praça 100 do Estado Piauí</td><td>809.0</td><td>null</td><td>Piauí</td></tr><tr><td>56</td><td>2017-12-01T22:40:40.000Z</td><td>Cristiano</td><td>Fagundes</td><td>cristiano@usuario.com</td><td>9 7680-6400</td><td>Brasil</td><td>Avenida 20 do Estado Piauí</td><td>236.0</td><td>Apto 30</td><td>Piauí</td></tr><tr><td>19</td><td>2018-10-20T19:31:52.000Z</td><td>Caíque</td><td>Monteiro</td><td>caíque@exemplo.com</td><td>9 9793-9986</td><td>Brasil</td><td>null</td><td>null</td><td>Conjunto 13</td><td>Piauí</td></tr><tr><td>60</td><td>2018-06-26T18:47:12.000Z</td><td>Carol</td><td>Bueno</td><td>carol@usuario.com</td><td>9 9814-4736</td><td>Brasil</td><td>Rua 10 do Estado Santa Catarina</td><td>47.0</td><td>Conjunto 12</td><td>Santa Catarina</td></tr><tr><td>10</td><td>2017-12-16T15:41:00.000Z</td><td>Mariana</td><td>Alves</td><td>mariana@meu_email.com</td><td>9 1846-6377</td><td>Brasil</td><td>null</td><td>null</td><td>null</td><td>Santa Catarina</td></tr><tr><td>8</td><td>2017-12-16T20:47:03.000Z</td><td>Gabriela</td><td>Alves</td><td>gabriela@exemplo.com</td><td>9 1353-8433</td><td>Brasil</td><td>null</td><td>null</td><td>null</td><td>Santa Catarina</td></tr><tr><td>83</td><td>2018-01-05T00:15:03.000Z</td><td>Frida</td><td>Freire</td><td>null</td><td>9 4760-1383</td><td>Brasil</td><td>Rua 25 do Estado Alagoas</td><td>679.0</td><td>Conjunto 9</td><td>Alagoas</td></tr><tr><td>80</td><td>2018-10-10T00:06:32.000Z</td><td>Daniela</td><td>Góes</td><td>daniela@usuario.com</td><td>9 5394-6677</td><td>Brasil</td><td>Praça 22 do Estado Alagoas</td><td>235.0</td><td>null</td><td>Alagoas</td></tr><tr><td>18</td><td>2018-06-28T04:53:52.000Z</td><td>Jair</td><td>Magalhães</td><td>jair@exemplo.com</td><td>9 8368-1315</td><td>Brasil</td><td>Avenida 74 do Estado Alagoas</td><td>118.0</td><td>Conjunto 8</td><td>Alagoas</td></tr><tr><td>61</td><td>2018-04-30T18:36:56.000Z</td><td>Francisco</td><td>Abreu</td><td>francisco@exemplo.com</td><td>9 6754-1775</td><td>Brasil</td><td>Rua 72 do Estado Amapá</td><td>50.0</td><td>Apto 12</td><td>Amapá</td></tr><tr><td>40</td><td>2018-08-17T13:21:08.000Z</td><td>Gabriela</td><td>Nascimento</td><td>gabriela@teste.com</td><td>9 5382-5772</td><td>Brasil</td><td>Avenida 85 do Estado Amapá</td><td>476.0</td><td>null</td><td>Amapá</td></tr><tr><td>86</td><td>2018-03-12T09:30:24.000Z</td><td>Adalberto</td><td>Oliveira</td><td>adalberto@teste.com</td><td>9 3081-3441</td><td>Brasil</td><td>Rua 40 do Estado Roraima</td><td>401.0</td><td>Conjunto 17</td><td>Roraima</td></tr><tr><td>75</td><td>2018-06-21T14:28:03.000Z</td><td>Marta</td><td>Abreu</td><td>null</td><td>9 9024-3467</td><td>Brasil</td><td>Avenida 67 do Estado Roraima</td><td>410.0</td><td>Conjunto 23</td><td>Roraima</td></tr><tr><td>96</td><td>2018-01-23T19:14:21.000Z</td><td>Paulo</td><td>Câmara</td><td>paulo@usuario.com</td><td>9 4785-1135</td><td>Brasil</td><td>Praça 73 do Estado Sergipe</td><td>219.0</td><td>Apto 6</td><td>Sergipe</td></tr><tr><td>11</td><td>2018-05-16T03:39:52.000Z</td><td>James</td><td>Albuquerque</td><td>null</td><td>9 2430-5905</td><td>Brasil</td><td>Rua 30 do Estado Sergipe</td><td>229.0</td><td>null</td><td>Sergipe</td></tr><tr><td>95</td><td>2018-10-01T11:35:59.000Z</td><td>Mariana</td><td>Rosa</td><td>mariana@usuario.com</td><td>9 3139-2145</td><td>Brasil</td><td>null</td><td>null</td><td>null</td><td>null</td></tr><tr><td>84</td><td>2018-11-01T15:39:40.000Z</td><td>Carol</td><td>Bueno</td><td>carol@meu_email.com</td><td>9 3760-2211</td><td>Brasil</td><td>null</td><td>null</td><td>Conjunto 26</td><td>null</td></tr><tr><td>73</td><td>2018-02-03T07:37:38.000Z</td><td>Cristiano</td><td>Almeida</td><td>cristiano@usuario.com</td><td>9 2630-9907</td><td>Brasil</td><td>null</td><td>null</td><td>Conjunto 24</td><td>null</td></tr><tr><td>36</td><td>2018-01-26T03:29:13.000Z</td><td>Mariana</td><td>Góes</td><td>mariana@meu_email.com</td><td>9 7324-4293</td><td>Brasil</td><td>null</td><td>null</td><td>Apto 25</td><td>null</td></tr><tr><td>69</td><td>2018-02-20T19:16:26.000Z</td><td>Gustavo</td><td>Cardoso</td><td>gustavo@teste.com</td><td>9 7594-9211</td><td>Brasil</td><td>Praça 52 do Estado Amazonas</td><td>698.0</td><td>null</td><td>Amazonas</td></tr><tr><td>23</td><td>2017-10-26T00:35:22.000Z</td><td>Maria</td><td>Pires</td><td>null</td><td>9 8229-1067</td><td>Brasil</td><td>Avenida 80 do Estado Amazonas</td><td>581.0</td><td>null</td><td>Amazonas</td></tr><tr><td>54</td><td>2018-01-25T02:11:25.000Z</td><td>Diego</td><td>Teixeira</td><td>diego@exemplo.com</td><td>9 5247-1737</td><td>Brasil</td><td>Rua 8 do Estado Pará</td><td>722.0</td><td>Conjunto 16</td><td>Pará</td></tr><tr><td>49</td><td>2018-11-01T02:13:51.000Z</td><td>Júlia</td><td>Sousa</td><td>júlia@exemplo.com</td><td>9 2094-8467</td><td>Brasil</td><td>Rua 12 do Estado Rondônia</td><td>260.0</td><td>Apto 27</td><td>Rondônia</td></tr></tbody></table></div>"
      ]
     },
     "metadata": {
      "application/vnd.databricks.v1+output": {
       "addedWidgets": {},
       "aggData": [],
       "aggError": "",
       "aggOverflow": false,
       "aggSchema": [],
       "aggSeriesLimitReached": false,
       "aggType": "",
       "arguments": {},
       "columnCustomDisplayInfos": {},
       "data": [
        [
         93,
         "2018-11-02T08:43:47.000Z",
         "Ronaldo",
         "Galo",
         "ronaldo@meu_email.com",
         "9 8821-9577",
         "Brasil",
         "Avenida 8 do Estado Pernambuco",
         758.0,
         "Apto 2",
         "Pernambuco"
        ],
        [
         71,
         "2017-12-12T16:16:52.000Z",
         "Gerson",
         "Barroso",
         "gerson@exemplo.com",
         "9 5719-4227",
         "Brasil",
         null,
         null,
         "Apto 2",
         "Pernambuco"
        ],
        [
         64,
         "2018-10-30T15:47:32.000Z",
         "Luan",
         "Ramos",
         "luan@exemplo.com",
         "9 6843-3876",
         "Brasil",
         "Rua 63 do Estado Pernambuco",
         345.0,
         "Conjunto 10",
         "Pernambuco"
        ],
        [
         62,
         "2018-01-21T13:56:16.000Z",
         "Carol",
         "Anjos",
         "carol@usuario.com",
         "9 2123-9306",
         "Brasil",
         "Praça 12 do Estado Pernambuco",
         928.0,
         "Conjunto 26",
         "Pernambuco"
        ],
        [
         53,
         "2018-03-25T14:26:49.000Z",
         "Daniela",
         "Mendes",
         "daniela@teste.com",
         "9 3797-3399",
         "Brasil",
         "Rua 71 do Estado Pernambuco",
         760.0,
         "Apto 14",
         "Pernambuco"
        ],
        [
         51,
         "2017-12-26T15:38:15.000Z",
         "Caio",
         "Mendes",
         "caio@teste.com",
         "9 6437-5008",
         "Brasil",
         "Rua 34 do Estado Pernambuco",
         931.0,
         null,
         "Pernambuco"
        ],
        [
         41,
         "2018-11-30T17:44:09.000Z",
         "Maria",
         "Morais",
         "maria@usuario.com",
         "9 1519-4181",
         "Brasil",
         "Avenida 69 do Estado Pernambuco",
         633.0,
         null,
         "Pernambuco"
        ],
        [
         17,
         "2017-10-19T20:18:14.000Z",
         "João",
         "Magalhães",
         "joão@exemplo.com",
         "9 5995-1272",
         "Brasil",
         "Rua 20 do Estado Pernambuco",
         781.0,
         "Apto 17",
         "Pernambuco"
        ],
        [
         76,
         "2018-04-16T04:53:31.000Z",
         "Romário",
         "Rosa",
         "romário@meu_email.com",
         "9 8710-8305",
         "Brasil",
         "Praça 75 do Estado Rio Grande do Sul",
         110.0,
         "Conjunto 10",
         "Rio Grande do Sul"
        ],
        [
         72,
         "2018-01-29T03:19:24.000Z",
         "Neymar",
         "Elísio",
         "neymar@teste.com",
         "9 5373-1785",
         "Brasil",
         "Rua 49 do Estado Rio Grande do Sul",
         929.0,
         null,
         "Rio Grande do Sul"
        ],
        [
         30,
         "2018-06-08T07:49:50.000Z",
         "Gabriel",
         "Teixeira",
         "gabriel@exemplo.com",
         "9 7419-5325",
         "Brasil",
         "Avenida 7 do Estado Rio Grande do Sul",
         94.0,
         null,
         "Rio Grande do Sul"
        ],
        [
         13,
         "2018-08-27T21:15:17.000Z",
         "Carolina",
         "Monteiro",
         "carolina@teste.com",
         "9 1226-4267",
         "Brasil",
         "Rua 4 do Estado Rio Grande do Sul",
         444.0,
         "Apto 21",
         "Rio Grande do Sul"
        ],
        [
         5,
         "2018-01-05T17:20:49.000Z",
         "Marcelo",
         "Barroso",
         null,
         "9 2830-2088",
         "Brasil",
         "Rua 28 do Estado Rio Grande do Sul",
         805.0,
         "Conjunto 13",
         "Rio Grande do Sul"
        ],
        [
         1,
         "2017-10-16T00:50:39.000Z",
         "Luana",
         "Almeida",
         null,
         "9 7328-8718",
         "Brasil",
         "Avenida 56 do Estado Rio Grande do Sul",
         989.0,
         "Conjunto 17",
         "Rio Grande do Sul"
        ],
        [
         89,
         "2017-12-07T19:24:54.000Z",
         "Daniela",
         "Pires",
         "daniela@usuario.com",
         "9 6666-2265",
         "Brasil",
         "Rua 31 do Estado Bahia",
         441.0,
         null,
         "Bahia"
        ],
        [
         77,
         "2018-11-30T10:29:55.000Z",
         "Ana",
         "Monteiro",
         "ana@teste.com",
         "9 3871-4132",
         "Brasil",
         "Praça 86 do Estado Bahia",
         604.0,
         "Apto 30",
         "Bahia"
        ],
        [
         58,
         "2018-09-13T03:13:02.000Z",
         "Rafael",
         "Rodrigues",
         "rafael@meu_email.com",
         "9 6550-3557",
         "Brasil",
         "Praça 94 do Estado Bahia",
         647.0,
         "Apto 25",
         "Bahia"
        ],
        [
         32,
         "2018-07-22T11:59:27.000Z",
         "Ana",
         "Campos",
         "ana@teste.com",
         "9 1932-9841",
         "Brasil",
         "Avenida 52 do Estado Bahia",
         402.0,
         null,
         "Bahia"
        ],
        [
         21,
         "2018-02-21T15:35:55.000Z",
         "Diego",
         "Freire",
         "diego@teste.com",
         "9 6686-4094",
         "Brasil",
         "Praça 4 do Estado Bahia",
         906.0,
         "Apto 20",
         "Bahia"
        ],
        [
         4,
         "2018-08-06T07:24:16.000Z",
         "Romário",
         "Teixeira",
         null,
         "9 3093-6522",
         "Brasil",
         "Praça 56 do Estado Bahia",
         191.0,
         "Apto 12",
         "Bahia"
        ],
        [
         74,
         "2018-04-22T05:00:28.000Z",
         "Júlia",
         "Almeida",
         "júlia@meu_email.com",
         "9 9208-5213",
         "Brasil",
         "Praça 25 do Estado Maranhão",
         953.0,
         "Conjunto 4",
         "Maranhão"
        ],
        [
         57,
         "2018-08-23T03:31:05.000Z",
         "Stephanie",
         "Barboza",
         "stephanie@meu_email.com",
         "9 1168-6722",
         "Brasil",
         "Avenida 25 do Estado Maranhão",
         795.0,
         null,
         "Maranhão"
        ],
        [
         46,
         "2018-07-19T08:33:32.000Z",
         "Rafael",
         "Freire",
         "rafael@exemplo.com",
         "9 8703-1006",
         "Brasil",
         "Praça 97 do Estado Maranhão",
         138.0,
         null,
         "Maranhão"
        ],
        [
         39,
         "2017-11-15T07:17:25.000Z",
         "Caio",
         "Batista",
         "caio@usuario.com",
         "9 4761-6542",
         "Brasil",
         "Avenida 87 do Estado Maranhão",
         656.0,
         "Apto 25",
         "Maranhão"
        ],
        [
         22,
         "2018-04-18T22:43:29.000Z",
         "Heitor",
         "Pereira",
         null,
         "9 4839-8118",
         "Brasil",
         "Avenida 84 do Estado Maranhão",
         948.0,
         null,
         "Maranhão"
        ],
        [
         16,
         "2017-12-12T21:29:54.000Z",
         "Laura",
         "Santos",
         "laura@exemplo.com",
         "9 7802-6152",
         "Brasil",
         "Rua 57 do Estado Maranhão",
         213.0,
         null,
         "Maranhão"
        ],
        [
         91,
         "2018-09-12T22:12:05.000Z",
         "Daniel",
         "Costa",
         "daniel@teste.com",
         "9 4761-6557",
         "Brasil",
         "Praça 25 do Estado Rio Grande do Norte",
         281.0,
         "Apto 8",
         "Rio Grande do Norte"
        ],
        [
         90,
         "2017-12-16T22:14:58.000Z",
         "Stephanie",
         "Rosa",
         null,
         "9 3040-4414",
         "Brasil",
         null,
         null,
         null,
         "Rio Grande do Norte"
        ],
        [
         85,
         "2017-11-24T12:44:36.000Z",
         "Eduardo",
         "Teixeira",
         null,
         "9 2537-7930",
         "Brasil",
         null,
         null,
         null,
         "Rio Grande do Norte"
        ],
        [
         44,
         "2018-04-08T07:18:45.000Z",
         "Júlia",
         "Costa",
         "júlia@usuario.com",
         "9 5446-9508",
         "Brasil",
         "Avenida 46 do Estado Rio Grande do Norte",
         277.0,
         "Conjunto 14",
         "Rio Grande do Norte"
        ],
        [
         29,
         "2018-06-03T17:08:52.000Z",
         "Geisa",
         "Santos",
         "geisa@meu_email.com",
         "9 4653-9739",
         "Brasil",
         "Avenida 77 do Estado Rio Grande do Norte",
         486.0,
         "Conjunto 13",
         "Rio Grande do Norte"
        ],
        [
         98,
         "2018-01-24T16:21:06.000Z",
         "Cibele",
         "Costa",
         "cibele@meu_email.com",
         "9 4211-6968",
         "Brasil",
         "Praça 75 do Estado Mato Grosso",
         24.0,
         null,
         "Mato Grosso"
        ],
        [
         66,
         "2018-10-18T04:31:59.000Z",
         "Stephanie",
         "Abreu",
         "stephanie@meu_email.com",
         "9 6466-2389",
         "Brasil",
         "Rua 19 do Estado Mato Grosso",
         53.0,
         "Conjunto 13",
         "Mato Grosso"
        ],
        [
         15,
         "2018-11-15T18:00:53.000Z",
         "Stephanie",
         "Barbosa",
         "stephanie@usuario.com",
         "9 1446-3560",
         "Brasil",
         null,
         null,
         "Conjunto 4",
         "Mato Grosso"
        ],
        [
         12,
         "2018-03-28T00:24:00.000Z",
         "Carol",
         "Barboza",
         "carol@exemplo.com",
         "9 8487-3501",
         "Brasil",
         "Rua 31 do Estado Mato Grosso",
         1.0,
         "Conjunto 23",
         "Mato Grosso"
        ],
        [
         3,
         "2018-01-17T03:02:58.000Z",
         "Daniela",
         "Avelino",
         "daniela@exemplo.com",
         "9 4642-9486",
         "Brasil",
         null,
         null,
         null,
         "Mato Grosso"
        ],
        [
         88,
         "2017-10-12T15:17:05.000Z",
         "Rafael",
         "Batista",
         "rafael@usuario.com",
         "9 8656-5668",
         "Brasil",
         "Rua 78 do Estado Ceará",
         787.0,
         "Apto 3",
         "Ceará"
        ],
        [
         68,
         "2018-11-14T11:04:35.000Z",
         "José",
         "Pires",
         "josé@usuario.com",
         "9 8189-2149",
         "Brasil",
         "Avenida 99 do Estado Ceará",
         231.0,
         null,
         "Ceará"
        ],
        [
         63,
         "2018-05-05T17:52:26.000Z",
         "Caíque",
         "Batista",
         "caíque@teste.com",
         "9 8818-5886",
         "Brasil",
         "Rua 76 do Estado Ceará",
         239.0,
         "Apto 19",
         "Ceará"
        ],
        [
         48,
         "2018-05-29T04:22:54.000Z",
         "Clarissa",
         "Albuquerque",
         "clarissa@exemplo.com",
         "9 7403-4273",
         "Brasil",
         null,
         null,
         "Apto 12",
         "Ceará"
        ],
        [
         24,
         "2018-07-25T09:34:12.000Z",
         "Jair",
         "Barroso",
         "jair@teste.com",
         "9 6679-6120",
         "Brasil",
         "Rua 86 do Estado Ceará",
         770.0,
         "Apto 21",
         "Ceará"
        ],
        [
         52,
         "2017-12-04T17:42:34.000Z",
         "Bruno",
         "Anjos",
         "bruno@teste.com",
         "9 3004-3740",
         "Brasil",
         "Rua 53 do Estado Goiás",
         825.0,
         null,
         "Goiás"
        ],
        [
         42,
         "2018-04-09T19:12:23.000Z",
         "João",
         "Almeida",
         "joão@usuario.com",
         "9 4650-1753",
         "Brasil",
         "Praça 3 do Estado Goiás",
         986.0,
         "Apto 9",
         "Goiás"
        ],
        [
         37,
         "2018-03-02T22:27:03.000Z",
         "Daniela",
         "Monteiro",
         "daniela@meu_email.com",
         "9 4704-5844",
         "Brasil",
         "Rua 43 do Estado Goiás",
         116.0,
         "Apto 28",
         "Goiás"
        ],
        [
         34,
         "2018-10-05T01:14:05.000Z",
         "José",
         "Campos",
         "josé@teste.com",
         "9 7552-4340",
         "Brasil",
         "Praça 25 do Estado Goiás",
         884.0,
         "Apto 7",
         "Goiás"
        ],
        [
         6,
         "2018-06-18T11:17:42.000Z",
         "Cristiano",
         "Elísio",
         "cristiano@exemplo.com",
         "9 3532-8404",
         "Brasil",
         "Rua 78 do Estado Goiás",
         877.0,
         "Apto 14",
         "Goiás"
        ],
        [
         78,
         "2017-11-02T22:13:22.000Z",
         "Laura",
         "Queiroz",
         "laura@exemplo.com",
         "9 6338-8617",
         "Brasil",
         "Praça 19 do Estado São Paulo",
         878.0,
         "Conjunto 3",
         "São Paulo"
        ],
        [
         59,
         "2017-12-03T16:24:32.000Z",
         "Stephanie",
         "Freire",
         "stephanie@usuario.com",
         "9 3256-1853",
         "Brasil",
         "Rua 52 do Estado São Paulo",
         34.0,
         "Apto 24",
         "São Paulo"
        ],
        [
         20,
         "2017-12-22T10:51:28.000Z",
         "Adalberto",
         "Silva",
         "adalberto@usuario.com",
         "9 1338-1447",
         "Brasil",
         "Rua 57 do Estado São Paulo",
         851.0,
         "Conjunto 20",
         "São Paulo"
        ],
        [
         2,
         "2018-06-16T17:51:29.000Z",
         "Frida",
         "Mendes",
         "frida@meu_email.com",
         "9 5906-7552",
         "Brasil",
         "Avenida 59 do Estado São Paulo",
         534.0,
         null,
         "São Paulo"
        ],
        [
         81,
         "2018-01-13T10:35:01.000Z",
         "Alice",
         "Ferreira",
         "alice@teste.com",
         "9 9005-2493",
         "Brasil",
         "Praça 53 do Estado Minas Gerais",
         83.0,
         null,
         "Minas Gerais"
        ],
        [
         50,
         "2018-08-24T07:52:23.000Z",
         "Beatriz",
         "Monteiro",
         "beatriz@teste.com",
         "9 3570-4464",
         "Brasil",
         "Avenida 17 do Estado Minas Gerais",
         223.0,
         "Conjunto 22",
         "Minas Gerais"
        ],
        [
         28,
         "2017-11-26T05:17:39.000Z",
         "Beatriz",
         "Araújo",
         "beatriz@usuario.com",
         "9 4543-3853",
         "Brasil",
         "Praça 7 do Estado Minas Gerais",
         536.0,
         "Conjunto 5",
         "Minas Gerais"
        ],
        [
         25,
         "2018-08-07T12:22:40.000Z",
         "Alice",
         "Veloso",
         "alice@exemplo.com",
         "9 9869-3706",
         "Brasil",
         "Praça 73 do Estado Minas Gerais",
         571.0,
         null,
         "Minas Gerais"
        ],
        [
         82,
         "2018-11-04T18:02:42.000Z",
         "Heitor",
         "Rocha",
         "heitor@teste.com",
         "9 3236-7429",
         "Brasil",
         "Praça 82 do Estado Espírito Santo",
         14.0,
         null,
         "Espírito Santo"
        ],
        [
         38,
         "2018-09-01T09:33:57.000Z",
         "Marcelo",
         "Mendes",
         null,
         "9 6773-1560",
         "Brasil",
         "Avenida 64 do Estado Espírito Santo",
         213.0,
         null,
         "Espírito Santo"
        ],
        [
         35,
         "2018-04-19T10:10:22.000Z",
         "Adalberto",
         "Dias",
         "adalberto@usuario.com",
         "9 8395-7004",
         "Brasil",
         "Rua 37 do Estado Espírito Santo",
         383.0,
         "Apto 13",
         "Espírito Santo"
        ],
        [
         26,
         "2018-12-12T11:56:14.000Z",
         "Eloá",
         "da Silva",
         "eloá@usuario.com",
         "9 3982-5948",
         "Brasil",
         "Avenida 98 do Estado Espírito Santo",
         706.0,
         null,
         "Espírito Santo"
        ],
        [
         70,
         "2017-10-22T12:49:39.000Z",
         "Diego",
         "Barboza",
         null,
         "9 4849-7409",
         "Brasil",
         "Avenida 3 do Estado Mato Grosso do Sul",
         250.0,
         null,
         "Mato Grosso do Sul"
        ],
        [
         67,
         "2018-08-31T18:22:52.000Z",
         "Laura",
         "Pires",
         "laura@meu_email.com",
         "9 8144-6047",
         "Brasil",
         "Praça 23 do Estado Mato Grosso do Sul",
         47.0,
         "Apto 7",
         "Mato Grosso do Sul"
        ],
        [
         45,
         "2018-05-10T23:09:25.000Z",
         "Gerson",
         "Anjos",
         "gerson@meu_email.com",
         "9 1590-8972",
         "Brasil",
         "Avenida 35 do Estado Mato Grosso do Sul",
         229.0,
         "Apto 29",
         "Mato Grosso do Sul"
        ],
        [
         31,
         "2018-07-02T22:04:08.000Z",
         "Geisa",
         "Freitas",
         "geisa@exemplo.com",
         "9 6772-5310",
         "Brasil",
         "Rua 18 do Estado Mato Grosso do Sul",
         128.0,
         null,
         "Mato Grosso do Sul"
        ],
        [
         99,
         "2018-07-24T08:26:27.000Z",
         "Jéssica",
         "Jesus",
         "jéssica@usuario.com",
         "9 6100-1466",
         "Brasil",
         "Avenida 19 do Estado Paraná",
         738.0,
         "Conjunto 22",
         "Paraná"
        ],
        [
         97,
         "2018-07-04T18:45:41.000Z",
         "Marta",
         "Góes",
         "marta@teste.com",
         "9 4102-4352",
         "Brasil",
         "Rua 61 do Estado Paraná",
         402.0,
         "Apto 24",
         "Paraná"
        ],
        [
         79,
         "2017-12-13T08:41:05.000Z",
         "Hélen",
         "Souza",
         "hélen@teste.com",
         "9 9974-1066",
         "Brasil",
         "Avenida 20 do Estado Paraná",
         661.0,
         "Conjunto 13",
         "Paraná"
        ],
        [
         33,
         "2017-12-28T12:51:34.000Z",
         "João",
         "da Silva",
         "joão@usuario.com",
         "9 2813-8103",
         "Brasil",
         "Avenida 27 do Estado Paraná",
         240.0,
         "Apto 6",
         "Paraná"
        ],
        [
         65,
         "2018-02-06T05:56:36.000Z",
         "Willian",
         "Freitas",
         null,
         "9 3043-7382",
         "Brasil",
         "Rua 91 do Estado Rio de Janeiro",
         96.0,
         "Apto 7",
         "Rio de Janeiro"
        ],
        [
         55,
         "2018-07-10T18:40:07.000Z",
         "Gabriela",
         "Pires",
         "gabriela@meu_email.com",
         "9 1214-1539",
         "Brasil",
         "Rua 32 do Estado Rio de Janeiro",
         838.0,
         "Apto 29",
         "Rio de Janeiro"
        ],
        [
         47,
         "2018-09-01T23:00:40.000Z",
         "Júlia",
         "Castro",
         "júlia@exemplo.com",
         "9 7096-1780",
         "Brasil",
         "Rua 39 do Estado Rio de Janeiro",
         983.0,
         "Conjunto 7",
         "Rio de Janeiro"
        ],
        [
         43,
         "2018-01-07T07:54:22.000Z",
         "Daniela",
         "Lima",
         null,
         "9 1763-2584",
         "Brasil",
         null,
         null,
         "Apto 20",
         "Rio de Janeiro"
        ],
        [
         92,
         "2017-10-16T16:29:15.000Z",
         "Beatriz",
         "Bueno",
         "beatriz@teste.com",
         "9 4435-2960",
         "Brasil",
         "Rua 71 do Estado Acre",
         978.0,
         "Apto 24",
         "Acre"
        ],
        [
         87,
         "2018-08-16T20:25:23.000Z",
         "Beatriz",
         "Abreu",
         "beatriz@usuario.com",
         "9 2254-6798",
         "Brasil",
         "Rua 95 do Estado Acre",
         482.0,
         "Conjunto 16",
         "Acre"
        ],
        [
         27,
         "2018-11-08T11:12:47.000Z",
         "Luan",
         "Lima",
         "luan@teste.com",
         "9 2529-8197",
         "Brasil",
         "Praça 86 do Estado Acre",
         303.0,
         "Apto 27",
         "Acre"
        ],
        [
         0,
         "2017-11-01T14:45:41.000Z",
         "Marta",
         "Jesus",
         null,
         "9 9102-7834",
         "Brasil",
         null,
         null,
         "Conjunto 16",
         "Acre"
        ],
        [
         14,
         "2017-11-12T03:02:41.000Z",
         "Francisco",
         "Nascimento",
         "francisco@exemplo.com",
         "9 7264-9020",
         "Brasil",
         "Rua 75 do Estado Distrito Federal",
         47.0,
         null,
         "Distrito Federal"
        ],
        [
         9,
         "2018-11-11T11:48:41.000Z",
         "Luan",
         "Dias",
         "luan@exemplo.com",
         "9 2417-3678",
         "Brasil",
         "Avenida 54 do Estado Distrito Federal",
         889.0,
         "Conjunto 14",
         "Distrito Federal"
        ],
        [
         7,
         "2018-02-08T12:36:09.000Z",
         "Everton",
         "Barbosa",
         "everton@meu_email.com",
         "9 2553-4087",
         "Brasil",
         "Avenida 86 do Estado Distrito Federal",
         864.0,
         "Apto 14",
         "Distrito Federal"
        ],
        [
         94,
         "2018-10-29T11:39:58.000Z",
         "Cristiano",
         "Pereira",
         "cristiano@meu_email.com",
         "9 4404-8717",
         "Brasil",
         "Praça 100 do Estado Piauí",
         809.0,
         null,
         "Piauí"
        ],
        [
         56,
         "2017-12-01T22:40:40.000Z",
         "Cristiano",
         "Fagundes",
         "cristiano@usuario.com",
         "9 7680-6400",
         "Brasil",
         "Avenida 20 do Estado Piauí",
         236.0,
         "Apto 30",
         "Piauí"
        ],
        [
         19,
         "2018-10-20T19:31:52.000Z",
         "Caíque",
         "Monteiro",
         "caíque@exemplo.com",
         "9 9793-9986",
         "Brasil",
         null,
         null,
         "Conjunto 13",
         "Piauí"
        ],
        [
         60,
         "2018-06-26T18:47:12.000Z",
         "Carol",
         "Bueno",
         "carol@usuario.com",
         "9 9814-4736",
         "Brasil",
         "Rua 10 do Estado Santa Catarina",
         47.0,
         "Conjunto 12",
         "Santa Catarina"
        ],
        [
         10,
         "2017-12-16T15:41:00.000Z",
         "Mariana",
         "Alves",
         "mariana@meu_email.com",
         "9 1846-6377",
         "Brasil",
         null,
         null,
         null,
         "Santa Catarina"
        ],
        [
         8,
         "2017-12-16T20:47:03.000Z",
         "Gabriela",
         "Alves",
         "gabriela@exemplo.com",
         "9 1353-8433",
         "Brasil",
         null,
         null,
         null,
         "Santa Catarina"
        ],
        [
         83,
         "2018-01-05T00:15:03.000Z",
         "Frida",
         "Freire",
         null,
         "9 4760-1383",
         "Brasil",
         "Rua 25 do Estado Alagoas",
         679.0,
         "Conjunto 9",
         "Alagoas"
        ],
        [
         80,
         "2018-10-10T00:06:32.000Z",
         "Daniela",
         "Góes",
         "daniela@usuario.com",
         "9 5394-6677",
         "Brasil",
         "Praça 22 do Estado Alagoas",
         235.0,
         null,
         "Alagoas"
        ],
        [
         18,
         "2018-06-28T04:53:52.000Z",
         "Jair",
         "Magalhães",
         "jair@exemplo.com",
         "9 8368-1315",
         "Brasil",
         "Avenida 74 do Estado Alagoas",
         118.0,
         "Conjunto 8",
         "Alagoas"
        ],
        [
         61,
         "2018-04-30T18:36:56.000Z",
         "Francisco",
         "Abreu",
         "francisco@exemplo.com",
         "9 6754-1775",
         "Brasil",
         "Rua 72 do Estado Amapá",
         50.0,
         "Apto 12",
         "Amapá"
        ],
        [
         40,
         "2018-08-17T13:21:08.000Z",
         "Gabriela",
         "Nascimento",
         "gabriela@teste.com",
         "9 5382-5772",
         "Brasil",
         "Avenida 85 do Estado Amapá",
         476.0,
         null,
         "Amapá"
        ],
        [
         86,
         "2018-03-12T09:30:24.000Z",
         "Adalberto",
         "Oliveira",
         "adalberto@teste.com",
         "9 3081-3441",
         "Brasil",
         "Rua 40 do Estado Roraima",
         401.0,
         "Conjunto 17",
         "Roraima"
        ],
        [
         75,
         "2018-06-21T14:28:03.000Z",
         "Marta",
         "Abreu",
         null,
         "9 9024-3467",
         "Brasil",
         "Avenida 67 do Estado Roraima",
         410.0,
         "Conjunto 23",
         "Roraima"
        ],
        [
         96,
         "2018-01-23T19:14:21.000Z",
         "Paulo",
         "Câmara",
         "paulo@usuario.com",
         "9 4785-1135",
         "Brasil",
         "Praça 73 do Estado Sergipe",
         219.0,
         "Apto 6",
         "Sergipe"
        ],
        [
         11,
         "2018-05-16T03:39:52.000Z",
         "James",
         "Albuquerque",
         null,
         "9 2430-5905",
         "Brasil",
         "Rua 30 do Estado Sergipe",
         229.0,
         null,
         "Sergipe"
        ],
        [
         95,
         "2018-10-01T11:35:59.000Z",
         "Mariana",
         "Rosa",
         "mariana@usuario.com",
         "9 3139-2145",
         "Brasil",
         null,
         null,
         null,
         null
        ],
        [
         84,
         "2018-11-01T15:39:40.000Z",
         "Carol",
         "Bueno",
         "carol@meu_email.com",
         "9 3760-2211",
         "Brasil",
         null,
         null,
         "Conjunto 26",
         null
        ],
        [
         73,
         "2018-02-03T07:37:38.000Z",
         "Cristiano",
         "Almeida",
         "cristiano@usuario.com",
         "9 2630-9907",
         "Brasil",
         null,
         null,
         "Conjunto 24",
         null
        ],
        [
         36,
         "2018-01-26T03:29:13.000Z",
         "Mariana",
         "Góes",
         "mariana@meu_email.com",
         "9 7324-4293",
         "Brasil",
         null,
         null,
         "Apto 25",
         null
        ],
        [
         69,
         "2018-02-20T19:16:26.000Z",
         "Gustavo",
         "Cardoso",
         "gustavo@teste.com",
         "9 7594-9211",
         "Brasil",
         "Praça 52 do Estado Amazonas",
         698.0,
         null,
         "Amazonas"
        ],
        [
         23,
         "2017-10-26T00:35:22.000Z",
         "Maria",
         "Pires",
         null,
         "9 8229-1067",
         "Brasil",
         "Avenida 80 do Estado Amazonas",
         581.0,
         null,
         "Amazonas"
        ],
        [
         54,
         "2018-01-25T02:11:25.000Z",
         "Diego",
         "Teixeira",
         "diego@exemplo.com",
         "9 5247-1737",
         "Brasil",
         "Rua 8 do Estado Pará",
         722.0,
         "Conjunto 16",
         "Pará"
        ],
        [
         49,
         "2018-11-01T02:13:51.000Z",
         "Júlia",
         "Sousa",
         "júlia@exemplo.com",
         "9 2094-8467",
         "Brasil",
         "Rua 12 do Estado Rondônia",
         260.0,
         "Apto 27",
         "Rondônia"
        ]
       ],
       "datasetInfos": [],
       "dbfsResultPath": null,
       "isJsonSchema": true,
       "metadata": {},
       "overflow": false,
       "plotOptions": {
        "customPlotOptions": {},
        "displayType": "table",
        "pivotAggregation": null,
        "pivotColumns": null,
        "xColumns": null,
        "yColumns": null
       },
       "removedWidgets": [],
       "schema": [
        {
         "metadata": "{}",
         "name": "id",
         "type": "\"integer\""
        },
        {
         "metadata": "{}",
         "name": "created_at",
         "type": "\"timestamp\""
        },
        {
         "metadata": "{}",
         "name": "first_name",
         "type": "\"string\""
        },
        {
         "metadata": "{}",
         "name": "last_name",
         "type": "\"string\""
        },
        {
         "metadata": "{}",
         "name": "email",
         "type": "\"string\""
        },
        {
         "metadata": "{}",
         "name": "cell_phone",
         "type": "\"string\""
        },
        {
         "metadata": "{}",
         "name": "country",
         "type": "\"string\""
        },
        {
         "metadata": "{}",
         "name": "street",
         "type": "\"string\""
        },
        {
         "metadata": "{}",
         "name": "number",
         "type": "\"double\""
        },
        {
         "metadata": "{}",
         "name": "additionals",
         "type": "\"string\""
        },
        {
         "metadata": "{}",
         "name": "state",
         "type": "\"string\""
        }
       ],
       "type": "table"
      }
     },
     "output_type": "display_data"
    }
   ],
   "source": [
    "#Ler Arquivo particionado (Geral) \n",
    "state_CA = spark.read.parquet('dbfs:/Volumes/workspace/default/arquivos-aula/DiferentesSaidas/Contato_Particionado.parquet')\n",
    "display(state_CA)"
   ]
  },
  {
   "cell_type": "code",
   "execution_count": 0,
   "metadata": {
    "application/vnd.databricks.v1+cell": {
     "cellMetadata": {},
     "inputWidgets": {},
     "nuid": "a51fc20e-2d8c-4377-be74-21c313be1801",
     "showTitle": false,
     "tableResultSettingsMap": {},
     "title": ""
    }
   },
   "outputs": [],
   "source": []
  }
 ],
 "metadata": {
  "application/vnd.databricks.v1+notebook": {
   "computePreferences": null,
   "dashboards": [],
   "environmentMetadata": null,
   "inputWidgetPreferences": null,
   "language": "python",
   "notebookMetadata": {
    "mostRecentlyExecutedCommandWithImplicitDF": {
     "commandId": 6412191759971782,
     "dataframes": [
      "_sqldf"
     ]
    },
    "pythonIndentUnit": 4
   },
   "notebookName": "03. Transformado Consulta de Tabela SQL em DataFlame",
   "widgets": {}
  },
  "language_info": {
   "name": "python"
  }
 },
 "nbformat": 4,
 "nbformat_minor": 0
}