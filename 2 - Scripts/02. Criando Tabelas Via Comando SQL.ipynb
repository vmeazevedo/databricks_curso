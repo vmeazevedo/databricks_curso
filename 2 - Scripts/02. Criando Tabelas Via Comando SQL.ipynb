{
 "cells": [
  {
   "cell_type": "code",
   "execution_count": 0,
   "metadata": {
    "application/vnd.databricks.v1+cell": {
     "cellMetadata": {
      "byteLimit": 2048000,
      "rowLimit": 10000
     },
     "inputWidgets": {},
     "nuid": "ede20b8a-9f2a-4882-9173-2e6cf95825a4",
     "showTitle": false,
     "tableResultSettingsMap": {},
     "title": ""
    }
   },
   "outputs": [],
   "source": [
    "#Obs quando seu Cluster Desligar vai perder os dados do Banco de dados e tabelas criadas (Database Tables)\n",
    "# Dados do DBFS não sao perdidos"
   ]
  },
  {
   "cell_type": "markdown",
   "metadata": {
    "application/vnd.databricks.v1+cell": {
     "cellMetadata": {},
     "inputWidgets": {},
     "nuid": "8aa963af-7eee-4b8d-826e-2baae7ac89e6",
     "showTitle": false,
     "tableResultSettingsMap": {},
     "title": ""
    }
   },
   "source": [
    "##### Criando Banco de dados "
   ]
  },
  {
   "cell_type": "code",
   "execution_count": 0,
   "metadata": {
    "application/vnd.databricks.v1+cell": {
     "cellMetadata": {
      "byteLimit": 2048000,
      "rowLimit": 10000
     },
     "inputWidgets": {},
     "nuid": "c98fe9a5-1270-4fc6-9a38-f5f1fc9f779d",
     "showTitle": false,
     "tableResultSettingsMap": {},
     "title": ""
    }
   },
   "outputs": [
    {
     "output_type": "display_data",
     "data": {
      "text/html": [
       "<style scoped>\n",
       "  .table-result-container {\n",
       "    max-height: 300px;\n",
       "    overflow: auto;\n",
       "  }\n",
       "  table, th, td {\n",
       "    border: 1px solid black;\n",
       "    border-collapse: collapse;\n",
       "  }\n",
       "  th, td {\n",
       "    padding: 5px;\n",
       "  }\n",
       "  th {\n",
       "    text-align: left;\n",
       "  }\n",
       "</style><div class='table-result-container'><table class='table-result'><thead style='background-color: white'><tr><th>path</th><th>name</th><th>size</th><th>modificationTime</th></tr></thead><tbody><tr><td>dbfs:/Volumes/workspace/default/arquivos-aula/Bike Store/brands.csv</td><td>brands.csv</td><td>120</td><td>1755101626000</td></tr><tr><td>dbfs:/Volumes/workspace/default/arquivos-aula/Bike Store/categories.csv</td><td>categories.csv</td><td>162</td><td>1755101626000</td></tr><tr><td>dbfs:/Volumes/workspace/default/arquivos-aula/Bike Store/customers.csv</td><td>customers.csv</td><td>127671</td><td>1755101626000</td></tr><tr><td>dbfs:/Volumes/workspace/default/arquivos-aula/Bike Store/order_items.csv</td><td>order_items.csv</td><td>112937</td><td>1755101626000</td></tr><tr><td>dbfs:/Volumes/workspace/default/arquivos-aula/Bike Store/orders.csv</td><td>orders.csv</td><td>77286</td><td>1755101626000</td></tr><tr><td>dbfs:/Volumes/workspace/default/arquivos-aula/Bike Store/products.csv</td><td>products.csv</td><td>17390</td><td>1755101626000</td></tr><tr><td>dbfs:/Volumes/workspace/default/arquivos-aula/Bike Store/schema.png</td><td>schema.png</td><td>12013</td><td>1755101626000</td></tr><tr><td>dbfs:/Volumes/workspace/default/arquivos-aula/Bike Store/staffs.csv</td><td>staffs.csv</td><td>726</td><td>1755101626000</td></tr><tr><td>dbfs:/Volumes/workspace/default/arquivos-aula/Bike Store/stocks.csv</td><td>stocks.csv</td><td>8773</td><td>1755101626000</td></tr><tr><td>dbfs:/Volumes/workspace/default/arquivos-aula/Bike Store/stores.csv</td><td>stores.csv</td><td>330</td><td>1755101626000</td></tr></tbody></table></div>"
      ]
     },
     "metadata": {
      "application/vnd.databricks.v1+output": {
       "addedWidgets": {},
       "aggData": [],
       "aggError": "",
       "aggOverflow": false,
       "aggSchema": [],
       "aggSeriesLimitReached": false,
       "aggType": "",
       "arguments": {},
       "columnCustomDisplayInfos": {},
       "data": [
        [
         "dbfs:/Volumes/workspace/default/arquivos-aula/Bike Store/brands.csv",
         "brands.csv",
         120,
         1755101626000
        ],
        [
         "dbfs:/Volumes/workspace/default/arquivos-aula/Bike Store/categories.csv",
         "categories.csv",
         162,
         1755101626000
        ],
        [
         "dbfs:/Volumes/workspace/default/arquivos-aula/Bike Store/customers.csv",
         "customers.csv",
         127671,
         1755101626000
        ],
        [
         "dbfs:/Volumes/workspace/default/arquivos-aula/Bike Store/order_items.csv",
         "order_items.csv",
         112937,
         1755101626000
        ],
        [
         "dbfs:/Volumes/workspace/default/arquivos-aula/Bike Store/orders.csv",
         "orders.csv",
         77286,
         1755101626000
        ],
        [
         "dbfs:/Volumes/workspace/default/arquivos-aula/Bike Store/products.csv",
         "products.csv",
         17390,
         1755101626000
        ],
        [
         "dbfs:/Volumes/workspace/default/arquivos-aula/Bike Store/schema.png",
         "schema.png",
         12013,
         1755101626000
        ],
        [
         "dbfs:/Volumes/workspace/default/arquivos-aula/Bike Store/staffs.csv",
         "staffs.csv",
         726,
         1755101626000
        ],
        [
         "dbfs:/Volumes/workspace/default/arquivos-aula/Bike Store/stocks.csv",
         "stocks.csv",
         8773,
         1755101626000
        ],
        [
         "dbfs:/Volumes/workspace/default/arquivos-aula/Bike Store/stores.csv",
         "stores.csv",
         330,
         1755101626000
        ]
       ],
       "datasetInfos": [],
       "dbfsResultPath": null,
       "isJsonSchema": true,
       "metadata": {},
       "overflow": false,
       "plotOptions": {
        "customPlotOptions": {},
        "displayType": "table",
        "pivotAggregation": null,
        "pivotColumns": null,
        "xColumns": null,
        "yColumns": null
       },
       "removedWidgets": [],
       "schema": [
        {
         "metadata": "{}",
         "name": "path",
         "type": "\"string\""
        },
        {
         "metadata": "{}",
         "name": "name",
         "type": "\"string\""
        },
        {
         "metadata": "{}",
         "name": "size",
         "type": "\"long\""
        },
        {
         "metadata": "{}",
         "name": "modificationTime",
         "type": "\"long\""
        }
       ],
       "type": "table"
      }
     },
     "output_type": "display_data"
    }
   ],
   "source": [
    "display(dbutils.fs.ls(\"/Volumes/workspace/default/arquivos-aula/Bike Store/\"))\n",
    "\n"
   ]
  },
  {
   "cell_type": "code",
   "execution_count": 0,
   "metadata": {
    "application/vnd.databricks.v1+cell": {
     "cellMetadata": {
      "byteLimit": 2048000,
      "implicitDf": true,
      "rowLimit": 10000
     },
     "inputWidgets": {},
     "nuid": "29c0ae81-ebe1-4de0-9291-9702222e9d2a",
     "showTitle": false,
     "tableResultSettingsMap": {},
     "title": ""
    }
   },
   "outputs": [],
   "source": [
    "%sql\n",
    "CREATE DATABASE IF NOT EXISTS workspace.teste;\n",
    "USE workspace.teste;\n"
   ]
  },
  {
   "cell_type": "markdown",
   "metadata": {
    "application/vnd.databricks.v1+cell": {
     "cellMetadata": {},
     "inputWidgets": {},
     "nuid": "f3168ddb-640f-420b-9124-0e2169d64a31",
     "showTitle": false,
     "tableResultSettingsMap": {},
     "title": ""
    }
   },
   "source": [
    "##### Criando tabela de Produtos"
   ]
  },
  {
   "cell_type": "code",
   "execution_count": 0,
   "metadata": {
    "application/vnd.databricks.v1+cell": {
     "cellMetadata": {
      "byteLimit": 2048000,
      "implicitDf": true,
      "rowLimit": 10000
     },
     "inputWidgets": {},
     "nuid": "a0af5ce0-b376-49ba-9657-d207e68d0b6e",
     "showTitle": false,
     "tableResultSettingsMap": {},
     "title": ""
    }
   },
   "outputs": [
    {
     "output_type": "display_data",
     "data": {
      "text/html": [
       "<style scoped>\n",
       "  .table-result-container {\n",
       "    max-height: 300px;\n",
       "    overflow: auto;\n",
       "  }\n",
       "  table, th, td {\n",
       "    border: 1px solid black;\n",
       "    border-collapse: collapse;\n",
       "  }\n",
       "  th, td {\n",
       "    padding: 5px;\n",
       "  }\n",
       "  th {\n",
       "    text-align: left;\n",
       "  }\n",
       "</style><div class='table-result-container'><table class='table-result'><thead style='background-color: white'><tr><th>num_affected_rows</th><th>num_inserted_rows</th></tr></thead><tbody></tbody></table></div>"
      ]
     },
     "metadata": {
      "application/vnd.databricks.v1+output": {
       "addedWidgets": {},
       "aggData": [],
       "aggError": "",
       "aggOverflow": false,
       "aggSchema": [],
       "aggSeriesLimitReached": false,
       "aggType": "",
       "arguments": {},
       "columnCustomDisplayInfos": {},
       "data": [],
       "datasetInfos": [
        {
         "name": "_sqldf",
         "schema": {
          "fields": [
           {
            "metadata": {},
            "name": "num_affected_rows",
            "nullable": true,
            "type": "long"
           },
           {
            "metadata": {},
            "name": "num_inserted_rows",
            "nullable": true,
            "type": "long"
           }
          ],
          "type": "struct"
         },
         "tableIdentifier": null,
         "typeStr": "pyspark.sql.connect.dataframe.DataFrame"
        }
       ],
       "dbfsResultPath": null,
       "isJsonSchema": true,
       "metadata": {
        "createTempViewForImplicitDf": true,
        "dataframeName": "_sqldf",
        "executionCount": 63
       },
       "overflow": false,
       "plotOptions": {
        "customPlotOptions": {},
        "displayType": "table",
        "pivotAggregation": null,
        "pivotColumns": null,
        "xColumns": null,
        "yColumns": null
       },
       "removedWidgets": [],
       "schema": [
        {
         "metadata": "{}",
         "name": "num_affected_rows",
         "type": "\"long\""
        },
        {
         "metadata": "{}",
         "name": "num_inserted_rows",
         "type": "\"long\""
        }
       ],
       "type": "table"
      }
     },
     "output_type": "display_data"
    }
   ],
   "source": [
    "%sql\n",
    "\n",
    "-- 1️⃣ Criar uma view temporária lendo o CSV com header\n",
    "CREATE OR REPLACE TEMPORARY VIEW produtos_tmp\n",
    "USING CSV\n",
    "OPTIONS (\n",
    "  path '/Volumes/workspace/default/arquivos-aula/Bike Store/products.csv',\n",
    "  header 'true',\n",
    "  inferSchema 'true'\n",
    ");\n",
    "\n",
    "-- 2️⃣ Criar a tabela final a partir da view\n",
    "CREATE TABLE IF NOT EXISTS Produtos AS\n",
    "SELECT * FROM produtos_tmp;\n",
    "\n"
   ]
  },
  {
   "cell_type": "code",
   "execution_count": 0,
   "metadata": {
    "application/vnd.databricks.v1+cell": {
     "cellMetadata": {
      "byteLimit": 2048000,
      "implicitDf": true,
      "rowLimit": 10000
     },
     "inputWidgets": {},
     "nuid": "82f4e886-1ee3-4fbb-9039-365878b433f3",
     "showTitle": false,
     "tableResultSettingsMap": {
      "0": {
       "dataGridStateBlob": "{\"version\":1,\"tableState\":{\"columnPinning\":{\"left\":[\"#row_number#\"],\"right\":[]},\"columnSizing\":{},\"columnVisibility\":{}},\"settings\":{\"columns\":{}},\"syncTimestamp\":1755196179673}",
       "filterBlob": null,
       "queryPlanFiltersBlob": null,
       "tableResultIndex": 0
      }
     },
     "title": ""
    }
   },
   "outputs": [
    {
     "output_type": "display_data",
     "data": {
      "text/html": [
       "<style scoped>\n",
       "  .table-result-container {\n",
       "    max-height: 300px;\n",
       "    overflow: auto;\n",
       "  }\n",
       "  table, th, td {\n",
       "    border: 1px solid black;\n",
       "    border-collapse: collapse;\n",
       "  }\n",
       "  th, td {\n",
       "    padding: 5px;\n",
       "  }\n",
       "  th {\n",
       "    text-align: left;\n",
       "  }\n",
       "</style><div class='table-result-container'><table class='table-result'><thead style='background-color: white'><tr><th>product_id</th><th>product_name</th><th>brand_id</th><th>category_id</th><th>model_year</th><th>list_price</th></tr></thead><tbody><tr><td>1</td><td>Trek 820 - 2016</td><td>9</td><td>6</td><td>2016</td><td>379.99</td></tr><tr><td>2</td><td>Ritchey Timberwolf Frameset - 2016</td><td>5</td><td>6</td><td>2016</td><td>749.99</td></tr><tr><td>3</td><td>Surly Wednesday Frameset - 2016</td><td>8</td><td>6</td><td>2016</td><td>999.99</td></tr><tr><td>4</td><td>Trek Fuel EX 8 29 - 2016</td><td>9</td><td>6</td><td>2016</td><td>2899.99</td></tr><tr><td>5</td><td>Heller Shagamaw Frame - 2016</td><td>3</td><td>6</td><td>2016</td><td>1320.99</td></tr><tr><td>6</td><td>Surly Ice Cream Truck Frameset - 2016</td><td>8</td><td>6</td><td>2016</td><td>469.99</td></tr><tr><td>7</td><td>Trek Slash 8 27.5 - 2016</td><td>9</td><td>6</td><td>2016</td><td>3999.99</td></tr><tr><td>8</td><td>Trek Remedy 29 Carbon Frameset - 2016</td><td>9</td><td>6</td><td>2016</td><td>1799.99</td></tr><tr><td>9</td><td>Trek Conduit+ - 2016</td><td>9</td><td>5</td><td>2016</td><td>2999.99</td></tr><tr><td>10</td><td>Surly Straggler - 2016</td><td>8</td><td>4</td><td>2016</td><td>1549.0</td></tr><tr><td>11</td><td>Surly Straggler 650b - 2016</td><td>8</td><td>4</td><td>2016</td><td>1680.99</td></tr><tr><td>12</td><td>Electra Townie Original 21D - 2016</td><td>1</td><td>3</td><td>2016</td><td>549.99</td></tr><tr><td>13</td><td>Electra Cruiser 1 (24-Inch) - 2016</td><td>1</td><td>3</td><td>2016</td><td>269.99</td></tr><tr><td>14</td><td>Electra Girl's Hawaii 1 (16-inch) - 2015/2016</td><td>1</td><td>3</td><td>2016</td><td>269.99</td></tr><tr><td>15</td><td>Electra Moto 1 - 2016</td><td>1</td><td>3</td><td>2016</td><td>529.99</td></tr><tr><td>16</td><td>Electra Townie Original 7D EQ - 2016</td><td>1</td><td>3</td><td>2016</td><td>599.99</td></tr><tr><td>17</td><td>Pure Cycles Vine 8-Speed - 2016</td><td>4</td><td>3</td><td>2016</td><td>429.0</td></tr><tr><td>18</td><td>Pure Cycles Western 3-Speed - Women's - 2015/2016</td><td>4</td><td>3</td><td>2016</td><td>449.0</td></tr><tr><td>19</td><td>Pure Cycles William 3-Speed - 2016</td><td>4</td><td>3</td><td>2016</td><td>449.0</td></tr><tr><td>20</td><td>Electra Townie Original 7D EQ - Women's - 2016</td><td>1</td><td>3</td><td>2016</td><td>599.99</td></tr><tr><td>21</td><td>Electra Cruiser 1 (24-Inch) - 2016</td><td>1</td><td>1</td><td>2016</td><td>269.99</td></tr><tr><td>22</td><td>Electra Girl's Hawaii 1 (16-inch) - 2015/2016</td><td>1</td><td>1</td><td>2016</td><td>269.99</td></tr><tr><td>23</td><td>Electra Girl's Hawaii 1 (20-inch) - 2015/2016</td><td>1</td><td>1</td><td>2016</td><td>299.99</td></tr><tr><td>24</td><td>Electra Townie Original 21D - 2016</td><td>1</td><td>2</td><td>2016</td><td>549.99</td></tr><tr><td>25</td><td>Electra Townie Original 7D - 2015/2016</td><td>1</td><td>2</td><td>2016</td><td>499.99</td></tr><tr><td>26</td><td>Electra Townie Original 7D EQ - 2016</td><td>1</td><td>2</td><td>2016</td><td>599.99</td></tr><tr><td>27</td><td>Surly Big Dummy Frameset - 2017</td><td>8</td><td>6</td><td>2017</td><td>999.99</td></tr><tr><td>28</td><td>Surly Karate Monkey 27.5+ Frameset - 2017</td><td>8</td><td>6</td><td>2017</td><td>2499.99</td></tr><tr><td>29</td><td>Trek X-Caliber 8 - 2017</td><td>9</td><td>6</td><td>2017</td><td>999.99</td></tr><tr><td>30</td><td>Surly Ice Cream Truck Frameset - 2017</td><td>8</td><td>6</td><td>2017</td><td>999.99</td></tr><tr><td>31</td><td>Surly Wednesday - 2017</td><td>8</td><td>6</td><td>2017</td><td>1632.99</td></tr><tr><td>32</td><td>Trek Farley Alloy Frameset - 2017</td><td>9</td><td>6</td><td>2017</td><td>469.99</td></tr><tr><td>33</td><td>Surly Wednesday Frameset - 2017</td><td>8</td><td>6</td><td>2017</td><td>469.99</td></tr><tr><td>34</td><td>Trek Session DH 27.5 Carbon Frameset - 2017</td><td>9</td><td>6</td><td>2017</td><td>469.99</td></tr><tr><td>35</td><td>Sun Bicycles Spider 3i - 2017</td><td>7</td><td>6</td><td>2017</td><td>832.99</td></tr><tr><td>36</td><td>Surly Troll Frameset - 2017</td><td>8</td><td>6</td><td>2017</td><td>832.99</td></tr><tr><td>37</td><td>Haro Flightline One ST - 2017</td><td>2</td><td>6</td><td>2017</td><td>379.99</td></tr><tr><td>38</td><td>Haro Flightline Two 26 Plus - 2017</td><td>2</td><td>6</td><td>2017</td><td>549.99</td></tr><tr><td>39</td><td>Trek Stache 5 - 2017</td><td>9</td><td>6</td><td>2017</td><td>1499.99</td></tr><tr><td>40</td><td>Trek Fuel EX 9.8 29 - 2017</td><td>9</td><td>6</td><td>2017</td><td>4999.99</td></tr><tr><td>41</td><td>Haro Shift R3 - 2017</td><td>2</td><td>6</td><td>2017</td><td>1469.99</td></tr><tr><td>42</td><td>Trek Fuel EX 5 27.5 Plus - 2017</td><td>9</td><td>6</td><td>2017</td><td>2299.99</td></tr><tr><td>43</td><td>Trek Fuel EX 9.8 27.5 Plus - 2017</td><td>9</td><td>6</td><td>2017</td><td>5299.99</td></tr><tr><td>44</td><td>Haro SR 1.1 - 2017</td><td>2</td><td>6</td><td>2017</td><td>539.99</td></tr><tr><td>45</td><td>Haro SR 1.2 - 2017</td><td>2</td><td>6</td><td>2017</td><td>869.99</td></tr><tr><td>46</td><td>Haro SR 1.3 - 2017</td><td>2</td><td>6</td><td>2017</td><td>1409.99</td></tr><tr><td>47</td><td>Trek Remedy 9.8 - 2017</td><td>9</td><td>6</td><td>2017</td><td>5299.99</td></tr><tr><td>48</td><td>Trek Emonda S 4 - 2017</td><td>9</td><td>7</td><td>2017</td><td>1499.99</td></tr><tr><td>49</td><td>Trek Domane SL 6 - 2017</td><td>9</td><td>7</td><td>2017</td><td>3499.99</td></tr><tr><td>50</td><td>Trek Silque SLR 7 Women's - 2017</td><td>9</td><td>7</td><td>2017</td><td>5999.99</td></tr><tr><td>51</td><td>Trek Silque SLR 8 Women's - 2017</td><td>9</td><td>7</td><td>2017</td><td>6499.99</td></tr><tr><td>52</td><td>Surly Steamroller - 2017</td><td>8</td><td>7</td><td>2017</td><td>875.99</td></tr><tr><td>53</td><td>Surly Ogre Frameset - 2017</td><td>8</td><td>7</td><td>2017</td><td>749.99</td></tr><tr><td>54</td><td>Trek Domane SL Disc Frameset - 2017</td><td>9</td><td>7</td><td>2017</td><td>3199.99</td></tr><tr><td>55</td><td>Trek Domane S 6 - 2017</td><td>9</td><td>7</td><td>2017</td><td>2699.99</td></tr><tr><td>56</td><td>Trek Domane SLR 6 Disc - 2017</td><td>9</td><td>7</td><td>2017</td><td>5499.99</td></tr><tr><td>57</td><td>Trek Emonda S 5 - 2017</td><td>9</td><td>7</td><td>2017</td><td>1999.99</td></tr><tr><td>58</td><td>Trek Madone 9.2 - 2017</td><td>9</td><td>7</td><td>2017</td><td>4999.99</td></tr><tr><td>59</td><td>Trek Domane S 5 Disc - 2017</td><td>9</td><td>7</td><td>2017</td><td>2599.99</td></tr><tr><td>60</td><td>Sun Bicycles ElectroLite - 2017</td><td>7</td><td>5</td><td>2017</td><td>1559.99</td></tr><tr><td>61</td><td>Trek Powerfly 8 FS Plus - 2017</td><td>9</td><td>5</td><td>2017</td><td>4999.99</td></tr><tr><td>62</td><td>Trek Boone 7 - 2017</td><td>9</td><td>4</td><td>2017</td><td>3499.99</td></tr><tr><td>63</td><td>Trek Boone Race Shop Limited - 2017</td><td>9</td><td>4</td><td>2017</td><td>3499.99</td></tr><tr><td>64</td><td>Electra Townie Original 7D - 2017</td><td>1</td><td>3</td><td>2017</td><td>489.99</td></tr><tr><td>65</td><td>Sun Bicycles Lil Bolt Type-R - 2017</td><td>7</td><td>3</td><td>2017</td><td>346.99</td></tr><tr><td>66</td><td>Sun Bicycles Revolutions 24 - 2017</td><td>7</td><td>3</td><td>2017</td><td>250.99</td></tr><tr><td>67</td><td>Sun Bicycles Revolutions 24 - Girl's - 2017</td><td>7</td><td>3</td><td>2017</td><td>250.99</td></tr><tr><td>68</td><td>Sun Bicycles Cruz 3 - 2017</td><td>7</td><td>3</td><td>2017</td><td>449.99</td></tr><tr><td>69</td><td>Sun Bicycles Cruz 7 - 2017</td><td>7</td><td>3</td><td>2017</td><td>416.99</td></tr><tr><td>70</td><td>Electra Amsterdam Original 3i - 2015/2017</td><td>1</td><td>3</td><td>2017</td><td>659.99</td></tr><tr><td>71</td><td>Sun Bicycles Atlas X-Type - 2017</td><td>7</td><td>3</td><td>2017</td><td>416.99</td></tr><tr><td>72</td><td>Sun Bicycles Biscayne Tandem 7 - 2017</td><td>7</td><td>3</td><td>2017</td><td>619.99</td></tr><tr><td>73</td><td>Sun Bicycles Brickell Tandem 7 - 2017</td><td>7</td><td>3</td><td>2017</td><td>749.99</td></tr><tr><td>74</td><td>Electra Cruiser Lux 1 - 2017</td><td>1</td><td>3</td><td>2017</td><td>439.99</td></tr><tr><td>75</td><td>Electra Cruiser Lux Fat Tire 1 Ladies - 2017</td><td>1</td><td>3</td><td>2017</td><td>599.99</td></tr><tr><td>76</td><td>\"Electra Girl's Hawaii 1 16\"\" - 2017\"</td><td>1</td><td>3</td><td>2017</td><td>299.99</td></tr><tr><td>77</td><td>Electra Glam Punk 3i Ladies' - 2017</td><td>1</td><td>3</td><td>2017</td><td>799.99</td></tr><tr><td>78</td><td>Sun Bicycles Biscayne Tandem CB - 2017</td><td>7</td><td>3</td><td>2017</td><td>647.99</td></tr><tr><td>79</td><td>Sun Bicycles Boardwalk (24-inch Wheels) - 2017</td><td>7</td><td>3</td><td>2017</td><td>402.99</td></tr><tr><td>80</td><td>Sun Bicycles Brickell Tandem CB - 2017</td><td>7</td><td>3</td><td>2017</td><td>761.99</td></tr><tr><td>81</td><td>Electra Amsterdam Fashion 7i Ladies' - 2017</td><td>1</td><td>3</td><td>2017</td><td>1099.99</td></tr><tr><td>82</td><td>Electra Amsterdam Original 3i Ladies' - 2017</td><td>1</td><td>3</td><td>2017</td><td>659.99</td></tr><tr><td>83</td><td>Trek Boy's Kickster - 2015/2017</td><td>9</td><td>1</td><td>2017</td><td>149.99</td></tr><tr><td>84</td><td>Sun Bicycles Lil Kitt'n - 2017</td><td>7</td><td>1</td><td>2017</td><td>109.99</td></tr><tr><td>85</td><td>Haro Downtown 16 - 2017</td><td>2</td><td>1</td><td>2017</td><td>329.99</td></tr><tr><td>86</td><td>Trek Girl's Kickster - 2017</td><td>9</td><td>1</td><td>2017</td><td>149.99</td></tr><tr><td>87</td><td>Trek Precaliber 12 Boys - 2017</td><td>9</td><td>1</td><td>2017</td><td>189.99</td></tr><tr><td>88</td><td>Trek Precaliber 12 Girls - 2017</td><td>9</td><td>1</td><td>2017</td><td>189.99</td></tr><tr><td>89</td><td>Trek Precaliber 16 Boys - 2017</td><td>9</td><td>1</td><td>2017</td><td>209.99</td></tr><tr><td>90</td><td>Trek Precaliber 16 Girls - 2017</td><td>9</td><td>1</td><td>2017</td><td>209.99</td></tr><tr><td>91</td><td>Trek Precaliber 24 (21-Speed) - Girls - 2017</td><td>9</td><td>1</td><td>2017</td><td>349.99</td></tr><tr><td>92</td><td>Haro Shredder 20 - 2017</td><td>2</td><td>1</td><td>2017</td><td>209.99</td></tr><tr><td>93</td><td>Haro Shredder 20 Girls - 2017</td><td>2</td><td>1</td><td>2017</td><td>209.99</td></tr><tr><td>94</td><td>Haro Shredder Pro 20 - 2017</td><td>2</td><td>1</td><td>2017</td><td>249.99</td></tr><tr><td>95</td><td>\"Electra Girl's Hawaii 1 16\"\" - 2017\"</td><td>1</td><td>1</td><td>2017</td><td>299.99</td></tr><tr><td>96</td><td>Electra Moto 3i (20-inch) - Boy's - 2017</td><td>1</td><td>1</td><td>2017</td><td>349.99</td></tr><tr><td>97</td><td>Electra Savannah 3i (20-inch) - Girl's - 2017</td><td>1</td><td>1</td><td>2017</td><td>349.99</td></tr><tr><td>98</td><td>Electra Straight 8 3i (20-inch) - Boy's - 2017</td><td>1</td><td>1</td><td>2017</td><td>489.99</td></tr><tr><td>99</td><td>Electra Sugar Skulls 1 (20-inch) - Girl's - 2017</td><td>1</td><td>1</td><td>2017</td><td>299.99</td></tr><tr><td>100</td><td>Electra Townie 3i EQ (20-inch) - Boys' - 2017</td><td>1</td><td>1</td><td>2017</td><td>489.99</td></tr><tr><td>101</td><td>Electra Townie 7D (20-inch) - Boys' - 2017</td><td>1</td><td>1</td><td>2017</td><td>339.99</td></tr><tr><td>102</td><td>Electra Townie Original 7D - 2017</td><td>1</td><td>2</td><td>2017</td><td>489.99</td></tr><tr><td>103</td><td>Sun Bicycles Streamway 3 - 2017</td><td>7</td><td>2</td><td>2017</td><td>551.99</td></tr><tr><td>104</td><td>Sun Bicycles Streamway - 2017</td><td>7</td><td>2</td><td>2017</td><td>481.99</td></tr><tr><td>105</td><td>Sun Bicycles Streamway 7 - 2017</td><td>7</td><td>2</td><td>2017</td><td>533.99</td></tr><tr><td>106</td><td>Sun Bicycles Cruz 3 - 2017</td><td>7</td><td>2</td><td>2017</td><td>449.99</td></tr><tr><td>107</td><td>Sun Bicycles Cruz 7 - 2017</td><td>7</td><td>2</td><td>2017</td><td>416.99</td></tr><tr><td>108</td><td>Sun Bicycles Cruz 3 - Women's - 2017</td><td>7</td><td>2</td><td>2017</td><td>449.99</td></tr><tr><td>109</td><td>Sun Bicycles Cruz 7 - Women's - 2017</td><td>7</td><td>2</td><td>2017</td><td>416.99</td></tr><tr><td>110</td><td>Sun Bicycles Drifter 7 - 2017</td><td>7</td><td>2</td><td>2017</td><td>470.99</td></tr><tr><td>111</td><td>Sun Bicycles Drifter 7 - Women's - 2017</td><td>7</td><td>2</td><td>2017</td><td>470.99</td></tr><tr><td>112</td><td>Trek 820 - 2018</td><td>9</td><td>6</td><td>2018</td><td>379.99</td></tr><tr><td>113</td><td>Trek Marlin 5 - 2018</td><td>9</td><td>6</td><td>2018</td><td>489.99</td></tr><tr><td>114</td><td>Trek Marlin 6 - 2018</td><td>9</td><td>6</td><td>2018</td><td>579.99</td></tr><tr><td>115</td><td>Trek Fuel EX 8 29 - 2018</td><td>9</td><td>6</td><td>2018</td><td>3199.99</td></tr><tr><td>116</td><td>Trek Marlin 7 - 2017/2018</td><td>9</td><td>6</td><td>2018</td><td>749.99</td></tr><tr><td>117</td><td>Trek Ticket S Frame - 2018</td><td>9</td><td>6</td><td>2018</td><td>1469.99</td></tr><tr><td>118</td><td>Trek X-Caliber 8 - 2018</td><td>9</td><td>6</td><td>2018</td><td>999.99</td></tr><tr><td>119</td><td>Trek Kids' Neko - 2018</td><td>9</td><td>6</td><td>2018</td><td>469.99</td></tr><tr><td>120</td><td>Trek Fuel EX 7 29 - 2018</td><td>9</td><td>6</td><td>2018</td><td>2499.99</td></tr><tr><td>121</td><td>Surly Krampus Frameset - 2018</td><td>8</td><td>6</td><td>2018</td><td>2499.99</td></tr><tr><td>122</td><td>Surly Troll Frameset - 2018</td><td>8</td><td>6</td><td>2018</td><td>2499.99</td></tr><tr><td>123</td><td>Trek Farley Carbon Frameset - 2018</td><td>9</td><td>6</td><td>2018</td><td>999.99</td></tr><tr><td>124</td><td>Surly Krampus - 2018</td><td>8</td><td>6</td><td>2018</td><td>1499.0</td></tr><tr><td>125</td><td>Trek Kids' Dual Sport - 2018</td><td>9</td><td>6</td><td>2018</td><td>469.99</td></tr><tr><td>126</td><td>Surly Big Fat Dummy Frameset - 2018</td><td>8</td><td>6</td><td>2018</td><td>469.99</td></tr><tr><td>127</td><td>Surly Pack Rat Frameset - 2018</td><td>8</td><td>6</td><td>2018</td><td>469.99</td></tr><tr><td>128</td><td>Surly ECR 27.5 - 2018</td><td>8</td><td>6</td><td>2018</td><td>1899.0</td></tr><tr><td>129</td><td>Trek X-Caliber 7 - 2018</td><td>9</td><td>6</td><td>2018</td><td>919.99</td></tr><tr><td>130</td><td>Trek Stache Carbon Frameset - 2018</td><td>9</td><td>6</td><td>2018</td><td>919.99</td></tr><tr><td>131</td><td>Heller Bloodhound Trail - 2018</td><td>3</td><td>6</td><td>2018</td><td>2599.0</td></tr><tr><td>132</td><td>Trek Procal AL Frameset - 2018</td><td>9</td><td>6</td><td>2018</td><td>1499.99</td></tr><tr><td>133</td><td>Trek Procaliber Frameset - 2018</td><td>9</td><td>6</td><td>2018</td><td>1499.99</td></tr><tr><td>134</td><td>Trek Remedy 27.5 C Frameset - 2018</td><td>9</td><td>6</td><td>2018</td><td>1499.99</td></tr><tr><td>135</td><td>Trek X-Caliber Frameset - 2018</td><td>9</td><td>6</td><td>2018</td><td>1499.99</td></tr><tr><td>136</td><td>Trek Procaliber 6 - 2018</td><td>9</td><td>6</td><td>2018</td><td>1799.99</td></tr><tr><td>137</td><td>Heller Shagamaw GX1 - 2018</td><td>3</td><td>6</td><td>2018</td><td>2599.0</td></tr><tr><td>138</td><td>Trek Fuel EX 5 Plus - 2018</td><td>9</td><td>6</td><td>2018</td><td>2249.99</td></tr><tr><td>139</td><td>Trek Remedy 7 27.5 - 2018</td><td>9</td><td>6</td><td>2018</td><td>2999.99</td></tr><tr><td>140</td><td>Trek Remedy 9.8 27.5 - 2018</td><td>9</td><td>6</td><td>2018</td><td>4999.99</td></tr><tr><td>141</td><td>Trek Stache 5 - 2018</td><td>9</td><td>6</td><td>2018</td><td>1599.99</td></tr><tr><td>142</td><td>Trek Fuel EX 8 29 XT - 2018</td><td>9</td><td>6</td><td>2018</td><td>3199.99</td></tr><tr><td>143</td><td>Trek Domane ALR 3 - 2018</td><td>9</td><td>7</td><td>2018</td><td>1099.99</td></tr><tr><td>144</td><td>Trek Domane ALR 4 Disc - 2018</td><td>9</td><td>7</td><td>2018</td><td>1549.99</td></tr><tr><td>145</td><td>Trek Domane ALR 5 Disc - 2018</td><td>9</td><td>7</td><td>2018</td><td>1799.99</td></tr><tr><td>146</td><td>Trek Domane SLR 6 - 2018</td><td>9</td><td>7</td><td>2018</td><td>4999.99</td></tr><tr><td>147</td><td>Trek Domane ALR 5 Gravel - 2018</td><td>9</td><td>7</td><td>2018</td><td>1799.99</td></tr><tr><td>148</td><td>Trek Domane SL 8 Disc - 2018</td><td>9</td><td>7</td><td>2018</td><td>5499.99</td></tr><tr><td>149</td><td>Trek Domane SLR 8 Disc - 2018</td><td>9</td><td>7</td><td>2018</td><td>7499.99</td></tr><tr><td>150</td><td>Trek Emonda SL 7 - 2018</td><td>9</td><td>7</td><td>2018</td><td>4499.99</td></tr><tr><td>151</td><td>Trek Domane ALR 4 Disc Women's - 2018</td><td>9</td><td>7</td><td>2018</td><td>1549.99</td></tr><tr><td>152</td><td>Trek Domane SL 5 Disc Women's - 2018</td><td>9</td><td>7</td><td>2018</td><td>2499.99</td></tr><tr><td>153</td><td>Trek Domane SL 7 Women's - 2018</td><td>9</td><td>7</td><td>2018</td><td>4999.99</td></tr><tr><td>154</td><td>Trek Domane SLR 6 Disc Women's - 2018</td><td>9</td><td>7</td><td>2018</td><td>5499.99</td></tr><tr><td>155</td><td>Trek Domane SLR 9 Disc - 2018</td><td>9</td><td>7</td><td>2018</td><td>11999.99</td></tr><tr><td>156</td><td>Trek Domane SL Frameset - 2018</td><td>9</td><td>7</td><td>2018</td><td>6499.99</td></tr><tr><td>157</td><td>Trek Domane SL Frameset Women's - 2018</td><td>9</td><td>7</td><td>2018</td><td>6499.99</td></tr><tr><td>158</td><td>Trek CrossRip 1 - 2018</td><td>9</td><td>7</td><td>2018</td><td>959.99</td></tr><tr><td>159</td><td>Trek Emonda ALR 6 - 2018</td><td>9</td><td>7</td><td>2018</td><td>2299.99</td></tr><tr><td>160</td><td>Trek Emonda SLR 6 - 2018</td><td>9</td><td>7</td><td>2018</td><td>4499.99</td></tr><tr><td>161</td><td>Surly ECR - 2018</td><td>8</td><td>7</td><td>2018</td><td>1899.0</td></tr><tr><td>162</td><td>Trek Emonda SL 6 Disc - 2018</td><td>9</td><td>7</td><td>2018</td><td>2999.99</td></tr><tr><td>163</td><td>Surly Pack Rat - 2018</td><td>8</td><td>7</td><td>2018</td><td>1349.0</td></tr><tr><td>164</td><td>Surly Straggler 650b - 2018</td><td>8</td><td>7</td><td>2018</td><td>1549.0</td></tr><tr><td>165</td><td>Trek 1120 - 2018</td><td>9</td><td>7</td><td>2018</td><td>2499.99</td></tr><tr><td>166</td><td>Trek Domane AL 2 Women's - 2018</td><td>9</td><td>7</td><td>2018</td><td>749.99</td></tr><tr><td>167</td><td>Surly ECR Frameset - 2018</td><td>8</td><td>7</td><td>2018</td><td>749.99</td></tr><tr><td>168</td><td>Surly Straggler - 2018</td><td>8</td><td>7</td><td>2018</td><td>1549.0</td></tr><tr><td>169</td><td>Trek Emonda SLR 8 - 2018</td><td>9</td><td>7</td><td>2018</td><td>6499.99</td></tr><tr><td>170</td><td>Trek CrossRip 2 - 2018</td><td>9</td><td>7</td><td>2018</td><td>1299.99</td></tr><tr><td>171</td><td>Trek Domane SL 6 - 2018</td><td>9</td><td>7</td><td>2018</td><td>3199.99</td></tr><tr><td>172</td><td>Trek Domane ALR Disc Frameset - 2018</td><td>9</td><td>7</td><td>2018</td><td>3199.99</td></tr><tr><td>173</td><td>Trek Domane ALR Frameset - 2018</td><td>9</td><td>7</td><td>2018</td><td>3199.99</td></tr><tr><td>174</td><td>Trek Domane SLR Disc Frameset - 2018</td><td>9</td><td>7</td><td>2018</td><td>3199.99</td></tr><tr><td>175</td><td>Trek Domane SLR Frameset - 2018</td><td>9</td><td>7</td><td>2018</td><td>3199.99</td></tr><tr><td>176</td><td>Trek Madone 9 Frameset - 2018</td><td>9</td><td>7</td><td>2018</td><td>3199.99</td></tr><tr><td>177</td><td>Trek Domane SLR 6 Disc - 2018</td><td>9</td><td>7</td><td>2018</td><td>5499.99</td></tr><tr><td>178</td><td>Trek Domane AL 2 - 2018</td><td>9</td><td>7</td><td>2018</td><td>749.99</td></tr><tr><td>179</td><td>Trek Domane AL 3 - 2018</td><td>9</td><td>7</td><td>2018</td><td>919.99</td></tr><tr><td>180</td><td>Trek Domane AL 3 Women's - 2018</td><td>9</td><td>7</td><td>2018</td><td>919.99</td></tr><tr><td>181</td><td>Trek Domane SL 5 - 2018</td><td>9</td><td>7</td><td>2018</td><td>2199.99</td></tr><tr><td>182</td><td>Trek Domane SL 5 Disc - 2018</td><td>9</td><td>7</td><td>2018</td><td>2499.99</td></tr><tr><td>183</td><td>Trek Domane SL 5 Women's - 2018</td><td>9</td><td>7</td><td>2018</td><td>2199.99</td></tr><tr><td>184</td><td>Trek Domane SL 6 Disc - 2018</td><td>9</td><td>7</td><td>2018</td><td>3499.99</td></tr><tr><td>185</td><td>Trek Conduit+ - 2018</td><td>9</td><td>5</td><td>2018</td><td>2799.99</td></tr><tr><td>186</td><td>Trek CrossRip+ - 2018</td><td>9</td><td>5</td><td>2018</td><td>4499.99</td></tr><tr><td>187</td><td>Trek Neko+ - 2018</td><td>9</td><td>5</td><td>2018</td><td>2799.99</td></tr><tr><td>188</td><td>Trek XM700+ Lowstep - 2018</td><td>9</td><td>5</td><td>2018</td><td>3499.99</td></tr><tr><td>189</td><td>Trek Lift+ Lowstep - 2018</td><td>9</td><td>5</td><td>2018</td><td>2799.99</td></tr><tr><td>190</td><td>Trek Dual Sport+ - 2018</td><td>9</td><td>5</td><td>2018</td><td>2799.99</td></tr><tr><td>191</td><td>Electra Loft Go! 8i - 2018</td><td>1</td><td>5</td><td>2018</td><td>2799.99</td></tr><tr><td>192</td><td>Electra Townie Go! 8i - 2017/2018</td><td>1</td><td>5</td><td>2018</td><td>2599.99</td></tr><tr><td>193</td><td>Trek Lift+ - 2018</td><td>9</td><td>5</td><td>2018</td><td>2799.99</td></tr><tr><td>194</td><td>Trek XM700+ - 2018</td><td>9</td><td>5</td><td>2018</td><td>3499.99</td></tr><tr><td>195</td><td>Electra Townie Go! 8i Ladies' - 2018</td><td>1</td><td>5</td><td>2018</td><td>2599.99</td></tr><tr><td>196</td><td>Trek Verve+ - 2018</td><td>9</td><td>5</td><td>2018</td><td>2299.99</td></tr><tr><td>197</td><td>Trek Verve+ Lowstep - 2018</td><td>9</td><td>5</td><td>2018</td><td>2299.99</td></tr><tr><td>198</td><td>Electra Townie Commute Go! - 2018</td><td>1</td><td>5</td><td>2018</td><td>2999.99</td></tr><tr><td>199</td><td>Electra Townie Commute Go! Ladies' - 2018</td><td>1</td><td>5</td><td>2018</td><td>2999.99</td></tr><tr><td>200</td><td>Trek Powerfly 5 - 2018</td><td>9</td><td>5</td><td>2018</td><td>3499.99</td></tr><tr><td>201</td><td>Trek Powerfly 5 FS - 2018</td><td>9</td><td>5</td><td>2018</td><td>4499.99</td></tr><tr><td>202</td><td>Trek Powerfly 5 Women's - 2018</td><td>9</td><td>5</td><td>2018</td><td>3499.99</td></tr><tr><td>203</td><td>Trek Powerfly 7 FS - 2018</td><td>9</td><td>5</td><td>2018</td><td>4999.99</td></tr><tr><td>204</td><td>Trek Super Commuter+ 7 - 2018</td><td>9</td><td>5</td><td>2018</td><td>3599.99</td></tr><tr><td>205</td><td>Trek Super Commuter+ 8S - 2018</td><td>9</td><td>5</td><td>2018</td><td>4999.99</td></tr><tr><td>206</td><td>Trek Boone 5 Disc - 2018</td><td>9</td><td>4</td><td>2018</td><td>3299.99</td></tr><tr><td>207</td><td>Trek Boone 7 Disc - 2018</td><td>9</td><td>4</td><td>2018</td><td>3999.99</td></tr><tr><td>208</td><td>Trek Crockett 5 Disc - 2018</td><td>9</td><td>4</td><td>2018</td><td>1799.99</td></tr><tr><td>209</td><td>Trek Crockett 7 Disc - 2018</td><td>9</td><td>4</td><td>2018</td><td>2999.99</td></tr><tr><td>210</td><td>Surly Straggler - 2018</td><td>8</td><td>4</td><td>2018</td><td>1549.0</td></tr><tr><td>211</td><td>Surly Straggler 650b - 2018</td><td>8</td><td>4</td><td>2018</td><td>1549.0</td></tr><tr><td>212</td><td>Electra Townie Original 21D - 2018</td><td>1</td><td>3</td><td>2018</td><td>559.99</td></tr><tr><td>213</td><td>Electra Cruiser 1 - 2016/2017/2018</td><td>1</td><td>3</td><td>2018</td><td>269.99</td></tr><tr><td>214</td><td>Electra Tiger Shark 3i - 2018</td><td>1</td><td>3</td><td>2018</td><td>899.99</td></tr><tr><td>215</td><td>Electra Queen of Hearts 3i - 2018</td><td>1</td><td>3</td><td>2018</td><td>749.99</td></tr><tr><td>216</td><td>Electra Super Moto 8i - 2018</td><td>1</td><td>3</td><td>2018</td><td>899.99</td></tr><tr><td>217</td><td>Electra Straight 8 3i - 2018</td><td>1</td><td>3</td><td>2018</td><td>909.99</td></tr><tr><td>218</td><td>Electra Cruiser 7D - 2016/2017/2018</td><td>1</td><td>3</td><td>2018</td><td>319.99</td></tr><tr><td>219</td><td>Electra Moto 3i - 2018</td><td>1</td><td>3</td><td>2018</td><td>639.99</td></tr><tr><td>220</td><td>Electra Cruiser 1 Ladies' - 2018</td><td>1</td><td>3</td><td>2018</td><td>269.99</td></tr><tr><td>221</td><td>Electra Cruiser 7D Ladies' - 2016/2018</td><td>1</td><td>3</td><td>2018</td><td>319.99</td></tr><tr><td>222</td><td>Electra Cruiser 1 Tall - 2016/2018</td><td>1</td><td>3</td><td>2018</td><td>269.99</td></tr><tr><td>223</td><td>Electra Cruiser Lux 3i - 2018</td><td>1</td><td>3</td><td>2018</td><td>529.99</td></tr><tr><td>224</td><td>Electra Cruiser Lux 7D - 2018</td><td>1</td><td>3</td><td>2018</td><td>479.99</td></tr><tr><td>225</td><td>Electra Delivery 3i - 2016/2017/2018</td><td>1</td><td>3</td><td>2018</td><td>959.99</td></tr><tr><td>226</td><td>Electra Townie Original 21D EQ - 2017/2018</td><td>1</td><td>3</td><td>2018</td><td>679.99</td></tr><tr><td>227</td><td>Electra Cruiser 7D (24-Inch) Ladies' - 2016/2018</td><td>1</td><td>3</td><td>2018</td><td>319.99</td></tr><tr><td>228</td><td>Electra Cruiser 7D Tall - 2016/2018</td><td>1</td><td>3</td><td>2018</td><td>319.99</td></tr><tr><td>229</td><td>Electra Cruiser Lux 1 - 2016/2018</td><td>1</td><td>3</td><td>2018</td><td>429.99</td></tr><tr><td>230</td><td>Electra Cruiser Lux 1 Ladies' - 2018</td><td>1</td><td>3</td><td>2018</td><td>429.99</td></tr><tr><td>231</td><td>Electra Cruiser Lux 3i Ladies' - 2018</td><td>1</td><td>3</td><td>2018</td><td>529.99</td></tr><tr><td>232</td><td>Electra Cruiser Lux 7D Ladies' - 2018</td><td>1</td><td>3</td><td>2018</td><td>479.99</td></tr><tr><td>233</td><td>Electra Cruiser Lux Fat Tire 7D - 2018</td><td>1</td><td>3</td><td>2018</td><td>639.99</td></tr><tr><td>234</td><td>Electra Daydreamer 3i Ladies' - 2018</td><td>1</td><td>3</td><td>2018</td><td>899.99</td></tr><tr><td>235</td><td>Electra Koa 3i Ladies' - 2018</td><td>1</td><td>3</td><td>2018</td><td>899.99</td></tr><tr><td>236</td><td>Electra Morningstar 3i Ladies' - 2018</td><td>1</td><td>3</td><td>2018</td><td>749.99</td></tr><tr><td>237</td><td>Electra Relic 3i - 2018</td><td>1</td><td>3</td><td>2018</td><td>849.99</td></tr><tr><td>238</td><td>Electra Townie Balloon 8D EQ - 2016/2017/2018</td><td>1</td><td>3</td><td>2018</td><td>749.99</td></tr><tr><td>239</td><td>Electra Townie Balloon 8D EQ Ladies' - 2016/2017/2018</td><td>1</td><td>3</td><td>2018</td><td>749.99</td></tr><tr><td>240</td><td>Electra Townie Commute 27D Ladies - 2018</td><td>1</td><td>3</td><td>2018</td><td>899.99</td></tr><tr><td>241</td><td>Electra Townie Commute 8D - 2018</td><td>1</td><td>3</td><td>2018</td><td>749.99</td></tr><tr><td>242</td><td>Electra Townie Commute 8D Ladies' - 2018</td><td>1</td><td>3</td><td>2018</td><td>699.99</td></tr><tr><td>243</td><td>Electra Townie Original 21D EQ Ladies' - 2018</td><td>1</td><td>3</td><td>2018</td><td>679.99</td></tr><tr><td>244</td><td>Electra Townie Original 21D Ladies' - 2018</td><td>1</td><td>3</td><td>2018</td><td>559.99</td></tr><tr><td>245</td><td>Electra Townie Original 3i EQ - 2017/2018</td><td>1</td><td>3</td><td>2018</td><td>659.99</td></tr><tr><td>246</td><td>Electra Townie Original 3i EQ Ladies' - 2018</td><td>1</td><td>3</td><td>2018</td><td>639.99</td></tr><tr><td>247</td><td>Electra Townie Original 7D EQ - 2018</td><td>1</td><td>3</td><td>2018</td><td>599.99</td></tr><tr><td>248</td><td>Electra Townie Original 7D EQ Ladies' - 2017/2018</td><td>1</td><td>3</td><td>2018</td><td>599.99</td></tr><tr><td>249</td><td>Electra White Water 3i - 2018</td><td>1</td><td>3</td><td>2018</td><td>749.99</td></tr><tr><td>250</td><td>Electra Townie Go! 8i - 2017/2018</td><td>1</td><td>3</td><td>2018</td><td>2599.99</td></tr><tr><td>251</td><td>Electra Townie Commute Go! - 2018</td><td>1</td><td>3</td><td>2018</td><td>2999.99</td></tr><tr><td>252</td><td>Electra Townie Commute Go! Ladies' - 2018</td><td>1</td><td>3</td><td>2018</td><td>2999.99</td></tr><tr><td>253</td><td>Electra Townie Go! 8i Ladies' - 2018</td><td>1</td><td>3</td><td>2018</td><td>2599.99</td></tr><tr><td>254</td><td>Electra Townie Balloon 3i EQ - 2017/2018</td><td>1</td><td>3</td><td>2018</td><td>749.99</td></tr><tr><td>255</td><td>Electra Townie Balloon 7i EQ Ladies' - 2017/2018</td><td>1</td><td>3</td><td>2018</td><td>899.99</td></tr><tr><td>256</td><td>Electra Townie Commute 27D - 2018</td><td>1</td><td>3</td><td>2018</td><td>899.99</td></tr><tr><td>257</td><td>Electra Amsterdam Fashion 3i Ladies' - 2017/2018</td><td>1</td><td>3</td><td>2018</td><td>899.99</td></tr><tr><td>258</td><td>Electra Amsterdam Royal 8i - 2017/2018</td><td>1</td><td>3</td><td>2018</td><td>1259.9</td></tr><tr><td>259</td><td>Electra Amsterdam Royal 8i Ladies - 2018</td><td>1</td><td>3</td><td>2018</td><td>1199.99</td></tr><tr><td>260</td><td>Electra Townie Balloon 3i EQ Ladies' - 2018</td><td>1</td><td>3</td><td>2018</td><td>799.99</td></tr><tr><td>261</td><td>Electra Townie Balloon 7i EQ - 2018</td><td>1</td><td>3</td><td>2018</td><td>899.99</td></tr><tr><td>262</td><td>Trek MT 201 - 2018</td><td>9</td><td>1</td><td>2018</td><td>249.99</td></tr><tr><td>263</td><td>Strider Classic 12 Balance Bike - 2018</td><td>6</td><td>1</td><td>2018</td><td>89.99</td></tr><tr><td>264</td><td>Strider Sport 16 - 2018</td><td>6</td><td>1</td><td>2018</td><td>249.99</td></tr><tr><td>265</td><td>Strider Strider 20 Sport - 2018</td><td>6</td><td>1</td><td>2018</td><td>289.99</td></tr><tr><td>266</td><td>Trek Superfly 20 - 2018</td><td>9</td><td>1</td><td>2018</td><td>399.99</td></tr><tr><td>267</td><td>Trek Precaliber 12 Girl's - 2018</td><td>9</td><td>1</td><td>2018</td><td>199.99</td></tr><tr><td>268</td><td>Trek Kickster - 2018</td><td>9</td><td>1</td><td>2018</td><td>159.99</td></tr><tr><td>269</td><td>Trek Precaliber 12 Boy's - 2018</td><td>9</td><td>1</td><td>2018</td><td>199.99</td></tr><tr><td>270</td><td>Trek Precaliber 16 Boy's - 2018</td><td>9</td><td>1</td><td>2018</td><td>209.99</td></tr><tr><td>271</td><td>Trek Precaliber 16 Girl's - 2018</td><td>9</td><td>1</td><td>2018</td><td>209.99</td></tr><tr><td>272</td><td>Trek Precaliber 20 6-speed Boy's - 2018</td><td>9</td><td>1</td><td>2018</td><td>289.99</td></tr><tr><td>273</td><td>Trek Precaliber 20 6-speed Girl's - 2018</td><td>9</td><td>1</td><td>2018</td><td>289.99</td></tr><tr><td>274</td><td>Trek Precaliber 20 Boy's - 2018</td><td>9</td><td>1</td><td>2018</td><td>229.99</td></tr><tr><td>275</td><td>Trek Precaliber 20 Girl's - 2018</td><td>9</td><td>1</td><td>2018</td><td>229.99</td></tr><tr><td>276</td><td>Trek Precaliber 24 (7-Speed) - Boys - 2018</td><td>9</td><td>1</td><td>2018</td><td>319.99</td></tr><tr><td>277</td><td>Trek Precaliber 24 21-speed Boy's - 2018</td><td>9</td><td>1</td><td>2018</td><td>369.99</td></tr><tr><td>278</td><td>Trek Precaliber 24 21-speed Girl's - 2018</td><td>9</td><td>1</td><td>2018</td><td>369.99</td></tr><tr><td>279</td><td>Trek Precaliber 24 7-speed Girl's - 2018</td><td>9</td><td>1</td><td>2018</td><td>319.99</td></tr><tr><td>280</td><td>Trek Superfly 24 - 2017/2018</td><td>9</td><td>1</td><td>2018</td><td>489.99</td></tr><tr><td>281</td><td>Electra Cruiser 7D (24-Inch) Ladies' - 2016/2018</td><td>1</td><td>1</td><td>2018</td><td>319.99</td></tr><tr><td>282</td><td>Electra Cyclosaurus 1 (16-inch) - Boy's - 2018</td><td>1</td><td>1</td><td>2018</td><td>279.99</td></tr><tr><td>283</td><td>Electra Heartchya 1 (20-inch) - Girl's - 2018</td><td>1</td><td>1</td><td>2018</td><td>319.99</td></tr><tr><td>284</td><td>Electra Savannah 1 (20-inch) - Girl's - 2018</td><td>1</td><td>1</td><td>2018</td><td>319.99</td></tr><tr><td>285</td><td>Electra Soft Serve 1 (16-inch) - Girl's - 2018</td><td>1</td><td>1</td><td>2018</td><td>279.99</td></tr><tr><td>286</td><td>\"Electra Starship 1 16\"\" - 2018\"</td><td>1</td><td>1</td><td>2018</td><td>279.99</td></tr><tr><td>287</td><td>Electra Straight 8 1 (16-inch) - Boy's - 2018</td><td>1</td><td>1</td><td>2018</td><td>279.99</td></tr><tr><td>288</td><td>Electra Straight 8 1 (20-inch) - Boy's - 2018</td><td>1</td><td>1</td><td>2018</td><td>389.99</td></tr><tr><td>289</td><td>\"Electra Superbolt 1 20\"\" - 2018\"</td><td>1</td><td>1</td><td>2018</td><td>319.99</td></tr><tr><td>290</td><td>\"Electra Superbolt 3i 20\"\" - 2018\"</td><td>1</td><td>1</td><td>2018</td><td>369.99</td></tr><tr><td>291</td><td>Electra Sweet Ride 1 (20-inch) - Girl's - 2018</td><td>1</td><td>1</td><td>2018</td><td>319.99</td></tr><tr><td>292</td><td>Electra Sweet Ride 3i (20-inch) - Girls' - 2018</td><td>1</td><td>1</td><td>2018</td><td>369.99</td></tr><tr><td>293</td><td>Electra Tiger Shark 1 (20-inch) - Boys' - 2018</td><td>1</td><td>1</td><td>2018</td><td>319.99</td></tr><tr><td>294</td><td>Electra Tiger Shark 3i (20-inch) - Boys' - 2018</td><td>1</td><td>1</td><td>2018</td><td>369.99</td></tr><tr><td>295</td><td>\"Electra Treasure 1 20\"\" - 2018\"</td><td>1</td><td>1</td><td>2018</td><td>319.99</td></tr><tr><td>296</td><td>\"Electra Treasure 3i 20\"\" - 2018\"</td><td>1</td><td>1</td><td>2018</td><td>369.99</td></tr><tr><td>297</td><td>\"Electra Under-The-Sea 1 16\"\" - 2018\"</td><td>1</td><td>1</td><td>2018</td><td>279.99</td></tr><tr><td>298</td><td>Electra Water Lily 1 (16-inch) - Girl's - 2018</td><td>1</td><td>1</td><td>2018</td><td>279.99</td></tr><tr><td>299</td><td>Electra Townie Original 21D - 2018</td><td>1</td><td>2</td><td>2018</td><td>559.99</td></tr><tr><td>300</td><td>Electra Townie Balloon 3i EQ Ladies' - 2018</td><td>1</td><td>2</td><td>2018</td><td>799.99</td></tr><tr><td>301</td><td>Electra Townie Balloon 7i EQ - 2018</td><td>1</td><td>2</td><td>2018</td><td>899.99</td></tr><tr><td>302</td><td>Electra Townie Original 1 - 2018</td><td>1</td><td>2</td><td>2018</td><td>449.99</td></tr><tr><td>303</td><td>Electra Townie Go! 8i - 2017/2018</td><td>1</td><td>2</td><td>2018</td><td>2599.99</td></tr><tr><td>304</td><td>Electra Townie Original 21D EQ - 2017/2018</td><td>1</td><td>2</td><td>2018</td><td>679.99</td></tr><tr><td>305</td><td>Electra Townie Balloon 3i EQ - 2017/2018</td><td>1</td><td>2</td><td>2018</td><td>749.99</td></tr><tr><td>306</td><td>Electra Townie Balloon 7i EQ Ladies' - 2017/2018</td><td>1</td><td>2</td><td>2018</td><td>899.99</td></tr><tr><td>307</td><td>Electra Townie Balloon 8D EQ - 2016/2017/2018</td><td>1</td><td>2</td><td>2018</td><td>749.99</td></tr><tr><td>308</td><td>Electra Townie Balloon 8D EQ Ladies' - 2016/2017/2018</td><td>1</td><td>2</td><td>2018</td><td>749.99</td></tr><tr><td>309</td><td>Electra Townie Commute 27D - 2018</td><td>1</td><td>2</td><td>2018</td><td>899.99</td></tr><tr><td>310</td><td>Electra Townie Commute 27D Ladies - 2018</td><td>1</td><td>2</td><td>2018</td><td>899.99</td></tr><tr><td>311</td><td>Electra Townie Commute 8D - 2018</td><td>1</td><td>2</td><td>2018</td><td>749.99</td></tr><tr><td>312</td><td>Electra Townie Commute 8D Ladies' - 2018</td><td>1</td><td>2</td><td>2018</td><td>699.99</td></tr><tr><td>313</td><td>Electra Townie Original 1 Ladies' - 2018</td><td>1</td><td>2</td><td>2018</td><td>449.99</td></tr><tr><td>314</td><td>Electra Townie Original 21D EQ Ladies' - 2018</td><td>1</td><td>2</td><td>2018</td><td>679.99</td></tr><tr><td>315</td><td>Electra Townie Original 21D Ladies' - 2018</td><td>1</td><td>2</td><td>2018</td><td>559.99</td></tr><tr><td>316</td><td>Trek Checkpoint ALR 4 Women's - 2019</td><td>9</td><td>7</td><td>2019</td><td>1699.99</td></tr><tr><td>317</td><td>Trek Checkpoint ALR 5 - 2019</td><td>9</td><td>7</td><td>2019</td><td>1999.99</td></tr><tr><td>318</td><td>Trek Checkpoint ALR 5 Women's - 2019</td><td>9</td><td>7</td><td>2019</td><td>1999.99</td></tr><tr><td>319</td><td>Trek Checkpoint SL 5 Women's - 2019</td><td>9</td><td>7</td><td>2019</td><td>2799.99</td></tr><tr><td>320</td><td>Trek Checkpoint SL 6 - 2019</td><td>9</td><td>7</td><td>2019</td><td>3799.99</td></tr><tr><td>321</td><td>Trek Checkpoint ALR Frameset - 2019</td><td>9</td><td>7</td><td>2019</td><td>3199.99</td></tr></tbody></table></div>"
      ]
     },
     "metadata": {
      "application/vnd.databricks.v1+output": {
       "addedWidgets": {},
       "aggData": [],
       "aggError": "",
       "aggOverflow": false,
       "aggSchema": [],
       "aggSeriesLimitReached": false,
       "aggType": "",
       "arguments": {},
       "columnCustomDisplayInfos": {},
       "data": [
        [
         1,
         "Trek 820 - 2016",
         9,
         6,
         2016,
         379.99
        ],
        [
         2,
         "Ritchey Timberwolf Frameset - 2016",
         5,
         6,
         2016,
         749.99
        ],
        [
         3,
         "Surly Wednesday Frameset - 2016",
         8,
         6,
         2016,
         999.99
        ],
        [
         4,
         "Trek Fuel EX 8 29 - 2016",
         9,
         6,
         2016,
         2899.99
        ],
        [
         5,
         "Heller Shagamaw Frame - 2016",
         3,
         6,
         2016,
         1320.99
        ],
        [
         6,
         "Surly Ice Cream Truck Frameset - 2016",
         8,
         6,
         2016,
         469.99
        ],
        [
         7,
         "Trek Slash 8 27.5 - 2016",
         9,
         6,
         2016,
         3999.99
        ],
        [
         8,
         "Trek Remedy 29 Carbon Frameset - 2016",
         9,
         6,
         2016,
         1799.99
        ],
        [
         9,
         "Trek Conduit+ - 2016",
         9,
         5,
         2016,
         2999.99
        ],
        [
         10,
         "Surly Straggler - 2016",
         8,
         4,
         2016,
         1549.0
        ],
        [
         11,
         "Surly Straggler 650b - 2016",
         8,
         4,
         2016,
         1680.99
        ],
        [
         12,
         "Electra Townie Original 21D - 2016",
         1,
         3,
         2016,
         549.99
        ],
        [
         13,
         "Electra Cruiser 1 (24-Inch) - 2016",
         1,
         3,
         2016,
         269.99
        ],
        [
         14,
         "Electra Girl's Hawaii 1 (16-inch) - 2015/2016",
         1,
         3,
         2016,
         269.99
        ],
        [
         15,
         "Electra Moto 1 - 2016",
         1,
         3,
         2016,
         529.99
        ],
        [
         16,
         "Electra Townie Original 7D EQ - 2016",
         1,
         3,
         2016,
         599.99
        ],
        [
         17,
         "Pure Cycles Vine 8-Speed - 2016",
         4,
         3,
         2016,
         429.0
        ],
        [
         18,
         "Pure Cycles Western 3-Speed - Women's - 2015/2016",
         4,
         3,
         2016,
         449.0
        ],
        [
         19,
         "Pure Cycles William 3-Speed - 2016",
         4,
         3,
         2016,
         449.0
        ],
        [
         20,
         "Electra Townie Original 7D EQ - Women's - 2016",
         1,
         3,
         2016,
         599.99
        ],
        [
         21,
         "Electra Cruiser 1 (24-Inch) - 2016",
         1,
         1,
         2016,
         269.99
        ],
        [
         22,
         "Electra Girl's Hawaii 1 (16-inch) - 2015/2016",
         1,
         1,
         2016,
         269.99
        ],
        [
         23,
         "Electra Girl's Hawaii 1 (20-inch) - 2015/2016",
         1,
         1,
         2016,
         299.99
        ],
        [
         24,
         "Electra Townie Original 21D - 2016",
         1,
         2,
         2016,
         549.99
        ],
        [
         25,
         "Electra Townie Original 7D - 2015/2016",
         1,
         2,
         2016,
         499.99
        ],
        [
         26,
         "Electra Townie Original 7D EQ - 2016",
         1,
         2,
         2016,
         599.99
        ],
        [
         27,
         "Surly Big Dummy Frameset - 2017",
         8,
         6,
         2017,
         999.99
        ],
        [
         28,
         "Surly Karate Monkey 27.5+ Frameset - 2017",
         8,
         6,
         2017,
         2499.99
        ],
        [
         29,
         "Trek X-Caliber 8 - 2017",
         9,
         6,
         2017,
         999.99
        ],
        [
         30,
         "Surly Ice Cream Truck Frameset - 2017",
         8,
         6,
         2017,
         999.99
        ],
        [
         31,
         "Surly Wednesday - 2017",
         8,
         6,
         2017,
         1632.99
        ],
        [
         32,
         "Trek Farley Alloy Frameset - 2017",
         9,
         6,
         2017,
         469.99
        ],
        [
         33,
         "Surly Wednesday Frameset - 2017",
         8,
         6,
         2017,
         469.99
        ],
        [
         34,
         "Trek Session DH 27.5 Carbon Frameset - 2017",
         9,
         6,
         2017,
         469.99
        ],
        [
         35,
         "Sun Bicycles Spider 3i - 2017",
         7,
         6,
         2017,
         832.99
        ],
        [
         36,
         "Surly Troll Frameset - 2017",
         8,
         6,
         2017,
         832.99
        ],
        [
         37,
         "Haro Flightline One ST - 2017",
         2,
         6,
         2017,
         379.99
        ],
        [
         38,
         "Haro Flightline Two 26 Plus - 2017",
         2,
         6,
         2017,
         549.99
        ],
        [
         39,
         "Trek Stache 5 - 2017",
         9,
         6,
         2017,
         1499.99
        ],
        [
         40,
         "Trek Fuel EX 9.8 29 - 2017",
         9,
         6,
         2017,
         4999.99
        ],
        [
         41,
         "Haro Shift R3 - 2017",
         2,
         6,
         2017,
         1469.99
        ],
        [
         42,
         "Trek Fuel EX 5 27.5 Plus - 2017",
         9,
         6,
         2017,
         2299.99
        ],
        [
         43,
         "Trek Fuel EX 9.8 27.5 Plus - 2017",
         9,
         6,
         2017,
         5299.99
        ],
        [
         44,
         "Haro SR 1.1 - 2017",
         2,
         6,
         2017,
         539.99
        ],
        [
         45,
         "Haro SR 1.2 - 2017",
         2,
         6,
         2017,
         869.99
        ],
        [
         46,
         "Haro SR 1.3 - 2017",
         2,
         6,
         2017,
         1409.99
        ],
        [
         47,
         "Trek Remedy 9.8 - 2017",
         9,
         6,
         2017,
         5299.99
        ],
        [
         48,
         "Trek Emonda S 4 - 2017",
         9,
         7,
         2017,
         1499.99
        ],
        [
         49,
         "Trek Domane SL 6 - 2017",
         9,
         7,
         2017,
         3499.99
        ],
        [
         50,
         "Trek Silque SLR 7 Women's - 2017",
         9,
         7,
         2017,
         5999.99
        ],
        [
         51,
         "Trek Silque SLR 8 Women's - 2017",
         9,
         7,
         2017,
         6499.99
        ],
        [
         52,
         "Surly Steamroller - 2017",
         8,
         7,
         2017,
         875.99
        ],
        [
         53,
         "Surly Ogre Frameset - 2017",
         8,
         7,
         2017,
         749.99
        ],
        [
         54,
         "Trek Domane SL Disc Frameset - 2017",
         9,
         7,
         2017,
         3199.99
        ],
        [
         55,
         "Trek Domane S 6 - 2017",
         9,
         7,
         2017,
         2699.99
        ],
        [
         56,
         "Trek Domane SLR 6 Disc - 2017",
         9,
         7,
         2017,
         5499.99
        ],
        [
         57,
         "Trek Emonda S 5 - 2017",
         9,
         7,
         2017,
         1999.99
        ],
        [
         58,
         "Trek Madone 9.2 - 2017",
         9,
         7,
         2017,
         4999.99
        ],
        [
         59,
         "Trek Domane S 5 Disc - 2017",
         9,
         7,
         2017,
         2599.99
        ],
        [
         60,
         "Sun Bicycles ElectroLite - 2017",
         7,
         5,
         2017,
         1559.99
        ],
        [
         61,
         "Trek Powerfly 8 FS Plus - 2017",
         9,
         5,
         2017,
         4999.99
        ],
        [
         62,
         "Trek Boone 7 - 2017",
         9,
         4,
         2017,
         3499.99
        ],
        [
         63,
         "Trek Boone Race Shop Limited - 2017",
         9,
         4,
         2017,
         3499.99
        ],
        [
         64,
         "Electra Townie Original 7D - 2017",
         1,
         3,
         2017,
         489.99
        ],
        [
         65,
         "Sun Bicycles Lil Bolt Type-R - 2017",
         7,
         3,
         2017,
         346.99
        ],
        [
         66,
         "Sun Bicycles Revolutions 24 - 2017",
         7,
         3,
         2017,
         250.99
        ],
        [
         67,
         "Sun Bicycles Revolutions 24 - Girl's - 2017",
         7,
         3,
         2017,
         250.99
        ],
        [
         68,
         "Sun Bicycles Cruz 3 - 2017",
         7,
         3,
         2017,
         449.99
        ],
        [
         69,
         "Sun Bicycles Cruz 7 - 2017",
         7,
         3,
         2017,
         416.99
        ],
        [
         70,
         "Electra Amsterdam Original 3i - 2015/2017",
         1,
         3,
         2017,
         659.99
        ],
        [
         71,
         "Sun Bicycles Atlas X-Type - 2017",
         7,
         3,
         2017,
         416.99
        ],
        [
         72,
         "Sun Bicycles Biscayne Tandem 7 - 2017",
         7,
         3,
         2017,
         619.99
        ],
        [
         73,
         "Sun Bicycles Brickell Tandem 7 - 2017",
         7,
         3,
         2017,
         749.99
        ],
        [
         74,
         "Electra Cruiser Lux 1 - 2017",
         1,
         3,
         2017,
         439.99
        ],
        [
         75,
         "Electra Cruiser Lux Fat Tire 1 Ladies - 2017",
         1,
         3,
         2017,
         599.99
        ],
        [
         76,
         "\"Electra Girl's Hawaii 1 16\"\" - 2017\"",
         1,
         3,
         2017,
         299.99
        ],
        [
         77,
         "Electra Glam Punk 3i Ladies' - 2017",
         1,
         3,
         2017,
         799.99
        ],
        [
         78,
         "Sun Bicycles Biscayne Tandem CB - 2017",
         7,
         3,
         2017,
         647.99
        ],
        [
         79,
         "Sun Bicycles Boardwalk (24-inch Wheels) - 2017",
         7,
         3,
         2017,
         402.99
        ],
        [
         80,
         "Sun Bicycles Brickell Tandem CB - 2017",
         7,
         3,
         2017,
         761.99
        ],
        [
         81,
         "Electra Amsterdam Fashion 7i Ladies' - 2017",
         1,
         3,
         2017,
         1099.99
        ],
        [
         82,
         "Electra Amsterdam Original 3i Ladies' - 2017",
         1,
         3,
         2017,
         659.99
        ],
        [
         83,
         "Trek Boy's Kickster - 2015/2017",
         9,
         1,
         2017,
         149.99
        ],
        [
         84,
         "Sun Bicycles Lil Kitt'n - 2017",
         7,
         1,
         2017,
         109.99
        ],
        [
         85,
         "Haro Downtown 16 - 2017",
         2,
         1,
         2017,
         329.99
        ],
        [
         86,
         "Trek Girl's Kickster - 2017",
         9,
         1,
         2017,
         149.99
        ],
        [
         87,
         "Trek Precaliber 12 Boys - 2017",
         9,
         1,
         2017,
         189.99
        ],
        [
         88,
         "Trek Precaliber 12 Girls - 2017",
         9,
         1,
         2017,
         189.99
        ],
        [
         89,
         "Trek Precaliber 16 Boys - 2017",
         9,
         1,
         2017,
         209.99
        ],
        [
         90,
         "Trek Precaliber 16 Girls - 2017",
         9,
         1,
         2017,
         209.99
        ],
        [
         91,
         "Trek Precaliber 24 (21-Speed) - Girls - 2017",
         9,
         1,
         2017,
         349.99
        ],
        [
         92,
         "Haro Shredder 20 - 2017",
         2,
         1,
         2017,
         209.99
        ],
        [
         93,
         "Haro Shredder 20 Girls - 2017",
         2,
         1,
         2017,
         209.99
        ],
        [
         94,
         "Haro Shredder Pro 20 - 2017",
         2,
         1,
         2017,
         249.99
        ],
        [
         95,
         "\"Electra Girl's Hawaii 1 16\"\" - 2017\"",
         1,
         1,
         2017,
         299.99
        ],
        [
         96,
         "Electra Moto 3i (20-inch) - Boy's - 2017",
         1,
         1,
         2017,
         349.99
        ],
        [
         97,
         "Electra Savannah 3i (20-inch) - Girl's - 2017",
         1,
         1,
         2017,
         349.99
        ],
        [
         98,
         "Electra Straight 8 3i (20-inch) - Boy's - 2017",
         1,
         1,
         2017,
         489.99
        ],
        [
         99,
         "Electra Sugar Skulls 1 (20-inch) - Girl's - 2017",
         1,
         1,
         2017,
         299.99
        ],
        [
         100,
         "Electra Townie 3i EQ (20-inch) - Boys' - 2017",
         1,
         1,
         2017,
         489.99
        ],
        [
         101,
         "Electra Townie 7D (20-inch) - Boys' - 2017",
         1,
         1,
         2017,
         339.99
        ],
        [
         102,
         "Electra Townie Original 7D - 2017",
         1,
         2,
         2017,
         489.99
        ],
        [
         103,
         "Sun Bicycles Streamway 3 - 2017",
         7,
         2,
         2017,
         551.99
        ],
        [
         104,
         "Sun Bicycles Streamway - 2017",
         7,
         2,
         2017,
         481.99
        ],
        [
         105,
         "Sun Bicycles Streamway 7 - 2017",
         7,
         2,
         2017,
         533.99
        ],
        [
         106,
         "Sun Bicycles Cruz 3 - 2017",
         7,
         2,
         2017,
         449.99
        ],
        [
         107,
         "Sun Bicycles Cruz 7 - 2017",
         7,
         2,
         2017,
         416.99
        ],
        [
         108,
         "Sun Bicycles Cruz 3 - Women's - 2017",
         7,
         2,
         2017,
         449.99
        ],
        [
         109,
         "Sun Bicycles Cruz 7 - Women's - 2017",
         7,
         2,
         2017,
         416.99
        ],
        [
         110,
         "Sun Bicycles Drifter 7 - 2017",
         7,
         2,
         2017,
         470.99
        ],
        [
         111,
         "Sun Bicycles Drifter 7 - Women's - 2017",
         7,
         2,
         2017,
         470.99
        ],
        [
         112,
         "Trek 820 - 2018",
         9,
         6,
         2018,
         379.99
        ],
        [
         113,
         "Trek Marlin 5 - 2018",
         9,
         6,
         2018,
         489.99
        ],
        [
         114,
         "Trek Marlin 6 - 2018",
         9,
         6,
         2018,
         579.99
        ],
        [
         115,
         "Trek Fuel EX 8 29 - 2018",
         9,
         6,
         2018,
         3199.99
        ],
        [
         116,
         "Trek Marlin 7 - 2017/2018",
         9,
         6,
         2018,
         749.99
        ],
        [
         117,
         "Trek Ticket S Frame - 2018",
         9,
         6,
         2018,
         1469.99
        ],
        [
         118,
         "Trek X-Caliber 8 - 2018",
         9,
         6,
         2018,
         999.99
        ],
        [
         119,
         "Trek Kids' Neko - 2018",
         9,
         6,
         2018,
         469.99
        ],
        [
         120,
         "Trek Fuel EX 7 29 - 2018",
         9,
         6,
         2018,
         2499.99
        ],
        [
         121,
         "Surly Krampus Frameset - 2018",
         8,
         6,
         2018,
         2499.99
        ],
        [
         122,
         "Surly Troll Frameset - 2018",
         8,
         6,
         2018,
         2499.99
        ],
        [
         123,
         "Trek Farley Carbon Frameset - 2018",
         9,
         6,
         2018,
         999.99
        ],
        [
         124,
         "Surly Krampus - 2018",
         8,
         6,
         2018,
         1499.0
        ],
        [
         125,
         "Trek Kids' Dual Sport - 2018",
         9,
         6,
         2018,
         469.99
        ],
        [
         126,
         "Surly Big Fat Dummy Frameset - 2018",
         8,
         6,
         2018,
         469.99
        ],
        [
         127,
         "Surly Pack Rat Frameset - 2018",
         8,
         6,
         2018,
         469.99
        ],
        [
         128,
         "Surly ECR 27.5 - 2018",
         8,
         6,
         2018,
         1899.0
        ],
        [
         129,
         "Trek X-Caliber 7 - 2018",
         9,
         6,
         2018,
         919.99
        ],
        [
         130,
         "Trek Stache Carbon Frameset - 2018",
         9,
         6,
         2018,
         919.99
        ],
        [
         131,
         "Heller Bloodhound Trail - 2018",
         3,
         6,
         2018,
         2599.0
        ],
        [
         132,
         "Trek Procal AL Frameset - 2018",
         9,
         6,
         2018,
         1499.99
        ],
        [
         133,
         "Trek Procaliber Frameset - 2018",
         9,
         6,
         2018,
         1499.99
        ],
        [
         134,
         "Trek Remedy 27.5 C Frameset - 2018",
         9,
         6,
         2018,
         1499.99
        ],
        [
         135,
         "Trek X-Caliber Frameset - 2018",
         9,
         6,
         2018,
         1499.99
        ],
        [
         136,
         "Trek Procaliber 6 - 2018",
         9,
         6,
         2018,
         1799.99
        ],
        [
         137,
         "Heller Shagamaw GX1 - 2018",
         3,
         6,
         2018,
         2599.0
        ],
        [
         138,
         "Trek Fuel EX 5 Plus - 2018",
         9,
         6,
         2018,
         2249.99
        ],
        [
         139,
         "Trek Remedy 7 27.5 - 2018",
         9,
         6,
         2018,
         2999.99
        ],
        [
         140,
         "Trek Remedy 9.8 27.5 - 2018",
         9,
         6,
         2018,
         4999.99
        ],
        [
         141,
         "Trek Stache 5 - 2018",
         9,
         6,
         2018,
         1599.99
        ],
        [
         142,
         "Trek Fuel EX 8 29 XT - 2018",
         9,
         6,
         2018,
         3199.99
        ],
        [
         143,
         "Trek Domane ALR 3 - 2018",
         9,
         7,
         2018,
         1099.99
        ],
        [
         144,
         "Trek Domane ALR 4 Disc - 2018",
         9,
         7,
         2018,
         1549.99
        ],
        [
         145,
         "Trek Domane ALR 5 Disc - 2018",
         9,
         7,
         2018,
         1799.99
        ],
        [
         146,
         "Trek Domane SLR 6 - 2018",
         9,
         7,
         2018,
         4999.99
        ],
        [
         147,
         "Trek Domane ALR 5 Gravel - 2018",
         9,
         7,
         2018,
         1799.99
        ],
        [
         148,
         "Trek Domane SL 8 Disc - 2018",
         9,
         7,
         2018,
         5499.99
        ],
        [
         149,
         "Trek Domane SLR 8 Disc - 2018",
         9,
         7,
         2018,
         7499.99
        ],
        [
         150,
         "Trek Emonda SL 7 - 2018",
         9,
         7,
         2018,
         4499.99
        ],
        [
         151,
         "Trek Domane ALR 4 Disc Women's - 2018",
         9,
         7,
         2018,
         1549.99
        ],
        [
         152,
         "Trek Domane SL 5 Disc Women's - 2018",
         9,
         7,
         2018,
         2499.99
        ],
        [
         153,
         "Trek Domane SL 7 Women's - 2018",
         9,
         7,
         2018,
         4999.99
        ],
        [
         154,
         "Trek Domane SLR 6 Disc Women's - 2018",
         9,
         7,
         2018,
         5499.99
        ],
        [
         155,
         "Trek Domane SLR 9 Disc - 2018",
         9,
         7,
         2018,
         11999.99
        ],
        [
         156,
         "Trek Domane SL Frameset - 2018",
         9,
         7,
         2018,
         6499.99
        ],
        [
         157,
         "Trek Domane SL Frameset Women's - 2018",
         9,
         7,
         2018,
         6499.99
        ],
        [
         158,
         "Trek CrossRip 1 - 2018",
         9,
         7,
         2018,
         959.99
        ],
        [
         159,
         "Trek Emonda ALR 6 - 2018",
         9,
         7,
         2018,
         2299.99
        ],
        [
         160,
         "Trek Emonda SLR 6 - 2018",
         9,
         7,
         2018,
         4499.99
        ],
        [
         161,
         "Surly ECR - 2018",
         8,
         7,
         2018,
         1899.0
        ],
        [
         162,
         "Trek Emonda SL 6 Disc - 2018",
         9,
         7,
         2018,
         2999.99
        ],
        [
         163,
         "Surly Pack Rat - 2018",
         8,
         7,
         2018,
         1349.0
        ],
        [
         164,
         "Surly Straggler 650b - 2018",
         8,
         7,
         2018,
         1549.0
        ],
        [
         165,
         "Trek 1120 - 2018",
         9,
         7,
         2018,
         2499.99
        ],
        [
         166,
         "Trek Domane AL 2 Women's - 2018",
         9,
         7,
         2018,
         749.99
        ],
        [
         167,
         "Surly ECR Frameset - 2018",
         8,
         7,
         2018,
         749.99
        ],
        [
         168,
         "Surly Straggler - 2018",
         8,
         7,
         2018,
         1549.0
        ],
        [
         169,
         "Trek Emonda SLR 8 - 2018",
         9,
         7,
         2018,
         6499.99
        ],
        [
         170,
         "Trek CrossRip 2 - 2018",
         9,
         7,
         2018,
         1299.99
        ],
        [
         171,
         "Trek Domane SL 6 - 2018",
         9,
         7,
         2018,
         3199.99
        ],
        [
         172,
         "Trek Domane ALR Disc Frameset - 2018",
         9,
         7,
         2018,
         3199.99
        ],
        [
         173,
         "Trek Domane ALR Frameset - 2018",
         9,
         7,
         2018,
         3199.99
        ],
        [
         174,
         "Trek Domane SLR Disc Frameset - 2018",
         9,
         7,
         2018,
         3199.99
        ],
        [
         175,
         "Trek Domane SLR Frameset - 2018",
         9,
         7,
         2018,
         3199.99
        ],
        [
         176,
         "Trek Madone 9 Frameset - 2018",
         9,
         7,
         2018,
         3199.99
        ],
        [
         177,
         "Trek Domane SLR 6 Disc - 2018",
         9,
         7,
         2018,
         5499.99
        ],
        [
         178,
         "Trek Domane AL 2 - 2018",
         9,
         7,
         2018,
         749.99
        ],
        [
         179,
         "Trek Domane AL 3 - 2018",
         9,
         7,
         2018,
         919.99
        ],
        [
         180,
         "Trek Domane AL 3 Women's - 2018",
         9,
         7,
         2018,
         919.99
        ],
        [
         181,
         "Trek Domane SL 5 - 2018",
         9,
         7,
         2018,
         2199.99
        ],
        [
         182,
         "Trek Domane SL 5 Disc - 2018",
         9,
         7,
         2018,
         2499.99
        ],
        [
         183,
         "Trek Domane SL 5 Women's - 2018",
         9,
         7,
         2018,
         2199.99
        ],
        [
         184,
         "Trek Domane SL 6 Disc - 2018",
         9,
         7,
         2018,
         3499.99
        ],
        [
         185,
         "Trek Conduit+ - 2018",
         9,
         5,
         2018,
         2799.99
        ],
        [
         186,
         "Trek CrossRip+ - 2018",
         9,
         5,
         2018,
         4499.99
        ],
        [
         187,
         "Trek Neko+ - 2018",
         9,
         5,
         2018,
         2799.99
        ],
        [
         188,
         "Trek XM700+ Lowstep - 2018",
         9,
         5,
         2018,
         3499.99
        ],
        [
         189,
         "Trek Lift+ Lowstep - 2018",
         9,
         5,
         2018,
         2799.99
        ],
        [
         190,
         "Trek Dual Sport+ - 2018",
         9,
         5,
         2018,
         2799.99
        ],
        [
         191,
         "Electra Loft Go! 8i - 2018",
         1,
         5,
         2018,
         2799.99
        ],
        [
         192,
         "Electra Townie Go! 8i - 2017/2018",
         1,
         5,
         2018,
         2599.99
        ],
        [
         193,
         "Trek Lift+ - 2018",
         9,
         5,
         2018,
         2799.99
        ],
        [
         194,
         "Trek XM700+ - 2018",
         9,
         5,
         2018,
         3499.99
        ],
        [
         195,
         "Electra Townie Go! 8i Ladies' - 2018",
         1,
         5,
         2018,
         2599.99
        ],
        [
         196,
         "Trek Verve+ - 2018",
         9,
         5,
         2018,
         2299.99
        ],
        [
         197,
         "Trek Verve+ Lowstep - 2018",
         9,
         5,
         2018,
         2299.99
        ],
        [
         198,
         "Electra Townie Commute Go! - 2018",
         1,
         5,
         2018,
         2999.99
        ],
        [
         199,
         "Electra Townie Commute Go! Ladies' - 2018",
         1,
         5,
         2018,
         2999.99
        ],
        [
         200,
         "Trek Powerfly 5 - 2018",
         9,
         5,
         2018,
         3499.99
        ],
        [
         201,
         "Trek Powerfly 5 FS - 2018",
         9,
         5,
         2018,
         4499.99
        ],
        [
         202,
         "Trek Powerfly 5 Women's - 2018",
         9,
         5,
         2018,
         3499.99
        ],
        [
         203,
         "Trek Powerfly 7 FS - 2018",
         9,
         5,
         2018,
         4999.99
        ],
        [
         204,
         "Trek Super Commuter+ 7 - 2018",
         9,
         5,
         2018,
         3599.99
        ],
        [
         205,
         "Trek Super Commuter+ 8S - 2018",
         9,
         5,
         2018,
         4999.99
        ],
        [
         206,
         "Trek Boone 5 Disc - 2018",
         9,
         4,
         2018,
         3299.99
        ],
        [
         207,
         "Trek Boone 7 Disc - 2018",
         9,
         4,
         2018,
         3999.99
        ],
        [
         208,
         "Trek Crockett 5 Disc - 2018",
         9,
         4,
         2018,
         1799.99
        ],
        [
         209,
         "Trek Crockett 7 Disc - 2018",
         9,
         4,
         2018,
         2999.99
        ],
        [
         210,
         "Surly Straggler - 2018",
         8,
         4,
         2018,
         1549.0
        ],
        [
         211,
         "Surly Straggler 650b - 2018",
         8,
         4,
         2018,
         1549.0
        ],
        [
         212,
         "Electra Townie Original 21D - 2018",
         1,
         3,
         2018,
         559.99
        ],
        [
         213,
         "Electra Cruiser 1 - 2016/2017/2018",
         1,
         3,
         2018,
         269.99
        ],
        [
         214,
         "Electra Tiger Shark 3i - 2018",
         1,
         3,
         2018,
         899.99
        ],
        [
         215,
         "Electra Queen of Hearts 3i - 2018",
         1,
         3,
         2018,
         749.99
        ],
        [
         216,
         "Electra Super Moto 8i - 2018",
         1,
         3,
         2018,
         899.99
        ],
        [
         217,
         "Electra Straight 8 3i - 2018",
         1,
         3,
         2018,
         909.99
        ],
        [
         218,
         "Electra Cruiser 7D - 2016/2017/2018",
         1,
         3,
         2018,
         319.99
        ],
        [
         219,
         "Electra Moto 3i - 2018",
         1,
         3,
         2018,
         639.99
        ],
        [
         220,
         "Electra Cruiser 1 Ladies' - 2018",
         1,
         3,
         2018,
         269.99
        ],
        [
         221,
         "Electra Cruiser 7D Ladies' - 2016/2018",
         1,
         3,
         2018,
         319.99
        ],
        [
         222,
         "Electra Cruiser 1 Tall - 2016/2018",
         1,
         3,
         2018,
         269.99
        ],
        [
         223,
         "Electra Cruiser Lux 3i - 2018",
         1,
         3,
         2018,
         529.99
        ],
        [
         224,
         "Electra Cruiser Lux 7D - 2018",
         1,
         3,
         2018,
         479.99
        ],
        [
         225,
         "Electra Delivery 3i - 2016/2017/2018",
         1,
         3,
         2018,
         959.99
        ],
        [
         226,
         "Electra Townie Original 21D EQ - 2017/2018",
         1,
         3,
         2018,
         679.99
        ],
        [
         227,
         "Electra Cruiser 7D (24-Inch) Ladies' - 2016/2018",
         1,
         3,
         2018,
         319.99
        ],
        [
         228,
         "Electra Cruiser 7D Tall - 2016/2018",
         1,
         3,
         2018,
         319.99
        ],
        [
         229,
         "Electra Cruiser Lux 1 - 2016/2018",
         1,
         3,
         2018,
         429.99
        ],
        [
         230,
         "Electra Cruiser Lux 1 Ladies' - 2018",
         1,
         3,
         2018,
         429.99
        ],
        [
         231,
         "Electra Cruiser Lux 3i Ladies' - 2018",
         1,
         3,
         2018,
         529.99
        ],
        [
         232,
         "Electra Cruiser Lux 7D Ladies' - 2018",
         1,
         3,
         2018,
         479.99
        ],
        [
         233,
         "Electra Cruiser Lux Fat Tire 7D - 2018",
         1,
         3,
         2018,
         639.99
        ],
        [
         234,
         "Electra Daydreamer 3i Ladies' - 2018",
         1,
         3,
         2018,
         899.99
        ],
        [
         235,
         "Electra Koa 3i Ladies' - 2018",
         1,
         3,
         2018,
         899.99
        ],
        [
         236,
         "Electra Morningstar 3i Ladies' - 2018",
         1,
         3,
         2018,
         749.99
        ],
        [
         237,
         "Electra Relic 3i - 2018",
         1,
         3,
         2018,
         849.99
        ],
        [
         238,
         "Electra Townie Balloon 8D EQ - 2016/2017/2018",
         1,
         3,
         2018,
         749.99
        ],
        [
         239,
         "Electra Townie Balloon 8D EQ Ladies' - 2016/2017/2018",
         1,
         3,
         2018,
         749.99
        ],
        [
         240,
         "Electra Townie Commute 27D Ladies - 2018",
         1,
         3,
         2018,
         899.99
        ],
        [
         241,
         "Electra Townie Commute 8D - 2018",
         1,
         3,
         2018,
         749.99
        ],
        [
         242,
         "Electra Townie Commute 8D Ladies' - 2018",
         1,
         3,
         2018,
         699.99
        ],
        [
         243,
         "Electra Townie Original 21D EQ Ladies' - 2018",
         1,
         3,
         2018,
         679.99
        ],
        [
         244,
         "Electra Townie Original 21D Ladies' - 2018",
         1,
         3,
         2018,
         559.99
        ],
        [
         245,
         "Electra Townie Original 3i EQ - 2017/2018",
         1,
         3,
         2018,
         659.99
        ],
        [
         246,
         "Electra Townie Original 3i EQ Ladies' - 2018",
         1,
         3,
         2018,
         639.99
        ],
        [
         247,
         "Electra Townie Original 7D EQ - 2018",
         1,
         3,
         2018,
         599.99
        ],
        [
         248,
         "Electra Townie Original 7D EQ Ladies' - 2017/2018",
         1,
         3,
         2018,
         599.99
        ],
        [
         249,
         "Electra White Water 3i - 2018",
         1,
         3,
         2018,
         749.99
        ],
        [
         250,
         "Electra Townie Go! 8i - 2017/2018",
         1,
         3,
         2018,
         2599.99
        ],
        [
         251,
         "Electra Townie Commute Go! - 2018",
         1,
         3,
         2018,
         2999.99
        ],
        [
         252,
         "Electra Townie Commute Go! Ladies' - 2018",
         1,
         3,
         2018,
         2999.99
        ],
        [
         253,
         "Electra Townie Go! 8i Ladies' - 2018",
         1,
         3,
         2018,
         2599.99
        ],
        [
         254,
         "Electra Townie Balloon 3i EQ - 2017/2018",
         1,
         3,
         2018,
         749.99
        ],
        [
         255,
         "Electra Townie Balloon 7i EQ Ladies' - 2017/2018",
         1,
         3,
         2018,
         899.99
        ],
        [
         256,
         "Electra Townie Commute 27D - 2018",
         1,
         3,
         2018,
         899.99
        ],
        [
         257,
         "Electra Amsterdam Fashion 3i Ladies' - 2017/2018",
         1,
         3,
         2018,
         899.99
        ],
        [
         258,
         "Electra Amsterdam Royal 8i - 2017/2018",
         1,
         3,
         2018,
         1259.9
        ],
        [
         259,
         "Electra Amsterdam Royal 8i Ladies - 2018",
         1,
         3,
         2018,
         1199.99
        ],
        [
         260,
         "Electra Townie Balloon 3i EQ Ladies' - 2018",
         1,
         3,
         2018,
         799.99
        ],
        [
         261,
         "Electra Townie Balloon 7i EQ - 2018",
         1,
         3,
         2018,
         899.99
        ],
        [
         262,
         "Trek MT 201 - 2018",
         9,
         1,
         2018,
         249.99
        ],
        [
         263,
         "Strider Classic 12 Balance Bike - 2018",
         6,
         1,
         2018,
         89.99
        ],
        [
         264,
         "Strider Sport 16 - 2018",
         6,
         1,
         2018,
         249.99
        ],
        [
         265,
         "Strider Strider 20 Sport - 2018",
         6,
         1,
         2018,
         289.99
        ],
        [
         266,
         "Trek Superfly 20 - 2018",
         9,
         1,
         2018,
         399.99
        ],
        [
         267,
         "Trek Precaliber 12 Girl's - 2018",
         9,
         1,
         2018,
         199.99
        ],
        [
         268,
         "Trek Kickster - 2018",
         9,
         1,
         2018,
         159.99
        ],
        [
         269,
         "Trek Precaliber 12 Boy's - 2018",
         9,
         1,
         2018,
         199.99
        ],
        [
         270,
         "Trek Precaliber 16 Boy's - 2018",
         9,
         1,
         2018,
         209.99
        ],
        [
         271,
         "Trek Precaliber 16 Girl's - 2018",
         9,
         1,
         2018,
         209.99
        ],
        [
         272,
         "Trek Precaliber 20 6-speed Boy's - 2018",
         9,
         1,
         2018,
         289.99
        ],
        [
         273,
         "Trek Precaliber 20 6-speed Girl's - 2018",
         9,
         1,
         2018,
         289.99
        ],
        [
         274,
         "Trek Precaliber 20 Boy's - 2018",
         9,
         1,
         2018,
         229.99
        ],
        [
         275,
         "Trek Precaliber 20 Girl's - 2018",
         9,
         1,
         2018,
         229.99
        ],
        [
         276,
         "Trek Precaliber 24 (7-Speed) - Boys - 2018",
         9,
         1,
         2018,
         319.99
        ],
        [
         277,
         "Trek Precaliber 24 21-speed Boy's - 2018",
         9,
         1,
         2018,
         369.99
        ],
        [
         278,
         "Trek Precaliber 24 21-speed Girl's - 2018",
         9,
         1,
         2018,
         369.99
        ],
        [
         279,
         "Trek Precaliber 24 7-speed Girl's - 2018",
         9,
         1,
         2018,
         319.99
        ],
        [
         280,
         "Trek Superfly 24 - 2017/2018",
         9,
         1,
         2018,
         489.99
        ],
        [
         281,
         "Electra Cruiser 7D (24-Inch) Ladies' - 2016/2018",
         1,
         1,
         2018,
         319.99
        ],
        [
         282,
         "Electra Cyclosaurus 1 (16-inch) - Boy's - 2018",
         1,
         1,
         2018,
         279.99
        ],
        [
         283,
         "Electra Heartchya 1 (20-inch) - Girl's - 2018",
         1,
         1,
         2018,
         319.99
        ],
        [
         284,
         "Electra Savannah 1 (20-inch) - Girl's - 2018",
         1,
         1,
         2018,
         319.99
        ],
        [
         285,
         "Electra Soft Serve 1 (16-inch) - Girl's - 2018",
         1,
         1,
         2018,
         279.99
        ],
        [
         286,
         "\"Electra Starship 1 16\"\" - 2018\"",
         1,
         1,
         2018,
         279.99
        ],
        [
         287,
         "Electra Straight 8 1 (16-inch) - Boy's - 2018",
         1,
         1,
         2018,
         279.99
        ],
        [
         288,
         "Electra Straight 8 1 (20-inch) - Boy's - 2018",
         1,
         1,
         2018,
         389.99
        ],
        [
         289,
         "\"Electra Superbolt 1 20\"\" - 2018\"",
         1,
         1,
         2018,
         319.99
        ],
        [
         290,
         "\"Electra Superbolt 3i 20\"\" - 2018\"",
         1,
         1,
         2018,
         369.99
        ],
        [
         291,
         "Electra Sweet Ride 1 (20-inch) - Girl's - 2018",
         1,
         1,
         2018,
         319.99
        ],
        [
         292,
         "Electra Sweet Ride 3i (20-inch) - Girls' - 2018",
         1,
         1,
         2018,
         369.99
        ],
        [
         293,
         "Electra Tiger Shark 1 (20-inch) - Boys' - 2018",
         1,
         1,
         2018,
         319.99
        ],
        [
         294,
         "Electra Tiger Shark 3i (20-inch) - Boys' - 2018",
         1,
         1,
         2018,
         369.99
        ],
        [
         295,
         "\"Electra Treasure 1 20\"\" - 2018\"",
         1,
         1,
         2018,
         319.99
        ],
        [
         296,
         "\"Electra Treasure 3i 20\"\" - 2018\"",
         1,
         1,
         2018,
         369.99
        ],
        [
         297,
         "\"Electra Under-The-Sea 1 16\"\" - 2018\"",
         1,
         1,
         2018,
         279.99
        ],
        [
         298,
         "Electra Water Lily 1 (16-inch) - Girl's - 2018",
         1,
         1,
         2018,
         279.99
        ],
        [
         299,
         "Electra Townie Original 21D - 2018",
         1,
         2,
         2018,
         559.99
        ],
        [
         300,
         "Electra Townie Balloon 3i EQ Ladies' - 2018",
         1,
         2,
         2018,
         799.99
        ],
        [
         301,
         "Electra Townie Balloon 7i EQ - 2018",
         1,
         2,
         2018,
         899.99
        ],
        [
         302,
         "Electra Townie Original 1 - 2018",
         1,
         2,
         2018,
         449.99
        ],
        [
         303,
         "Electra Townie Go! 8i - 2017/2018",
         1,
         2,
         2018,
         2599.99
        ],
        [
         304,
         "Electra Townie Original 21D EQ - 2017/2018",
         1,
         2,
         2018,
         679.99
        ],
        [
         305,
         "Electra Townie Balloon 3i EQ - 2017/2018",
         1,
         2,
         2018,
         749.99
        ],
        [
         306,
         "Electra Townie Balloon 7i EQ Ladies' - 2017/2018",
         1,
         2,
         2018,
         899.99
        ],
        [
         307,
         "Electra Townie Balloon 8D EQ - 2016/2017/2018",
         1,
         2,
         2018,
         749.99
        ],
        [
         308,
         "Electra Townie Balloon 8D EQ Ladies' - 2016/2017/2018",
         1,
         2,
         2018,
         749.99
        ],
        [
         309,
         "Electra Townie Commute 27D - 2018",
         1,
         2,
         2018,
         899.99
        ],
        [
         310,
         "Electra Townie Commute 27D Ladies - 2018",
         1,
         2,
         2018,
         899.99
        ],
        [
         311,
         "Electra Townie Commute 8D - 2018",
         1,
         2,
         2018,
         749.99
        ],
        [
         312,
         "Electra Townie Commute 8D Ladies' - 2018",
         1,
         2,
         2018,
         699.99
        ],
        [
         313,
         "Electra Townie Original 1 Ladies' - 2018",
         1,
         2,
         2018,
         449.99
        ],
        [
         314,
         "Electra Townie Original 21D EQ Ladies' - 2018",
         1,
         2,
         2018,
         679.99
        ],
        [
         315,
         "Electra Townie Original 21D Ladies' - 2018",
         1,
         2,
         2018,
         559.99
        ],
        [
         316,
         "Trek Checkpoint ALR 4 Women's - 2019",
         9,
         7,
         2019,
         1699.99
        ],
        [
         317,
         "Trek Checkpoint ALR 5 - 2019",
         9,
         7,
         2019,
         1999.99
        ],
        [
         318,
         "Trek Checkpoint ALR 5 Women's - 2019",
         9,
         7,
         2019,
         1999.99
        ],
        [
         319,
         "Trek Checkpoint SL 5 Women's - 2019",
         9,
         7,
         2019,
         2799.99
        ],
        [
         320,
         "Trek Checkpoint SL 6 - 2019",
         9,
         7,
         2019,
         3799.99
        ],
        [
         321,
         "Trek Checkpoint ALR Frameset - 2019",
         9,
         7,
         2019,
         3199.99
        ]
       ],
       "datasetInfos": [
        {
         "name": "_sqldf",
         "schema": {
          "fields": [
           {
            "metadata": {},
            "name": "product_id",
            "nullable": true,
            "type": "integer"
           },
           {
            "metadata": {},
            "name": "product_name",
            "nullable": true,
            "type": "string"
           },
           {
            "metadata": {},
            "name": "brand_id",
            "nullable": true,
            "type": "integer"
           },
           {
            "metadata": {},
            "name": "category_id",
            "nullable": true,
            "type": "integer"
           },
           {
            "metadata": {},
            "name": "model_year",
            "nullable": true,
            "type": "integer"
           },
           {
            "metadata": {},
            "name": "list_price",
            "nullable": true,
            "type": "double"
           }
          ],
          "type": "struct"
         },
         "tableIdentifier": null,
         "typeStr": "pyspark.sql.connect.dataframe.DataFrame"
        }
       ],
       "dbfsResultPath": null,
       "isJsonSchema": true,
       "metadata": {
        "createTempViewForImplicitDf": true,
        "dataframeName": "_sqldf",
        "executionCount": 64
       },
       "overflow": false,
       "plotOptions": {
        "customPlotOptions": {},
        "displayType": "table",
        "pivotAggregation": null,
        "pivotColumns": null,
        "xColumns": null,
        "yColumns": null
       },
       "removedWidgets": [],
       "schema": [
        {
         "metadata": "{}",
         "name": "product_id",
         "type": "\"integer\""
        },
        {
         "metadata": "{}",
         "name": "product_name",
         "type": "\"string\""
        },
        {
         "metadata": "{}",
         "name": "brand_id",
         "type": "\"integer\""
        },
        {
         "metadata": "{}",
         "name": "category_id",
         "type": "\"integer\""
        },
        {
         "metadata": "{}",
         "name": "model_year",
         "type": "\"integer\""
        },
        {
         "metadata": "{}",
         "name": "list_price",
         "type": "\"double\""
        }
       ],
       "type": "table"
      }
     },
     "output_type": "display_data"
    }
   ],
   "source": [
    "%sql\n",
    "-- ver todos os dados \n",
    "use teste;\n",
    "SELECT * FROM Produtos\n"
   ]
  },
  {
   "cell_type": "code",
   "execution_count": 0,
   "metadata": {
    "application/vnd.databricks.v1+cell": {
     "cellMetadata": {
      "byteLimit": 2048000,
      "implicitDf": true,
      "rowLimit": 10000
     },
     "inputWidgets": {},
     "nuid": "94222a86-dee3-48bc-a2af-5c69630845ca",
     "showTitle": false,
     "tableResultSettingsMap": {},
     "title": ""
    }
   },
   "outputs": [
    {
     "output_type": "display_data",
     "data": {
      "text/html": [
       "<style scoped>\n",
       "  .table-result-container {\n",
       "    max-height: 300px;\n",
       "    overflow: auto;\n",
       "  }\n",
       "  table, th, td {\n",
       "    border: 1px solid black;\n",
       "    border-collapse: collapse;\n",
       "  }\n",
       "  th, td {\n",
       "    padding: 5px;\n",
       "  }\n",
       "  th {\n",
       "    text-align: left;\n",
       "  }\n",
       "</style><div class='table-result-container'><table class='table-result'><thead style='background-color: white'><tr><th>count(*)</th></tr></thead><tbody><tr><td>321</td></tr></tbody></table></div>"
      ]
     },
     "metadata": {
      "application/vnd.databricks.v1+output": {
       "addedWidgets": {},
       "aggData": [],
       "aggError": "",
       "aggOverflow": false,
       "aggSchema": [],
       "aggSeriesLimitReached": false,
       "aggType": "",
       "arguments": {},
       "columnCustomDisplayInfos": {},
       "data": [
        [
         321
        ]
       ],
       "datasetInfos": [
        {
         "name": "_sqldf",
         "schema": {
          "fields": [
           {
            "metadata": {},
            "name": "count(*)",
            "nullable": false,
            "type": "long"
           }
          ],
          "type": "struct"
         },
         "tableIdentifier": null,
         "typeStr": "pyspark.sql.connect.dataframe.DataFrame"
        }
       ],
       "dbfsResultPath": null,
       "isJsonSchema": true,
       "metadata": {
        "createTempViewForImplicitDf": true,
        "dataframeName": "_sqldf",
        "executionCount": 66
       },
       "overflow": false,
       "plotOptions": {
        "customPlotOptions": {},
        "displayType": "table",
        "pivotAggregation": null,
        "pivotColumns": null,
        "xColumns": null,
        "yColumns": null
       },
       "removedWidgets": [],
       "schema": [
        {
         "metadata": "{}",
         "name": "count(*)",
         "type": "\"long\""
        }
       ],
       "type": "table"
      }
     },
     "output_type": "display_data"
    }
   ],
   "source": [
    "%sql\n",
    "use Teste;\n",
    "\n",
    "SELECT count(*) FROM Produtos"
   ]
  },
  {
   "cell_type": "code",
   "execution_count": 0,
   "metadata": {
    "application/vnd.databricks.v1+cell": {
     "cellMetadata": {
      "byteLimit": 2048000,
      "implicitDf": true,
      "rowLimit": 10000
     },
     "inputWidgets": {},
     "nuid": "950b8924-3ded-45d4-b3e2-bd14813460e5",
     "showTitle": false,
     "tableResultSettingsMap": {},
     "title": ""
    }
   },
   "outputs": [
    {
     "output_type": "display_data",
     "data": {
      "text/html": [
       "<style scoped>\n",
       "  .table-result-container {\n",
       "    max-height: 300px;\n",
       "    overflow: auto;\n",
       "  }\n",
       "  table, th, td {\n",
       "    border: 1px solid black;\n",
       "    border-collapse: collapse;\n",
       "  }\n",
       "  th, td {\n",
       "    padding: 5px;\n",
       "  }\n",
       "  th {\n",
       "    text-align: left;\n",
       "  }\n",
       "</style><div class='table-result-container'><table class='table-result'><thead style='background-color: white'><tr><th>Ano</th><th>QNT</th></tr></thead><tbody><tr><td>2018</td><td>204</td></tr><tr><td>2017</td><td>85</td></tr><tr><td>2016</td><td>26</td></tr><tr><td>2019</td><td>6</td></tr></tbody></table></div>"
      ]
     },
     "metadata": {
      "application/vnd.databricks.v1+output": {
       "addedWidgets": {},
       "aggData": [],
       "aggError": "",
       "aggOverflow": false,
       "aggSchema": [],
       "aggSeriesLimitReached": false,
       "aggType": "",
       "arguments": {},
       "columnCustomDisplayInfos": {},
       "data": [
        [
         2018,
         204
        ],
        [
         2017,
         85
        ],
        [
         2016,
         26
        ],
        [
         2019,
         6
        ]
       ],
       "datasetInfos": [
        {
         "name": "_sqldf",
         "schema": {
          "fields": [
           {
            "metadata": {},
            "name": "Ano",
            "nullable": true,
            "type": "integer"
           },
           {
            "metadata": {},
            "name": "QNT",
            "nullable": false,
            "type": "long"
           }
          ],
          "type": "struct"
         },
         "tableIdentifier": null,
         "typeStr": "pyspark.sql.connect.dataframe.DataFrame"
        }
       ],
       "dbfsResultPath": null,
       "isJsonSchema": true,
       "metadata": {
        "createTempViewForImplicitDf": true,
        "dataframeName": "_sqldf",
        "executionCount": 67
       },
       "overflow": false,
       "plotOptions": {
        "customPlotOptions": {},
        "displayType": "table",
        "pivotAggregation": null,
        "pivotColumns": null,
        "xColumns": null,
        "yColumns": null
       },
       "removedWidgets": [],
       "schema": [
        {
         "metadata": "{}",
         "name": "Ano",
         "type": "\"integer\""
        },
        {
         "metadata": "{}",
         "name": "QNT",
         "type": "\"long\""
        }
       ],
       "type": "table"
      }
     },
     "output_type": "display_data"
    }
   ],
   "source": [
    "%sql\n",
    "-- Quantidade de Bikes por ano do modelo produzido \n",
    "select \n",
    "model_year as Ano\n",
    ",count(product_id) QNT\n",
    "from produtos\n",
    "group by model_year\n",
    "order by  QNT desc\n",
    "\n"
   ]
  },
  {
   "cell_type": "markdown",
   "metadata": {
    "application/vnd.databricks.v1+cell": {
     "cellMetadata": {},
     "inputWidgets": {},
     "nuid": "d6de5a08-bf40-4dad-9276-5802ddbde014",
     "showTitle": false,
     "tableResultSettingsMap": {},
     "title": ""
    }
   },
   "source": [
    "##### Criando tabela de Clientes"
   ]
  },
  {
   "cell_type": "code",
   "execution_count": 0,
   "metadata": {
    "application/vnd.databricks.v1+cell": {
     "cellMetadata": {
      "byteLimit": 2048000,
      "implicitDf": true,
      "rowLimit": 10000
     },
     "inputWidgets": {},
     "nuid": "601d80d6-bb00-4848-9ce9-a1046f826187",
     "showTitle": false,
     "tableResultSettingsMap": {},
     "title": ""
    }
   },
   "outputs": [
    {
     "output_type": "display_data",
     "data": {
      "text/html": [
       "<style scoped>\n",
       "  .table-result-container {\n",
       "    max-height: 300px;\n",
       "    overflow: auto;\n",
       "  }\n",
       "  table, th, td {\n",
       "    border: 1px solid black;\n",
       "    border-collapse: collapse;\n",
       "  }\n",
       "  th, td {\n",
       "    padding: 5px;\n",
       "  }\n",
       "  th {\n",
       "    text-align: left;\n",
       "  }\n",
       "</style><div class='table-result-container'><table class='table-result'><thead style='background-color: white'><tr><th>id</th><th>created_at</th><th>first_name</th><th>last_name</th><th>email</th><th>cell_phone</th><th>country</th><th>state</th><th>street</th><th>number</th><th>additionals</th></tr></thead><tbody><tr><td>0</td><td>2017-11-01T14:45:41.000Z</td><td>Marta</td><td>Jesus</td><td>null</td><td>9 9102-7834</td><td>Brasil</td><td>Acre</td><td>null</td><td>null</td><td>Conjunto 16</td></tr><tr><td>1</td><td>2017-10-16T00:50:39.000Z</td><td>Luana</td><td>Almeida</td><td>null</td><td>9 7328-8718</td><td>Brasil</td><td>Rio Grande do Sul</td><td>Avenida 56 do Estado Rio Grande do Sul</td><td>989.0</td><td>Conjunto 17</td></tr><tr><td>2</td><td>2018-06-16T17:51:29.000Z</td><td>Frida</td><td>Mendes</td><td>frida@meu_email.com</td><td>9 5906-7552</td><td>Brasil</td><td>São Paulo</td><td>Avenida 59 do Estado São Paulo</td><td>534.0</td><td>null</td></tr><tr><td>3</td><td>2018-01-17T03:02:58.000Z</td><td>Daniela</td><td>Avelino</td><td>daniela@exemplo.com</td><td>9 4642-9486</td><td>Brasil</td><td>Mato Grosso</td><td>null</td><td>null</td><td>null</td></tr><tr><td>4</td><td>2018-08-06T07:24:16.000Z</td><td>Romário</td><td>Teixeira</td><td>null</td><td>9 3093-6522</td><td>Brasil</td><td>Bahia</td><td>Praça 56 do Estado Bahia</td><td>191.0</td><td>Apto 12</td></tr><tr><td>5</td><td>2018-01-05T17:20:49.000Z</td><td>Marcelo</td><td>Barroso</td><td>null</td><td>9 2830-2088</td><td>Brasil</td><td>Rio Grande do Sul</td><td>Rua 28 do Estado Rio Grande do Sul</td><td>805.0</td><td>Conjunto 13</td></tr><tr><td>6</td><td>2018-06-18T11:17:42.000Z</td><td>Cristiano</td><td>Elísio</td><td>cristiano@exemplo.com</td><td>9 3532-8404</td><td>Brasil</td><td>Goiás</td><td>Rua 78 do Estado Goiás</td><td>877.0</td><td>Apto 14</td></tr><tr><td>7</td><td>2018-02-08T12:36:09.000Z</td><td>Everton</td><td>Barbosa</td><td>everton@meu_email.com</td><td>9 2553-4087</td><td>Brasil</td><td>Distrito Federal</td><td>Avenida 86 do Estado Distrito Federal</td><td>864.0</td><td>Apto 14</td></tr><tr><td>8</td><td>2017-12-16T20:47:03.000Z</td><td>Gabriela</td><td>Alves</td><td>gabriela@exemplo.com</td><td>9 1353-8433</td><td>Brasil</td><td>Santa Catarina</td><td>null</td><td>null</td><td>null</td></tr><tr><td>9</td><td>2018-11-11T11:48:41.000Z</td><td>Luan</td><td>Dias</td><td>luan@exemplo.com</td><td>9 2417-3678</td><td>Brasil</td><td>Distrito Federal</td><td>Avenida 54 do Estado Distrito Federal</td><td>889.0</td><td>Conjunto 14</td></tr><tr><td>10</td><td>2017-12-16T15:41:00.000Z</td><td>Mariana</td><td>Alves</td><td>mariana@meu_email.com</td><td>9 1846-6377</td><td>Brasil</td><td>Santa Catarina</td><td>null</td><td>null</td><td>null</td></tr><tr><td>11</td><td>2018-05-16T03:39:52.000Z</td><td>James</td><td>Albuquerque</td><td>null</td><td>9 2430-5905</td><td>Brasil</td><td>Sergipe</td><td>Rua 30 do Estado Sergipe</td><td>229.0</td><td>null</td></tr><tr><td>12</td><td>2018-03-28T00:24:00.000Z</td><td>Carol</td><td>Barboza</td><td>carol@exemplo.com</td><td>9 8487-3501</td><td>Brasil</td><td>Mato Grosso</td><td>Rua 31 do Estado Mato Grosso</td><td>1.0</td><td>Conjunto 23</td></tr><tr><td>13</td><td>2018-08-27T21:15:17.000Z</td><td>Carolina</td><td>Monteiro</td><td>carolina@teste.com</td><td>9 1226-4267</td><td>Brasil</td><td>Rio Grande do Sul</td><td>Rua 4 do Estado Rio Grande do Sul</td><td>444.0</td><td>Apto 21</td></tr><tr><td>14</td><td>2017-11-12T03:02:41.000Z</td><td>Francisco</td><td>Nascimento</td><td>francisco@exemplo.com</td><td>9 7264-9020</td><td>Brasil</td><td>Distrito Federal</td><td>Rua 75 do Estado Distrito Federal</td><td>47.0</td><td>null</td></tr><tr><td>15</td><td>2018-11-15T18:00:53.000Z</td><td>Stephanie</td><td>Barbosa</td><td>stephanie@usuario.com</td><td>9 1446-3560</td><td>Brasil</td><td>Mato Grosso</td><td>null</td><td>null</td><td>Conjunto 4</td></tr><tr><td>16</td><td>2017-12-12T21:29:54.000Z</td><td>Laura</td><td>Santos</td><td>laura@exemplo.com</td><td>9 7802-6152</td><td>Brasil</td><td>Maranhão</td><td>Rua 57 do Estado Maranhão</td><td>213.0</td><td>null</td></tr><tr><td>17</td><td>2017-10-19T20:18:14.000Z</td><td>João</td><td>Magalhães</td><td>joão@exemplo.com</td><td>9 5995-1272</td><td>Brasil</td><td>Pernambuco</td><td>Rua 20 do Estado Pernambuco</td><td>781.0</td><td>Apto 17</td></tr><tr><td>18</td><td>2018-06-28T04:53:52.000Z</td><td>Jair</td><td>Magalhães</td><td>jair@exemplo.com</td><td>9 8368-1315</td><td>Brasil</td><td>Alagoas</td><td>Avenida 74 do Estado Alagoas</td><td>118.0</td><td>Conjunto 8</td></tr><tr><td>19</td><td>2018-10-20T19:31:52.000Z</td><td>Caíque</td><td>Monteiro</td><td>caíque@exemplo.com</td><td>9 9793-9986</td><td>Brasil</td><td>Piauí</td><td>null</td><td>null</td><td>Conjunto 13</td></tr><tr><td>20</td><td>2017-12-22T10:51:28.000Z</td><td>Adalberto</td><td>Silva</td><td>adalberto@usuario.com</td><td>9 1338-1447</td><td>Brasil</td><td>São Paulo</td><td>Rua 57 do Estado São Paulo</td><td>851.0</td><td>Conjunto 20</td></tr><tr><td>21</td><td>2018-02-21T15:35:55.000Z</td><td>Diego</td><td>Freire</td><td>diego@teste.com</td><td>9 6686-4094</td><td>Brasil</td><td>Bahia</td><td>Praça 4 do Estado Bahia</td><td>906.0</td><td>Apto 20</td></tr><tr><td>22</td><td>2018-04-18T22:43:29.000Z</td><td>Heitor</td><td>Pereira</td><td>null</td><td>9 4839-8118</td><td>Brasil</td><td>Maranhão</td><td>Avenida 84 do Estado Maranhão</td><td>948.0</td><td>null</td></tr><tr><td>23</td><td>2017-10-26T00:35:22.000Z</td><td>Maria</td><td>Pires</td><td>null</td><td>9 8229-1067</td><td>Brasil</td><td>Amazonas</td><td>Avenida 80 do Estado Amazonas</td><td>581.0</td><td>null</td></tr><tr><td>24</td><td>2018-07-25T09:34:12.000Z</td><td>Jair</td><td>Barroso</td><td>jair@teste.com</td><td>9 6679-6120</td><td>Brasil</td><td>Ceará</td><td>Rua 86 do Estado Ceará</td><td>770.0</td><td>Apto 21</td></tr><tr><td>25</td><td>2018-08-07T12:22:40.000Z</td><td>Alice</td><td>Veloso</td><td>alice@exemplo.com</td><td>9 9869-3706</td><td>Brasil</td><td>Minas Gerais</td><td>Praça 73 do Estado Minas Gerais</td><td>571.0</td><td>null</td></tr><tr><td>26</td><td>2018-12-12T11:56:14.000Z</td><td>Eloá</td><td>da Silva</td><td>eloá@usuario.com</td><td>9 3982-5948</td><td>Brasil</td><td>Espírito Santo</td><td>Avenida 98 do Estado Espírito Santo</td><td>706.0</td><td>null</td></tr><tr><td>27</td><td>2018-11-08T11:12:47.000Z</td><td>Luan</td><td>Lima</td><td>luan@teste.com</td><td>9 2529-8197</td><td>Brasil</td><td>Acre</td><td>Praça 86 do Estado Acre</td><td>303.0</td><td>Apto 27</td></tr><tr><td>28</td><td>2017-11-26T05:17:39.000Z</td><td>Beatriz</td><td>Araújo</td><td>beatriz@usuario.com</td><td>9 4543-3853</td><td>Brasil</td><td>Minas Gerais</td><td>Praça 7 do Estado Minas Gerais</td><td>536.0</td><td>Conjunto 5</td></tr><tr><td>29</td><td>2018-06-03T17:08:52.000Z</td><td>Geisa</td><td>Santos</td><td>geisa@meu_email.com</td><td>9 4653-9739</td><td>Brasil</td><td>Rio Grande do Norte</td><td>Avenida 77 do Estado Rio Grande do Norte</td><td>486.0</td><td>Conjunto 13</td></tr><tr><td>30</td><td>2018-06-08T07:49:50.000Z</td><td>Gabriel</td><td>Teixeira</td><td>gabriel@exemplo.com</td><td>9 7419-5325</td><td>Brasil</td><td>Rio Grande do Sul</td><td>Avenida 7 do Estado Rio Grande do Sul</td><td>94.0</td><td>null</td></tr><tr><td>31</td><td>2018-07-02T22:04:08.000Z</td><td>Geisa</td><td>Freitas</td><td>geisa@exemplo.com</td><td>9 6772-5310</td><td>Brasil</td><td>Mato Grosso do Sul</td><td>Rua 18 do Estado Mato Grosso do Sul</td><td>128.0</td><td>null</td></tr><tr><td>32</td><td>2018-07-22T11:59:27.000Z</td><td>Ana</td><td>Campos</td><td>ana@teste.com</td><td>9 1932-9841</td><td>Brasil</td><td>Bahia</td><td>Avenida 52 do Estado Bahia</td><td>402.0</td><td>null</td></tr><tr><td>33</td><td>2017-12-28T12:51:34.000Z</td><td>João</td><td>da Silva</td><td>joão@usuario.com</td><td>9 2813-8103</td><td>Brasil</td><td>Paraná</td><td>Avenida 27 do Estado Paraná</td><td>240.0</td><td>Apto 6</td></tr><tr><td>34</td><td>2018-10-05T01:14:05.000Z</td><td>José</td><td>Campos</td><td>josé@teste.com</td><td>9 7552-4340</td><td>Brasil</td><td>Goiás</td><td>Praça 25 do Estado Goiás</td><td>884.0</td><td>Apto 7</td></tr><tr><td>35</td><td>2018-04-19T10:10:22.000Z</td><td>Adalberto</td><td>Dias</td><td>adalberto@usuario.com</td><td>9 8395-7004</td><td>Brasil</td><td>Espírito Santo</td><td>Rua 37 do Estado Espírito Santo</td><td>383.0</td><td>Apto 13</td></tr><tr><td>36</td><td>2018-01-26T03:29:13.000Z</td><td>Mariana</td><td>Góes</td><td>mariana@meu_email.com</td><td>9 7324-4293</td><td>Brasil</td><td>null</td><td>null</td><td>null</td><td>Apto 25</td></tr><tr><td>37</td><td>2018-03-02T22:27:03.000Z</td><td>Daniela</td><td>Monteiro</td><td>daniela@meu_email.com</td><td>9 4704-5844</td><td>Brasil</td><td>Goiás</td><td>Rua 43 do Estado Goiás</td><td>116.0</td><td>Apto 28</td></tr><tr><td>38</td><td>2018-09-01T09:33:57.000Z</td><td>Marcelo</td><td>Mendes</td><td>null</td><td>9 6773-1560</td><td>Brasil</td><td>Espírito Santo</td><td>Avenida 64 do Estado Espírito Santo</td><td>213.0</td><td>null</td></tr><tr><td>39</td><td>2017-11-15T07:17:25.000Z</td><td>Caio</td><td>Batista</td><td>caio@usuario.com</td><td>9 4761-6542</td><td>Brasil</td><td>Maranhão</td><td>Avenida 87 do Estado Maranhão</td><td>656.0</td><td>Apto 25</td></tr><tr><td>40</td><td>2018-08-17T13:21:08.000Z</td><td>Gabriela</td><td>Nascimento</td><td>gabriela@teste.com</td><td>9 5382-5772</td><td>Brasil</td><td>Amapá</td><td>Avenida 85 do Estado Amapá</td><td>476.0</td><td>null</td></tr><tr><td>41</td><td>2018-11-30T17:44:09.000Z</td><td>Maria</td><td>Morais</td><td>maria@usuario.com</td><td>9 1519-4181</td><td>Brasil</td><td>Pernambuco</td><td>Avenida 69 do Estado Pernambuco</td><td>633.0</td><td>null</td></tr><tr><td>42</td><td>2018-04-09T19:12:23.000Z</td><td>João</td><td>Almeida</td><td>joão@usuario.com</td><td>9 4650-1753</td><td>Brasil</td><td>Goiás</td><td>Praça 3 do Estado Goiás</td><td>986.0</td><td>Apto 9</td></tr><tr><td>43</td><td>2018-01-07T07:54:22.000Z</td><td>Daniela</td><td>Lima</td><td>null</td><td>9 1763-2584</td><td>Brasil</td><td>Rio de Janeiro</td><td>null</td><td>null</td><td>Apto 20</td></tr><tr><td>44</td><td>2018-04-08T07:18:45.000Z</td><td>Júlia</td><td>Costa</td><td>júlia@usuario.com</td><td>9 5446-9508</td><td>Brasil</td><td>Rio Grande do Norte</td><td>Avenida 46 do Estado Rio Grande do Norte</td><td>277.0</td><td>Conjunto 14</td></tr><tr><td>45</td><td>2018-05-10T23:09:25.000Z</td><td>Gerson</td><td>Anjos</td><td>gerson@meu_email.com</td><td>9 1590-8972</td><td>Brasil</td><td>Mato Grosso do Sul</td><td>Avenida 35 do Estado Mato Grosso do Sul</td><td>229.0</td><td>Apto 29</td></tr><tr><td>46</td><td>2018-07-19T08:33:32.000Z</td><td>Rafael</td><td>Freire</td><td>rafael@exemplo.com</td><td>9 8703-1006</td><td>Brasil</td><td>Maranhão</td><td>Praça 97 do Estado Maranhão</td><td>138.0</td><td>null</td></tr><tr><td>47</td><td>2018-09-01T23:00:40.000Z</td><td>Júlia</td><td>Castro</td><td>júlia@exemplo.com</td><td>9 7096-1780</td><td>Brasil</td><td>Rio de Janeiro</td><td>Rua 39 do Estado Rio de Janeiro</td><td>983.0</td><td>Conjunto 7</td></tr><tr><td>48</td><td>2018-05-29T04:22:54.000Z</td><td>Clarissa</td><td>Albuquerque</td><td>clarissa@exemplo.com</td><td>9 7403-4273</td><td>Brasil</td><td>Ceará</td><td>null</td><td>null</td><td>Apto 12</td></tr><tr><td>49</td><td>2018-11-01T02:13:51.000Z</td><td>Júlia</td><td>Sousa</td><td>júlia@exemplo.com</td><td>9 2094-8467</td><td>Brasil</td><td>Rondônia</td><td>Rua 12 do Estado Rondônia</td><td>260.0</td><td>Apto 27</td></tr><tr><td>50</td><td>2018-08-24T07:52:23.000Z</td><td>Beatriz</td><td>Monteiro</td><td>beatriz@teste.com</td><td>9 3570-4464</td><td>Brasil</td><td>Minas Gerais</td><td>Avenida 17 do Estado Minas Gerais</td><td>223.0</td><td>Conjunto 22</td></tr><tr><td>51</td><td>2017-12-26T15:38:15.000Z</td><td>Caio</td><td>Mendes</td><td>caio@teste.com</td><td>9 6437-5008</td><td>Brasil</td><td>Pernambuco</td><td>Rua 34 do Estado Pernambuco</td><td>931.0</td><td>null</td></tr><tr><td>52</td><td>2017-12-04T17:42:34.000Z</td><td>Bruno</td><td>Anjos</td><td>bruno@teste.com</td><td>9 3004-3740</td><td>Brasil</td><td>Goiás</td><td>Rua 53 do Estado Goiás</td><td>825.0</td><td>null</td></tr><tr><td>53</td><td>2018-03-25T14:26:49.000Z</td><td>Daniela</td><td>Mendes</td><td>daniela@teste.com</td><td>9 3797-3399</td><td>Brasil</td><td>Pernambuco</td><td>Rua 71 do Estado Pernambuco</td><td>760.0</td><td>Apto 14</td></tr><tr><td>54</td><td>2018-01-25T02:11:25.000Z</td><td>Diego</td><td>Teixeira</td><td>diego@exemplo.com</td><td>9 5247-1737</td><td>Brasil</td><td>Pará</td><td>Rua 8 do Estado Pará</td><td>722.0</td><td>Conjunto 16</td></tr><tr><td>55</td><td>2018-07-10T18:40:07.000Z</td><td>Gabriela</td><td>Pires</td><td>gabriela@meu_email.com</td><td>9 1214-1539</td><td>Brasil</td><td>Rio de Janeiro</td><td>Rua 32 do Estado Rio de Janeiro</td><td>838.0</td><td>Apto 29</td></tr><tr><td>56</td><td>2017-12-01T22:40:40.000Z</td><td>Cristiano</td><td>Fagundes</td><td>cristiano@usuario.com</td><td>9 7680-6400</td><td>Brasil</td><td>Piauí</td><td>Avenida 20 do Estado Piauí</td><td>236.0</td><td>Apto 30</td></tr><tr><td>57</td><td>2018-08-23T03:31:05.000Z</td><td>Stephanie</td><td>Barboza</td><td>stephanie@meu_email.com</td><td>9 1168-6722</td><td>Brasil</td><td>Maranhão</td><td>Avenida 25 do Estado Maranhão</td><td>795.0</td><td>null</td></tr><tr><td>58</td><td>2018-09-13T03:13:02.000Z</td><td>Rafael</td><td>Rodrigues</td><td>rafael@meu_email.com</td><td>9 6550-3557</td><td>Brasil</td><td>Bahia</td><td>Praça 94 do Estado Bahia</td><td>647.0</td><td>Apto 25</td></tr><tr><td>59</td><td>2017-12-03T16:24:32.000Z</td><td>Stephanie</td><td>Freire</td><td>stephanie@usuario.com</td><td>9 3256-1853</td><td>Brasil</td><td>São Paulo</td><td>Rua 52 do Estado São Paulo</td><td>34.0</td><td>Apto 24</td></tr><tr><td>60</td><td>2018-06-26T18:47:12.000Z</td><td>Carol</td><td>Bueno</td><td>carol@usuario.com</td><td>9 9814-4736</td><td>Brasil</td><td>Santa Catarina</td><td>Rua 10 do Estado Santa Catarina</td><td>47.0</td><td>Conjunto 12</td></tr><tr><td>61</td><td>2018-04-30T18:36:56.000Z</td><td>Francisco</td><td>Abreu</td><td>francisco@exemplo.com</td><td>9 6754-1775</td><td>Brasil</td><td>Amapá</td><td>Rua 72 do Estado Amapá</td><td>50.0</td><td>Apto 12</td></tr><tr><td>62</td><td>2018-01-21T13:56:16.000Z</td><td>Carol</td><td>Anjos</td><td>carol@usuario.com</td><td>9 2123-9306</td><td>Brasil</td><td>Pernambuco</td><td>Praça 12 do Estado Pernambuco</td><td>928.0</td><td>Conjunto 26</td></tr><tr><td>63</td><td>2018-05-05T17:52:26.000Z</td><td>Caíque</td><td>Batista</td><td>caíque@teste.com</td><td>9 8818-5886</td><td>Brasil</td><td>Ceará</td><td>Rua 76 do Estado Ceará</td><td>239.0</td><td>Apto 19</td></tr><tr><td>64</td><td>2018-10-30T15:47:32.000Z</td><td>Luan</td><td>Ramos</td><td>luan@exemplo.com</td><td>9 6843-3876</td><td>Brasil</td><td>Pernambuco</td><td>Rua 63 do Estado Pernambuco</td><td>345.0</td><td>Conjunto 10</td></tr><tr><td>65</td><td>2018-02-06T05:56:36.000Z</td><td>Willian</td><td>Freitas</td><td>null</td><td>9 3043-7382</td><td>Brasil</td><td>Rio de Janeiro</td><td>Rua 91 do Estado Rio de Janeiro</td><td>96.0</td><td>Apto 7</td></tr><tr><td>66</td><td>2018-10-18T04:31:59.000Z</td><td>Stephanie</td><td>Abreu</td><td>stephanie@meu_email.com</td><td>9 6466-2389</td><td>Brasil</td><td>Mato Grosso</td><td>Rua 19 do Estado Mato Grosso</td><td>53.0</td><td>Conjunto 13</td></tr><tr><td>67</td><td>2018-08-31T18:22:52.000Z</td><td>Laura</td><td>Pires</td><td>laura@meu_email.com</td><td>9 8144-6047</td><td>Brasil</td><td>Mato Grosso do Sul</td><td>Praça 23 do Estado Mato Grosso do Sul</td><td>47.0</td><td>Apto 7</td></tr><tr><td>68</td><td>2018-11-14T11:04:35.000Z</td><td>José</td><td>Pires</td><td>josé@usuario.com</td><td>9 8189-2149</td><td>Brasil</td><td>Ceará</td><td>Avenida 99 do Estado Ceará</td><td>231.0</td><td>null</td></tr><tr><td>69</td><td>2018-02-20T19:16:26.000Z</td><td>Gustavo</td><td>Cardoso</td><td>gustavo@teste.com</td><td>9 7594-9211</td><td>Brasil</td><td>Amazonas</td><td>Praça 52 do Estado Amazonas</td><td>698.0</td><td>null</td></tr><tr><td>70</td><td>2017-10-22T12:49:39.000Z</td><td>Diego</td><td>Barboza</td><td>null</td><td>9 4849-7409</td><td>Brasil</td><td>Mato Grosso do Sul</td><td>Avenida 3 do Estado Mato Grosso do Sul</td><td>250.0</td><td>null</td></tr><tr><td>71</td><td>2017-12-12T16:16:52.000Z</td><td>Gerson</td><td>Barroso</td><td>gerson@exemplo.com</td><td>9 5719-4227</td><td>Brasil</td><td>Pernambuco</td><td>null</td><td>null</td><td>Apto 2</td></tr><tr><td>72</td><td>2018-01-29T03:19:24.000Z</td><td>Neymar</td><td>Elísio</td><td>neymar@teste.com</td><td>9 5373-1785</td><td>Brasil</td><td>Rio Grande do Sul</td><td>Rua 49 do Estado Rio Grande do Sul</td><td>929.0</td><td>null</td></tr><tr><td>73</td><td>2018-02-03T07:37:38.000Z</td><td>Cristiano</td><td>Almeida</td><td>cristiano@usuario.com</td><td>9 2630-9907</td><td>Brasil</td><td>null</td><td>null</td><td>null</td><td>Conjunto 24</td></tr><tr><td>74</td><td>2018-04-22T05:00:28.000Z</td><td>Júlia</td><td>Almeida</td><td>júlia@meu_email.com</td><td>9 9208-5213</td><td>Brasil</td><td>Maranhão</td><td>Praça 25 do Estado Maranhão</td><td>953.0</td><td>Conjunto 4</td></tr><tr><td>75</td><td>2018-06-21T14:28:03.000Z</td><td>Marta</td><td>Abreu</td><td>null</td><td>9 9024-3467</td><td>Brasil</td><td>Roraima</td><td>Avenida 67 do Estado Roraima</td><td>410.0</td><td>Conjunto 23</td></tr><tr><td>76</td><td>2018-04-16T04:53:31.000Z</td><td>Romário</td><td>Rosa</td><td>romário@meu_email.com</td><td>9 8710-8305</td><td>Brasil</td><td>Rio Grande do Sul</td><td>Praça 75 do Estado Rio Grande do Sul</td><td>110.0</td><td>Conjunto 10</td></tr><tr><td>77</td><td>2018-11-30T10:29:55.000Z</td><td>Ana</td><td>Monteiro</td><td>ana@teste.com</td><td>9 3871-4132</td><td>Brasil</td><td>Bahia</td><td>Praça 86 do Estado Bahia</td><td>604.0</td><td>Apto 30</td></tr><tr><td>78</td><td>2017-11-02T22:13:22.000Z</td><td>Laura</td><td>Queiroz</td><td>laura@exemplo.com</td><td>9 6338-8617</td><td>Brasil</td><td>São Paulo</td><td>Praça 19 do Estado São Paulo</td><td>878.0</td><td>Conjunto 3</td></tr><tr><td>79</td><td>2017-12-13T08:41:05.000Z</td><td>Hélen</td><td>Souza</td><td>hélen@teste.com</td><td>9 9974-1066</td><td>Brasil</td><td>Paraná</td><td>Avenida 20 do Estado Paraná</td><td>661.0</td><td>Conjunto 13</td></tr><tr><td>80</td><td>2018-10-10T00:06:32.000Z</td><td>Daniela</td><td>Góes</td><td>daniela@usuario.com</td><td>9 5394-6677</td><td>Brasil</td><td>Alagoas</td><td>Praça 22 do Estado Alagoas</td><td>235.0</td><td>null</td></tr><tr><td>81</td><td>2018-01-13T10:35:01.000Z</td><td>Alice</td><td>Ferreira</td><td>alice@teste.com</td><td>9 9005-2493</td><td>Brasil</td><td>Minas Gerais</td><td>Praça 53 do Estado Minas Gerais</td><td>83.0</td><td>null</td></tr><tr><td>82</td><td>2018-11-04T18:02:42.000Z</td><td>Heitor</td><td>Rocha</td><td>heitor@teste.com</td><td>9 3236-7429</td><td>Brasil</td><td>Espírito Santo</td><td>Praça 82 do Estado Espírito Santo</td><td>14.0</td><td>null</td></tr><tr><td>83</td><td>2018-01-05T00:15:03.000Z</td><td>Frida</td><td>Freire</td><td>null</td><td>9 4760-1383</td><td>Brasil</td><td>Alagoas</td><td>Rua 25 do Estado Alagoas</td><td>679.0</td><td>Conjunto 9</td></tr><tr><td>84</td><td>2018-11-01T15:39:40.000Z</td><td>Carol</td><td>Bueno</td><td>carol@meu_email.com</td><td>9 3760-2211</td><td>Brasil</td><td>null</td><td>null</td><td>null</td><td>Conjunto 26</td></tr><tr><td>85</td><td>2017-11-24T12:44:36.000Z</td><td>Eduardo</td><td>Teixeira</td><td>null</td><td>9 2537-7930</td><td>Brasil</td><td>Rio Grande do Norte</td><td>null</td><td>null</td><td>null</td></tr><tr><td>86</td><td>2018-03-12T09:30:24.000Z</td><td>Adalberto</td><td>Oliveira</td><td>adalberto@teste.com</td><td>9 3081-3441</td><td>Brasil</td><td>Roraima</td><td>Rua 40 do Estado Roraima</td><td>401.0</td><td>Conjunto 17</td></tr><tr><td>87</td><td>2018-08-16T20:25:23.000Z</td><td>Beatriz</td><td>Abreu</td><td>beatriz@usuario.com</td><td>9 2254-6798</td><td>Brasil</td><td>Acre</td><td>Rua 95 do Estado Acre</td><td>482.0</td><td>Conjunto 16</td></tr><tr><td>88</td><td>2017-10-12T15:17:05.000Z</td><td>Rafael</td><td>Batista</td><td>rafael@usuario.com</td><td>9 8656-5668</td><td>Brasil</td><td>Ceará</td><td>Rua 78 do Estado Ceará</td><td>787.0</td><td>Apto 3</td></tr><tr><td>89</td><td>2017-12-07T19:24:54.000Z</td><td>Daniela</td><td>Pires</td><td>daniela@usuario.com</td><td>9 6666-2265</td><td>Brasil</td><td>Bahia</td><td>Rua 31 do Estado Bahia</td><td>441.0</td><td>null</td></tr><tr><td>90</td><td>2017-12-16T22:14:58.000Z</td><td>Stephanie</td><td>Rosa</td><td>null</td><td>9 3040-4414</td><td>Brasil</td><td>Rio Grande do Norte</td><td>null</td><td>null</td><td>null</td></tr><tr><td>91</td><td>2018-09-12T22:12:05.000Z</td><td>Daniel</td><td>Costa</td><td>daniel@teste.com</td><td>9 4761-6557</td><td>Brasil</td><td>Rio Grande do Norte</td><td>Praça 25 do Estado Rio Grande do Norte</td><td>281.0</td><td>Apto 8</td></tr><tr><td>92</td><td>2017-10-16T16:29:15.000Z</td><td>Beatriz</td><td>Bueno</td><td>beatriz@teste.com</td><td>9 4435-2960</td><td>Brasil</td><td>Acre</td><td>Rua 71 do Estado Acre</td><td>978.0</td><td>Apto 24</td></tr><tr><td>93</td><td>2018-11-02T08:43:47.000Z</td><td>Ronaldo</td><td>Galo</td><td>ronaldo@meu_email.com</td><td>9 8821-9577</td><td>Brasil</td><td>Pernambuco</td><td>Avenida 8 do Estado Pernambuco</td><td>758.0</td><td>Apto 2</td></tr><tr><td>94</td><td>2018-10-29T11:39:58.000Z</td><td>Cristiano</td><td>Pereira</td><td>cristiano@meu_email.com</td><td>9 4404-8717</td><td>Brasil</td><td>Piauí</td><td>Praça 100 do Estado Piauí</td><td>809.0</td><td>null</td></tr><tr><td>95</td><td>2018-10-01T11:35:59.000Z</td><td>Mariana</td><td>Rosa</td><td>mariana@usuario.com</td><td>9 3139-2145</td><td>Brasil</td><td>null</td><td>null</td><td>null</td><td>null</td></tr><tr><td>96</td><td>2018-01-23T19:14:21.000Z</td><td>Paulo</td><td>Câmara</td><td>paulo@usuario.com</td><td>9 4785-1135</td><td>Brasil</td><td>Sergipe</td><td>Praça 73 do Estado Sergipe</td><td>219.0</td><td>Apto 6</td></tr><tr><td>97</td><td>2018-07-04T18:45:41.000Z</td><td>Marta</td><td>Góes</td><td>marta@teste.com</td><td>9 4102-4352</td><td>Brasil</td><td>Paraná</td><td>Rua 61 do Estado Paraná</td><td>402.0</td><td>Apto 24</td></tr><tr><td>98</td><td>2018-01-24T16:21:06.000Z</td><td>Cibele</td><td>Costa</td><td>cibele@meu_email.com</td><td>9 4211-6968</td><td>Brasil</td><td>Mato Grosso</td><td>Praça 75 do Estado Mato Grosso</td><td>24.0</td><td>null</td></tr><tr><td>99</td><td>2018-07-24T08:26:27.000Z</td><td>Jéssica</td><td>Jesus</td><td>jéssica@usuario.com</td><td>9 6100-1466</td><td>Brasil</td><td>Paraná</td><td>Avenida 19 do Estado Paraná</td><td>738.0</td><td>Conjunto 22</td></tr></tbody></table></div>"
      ]
     },
     "metadata": {
      "application/vnd.databricks.v1+output": {
       "addedWidgets": {},
       "aggData": [],
       "aggError": "",
       "aggOverflow": false,
       "aggSchema": [],
       "aggSeriesLimitReached": false,
       "aggType": "",
       "arguments": {},
       "columnCustomDisplayInfos": {},
       "data": [
        [
         0,
         "2017-11-01T14:45:41.000Z",
         "Marta",
         "Jesus",
         null,
         "9 9102-7834",
         "Brasil",
         "Acre",
         null,
         null,
         "Conjunto 16"
        ],
        [
         1,
         "2017-10-16T00:50:39.000Z",
         "Luana",
         "Almeida",
         null,
         "9 7328-8718",
         "Brasil",
         "Rio Grande do Sul",
         "Avenida 56 do Estado Rio Grande do Sul",
         989.0,
         "Conjunto 17"
        ],
        [
         2,
         "2018-06-16T17:51:29.000Z",
         "Frida",
         "Mendes",
         "frida@meu_email.com",
         "9 5906-7552",
         "Brasil",
         "São Paulo",
         "Avenida 59 do Estado São Paulo",
         534.0,
         null
        ],
        [
         3,
         "2018-01-17T03:02:58.000Z",
         "Daniela",
         "Avelino",
         "daniela@exemplo.com",
         "9 4642-9486",
         "Brasil",
         "Mato Grosso",
         null,
         null,
         null
        ],
        [
         4,
         "2018-08-06T07:24:16.000Z",
         "Romário",
         "Teixeira",
         null,
         "9 3093-6522",
         "Brasil",
         "Bahia",
         "Praça 56 do Estado Bahia",
         191.0,
         "Apto 12"
        ],
        [
         5,
         "2018-01-05T17:20:49.000Z",
         "Marcelo",
         "Barroso",
         null,
         "9 2830-2088",
         "Brasil",
         "Rio Grande do Sul",
         "Rua 28 do Estado Rio Grande do Sul",
         805.0,
         "Conjunto 13"
        ],
        [
         6,
         "2018-06-18T11:17:42.000Z",
         "Cristiano",
         "Elísio",
         "cristiano@exemplo.com",
         "9 3532-8404",
         "Brasil",
         "Goiás",
         "Rua 78 do Estado Goiás",
         877.0,
         "Apto 14"
        ],
        [
         7,
         "2018-02-08T12:36:09.000Z",
         "Everton",
         "Barbosa",
         "everton@meu_email.com",
         "9 2553-4087",
         "Brasil",
         "Distrito Federal",
         "Avenida 86 do Estado Distrito Federal",
         864.0,
         "Apto 14"
        ],
        [
         8,
         "2017-12-16T20:47:03.000Z",
         "Gabriela",
         "Alves",
         "gabriela@exemplo.com",
         "9 1353-8433",
         "Brasil",
         "Santa Catarina",
         null,
         null,
         null
        ],
        [
         9,
         "2018-11-11T11:48:41.000Z",
         "Luan",
         "Dias",
         "luan@exemplo.com",
         "9 2417-3678",
         "Brasil",
         "Distrito Federal",
         "Avenida 54 do Estado Distrito Federal",
         889.0,
         "Conjunto 14"
        ],
        [
         10,
         "2017-12-16T15:41:00.000Z",
         "Mariana",
         "Alves",
         "mariana@meu_email.com",
         "9 1846-6377",
         "Brasil",
         "Santa Catarina",
         null,
         null,
         null
        ],
        [
         11,
         "2018-05-16T03:39:52.000Z",
         "James",
         "Albuquerque",
         null,
         "9 2430-5905",
         "Brasil",
         "Sergipe",
         "Rua 30 do Estado Sergipe",
         229.0,
         null
        ],
        [
         12,
         "2018-03-28T00:24:00.000Z",
         "Carol",
         "Barboza",
         "carol@exemplo.com",
         "9 8487-3501",
         "Brasil",
         "Mato Grosso",
         "Rua 31 do Estado Mato Grosso",
         1.0,
         "Conjunto 23"
        ],
        [
         13,
         "2018-08-27T21:15:17.000Z",
         "Carolina",
         "Monteiro",
         "carolina@teste.com",
         "9 1226-4267",
         "Brasil",
         "Rio Grande do Sul",
         "Rua 4 do Estado Rio Grande do Sul",
         444.0,
         "Apto 21"
        ],
        [
         14,
         "2017-11-12T03:02:41.000Z",
         "Francisco",
         "Nascimento",
         "francisco@exemplo.com",
         "9 7264-9020",
         "Brasil",
         "Distrito Federal",
         "Rua 75 do Estado Distrito Federal",
         47.0,
         null
        ],
        [
         15,
         "2018-11-15T18:00:53.000Z",
         "Stephanie",
         "Barbosa",
         "stephanie@usuario.com",
         "9 1446-3560",
         "Brasil",
         "Mato Grosso",
         null,
         null,
         "Conjunto 4"
        ],
        [
         16,
         "2017-12-12T21:29:54.000Z",
         "Laura",
         "Santos",
         "laura@exemplo.com",
         "9 7802-6152",
         "Brasil",
         "Maranhão",
         "Rua 57 do Estado Maranhão",
         213.0,
         null
        ],
        [
         17,
         "2017-10-19T20:18:14.000Z",
         "João",
         "Magalhães",
         "joão@exemplo.com",
         "9 5995-1272",
         "Brasil",
         "Pernambuco",
         "Rua 20 do Estado Pernambuco",
         781.0,
         "Apto 17"
        ],
        [
         18,
         "2018-06-28T04:53:52.000Z",
         "Jair",
         "Magalhães",
         "jair@exemplo.com",
         "9 8368-1315",
         "Brasil",
         "Alagoas",
         "Avenida 74 do Estado Alagoas",
         118.0,
         "Conjunto 8"
        ],
        [
         19,
         "2018-10-20T19:31:52.000Z",
         "Caíque",
         "Monteiro",
         "caíque@exemplo.com",
         "9 9793-9986",
         "Brasil",
         "Piauí",
         null,
         null,
         "Conjunto 13"
        ],
        [
         20,
         "2017-12-22T10:51:28.000Z",
         "Adalberto",
         "Silva",
         "adalberto@usuario.com",
         "9 1338-1447",
         "Brasil",
         "São Paulo",
         "Rua 57 do Estado São Paulo",
         851.0,
         "Conjunto 20"
        ],
        [
         21,
         "2018-02-21T15:35:55.000Z",
         "Diego",
         "Freire",
         "diego@teste.com",
         "9 6686-4094",
         "Brasil",
         "Bahia",
         "Praça 4 do Estado Bahia",
         906.0,
         "Apto 20"
        ],
        [
         22,
         "2018-04-18T22:43:29.000Z",
         "Heitor",
         "Pereira",
         null,
         "9 4839-8118",
         "Brasil",
         "Maranhão",
         "Avenida 84 do Estado Maranhão",
         948.0,
         null
        ],
        [
         23,
         "2017-10-26T00:35:22.000Z",
         "Maria",
         "Pires",
         null,
         "9 8229-1067",
         "Brasil",
         "Amazonas",
         "Avenida 80 do Estado Amazonas",
         581.0,
         null
        ],
        [
         24,
         "2018-07-25T09:34:12.000Z",
         "Jair",
         "Barroso",
         "jair@teste.com",
         "9 6679-6120",
         "Brasil",
         "Ceará",
         "Rua 86 do Estado Ceará",
         770.0,
         "Apto 21"
        ],
        [
         25,
         "2018-08-07T12:22:40.000Z",
         "Alice",
         "Veloso",
         "alice@exemplo.com",
         "9 9869-3706",
         "Brasil",
         "Minas Gerais",
         "Praça 73 do Estado Minas Gerais",
         571.0,
         null
        ],
        [
         26,
         "2018-12-12T11:56:14.000Z",
         "Eloá",
         "da Silva",
         "eloá@usuario.com",
         "9 3982-5948",
         "Brasil",
         "Espírito Santo",
         "Avenida 98 do Estado Espírito Santo",
         706.0,
         null
        ],
        [
         27,
         "2018-11-08T11:12:47.000Z",
         "Luan",
         "Lima",
         "luan@teste.com",
         "9 2529-8197",
         "Brasil",
         "Acre",
         "Praça 86 do Estado Acre",
         303.0,
         "Apto 27"
        ],
        [
         28,
         "2017-11-26T05:17:39.000Z",
         "Beatriz",
         "Araújo",
         "beatriz@usuario.com",
         "9 4543-3853",
         "Brasil",
         "Minas Gerais",
         "Praça 7 do Estado Minas Gerais",
         536.0,
         "Conjunto 5"
        ],
        [
         29,
         "2018-06-03T17:08:52.000Z",
         "Geisa",
         "Santos",
         "geisa@meu_email.com",
         "9 4653-9739",
         "Brasil",
         "Rio Grande do Norte",
         "Avenida 77 do Estado Rio Grande do Norte",
         486.0,
         "Conjunto 13"
        ],
        [
         30,
         "2018-06-08T07:49:50.000Z",
         "Gabriel",
         "Teixeira",
         "gabriel@exemplo.com",
         "9 7419-5325",
         "Brasil",
         "Rio Grande do Sul",
         "Avenida 7 do Estado Rio Grande do Sul",
         94.0,
         null
        ],
        [
         31,
         "2018-07-02T22:04:08.000Z",
         "Geisa",
         "Freitas",
         "geisa@exemplo.com",
         "9 6772-5310",
         "Brasil",
         "Mato Grosso do Sul",
         "Rua 18 do Estado Mato Grosso do Sul",
         128.0,
         null
        ],
        [
         32,
         "2018-07-22T11:59:27.000Z",
         "Ana",
         "Campos",
         "ana@teste.com",
         "9 1932-9841",
         "Brasil",
         "Bahia",
         "Avenida 52 do Estado Bahia",
         402.0,
         null
        ],
        [
         33,
         "2017-12-28T12:51:34.000Z",
         "João",
         "da Silva",
         "joão@usuario.com",
         "9 2813-8103",
         "Brasil",
         "Paraná",
         "Avenida 27 do Estado Paraná",
         240.0,
         "Apto 6"
        ],
        [
         34,
         "2018-10-05T01:14:05.000Z",
         "José",
         "Campos",
         "josé@teste.com",
         "9 7552-4340",
         "Brasil",
         "Goiás",
         "Praça 25 do Estado Goiás",
         884.0,
         "Apto 7"
        ],
        [
         35,
         "2018-04-19T10:10:22.000Z",
         "Adalberto",
         "Dias",
         "adalberto@usuario.com",
         "9 8395-7004",
         "Brasil",
         "Espírito Santo",
         "Rua 37 do Estado Espírito Santo",
         383.0,
         "Apto 13"
        ],
        [
         36,
         "2018-01-26T03:29:13.000Z",
         "Mariana",
         "Góes",
         "mariana@meu_email.com",
         "9 7324-4293",
         "Brasil",
         null,
         null,
         null,
         "Apto 25"
        ],
        [
         37,
         "2018-03-02T22:27:03.000Z",
         "Daniela",
         "Monteiro",
         "daniela@meu_email.com",
         "9 4704-5844",
         "Brasil",
         "Goiás",
         "Rua 43 do Estado Goiás",
         116.0,
         "Apto 28"
        ],
        [
         38,
         "2018-09-01T09:33:57.000Z",
         "Marcelo",
         "Mendes",
         null,
         "9 6773-1560",
         "Brasil",
         "Espírito Santo",
         "Avenida 64 do Estado Espírito Santo",
         213.0,
         null
        ],
        [
         39,
         "2017-11-15T07:17:25.000Z",
         "Caio",
         "Batista",
         "caio@usuario.com",
         "9 4761-6542",
         "Brasil",
         "Maranhão",
         "Avenida 87 do Estado Maranhão",
         656.0,
         "Apto 25"
        ],
        [
         40,
         "2018-08-17T13:21:08.000Z",
         "Gabriela",
         "Nascimento",
         "gabriela@teste.com",
         "9 5382-5772",
         "Brasil",
         "Amapá",
         "Avenida 85 do Estado Amapá",
         476.0,
         null
        ],
        [
         41,
         "2018-11-30T17:44:09.000Z",
         "Maria",
         "Morais",
         "maria@usuario.com",
         "9 1519-4181",
         "Brasil",
         "Pernambuco",
         "Avenida 69 do Estado Pernambuco",
         633.0,
         null
        ],
        [
         42,
         "2018-04-09T19:12:23.000Z",
         "João",
         "Almeida",
         "joão@usuario.com",
         "9 4650-1753",
         "Brasil",
         "Goiás",
         "Praça 3 do Estado Goiás",
         986.0,
         "Apto 9"
        ],
        [
         43,
         "2018-01-07T07:54:22.000Z",
         "Daniela",
         "Lima",
         null,
         "9 1763-2584",
         "Brasil",
         "Rio de Janeiro",
         null,
         null,
         "Apto 20"
        ],
        [
         44,
         "2018-04-08T07:18:45.000Z",
         "Júlia",
         "Costa",
         "júlia@usuario.com",
         "9 5446-9508",
         "Brasil",
         "Rio Grande do Norte",
         "Avenida 46 do Estado Rio Grande do Norte",
         277.0,
         "Conjunto 14"
        ],
        [
         45,
         "2018-05-10T23:09:25.000Z",
         "Gerson",
         "Anjos",
         "gerson@meu_email.com",
         "9 1590-8972",
         "Brasil",
         "Mato Grosso do Sul",
         "Avenida 35 do Estado Mato Grosso do Sul",
         229.0,
         "Apto 29"
        ],
        [
         46,
         "2018-07-19T08:33:32.000Z",
         "Rafael",
         "Freire",
         "rafael@exemplo.com",
         "9 8703-1006",
         "Brasil",
         "Maranhão",
         "Praça 97 do Estado Maranhão",
         138.0,
         null
        ],
        [
         47,
         "2018-09-01T23:00:40.000Z",
         "Júlia",
         "Castro",
         "júlia@exemplo.com",
         "9 7096-1780",
         "Brasil",
         "Rio de Janeiro",
         "Rua 39 do Estado Rio de Janeiro",
         983.0,
         "Conjunto 7"
        ],
        [
         48,
         "2018-05-29T04:22:54.000Z",
         "Clarissa",
         "Albuquerque",
         "clarissa@exemplo.com",
         "9 7403-4273",
         "Brasil",
         "Ceará",
         null,
         null,
         "Apto 12"
        ],
        [
         49,
         "2018-11-01T02:13:51.000Z",
         "Júlia",
         "Sousa",
         "júlia@exemplo.com",
         "9 2094-8467",
         "Brasil",
         "Rondônia",
         "Rua 12 do Estado Rondônia",
         260.0,
         "Apto 27"
        ],
        [
         50,
         "2018-08-24T07:52:23.000Z",
         "Beatriz",
         "Monteiro",
         "beatriz@teste.com",
         "9 3570-4464",
         "Brasil",
         "Minas Gerais",
         "Avenida 17 do Estado Minas Gerais",
         223.0,
         "Conjunto 22"
        ],
        [
         51,
         "2017-12-26T15:38:15.000Z",
         "Caio",
         "Mendes",
         "caio@teste.com",
         "9 6437-5008",
         "Brasil",
         "Pernambuco",
         "Rua 34 do Estado Pernambuco",
         931.0,
         null
        ],
        [
         52,
         "2017-12-04T17:42:34.000Z",
         "Bruno",
         "Anjos",
         "bruno@teste.com",
         "9 3004-3740",
         "Brasil",
         "Goiás",
         "Rua 53 do Estado Goiás",
         825.0,
         null
        ],
        [
         53,
         "2018-03-25T14:26:49.000Z",
         "Daniela",
         "Mendes",
         "daniela@teste.com",
         "9 3797-3399",
         "Brasil",
         "Pernambuco",
         "Rua 71 do Estado Pernambuco",
         760.0,
         "Apto 14"
        ],
        [
         54,
         "2018-01-25T02:11:25.000Z",
         "Diego",
         "Teixeira",
         "diego@exemplo.com",
         "9 5247-1737",
         "Brasil",
         "Pará",
         "Rua 8 do Estado Pará",
         722.0,
         "Conjunto 16"
        ],
        [
         55,
         "2018-07-10T18:40:07.000Z",
         "Gabriela",
         "Pires",
         "gabriela@meu_email.com",
         "9 1214-1539",
         "Brasil",
         "Rio de Janeiro",
         "Rua 32 do Estado Rio de Janeiro",
         838.0,
         "Apto 29"
        ],
        [
         56,
         "2017-12-01T22:40:40.000Z",
         "Cristiano",
         "Fagundes",
         "cristiano@usuario.com",
         "9 7680-6400",
         "Brasil",
         "Piauí",
         "Avenida 20 do Estado Piauí",
         236.0,
         "Apto 30"
        ],
        [
         57,
         "2018-08-23T03:31:05.000Z",
         "Stephanie",
         "Barboza",
         "stephanie@meu_email.com",
         "9 1168-6722",
         "Brasil",
         "Maranhão",
         "Avenida 25 do Estado Maranhão",
         795.0,
         null
        ],
        [
         58,
         "2018-09-13T03:13:02.000Z",
         "Rafael",
         "Rodrigues",
         "rafael@meu_email.com",
         "9 6550-3557",
         "Brasil",
         "Bahia",
         "Praça 94 do Estado Bahia",
         647.0,
         "Apto 25"
        ],
        [
         59,
         "2017-12-03T16:24:32.000Z",
         "Stephanie",
         "Freire",
         "stephanie@usuario.com",
         "9 3256-1853",
         "Brasil",
         "São Paulo",
         "Rua 52 do Estado São Paulo",
         34.0,
         "Apto 24"
        ],
        [
         60,
         "2018-06-26T18:47:12.000Z",
         "Carol",
         "Bueno",
         "carol@usuario.com",
         "9 9814-4736",
         "Brasil",
         "Santa Catarina",
         "Rua 10 do Estado Santa Catarina",
         47.0,
         "Conjunto 12"
        ],
        [
         61,
         "2018-04-30T18:36:56.000Z",
         "Francisco",
         "Abreu",
         "francisco@exemplo.com",
         "9 6754-1775",
         "Brasil",
         "Amapá",
         "Rua 72 do Estado Amapá",
         50.0,
         "Apto 12"
        ],
        [
         62,
         "2018-01-21T13:56:16.000Z",
         "Carol",
         "Anjos",
         "carol@usuario.com",
         "9 2123-9306",
         "Brasil",
         "Pernambuco",
         "Praça 12 do Estado Pernambuco",
         928.0,
         "Conjunto 26"
        ],
        [
         63,
         "2018-05-05T17:52:26.000Z",
         "Caíque",
         "Batista",
         "caíque@teste.com",
         "9 8818-5886",
         "Brasil",
         "Ceará",
         "Rua 76 do Estado Ceará",
         239.0,
         "Apto 19"
        ],
        [
         64,
         "2018-10-30T15:47:32.000Z",
         "Luan",
         "Ramos",
         "luan@exemplo.com",
         "9 6843-3876",
         "Brasil",
         "Pernambuco",
         "Rua 63 do Estado Pernambuco",
         345.0,
         "Conjunto 10"
        ],
        [
         65,
         "2018-02-06T05:56:36.000Z",
         "Willian",
         "Freitas",
         null,
         "9 3043-7382",
         "Brasil",
         "Rio de Janeiro",
         "Rua 91 do Estado Rio de Janeiro",
         96.0,
         "Apto 7"
        ],
        [
         66,
         "2018-10-18T04:31:59.000Z",
         "Stephanie",
         "Abreu",
         "stephanie@meu_email.com",
         "9 6466-2389",
         "Brasil",
         "Mato Grosso",
         "Rua 19 do Estado Mato Grosso",
         53.0,
         "Conjunto 13"
        ],
        [
         67,
         "2018-08-31T18:22:52.000Z",
         "Laura",
         "Pires",
         "laura@meu_email.com",
         "9 8144-6047",
         "Brasil",
         "Mato Grosso do Sul",
         "Praça 23 do Estado Mato Grosso do Sul",
         47.0,
         "Apto 7"
        ],
        [
         68,
         "2018-11-14T11:04:35.000Z",
         "José",
         "Pires",
         "josé@usuario.com",
         "9 8189-2149",
         "Brasil",
         "Ceará",
         "Avenida 99 do Estado Ceará",
         231.0,
         null
        ],
        [
         69,
         "2018-02-20T19:16:26.000Z",
         "Gustavo",
         "Cardoso",
         "gustavo@teste.com",
         "9 7594-9211",
         "Brasil",
         "Amazonas",
         "Praça 52 do Estado Amazonas",
         698.0,
         null
        ],
        [
         70,
         "2017-10-22T12:49:39.000Z",
         "Diego",
         "Barboza",
         null,
         "9 4849-7409",
         "Brasil",
         "Mato Grosso do Sul",
         "Avenida 3 do Estado Mato Grosso do Sul",
         250.0,
         null
        ],
        [
         71,
         "2017-12-12T16:16:52.000Z",
         "Gerson",
         "Barroso",
         "gerson@exemplo.com",
         "9 5719-4227",
         "Brasil",
         "Pernambuco",
         null,
         null,
         "Apto 2"
        ],
        [
         72,
         "2018-01-29T03:19:24.000Z",
         "Neymar",
         "Elísio",
         "neymar@teste.com",
         "9 5373-1785",
         "Brasil",
         "Rio Grande do Sul",
         "Rua 49 do Estado Rio Grande do Sul",
         929.0,
         null
        ],
        [
         73,
         "2018-02-03T07:37:38.000Z",
         "Cristiano",
         "Almeida",
         "cristiano@usuario.com",
         "9 2630-9907",
         "Brasil",
         null,
         null,
         null,
         "Conjunto 24"
        ],
        [
         74,
         "2018-04-22T05:00:28.000Z",
         "Júlia",
         "Almeida",
         "júlia@meu_email.com",
         "9 9208-5213",
         "Brasil",
         "Maranhão",
         "Praça 25 do Estado Maranhão",
         953.0,
         "Conjunto 4"
        ],
        [
         75,
         "2018-06-21T14:28:03.000Z",
         "Marta",
         "Abreu",
         null,
         "9 9024-3467",
         "Brasil",
         "Roraima",
         "Avenida 67 do Estado Roraima",
         410.0,
         "Conjunto 23"
        ],
        [
         76,
         "2018-04-16T04:53:31.000Z",
         "Romário",
         "Rosa",
         "romário@meu_email.com",
         "9 8710-8305",
         "Brasil",
         "Rio Grande do Sul",
         "Praça 75 do Estado Rio Grande do Sul",
         110.0,
         "Conjunto 10"
        ],
        [
         77,
         "2018-11-30T10:29:55.000Z",
         "Ana",
         "Monteiro",
         "ana@teste.com",
         "9 3871-4132",
         "Brasil",
         "Bahia",
         "Praça 86 do Estado Bahia",
         604.0,
         "Apto 30"
        ],
        [
         78,
         "2017-11-02T22:13:22.000Z",
         "Laura",
         "Queiroz",
         "laura@exemplo.com",
         "9 6338-8617",
         "Brasil",
         "São Paulo",
         "Praça 19 do Estado São Paulo",
         878.0,
         "Conjunto 3"
        ],
        [
         79,
         "2017-12-13T08:41:05.000Z",
         "Hélen",
         "Souza",
         "hélen@teste.com",
         "9 9974-1066",
         "Brasil",
         "Paraná",
         "Avenida 20 do Estado Paraná",
         661.0,
         "Conjunto 13"
        ],
        [
         80,
         "2018-10-10T00:06:32.000Z",
         "Daniela",
         "Góes",
         "daniela@usuario.com",
         "9 5394-6677",
         "Brasil",
         "Alagoas",
         "Praça 22 do Estado Alagoas",
         235.0,
         null
        ],
        [
         81,
         "2018-01-13T10:35:01.000Z",
         "Alice",
         "Ferreira",
         "alice@teste.com",
         "9 9005-2493",
         "Brasil",
         "Minas Gerais",
         "Praça 53 do Estado Minas Gerais",
         83.0,
         null
        ],
        [
         82,
         "2018-11-04T18:02:42.000Z",
         "Heitor",
         "Rocha",
         "heitor@teste.com",
         "9 3236-7429",
         "Brasil",
         "Espírito Santo",
         "Praça 82 do Estado Espírito Santo",
         14.0,
         null
        ],
        [
         83,
         "2018-01-05T00:15:03.000Z",
         "Frida",
         "Freire",
         null,
         "9 4760-1383",
         "Brasil",
         "Alagoas",
         "Rua 25 do Estado Alagoas",
         679.0,
         "Conjunto 9"
        ],
        [
         84,
         "2018-11-01T15:39:40.000Z",
         "Carol",
         "Bueno",
         "carol@meu_email.com",
         "9 3760-2211",
         "Brasil",
         null,
         null,
         null,
         "Conjunto 26"
        ],
        [
         85,
         "2017-11-24T12:44:36.000Z",
         "Eduardo",
         "Teixeira",
         null,
         "9 2537-7930",
         "Brasil",
         "Rio Grande do Norte",
         null,
         null,
         null
        ],
        [
         86,
         "2018-03-12T09:30:24.000Z",
         "Adalberto",
         "Oliveira",
         "adalberto@teste.com",
         "9 3081-3441",
         "Brasil",
         "Roraima",
         "Rua 40 do Estado Roraima",
         401.0,
         "Conjunto 17"
        ],
        [
         87,
         "2018-08-16T20:25:23.000Z",
         "Beatriz",
         "Abreu",
         "beatriz@usuario.com",
         "9 2254-6798",
         "Brasil",
         "Acre",
         "Rua 95 do Estado Acre",
         482.0,
         "Conjunto 16"
        ],
        [
         88,
         "2017-10-12T15:17:05.000Z",
         "Rafael",
         "Batista",
         "rafael@usuario.com",
         "9 8656-5668",
         "Brasil",
         "Ceará",
         "Rua 78 do Estado Ceará",
         787.0,
         "Apto 3"
        ],
        [
         89,
         "2017-12-07T19:24:54.000Z",
         "Daniela",
         "Pires",
         "daniela@usuario.com",
         "9 6666-2265",
         "Brasil",
         "Bahia",
         "Rua 31 do Estado Bahia",
         441.0,
         null
        ],
        [
         90,
         "2017-12-16T22:14:58.000Z",
         "Stephanie",
         "Rosa",
         null,
         "9 3040-4414",
         "Brasil",
         "Rio Grande do Norte",
         null,
         null,
         null
        ],
        [
         91,
         "2018-09-12T22:12:05.000Z",
         "Daniel",
         "Costa",
         "daniel@teste.com",
         "9 4761-6557",
         "Brasil",
         "Rio Grande do Norte",
         "Praça 25 do Estado Rio Grande do Norte",
         281.0,
         "Apto 8"
        ],
        [
         92,
         "2017-10-16T16:29:15.000Z",
         "Beatriz",
         "Bueno",
         "beatriz@teste.com",
         "9 4435-2960",
         "Brasil",
         "Acre",
         "Rua 71 do Estado Acre",
         978.0,
         "Apto 24"
        ],
        [
         93,
         "2018-11-02T08:43:47.000Z",
         "Ronaldo",
         "Galo",
         "ronaldo@meu_email.com",
         "9 8821-9577",
         "Brasil",
         "Pernambuco",
         "Avenida 8 do Estado Pernambuco",
         758.0,
         "Apto 2"
        ],
        [
         94,
         "2018-10-29T11:39:58.000Z",
         "Cristiano",
         "Pereira",
         "cristiano@meu_email.com",
         "9 4404-8717",
         "Brasil",
         "Piauí",
         "Praça 100 do Estado Piauí",
         809.0,
         null
        ],
        [
         95,
         "2018-10-01T11:35:59.000Z",
         "Mariana",
         "Rosa",
         "mariana@usuario.com",
         "9 3139-2145",
         "Brasil",
         null,
         null,
         null,
         null
        ],
        [
         96,
         "2018-01-23T19:14:21.000Z",
         "Paulo",
         "Câmara",
         "paulo@usuario.com",
         "9 4785-1135",
         "Brasil",
         "Sergipe",
         "Praça 73 do Estado Sergipe",
         219.0,
         "Apto 6"
        ],
        [
         97,
         "2018-07-04T18:45:41.000Z",
         "Marta",
         "Góes",
         "marta@teste.com",
         "9 4102-4352",
         "Brasil",
         "Paraná",
         "Rua 61 do Estado Paraná",
         402.0,
         "Apto 24"
        ],
        [
         98,
         "2018-01-24T16:21:06.000Z",
         "Cibele",
         "Costa",
         "cibele@meu_email.com",
         "9 4211-6968",
         "Brasil",
         "Mato Grosso",
         "Praça 75 do Estado Mato Grosso",
         24.0,
         null
        ],
        [
         99,
         "2018-07-24T08:26:27.000Z",
         "Jéssica",
         "Jesus",
         "jéssica@usuario.com",
         "9 6100-1466",
         "Brasil",
         "Paraná",
         "Avenida 19 do Estado Paraná",
         738.0,
         "Conjunto 22"
        ]
       ],
       "datasetInfos": [],
       "dbfsResultPath": null,
       "isJsonSchema": true,
       "metadata": {},
       "overflow": false,
       "plotOptions": {
        "customPlotOptions": {},
        "displayType": "table",
        "pivotAggregation": null,
        "pivotColumns": null,
        "xColumns": null,
        "yColumns": null
       },
       "removedWidgets": [],
       "schema": [
        {
         "metadata": "{}",
         "name": "id",
         "type": "\"integer\""
        },
        {
         "metadata": "{}",
         "name": "created_at",
         "type": "\"timestamp\""
        },
        {
         "metadata": "{}",
         "name": "first_name",
         "type": "\"string\""
        },
        {
         "metadata": "{}",
         "name": "last_name",
         "type": "\"string\""
        },
        {
         "metadata": "{}",
         "name": "email",
         "type": "\"string\""
        },
        {
         "metadata": "{}",
         "name": "cell_phone",
         "type": "\"string\""
        },
        {
         "metadata": "{}",
         "name": "country",
         "type": "\"string\""
        },
        {
         "metadata": "{}",
         "name": "state",
         "type": "\"string\""
        },
        {
         "metadata": "{}",
         "name": "street",
         "type": "\"string\""
        },
        {
         "metadata": "{}",
         "name": "number",
         "type": "\"double\""
        },
        {
         "metadata": "{}",
         "name": "additionals",
         "type": "\"string\""
        }
       ],
       "type": "table"
      }
     },
     "output_type": "display_data"
    }
   ],
   "source": [
    "%python\n",
    "\n",
    "file_path = \"/Volumes/workspace/default/arquivos-aula/arquivos_csv/Clientes.csv\"\n",
    "\n",
    "df = spark.read.format(\"csv\")\\\n",
    "  .option(\"header\", \"true\")\\\n",
    "  .option(\"inferSchema\", \"true\")\\\n",
    "  .option(\"delimiter\", ',')\\\n",
    "  .load(file_path)\n",
    "display(df)\n",
    "\n",
    "df.createOrReplaceTempView(\"Clientes\")\n"
   ]
  },
  {
   "cell_type": "code",
   "execution_count": 0,
   "metadata": {
    "application/vnd.databricks.v1+cell": {
     "cellMetadata": {
      "byteLimit": 2048000,
      "implicitDf": true,
      "rowLimit": 10000
     },
     "inputWidgets": {},
     "nuid": "34ac938e-bab8-40c1-b445-cd2e6eeccb9a",
     "showTitle": false,
     "tableResultSettingsMap": {},
     "title": ""
    }
   },
   "outputs": [
    {
     "output_type": "display_data",
     "data": {
      "text/html": [
       "<style scoped>\n",
       "  .table-result-container {\n",
       "    max-height: 300px;\n",
       "    overflow: auto;\n",
       "  }\n",
       "  table, th, td {\n",
       "    border: 1px solid black;\n",
       "    border-collapse: collapse;\n",
       "  }\n",
       "  th, td {\n",
       "    padding: 5px;\n",
       "  }\n",
       "  th {\n",
       "    text-align: left;\n",
       "  }\n",
       "</style><div class='table-result-container'><table class='table-result'><thead style='background-color: white'><tr><th>id</th><th>created_at</th><th>first_name</th><th>last_name</th><th>email</th><th>cell_phone</th><th>country</th><th>state</th><th>street</th><th>number</th><th>additionals</th></tr></thead><tbody><tr><td>0</td><td>2017-11-01T14:45:41.000Z</td><td>Marta</td><td>Jesus</td><td>null</td><td>9 9102-7834</td><td>Brasil</td><td>Acre</td><td>null</td><td>null</td><td>Conjunto 16</td></tr><tr><td>1</td><td>2017-10-16T00:50:39.000Z</td><td>Luana</td><td>Almeida</td><td>null</td><td>9 7328-8718</td><td>Brasil</td><td>Rio Grande do Sul</td><td>Avenida 56 do Estado Rio Grande do Sul</td><td>989.0</td><td>Conjunto 17</td></tr><tr><td>2</td><td>2018-06-16T17:51:29.000Z</td><td>Frida</td><td>Mendes</td><td>frida@meu_email.com</td><td>9 5906-7552</td><td>Brasil</td><td>São Paulo</td><td>Avenida 59 do Estado São Paulo</td><td>534.0</td><td>null</td></tr><tr><td>3</td><td>2018-01-17T03:02:58.000Z</td><td>Daniela</td><td>Avelino</td><td>daniela@exemplo.com</td><td>9 4642-9486</td><td>Brasil</td><td>Mato Grosso</td><td>null</td><td>null</td><td>null</td></tr><tr><td>4</td><td>2018-08-06T07:24:16.000Z</td><td>Romário</td><td>Teixeira</td><td>null</td><td>9 3093-6522</td><td>Brasil</td><td>Bahia</td><td>Praça 56 do Estado Bahia</td><td>191.0</td><td>Apto 12</td></tr><tr><td>5</td><td>2018-01-05T17:20:49.000Z</td><td>Marcelo</td><td>Barroso</td><td>null</td><td>9 2830-2088</td><td>Brasil</td><td>Rio Grande do Sul</td><td>Rua 28 do Estado Rio Grande do Sul</td><td>805.0</td><td>Conjunto 13</td></tr><tr><td>6</td><td>2018-06-18T11:17:42.000Z</td><td>Cristiano</td><td>Elísio</td><td>cristiano@exemplo.com</td><td>9 3532-8404</td><td>Brasil</td><td>Goiás</td><td>Rua 78 do Estado Goiás</td><td>877.0</td><td>Apto 14</td></tr><tr><td>7</td><td>2018-02-08T12:36:09.000Z</td><td>Everton</td><td>Barbosa</td><td>everton@meu_email.com</td><td>9 2553-4087</td><td>Brasil</td><td>Distrito Federal</td><td>Avenida 86 do Estado Distrito Federal</td><td>864.0</td><td>Apto 14</td></tr><tr><td>8</td><td>2017-12-16T20:47:03.000Z</td><td>Gabriela</td><td>Alves</td><td>gabriela@exemplo.com</td><td>9 1353-8433</td><td>Brasil</td><td>Santa Catarina</td><td>null</td><td>null</td><td>null</td></tr><tr><td>9</td><td>2018-11-11T11:48:41.000Z</td><td>Luan</td><td>Dias</td><td>luan@exemplo.com</td><td>9 2417-3678</td><td>Brasil</td><td>Distrito Federal</td><td>Avenida 54 do Estado Distrito Federal</td><td>889.0</td><td>Conjunto 14</td></tr><tr><td>10</td><td>2017-12-16T15:41:00.000Z</td><td>Mariana</td><td>Alves</td><td>mariana@meu_email.com</td><td>9 1846-6377</td><td>Brasil</td><td>Santa Catarina</td><td>null</td><td>null</td><td>null</td></tr><tr><td>11</td><td>2018-05-16T03:39:52.000Z</td><td>James</td><td>Albuquerque</td><td>null</td><td>9 2430-5905</td><td>Brasil</td><td>Sergipe</td><td>Rua 30 do Estado Sergipe</td><td>229.0</td><td>null</td></tr><tr><td>12</td><td>2018-03-28T00:24:00.000Z</td><td>Carol</td><td>Barboza</td><td>carol@exemplo.com</td><td>9 8487-3501</td><td>Brasil</td><td>Mato Grosso</td><td>Rua 31 do Estado Mato Grosso</td><td>1.0</td><td>Conjunto 23</td></tr><tr><td>13</td><td>2018-08-27T21:15:17.000Z</td><td>Carolina</td><td>Monteiro</td><td>carolina@teste.com</td><td>9 1226-4267</td><td>Brasil</td><td>Rio Grande do Sul</td><td>Rua 4 do Estado Rio Grande do Sul</td><td>444.0</td><td>Apto 21</td></tr><tr><td>14</td><td>2017-11-12T03:02:41.000Z</td><td>Francisco</td><td>Nascimento</td><td>francisco@exemplo.com</td><td>9 7264-9020</td><td>Brasil</td><td>Distrito Federal</td><td>Rua 75 do Estado Distrito Federal</td><td>47.0</td><td>null</td></tr><tr><td>15</td><td>2018-11-15T18:00:53.000Z</td><td>Stephanie</td><td>Barbosa</td><td>stephanie@usuario.com</td><td>9 1446-3560</td><td>Brasil</td><td>Mato Grosso</td><td>null</td><td>null</td><td>Conjunto 4</td></tr><tr><td>16</td><td>2017-12-12T21:29:54.000Z</td><td>Laura</td><td>Santos</td><td>laura@exemplo.com</td><td>9 7802-6152</td><td>Brasil</td><td>Maranhão</td><td>Rua 57 do Estado Maranhão</td><td>213.0</td><td>null</td></tr><tr><td>17</td><td>2017-10-19T20:18:14.000Z</td><td>João</td><td>Magalhães</td><td>joão@exemplo.com</td><td>9 5995-1272</td><td>Brasil</td><td>Pernambuco</td><td>Rua 20 do Estado Pernambuco</td><td>781.0</td><td>Apto 17</td></tr><tr><td>18</td><td>2018-06-28T04:53:52.000Z</td><td>Jair</td><td>Magalhães</td><td>jair@exemplo.com</td><td>9 8368-1315</td><td>Brasil</td><td>Alagoas</td><td>Avenida 74 do Estado Alagoas</td><td>118.0</td><td>Conjunto 8</td></tr><tr><td>19</td><td>2018-10-20T19:31:52.000Z</td><td>Caíque</td><td>Monteiro</td><td>caíque@exemplo.com</td><td>9 9793-9986</td><td>Brasil</td><td>Piauí</td><td>null</td><td>null</td><td>Conjunto 13</td></tr><tr><td>20</td><td>2017-12-22T10:51:28.000Z</td><td>Adalberto</td><td>Silva</td><td>adalberto@usuario.com</td><td>9 1338-1447</td><td>Brasil</td><td>São Paulo</td><td>Rua 57 do Estado São Paulo</td><td>851.0</td><td>Conjunto 20</td></tr><tr><td>21</td><td>2018-02-21T15:35:55.000Z</td><td>Diego</td><td>Freire</td><td>diego@teste.com</td><td>9 6686-4094</td><td>Brasil</td><td>Bahia</td><td>Praça 4 do Estado Bahia</td><td>906.0</td><td>Apto 20</td></tr><tr><td>22</td><td>2018-04-18T22:43:29.000Z</td><td>Heitor</td><td>Pereira</td><td>null</td><td>9 4839-8118</td><td>Brasil</td><td>Maranhão</td><td>Avenida 84 do Estado Maranhão</td><td>948.0</td><td>null</td></tr><tr><td>23</td><td>2017-10-26T00:35:22.000Z</td><td>Maria</td><td>Pires</td><td>null</td><td>9 8229-1067</td><td>Brasil</td><td>Amazonas</td><td>Avenida 80 do Estado Amazonas</td><td>581.0</td><td>null</td></tr><tr><td>24</td><td>2018-07-25T09:34:12.000Z</td><td>Jair</td><td>Barroso</td><td>jair@teste.com</td><td>9 6679-6120</td><td>Brasil</td><td>Ceará</td><td>Rua 86 do Estado Ceará</td><td>770.0</td><td>Apto 21</td></tr><tr><td>25</td><td>2018-08-07T12:22:40.000Z</td><td>Alice</td><td>Veloso</td><td>alice@exemplo.com</td><td>9 9869-3706</td><td>Brasil</td><td>Minas Gerais</td><td>Praça 73 do Estado Minas Gerais</td><td>571.0</td><td>null</td></tr><tr><td>26</td><td>2018-12-12T11:56:14.000Z</td><td>Eloá</td><td>da Silva</td><td>eloá@usuario.com</td><td>9 3982-5948</td><td>Brasil</td><td>Espírito Santo</td><td>Avenida 98 do Estado Espírito Santo</td><td>706.0</td><td>null</td></tr><tr><td>27</td><td>2018-11-08T11:12:47.000Z</td><td>Luan</td><td>Lima</td><td>luan@teste.com</td><td>9 2529-8197</td><td>Brasil</td><td>Acre</td><td>Praça 86 do Estado Acre</td><td>303.0</td><td>Apto 27</td></tr><tr><td>28</td><td>2017-11-26T05:17:39.000Z</td><td>Beatriz</td><td>Araújo</td><td>beatriz@usuario.com</td><td>9 4543-3853</td><td>Brasil</td><td>Minas Gerais</td><td>Praça 7 do Estado Minas Gerais</td><td>536.0</td><td>Conjunto 5</td></tr><tr><td>29</td><td>2018-06-03T17:08:52.000Z</td><td>Geisa</td><td>Santos</td><td>geisa@meu_email.com</td><td>9 4653-9739</td><td>Brasil</td><td>Rio Grande do Norte</td><td>Avenida 77 do Estado Rio Grande do Norte</td><td>486.0</td><td>Conjunto 13</td></tr><tr><td>30</td><td>2018-06-08T07:49:50.000Z</td><td>Gabriel</td><td>Teixeira</td><td>gabriel@exemplo.com</td><td>9 7419-5325</td><td>Brasil</td><td>Rio Grande do Sul</td><td>Avenida 7 do Estado Rio Grande do Sul</td><td>94.0</td><td>null</td></tr><tr><td>31</td><td>2018-07-02T22:04:08.000Z</td><td>Geisa</td><td>Freitas</td><td>geisa@exemplo.com</td><td>9 6772-5310</td><td>Brasil</td><td>Mato Grosso do Sul</td><td>Rua 18 do Estado Mato Grosso do Sul</td><td>128.0</td><td>null</td></tr><tr><td>32</td><td>2018-07-22T11:59:27.000Z</td><td>Ana</td><td>Campos</td><td>ana@teste.com</td><td>9 1932-9841</td><td>Brasil</td><td>Bahia</td><td>Avenida 52 do Estado Bahia</td><td>402.0</td><td>null</td></tr><tr><td>33</td><td>2017-12-28T12:51:34.000Z</td><td>João</td><td>da Silva</td><td>joão@usuario.com</td><td>9 2813-8103</td><td>Brasil</td><td>Paraná</td><td>Avenida 27 do Estado Paraná</td><td>240.0</td><td>Apto 6</td></tr><tr><td>34</td><td>2018-10-05T01:14:05.000Z</td><td>José</td><td>Campos</td><td>josé@teste.com</td><td>9 7552-4340</td><td>Brasil</td><td>Goiás</td><td>Praça 25 do Estado Goiás</td><td>884.0</td><td>Apto 7</td></tr><tr><td>35</td><td>2018-04-19T10:10:22.000Z</td><td>Adalberto</td><td>Dias</td><td>adalberto@usuario.com</td><td>9 8395-7004</td><td>Brasil</td><td>Espírito Santo</td><td>Rua 37 do Estado Espírito Santo</td><td>383.0</td><td>Apto 13</td></tr><tr><td>36</td><td>2018-01-26T03:29:13.000Z</td><td>Mariana</td><td>Góes</td><td>mariana@meu_email.com</td><td>9 7324-4293</td><td>Brasil</td><td>null</td><td>null</td><td>null</td><td>Apto 25</td></tr><tr><td>37</td><td>2018-03-02T22:27:03.000Z</td><td>Daniela</td><td>Monteiro</td><td>daniela@meu_email.com</td><td>9 4704-5844</td><td>Brasil</td><td>Goiás</td><td>Rua 43 do Estado Goiás</td><td>116.0</td><td>Apto 28</td></tr><tr><td>38</td><td>2018-09-01T09:33:57.000Z</td><td>Marcelo</td><td>Mendes</td><td>null</td><td>9 6773-1560</td><td>Brasil</td><td>Espírito Santo</td><td>Avenida 64 do Estado Espírito Santo</td><td>213.0</td><td>null</td></tr><tr><td>39</td><td>2017-11-15T07:17:25.000Z</td><td>Caio</td><td>Batista</td><td>caio@usuario.com</td><td>9 4761-6542</td><td>Brasil</td><td>Maranhão</td><td>Avenida 87 do Estado Maranhão</td><td>656.0</td><td>Apto 25</td></tr><tr><td>40</td><td>2018-08-17T13:21:08.000Z</td><td>Gabriela</td><td>Nascimento</td><td>gabriela@teste.com</td><td>9 5382-5772</td><td>Brasil</td><td>Amapá</td><td>Avenida 85 do Estado Amapá</td><td>476.0</td><td>null</td></tr><tr><td>41</td><td>2018-11-30T17:44:09.000Z</td><td>Maria</td><td>Morais</td><td>maria@usuario.com</td><td>9 1519-4181</td><td>Brasil</td><td>Pernambuco</td><td>Avenida 69 do Estado Pernambuco</td><td>633.0</td><td>null</td></tr><tr><td>42</td><td>2018-04-09T19:12:23.000Z</td><td>João</td><td>Almeida</td><td>joão@usuario.com</td><td>9 4650-1753</td><td>Brasil</td><td>Goiás</td><td>Praça 3 do Estado Goiás</td><td>986.0</td><td>Apto 9</td></tr><tr><td>43</td><td>2018-01-07T07:54:22.000Z</td><td>Daniela</td><td>Lima</td><td>null</td><td>9 1763-2584</td><td>Brasil</td><td>Rio de Janeiro</td><td>null</td><td>null</td><td>Apto 20</td></tr><tr><td>44</td><td>2018-04-08T07:18:45.000Z</td><td>Júlia</td><td>Costa</td><td>júlia@usuario.com</td><td>9 5446-9508</td><td>Brasil</td><td>Rio Grande do Norte</td><td>Avenida 46 do Estado Rio Grande do Norte</td><td>277.0</td><td>Conjunto 14</td></tr><tr><td>45</td><td>2018-05-10T23:09:25.000Z</td><td>Gerson</td><td>Anjos</td><td>gerson@meu_email.com</td><td>9 1590-8972</td><td>Brasil</td><td>Mato Grosso do Sul</td><td>Avenida 35 do Estado Mato Grosso do Sul</td><td>229.0</td><td>Apto 29</td></tr><tr><td>46</td><td>2018-07-19T08:33:32.000Z</td><td>Rafael</td><td>Freire</td><td>rafael@exemplo.com</td><td>9 8703-1006</td><td>Brasil</td><td>Maranhão</td><td>Praça 97 do Estado Maranhão</td><td>138.0</td><td>null</td></tr><tr><td>47</td><td>2018-09-01T23:00:40.000Z</td><td>Júlia</td><td>Castro</td><td>júlia@exemplo.com</td><td>9 7096-1780</td><td>Brasil</td><td>Rio de Janeiro</td><td>Rua 39 do Estado Rio de Janeiro</td><td>983.0</td><td>Conjunto 7</td></tr><tr><td>48</td><td>2018-05-29T04:22:54.000Z</td><td>Clarissa</td><td>Albuquerque</td><td>clarissa@exemplo.com</td><td>9 7403-4273</td><td>Brasil</td><td>Ceará</td><td>null</td><td>null</td><td>Apto 12</td></tr><tr><td>49</td><td>2018-11-01T02:13:51.000Z</td><td>Júlia</td><td>Sousa</td><td>júlia@exemplo.com</td><td>9 2094-8467</td><td>Brasil</td><td>Rondônia</td><td>Rua 12 do Estado Rondônia</td><td>260.0</td><td>Apto 27</td></tr><tr><td>50</td><td>2018-08-24T07:52:23.000Z</td><td>Beatriz</td><td>Monteiro</td><td>beatriz@teste.com</td><td>9 3570-4464</td><td>Brasil</td><td>Minas Gerais</td><td>Avenida 17 do Estado Minas Gerais</td><td>223.0</td><td>Conjunto 22</td></tr><tr><td>51</td><td>2017-12-26T15:38:15.000Z</td><td>Caio</td><td>Mendes</td><td>caio@teste.com</td><td>9 6437-5008</td><td>Brasil</td><td>Pernambuco</td><td>Rua 34 do Estado Pernambuco</td><td>931.0</td><td>null</td></tr><tr><td>52</td><td>2017-12-04T17:42:34.000Z</td><td>Bruno</td><td>Anjos</td><td>bruno@teste.com</td><td>9 3004-3740</td><td>Brasil</td><td>Goiás</td><td>Rua 53 do Estado Goiás</td><td>825.0</td><td>null</td></tr><tr><td>53</td><td>2018-03-25T14:26:49.000Z</td><td>Daniela</td><td>Mendes</td><td>daniela@teste.com</td><td>9 3797-3399</td><td>Brasil</td><td>Pernambuco</td><td>Rua 71 do Estado Pernambuco</td><td>760.0</td><td>Apto 14</td></tr><tr><td>54</td><td>2018-01-25T02:11:25.000Z</td><td>Diego</td><td>Teixeira</td><td>diego@exemplo.com</td><td>9 5247-1737</td><td>Brasil</td><td>Pará</td><td>Rua 8 do Estado Pará</td><td>722.0</td><td>Conjunto 16</td></tr><tr><td>55</td><td>2018-07-10T18:40:07.000Z</td><td>Gabriela</td><td>Pires</td><td>gabriela@meu_email.com</td><td>9 1214-1539</td><td>Brasil</td><td>Rio de Janeiro</td><td>Rua 32 do Estado Rio de Janeiro</td><td>838.0</td><td>Apto 29</td></tr><tr><td>56</td><td>2017-12-01T22:40:40.000Z</td><td>Cristiano</td><td>Fagundes</td><td>cristiano@usuario.com</td><td>9 7680-6400</td><td>Brasil</td><td>Piauí</td><td>Avenida 20 do Estado Piauí</td><td>236.0</td><td>Apto 30</td></tr><tr><td>57</td><td>2018-08-23T03:31:05.000Z</td><td>Stephanie</td><td>Barboza</td><td>stephanie@meu_email.com</td><td>9 1168-6722</td><td>Brasil</td><td>Maranhão</td><td>Avenida 25 do Estado Maranhão</td><td>795.0</td><td>null</td></tr><tr><td>58</td><td>2018-09-13T03:13:02.000Z</td><td>Rafael</td><td>Rodrigues</td><td>rafael@meu_email.com</td><td>9 6550-3557</td><td>Brasil</td><td>Bahia</td><td>Praça 94 do Estado Bahia</td><td>647.0</td><td>Apto 25</td></tr><tr><td>59</td><td>2017-12-03T16:24:32.000Z</td><td>Stephanie</td><td>Freire</td><td>stephanie@usuario.com</td><td>9 3256-1853</td><td>Brasil</td><td>São Paulo</td><td>Rua 52 do Estado São Paulo</td><td>34.0</td><td>Apto 24</td></tr><tr><td>60</td><td>2018-06-26T18:47:12.000Z</td><td>Carol</td><td>Bueno</td><td>carol@usuario.com</td><td>9 9814-4736</td><td>Brasil</td><td>Santa Catarina</td><td>Rua 10 do Estado Santa Catarina</td><td>47.0</td><td>Conjunto 12</td></tr><tr><td>61</td><td>2018-04-30T18:36:56.000Z</td><td>Francisco</td><td>Abreu</td><td>francisco@exemplo.com</td><td>9 6754-1775</td><td>Brasil</td><td>Amapá</td><td>Rua 72 do Estado Amapá</td><td>50.0</td><td>Apto 12</td></tr><tr><td>62</td><td>2018-01-21T13:56:16.000Z</td><td>Carol</td><td>Anjos</td><td>carol@usuario.com</td><td>9 2123-9306</td><td>Brasil</td><td>Pernambuco</td><td>Praça 12 do Estado Pernambuco</td><td>928.0</td><td>Conjunto 26</td></tr><tr><td>63</td><td>2018-05-05T17:52:26.000Z</td><td>Caíque</td><td>Batista</td><td>caíque@teste.com</td><td>9 8818-5886</td><td>Brasil</td><td>Ceará</td><td>Rua 76 do Estado Ceará</td><td>239.0</td><td>Apto 19</td></tr><tr><td>64</td><td>2018-10-30T15:47:32.000Z</td><td>Luan</td><td>Ramos</td><td>luan@exemplo.com</td><td>9 6843-3876</td><td>Brasil</td><td>Pernambuco</td><td>Rua 63 do Estado Pernambuco</td><td>345.0</td><td>Conjunto 10</td></tr><tr><td>65</td><td>2018-02-06T05:56:36.000Z</td><td>Willian</td><td>Freitas</td><td>null</td><td>9 3043-7382</td><td>Brasil</td><td>Rio de Janeiro</td><td>Rua 91 do Estado Rio de Janeiro</td><td>96.0</td><td>Apto 7</td></tr><tr><td>66</td><td>2018-10-18T04:31:59.000Z</td><td>Stephanie</td><td>Abreu</td><td>stephanie@meu_email.com</td><td>9 6466-2389</td><td>Brasil</td><td>Mato Grosso</td><td>Rua 19 do Estado Mato Grosso</td><td>53.0</td><td>Conjunto 13</td></tr><tr><td>67</td><td>2018-08-31T18:22:52.000Z</td><td>Laura</td><td>Pires</td><td>laura@meu_email.com</td><td>9 8144-6047</td><td>Brasil</td><td>Mato Grosso do Sul</td><td>Praça 23 do Estado Mato Grosso do Sul</td><td>47.0</td><td>Apto 7</td></tr><tr><td>68</td><td>2018-11-14T11:04:35.000Z</td><td>José</td><td>Pires</td><td>josé@usuario.com</td><td>9 8189-2149</td><td>Brasil</td><td>Ceará</td><td>Avenida 99 do Estado Ceará</td><td>231.0</td><td>null</td></tr><tr><td>69</td><td>2018-02-20T19:16:26.000Z</td><td>Gustavo</td><td>Cardoso</td><td>gustavo@teste.com</td><td>9 7594-9211</td><td>Brasil</td><td>Amazonas</td><td>Praça 52 do Estado Amazonas</td><td>698.0</td><td>null</td></tr><tr><td>70</td><td>2017-10-22T12:49:39.000Z</td><td>Diego</td><td>Barboza</td><td>null</td><td>9 4849-7409</td><td>Brasil</td><td>Mato Grosso do Sul</td><td>Avenida 3 do Estado Mato Grosso do Sul</td><td>250.0</td><td>null</td></tr><tr><td>71</td><td>2017-12-12T16:16:52.000Z</td><td>Gerson</td><td>Barroso</td><td>gerson@exemplo.com</td><td>9 5719-4227</td><td>Brasil</td><td>Pernambuco</td><td>null</td><td>null</td><td>Apto 2</td></tr><tr><td>72</td><td>2018-01-29T03:19:24.000Z</td><td>Neymar</td><td>Elísio</td><td>neymar@teste.com</td><td>9 5373-1785</td><td>Brasil</td><td>Rio Grande do Sul</td><td>Rua 49 do Estado Rio Grande do Sul</td><td>929.0</td><td>null</td></tr><tr><td>73</td><td>2018-02-03T07:37:38.000Z</td><td>Cristiano</td><td>Almeida</td><td>cristiano@usuario.com</td><td>9 2630-9907</td><td>Brasil</td><td>null</td><td>null</td><td>null</td><td>Conjunto 24</td></tr><tr><td>74</td><td>2018-04-22T05:00:28.000Z</td><td>Júlia</td><td>Almeida</td><td>júlia@meu_email.com</td><td>9 9208-5213</td><td>Brasil</td><td>Maranhão</td><td>Praça 25 do Estado Maranhão</td><td>953.0</td><td>Conjunto 4</td></tr><tr><td>75</td><td>2018-06-21T14:28:03.000Z</td><td>Marta</td><td>Abreu</td><td>null</td><td>9 9024-3467</td><td>Brasil</td><td>Roraima</td><td>Avenida 67 do Estado Roraima</td><td>410.0</td><td>Conjunto 23</td></tr><tr><td>76</td><td>2018-04-16T04:53:31.000Z</td><td>Romário</td><td>Rosa</td><td>romário@meu_email.com</td><td>9 8710-8305</td><td>Brasil</td><td>Rio Grande do Sul</td><td>Praça 75 do Estado Rio Grande do Sul</td><td>110.0</td><td>Conjunto 10</td></tr><tr><td>77</td><td>2018-11-30T10:29:55.000Z</td><td>Ana</td><td>Monteiro</td><td>ana@teste.com</td><td>9 3871-4132</td><td>Brasil</td><td>Bahia</td><td>Praça 86 do Estado Bahia</td><td>604.0</td><td>Apto 30</td></tr><tr><td>78</td><td>2017-11-02T22:13:22.000Z</td><td>Laura</td><td>Queiroz</td><td>laura@exemplo.com</td><td>9 6338-8617</td><td>Brasil</td><td>São Paulo</td><td>Praça 19 do Estado São Paulo</td><td>878.0</td><td>Conjunto 3</td></tr><tr><td>79</td><td>2017-12-13T08:41:05.000Z</td><td>Hélen</td><td>Souza</td><td>hélen@teste.com</td><td>9 9974-1066</td><td>Brasil</td><td>Paraná</td><td>Avenida 20 do Estado Paraná</td><td>661.0</td><td>Conjunto 13</td></tr><tr><td>80</td><td>2018-10-10T00:06:32.000Z</td><td>Daniela</td><td>Góes</td><td>daniela@usuario.com</td><td>9 5394-6677</td><td>Brasil</td><td>Alagoas</td><td>Praça 22 do Estado Alagoas</td><td>235.0</td><td>null</td></tr><tr><td>81</td><td>2018-01-13T10:35:01.000Z</td><td>Alice</td><td>Ferreira</td><td>alice@teste.com</td><td>9 9005-2493</td><td>Brasil</td><td>Minas Gerais</td><td>Praça 53 do Estado Minas Gerais</td><td>83.0</td><td>null</td></tr><tr><td>82</td><td>2018-11-04T18:02:42.000Z</td><td>Heitor</td><td>Rocha</td><td>heitor@teste.com</td><td>9 3236-7429</td><td>Brasil</td><td>Espírito Santo</td><td>Praça 82 do Estado Espírito Santo</td><td>14.0</td><td>null</td></tr><tr><td>83</td><td>2018-01-05T00:15:03.000Z</td><td>Frida</td><td>Freire</td><td>null</td><td>9 4760-1383</td><td>Brasil</td><td>Alagoas</td><td>Rua 25 do Estado Alagoas</td><td>679.0</td><td>Conjunto 9</td></tr><tr><td>84</td><td>2018-11-01T15:39:40.000Z</td><td>Carol</td><td>Bueno</td><td>carol@meu_email.com</td><td>9 3760-2211</td><td>Brasil</td><td>null</td><td>null</td><td>null</td><td>Conjunto 26</td></tr><tr><td>85</td><td>2017-11-24T12:44:36.000Z</td><td>Eduardo</td><td>Teixeira</td><td>null</td><td>9 2537-7930</td><td>Brasil</td><td>Rio Grande do Norte</td><td>null</td><td>null</td><td>null</td></tr><tr><td>86</td><td>2018-03-12T09:30:24.000Z</td><td>Adalberto</td><td>Oliveira</td><td>adalberto@teste.com</td><td>9 3081-3441</td><td>Brasil</td><td>Roraima</td><td>Rua 40 do Estado Roraima</td><td>401.0</td><td>Conjunto 17</td></tr><tr><td>87</td><td>2018-08-16T20:25:23.000Z</td><td>Beatriz</td><td>Abreu</td><td>beatriz@usuario.com</td><td>9 2254-6798</td><td>Brasil</td><td>Acre</td><td>Rua 95 do Estado Acre</td><td>482.0</td><td>Conjunto 16</td></tr><tr><td>88</td><td>2017-10-12T15:17:05.000Z</td><td>Rafael</td><td>Batista</td><td>rafael@usuario.com</td><td>9 8656-5668</td><td>Brasil</td><td>Ceará</td><td>Rua 78 do Estado Ceará</td><td>787.0</td><td>Apto 3</td></tr><tr><td>89</td><td>2017-12-07T19:24:54.000Z</td><td>Daniela</td><td>Pires</td><td>daniela@usuario.com</td><td>9 6666-2265</td><td>Brasil</td><td>Bahia</td><td>Rua 31 do Estado Bahia</td><td>441.0</td><td>null</td></tr><tr><td>90</td><td>2017-12-16T22:14:58.000Z</td><td>Stephanie</td><td>Rosa</td><td>null</td><td>9 3040-4414</td><td>Brasil</td><td>Rio Grande do Norte</td><td>null</td><td>null</td><td>null</td></tr><tr><td>91</td><td>2018-09-12T22:12:05.000Z</td><td>Daniel</td><td>Costa</td><td>daniel@teste.com</td><td>9 4761-6557</td><td>Brasil</td><td>Rio Grande do Norte</td><td>Praça 25 do Estado Rio Grande do Norte</td><td>281.0</td><td>Apto 8</td></tr><tr><td>92</td><td>2017-10-16T16:29:15.000Z</td><td>Beatriz</td><td>Bueno</td><td>beatriz@teste.com</td><td>9 4435-2960</td><td>Brasil</td><td>Acre</td><td>Rua 71 do Estado Acre</td><td>978.0</td><td>Apto 24</td></tr><tr><td>93</td><td>2018-11-02T08:43:47.000Z</td><td>Ronaldo</td><td>Galo</td><td>ronaldo@meu_email.com</td><td>9 8821-9577</td><td>Brasil</td><td>Pernambuco</td><td>Avenida 8 do Estado Pernambuco</td><td>758.0</td><td>Apto 2</td></tr><tr><td>94</td><td>2018-10-29T11:39:58.000Z</td><td>Cristiano</td><td>Pereira</td><td>cristiano@meu_email.com</td><td>9 4404-8717</td><td>Brasil</td><td>Piauí</td><td>Praça 100 do Estado Piauí</td><td>809.0</td><td>null</td></tr><tr><td>95</td><td>2018-10-01T11:35:59.000Z</td><td>Mariana</td><td>Rosa</td><td>mariana@usuario.com</td><td>9 3139-2145</td><td>Brasil</td><td>null</td><td>null</td><td>null</td><td>null</td></tr><tr><td>96</td><td>2018-01-23T19:14:21.000Z</td><td>Paulo</td><td>Câmara</td><td>paulo@usuario.com</td><td>9 4785-1135</td><td>Brasil</td><td>Sergipe</td><td>Praça 73 do Estado Sergipe</td><td>219.0</td><td>Apto 6</td></tr><tr><td>97</td><td>2018-07-04T18:45:41.000Z</td><td>Marta</td><td>Góes</td><td>marta@teste.com</td><td>9 4102-4352</td><td>Brasil</td><td>Paraná</td><td>Rua 61 do Estado Paraná</td><td>402.0</td><td>Apto 24</td></tr><tr><td>98</td><td>2018-01-24T16:21:06.000Z</td><td>Cibele</td><td>Costa</td><td>cibele@meu_email.com</td><td>9 4211-6968</td><td>Brasil</td><td>Mato Grosso</td><td>Praça 75 do Estado Mato Grosso</td><td>24.0</td><td>null</td></tr><tr><td>99</td><td>2018-07-24T08:26:27.000Z</td><td>Jéssica</td><td>Jesus</td><td>jéssica@usuario.com</td><td>9 6100-1466</td><td>Brasil</td><td>Paraná</td><td>Avenida 19 do Estado Paraná</td><td>738.0</td><td>Conjunto 22</td></tr></tbody></table></div>"
      ]
     },
     "metadata": {
      "application/vnd.databricks.v1+output": {
       "addedWidgets": {},
       "aggData": [],
       "aggError": "",
       "aggOverflow": false,
       "aggSchema": [],
       "aggSeriesLimitReached": false,
       "aggType": "",
       "arguments": {},
       "columnCustomDisplayInfos": {},
       "data": [
        [
         0,
         "2017-11-01T14:45:41.000Z",
         "Marta",
         "Jesus",
         null,
         "9 9102-7834",
         "Brasil",
         "Acre",
         null,
         null,
         "Conjunto 16"
        ],
        [
         1,
         "2017-10-16T00:50:39.000Z",
         "Luana",
         "Almeida",
         null,
         "9 7328-8718",
         "Brasil",
         "Rio Grande do Sul",
         "Avenida 56 do Estado Rio Grande do Sul",
         989.0,
         "Conjunto 17"
        ],
        [
         2,
         "2018-06-16T17:51:29.000Z",
         "Frida",
         "Mendes",
         "frida@meu_email.com",
         "9 5906-7552",
         "Brasil",
         "São Paulo",
         "Avenida 59 do Estado São Paulo",
         534.0,
         null
        ],
        [
         3,
         "2018-01-17T03:02:58.000Z",
         "Daniela",
         "Avelino",
         "daniela@exemplo.com",
         "9 4642-9486",
         "Brasil",
         "Mato Grosso",
         null,
         null,
         null
        ],
        [
         4,
         "2018-08-06T07:24:16.000Z",
         "Romário",
         "Teixeira",
         null,
         "9 3093-6522",
         "Brasil",
         "Bahia",
         "Praça 56 do Estado Bahia",
         191.0,
         "Apto 12"
        ],
        [
         5,
         "2018-01-05T17:20:49.000Z",
         "Marcelo",
         "Barroso",
         null,
         "9 2830-2088",
         "Brasil",
         "Rio Grande do Sul",
         "Rua 28 do Estado Rio Grande do Sul",
         805.0,
         "Conjunto 13"
        ],
        [
         6,
         "2018-06-18T11:17:42.000Z",
         "Cristiano",
         "Elísio",
         "cristiano@exemplo.com",
         "9 3532-8404",
         "Brasil",
         "Goiás",
         "Rua 78 do Estado Goiás",
         877.0,
         "Apto 14"
        ],
        [
         7,
         "2018-02-08T12:36:09.000Z",
         "Everton",
         "Barbosa",
         "everton@meu_email.com",
         "9 2553-4087",
         "Brasil",
         "Distrito Federal",
         "Avenida 86 do Estado Distrito Federal",
         864.0,
         "Apto 14"
        ],
        [
         8,
         "2017-12-16T20:47:03.000Z",
         "Gabriela",
         "Alves",
         "gabriela@exemplo.com",
         "9 1353-8433",
         "Brasil",
         "Santa Catarina",
         null,
         null,
         null
        ],
        [
         9,
         "2018-11-11T11:48:41.000Z",
         "Luan",
         "Dias",
         "luan@exemplo.com",
         "9 2417-3678",
         "Brasil",
         "Distrito Federal",
         "Avenida 54 do Estado Distrito Federal",
         889.0,
         "Conjunto 14"
        ],
        [
         10,
         "2017-12-16T15:41:00.000Z",
         "Mariana",
         "Alves",
         "mariana@meu_email.com",
         "9 1846-6377",
         "Brasil",
         "Santa Catarina",
         null,
         null,
         null
        ],
        [
         11,
         "2018-05-16T03:39:52.000Z",
         "James",
         "Albuquerque",
         null,
         "9 2430-5905",
         "Brasil",
         "Sergipe",
         "Rua 30 do Estado Sergipe",
         229.0,
         null
        ],
        [
         12,
         "2018-03-28T00:24:00.000Z",
         "Carol",
         "Barboza",
         "carol@exemplo.com",
         "9 8487-3501",
         "Brasil",
         "Mato Grosso",
         "Rua 31 do Estado Mato Grosso",
         1.0,
         "Conjunto 23"
        ],
        [
         13,
         "2018-08-27T21:15:17.000Z",
         "Carolina",
         "Monteiro",
         "carolina@teste.com",
         "9 1226-4267",
         "Brasil",
         "Rio Grande do Sul",
         "Rua 4 do Estado Rio Grande do Sul",
         444.0,
         "Apto 21"
        ],
        [
         14,
         "2017-11-12T03:02:41.000Z",
         "Francisco",
         "Nascimento",
         "francisco@exemplo.com",
         "9 7264-9020",
         "Brasil",
         "Distrito Federal",
         "Rua 75 do Estado Distrito Federal",
         47.0,
         null
        ],
        [
         15,
         "2018-11-15T18:00:53.000Z",
         "Stephanie",
         "Barbosa",
         "stephanie@usuario.com",
         "9 1446-3560",
         "Brasil",
         "Mato Grosso",
         null,
         null,
         "Conjunto 4"
        ],
        [
         16,
         "2017-12-12T21:29:54.000Z",
         "Laura",
         "Santos",
         "laura@exemplo.com",
         "9 7802-6152",
         "Brasil",
         "Maranhão",
         "Rua 57 do Estado Maranhão",
         213.0,
         null
        ],
        [
         17,
         "2017-10-19T20:18:14.000Z",
         "João",
         "Magalhães",
         "joão@exemplo.com",
         "9 5995-1272",
         "Brasil",
         "Pernambuco",
         "Rua 20 do Estado Pernambuco",
         781.0,
         "Apto 17"
        ],
        [
         18,
         "2018-06-28T04:53:52.000Z",
         "Jair",
         "Magalhães",
         "jair@exemplo.com",
         "9 8368-1315",
         "Brasil",
         "Alagoas",
         "Avenida 74 do Estado Alagoas",
         118.0,
         "Conjunto 8"
        ],
        [
         19,
         "2018-10-20T19:31:52.000Z",
         "Caíque",
         "Monteiro",
         "caíque@exemplo.com",
         "9 9793-9986",
         "Brasil",
         "Piauí",
         null,
         null,
         "Conjunto 13"
        ],
        [
         20,
         "2017-12-22T10:51:28.000Z",
         "Adalberto",
         "Silva",
         "adalberto@usuario.com",
         "9 1338-1447",
         "Brasil",
         "São Paulo",
         "Rua 57 do Estado São Paulo",
         851.0,
         "Conjunto 20"
        ],
        [
         21,
         "2018-02-21T15:35:55.000Z",
         "Diego",
         "Freire",
         "diego@teste.com",
         "9 6686-4094",
         "Brasil",
         "Bahia",
         "Praça 4 do Estado Bahia",
         906.0,
         "Apto 20"
        ],
        [
         22,
         "2018-04-18T22:43:29.000Z",
         "Heitor",
         "Pereira",
         null,
         "9 4839-8118",
         "Brasil",
         "Maranhão",
         "Avenida 84 do Estado Maranhão",
         948.0,
         null
        ],
        [
         23,
         "2017-10-26T00:35:22.000Z",
         "Maria",
         "Pires",
         null,
         "9 8229-1067",
         "Brasil",
         "Amazonas",
         "Avenida 80 do Estado Amazonas",
         581.0,
         null
        ],
        [
         24,
         "2018-07-25T09:34:12.000Z",
         "Jair",
         "Barroso",
         "jair@teste.com",
         "9 6679-6120",
         "Brasil",
         "Ceará",
         "Rua 86 do Estado Ceará",
         770.0,
         "Apto 21"
        ],
        [
         25,
         "2018-08-07T12:22:40.000Z",
         "Alice",
         "Veloso",
         "alice@exemplo.com",
         "9 9869-3706",
         "Brasil",
         "Minas Gerais",
         "Praça 73 do Estado Minas Gerais",
         571.0,
         null
        ],
        [
         26,
         "2018-12-12T11:56:14.000Z",
         "Eloá",
         "da Silva",
         "eloá@usuario.com",
         "9 3982-5948",
         "Brasil",
         "Espírito Santo",
         "Avenida 98 do Estado Espírito Santo",
         706.0,
         null
        ],
        [
         27,
         "2018-11-08T11:12:47.000Z",
         "Luan",
         "Lima",
         "luan@teste.com",
         "9 2529-8197",
         "Brasil",
         "Acre",
         "Praça 86 do Estado Acre",
         303.0,
         "Apto 27"
        ],
        [
         28,
         "2017-11-26T05:17:39.000Z",
         "Beatriz",
         "Araújo",
         "beatriz@usuario.com",
         "9 4543-3853",
         "Brasil",
         "Minas Gerais",
         "Praça 7 do Estado Minas Gerais",
         536.0,
         "Conjunto 5"
        ],
        [
         29,
         "2018-06-03T17:08:52.000Z",
         "Geisa",
         "Santos",
         "geisa@meu_email.com",
         "9 4653-9739",
         "Brasil",
         "Rio Grande do Norte",
         "Avenida 77 do Estado Rio Grande do Norte",
         486.0,
         "Conjunto 13"
        ],
        [
         30,
         "2018-06-08T07:49:50.000Z",
         "Gabriel",
         "Teixeira",
         "gabriel@exemplo.com",
         "9 7419-5325",
         "Brasil",
         "Rio Grande do Sul",
         "Avenida 7 do Estado Rio Grande do Sul",
         94.0,
         null
        ],
        [
         31,
         "2018-07-02T22:04:08.000Z",
         "Geisa",
         "Freitas",
         "geisa@exemplo.com",
         "9 6772-5310",
         "Brasil",
         "Mato Grosso do Sul",
         "Rua 18 do Estado Mato Grosso do Sul",
         128.0,
         null
        ],
        [
         32,
         "2018-07-22T11:59:27.000Z",
         "Ana",
         "Campos",
         "ana@teste.com",
         "9 1932-9841",
         "Brasil",
         "Bahia",
         "Avenida 52 do Estado Bahia",
         402.0,
         null
        ],
        [
         33,
         "2017-12-28T12:51:34.000Z",
         "João",
         "da Silva",
         "joão@usuario.com",
         "9 2813-8103",
         "Brasil",
         "Paraná",
         "Avenida 27 do Estado Paraná",
         240.0,
         "Apto 6"
        ],
        [
         34,
         "2018-10-05T01:14:05.000Z",
         "José",
         "Campos",
         "josé@teste.com",
         "9 7552-4340",
         "Brasil",
         "Goiás",
         "Praça 25 do Estado Goiás",
         884.0,
         "Apto 7"
        ],
        [
         35,
         "2018-04-19T10:10:22.000Z",
         "Adalberto",
         "Dias",
         "adalberto@usuario.com",
         "9 8395-7004",
         "Brasil",
         "Espírito Santo",
         "Rua 37 do Estado Espírito Santo",
         383.0,
         "Apto 13"
        ],
        [
         36,
         "2018-01-26T03:29:13.000Z",
         "Mariana",
         "Góes",
         "mariana@meu_email.com",
         "9 7324-4293",
         "Brasil",
         null,
         null,
         null,
         "Apto 25"
        ],
        [
         37,
         "2018-03-02T22:27:03.000Z",
         "Daniela",
         "Monteiro",
         "daniela@meu_email.com",
         "9 4704-5844",
         "Brasil",
         "Goiás",
         "Rua 43 do Estado Goiás",
         116.0,
         "Apto 28"
        ],
        [
         38,
         "2018-09-01T09:33:57.000Z",
         "Marcelo",
         "Mendes",
         null,
         "9 6773-1560",
         "Brasil",
         "Espírito Santo",
         "Avenida 64 do Estado Espírito Santo",
         213.0,
         null
        ],
        [
         39,
         "2017-11-15T07:17:25.000Z",
         "Caio",
         "Batista",
         "caio@usuario.com",
         "9 4761-6542",
         "Brasil",
         "Maranhão",
         "Avenida 87 do Estado Maranhão",
         656.0,
         "Apto 25"
        ],
        [
         40,
         "2018-08-17T13:21:08.000Z",
         "Gabriela",
         "Nascimento",
         "gabriela@teste.com",
         "9 5382-5772",
         "Brasil",
         "Amapá",
         "Avenida 85 do Estado Amapá",
         476.0,
         null
        ],
        [
         41,
         "2018-11-30T17:44:09.000Z",
         "Maria",
         "Morais",
         "maria@usuario.com",
         "9 1519-4181",
         "Brasil",
         "Pernambuco",
         "Avenida 69 do Estado Pernambuco",
         633.0,
         null
        ],
        [
         42,
         "2018-04-09T19:12:23.000Z",
         "João",
         "Almeida",
         "joão@usuario.com",
         "9 4650-1753",
         "Brasil",
         "Goiás",
         "Praça 3 do Estado Goiás",
         986.0,
         "Apto 9"
        ],
        [
         43,
         "2018-01-07T07:54:22.000Z",
         "Daniela",
         "Lima",
         null,
         "9 1763-2584",
         "Brasil",
         "Rio de Janeiro",
         null,
         null,
         "Apto 20"
        ],
        [
         44,
         "2018-04-08T07:18:45.000Z",
         "Júlia",
         "Costa",
         "júlia@usuario.com",
         "9 5446-9508",
         "Brasil",
         "Rio Grande do Norte",
         "Avenida 46 do Estado Rio Grande do Norte",
         277.0,
         "Conjunto 14"
        ],
        [
         45,
         "2018-05-10T23:09:25.000Z",
         "Gerson",
         "Anjos",
         "gerson@meu_email.com",
         "9 1590-8972",
         "Brasil",
         "Mato Grosso do Sul",
         "Avenida 35 do Estado Mato Grosso do Sul",
         229.0,
         "Apto 29"
        ],
        [
         46,
         "2018-07-19T08:33:32.000Z",
         "Rafael",
         "Freire",
         "rafael@exemplo.com",
         "9 8703-1006",
         "Brasil",
         "Maranhão",
         "Praça 97 do Estado Maranhão",
         138.0,
         null
        ],
        [
         47,
         "2018-09-01T23:00:40.000Z",
         "Júlia",
         "Castro",
         "júlia@exemplo.com",
         "9 7096-1780",
         "Brasil",
         "Rio de Janeiro",
         "Rua 39 do Estado Rio de Janeiro",
         983.0,
         "Conjunto 7"
        ],
        [
         48,
         "2018-05-29T04:22:54.000Z",
         "Clarissa",
         "Albuquerque",
         "clarissa@exemplo.com",
         "9 7403-4273",
         "Brasil",
         "Ceará",
         null,
         null,
         "Apto 12"
        ],
        [
         49,
         "2018-11-01T02:13:51.000Z",
         "Júlia",
         "Sousa",
         "júlia@exemplo.com",
         "9 2094-8467",
         "Brasil",
         "Rondônia",
         "Rua 12 do Estado Rondônia",
         260.0,
         "Apto 27"
        ],
        [
         50,
         "2018-08-24T07:52:23.000Z",
         "Beatriz",
         "Monteiro",
         "beatriz@teste.com",
         "9 3570-4464",
         "Brasil",
         "Minas Gerais",
         "Avenida 17 do Estado Minas Gerais",
         223.0,
         "Conjunto 22"
        ],
        [
         51,
         "2017-12-26T15:38:15.000Z",
         "Caio",
         "Mendes",
         "caio@teste.com",
         "9 6437-5008",
         "Brasil",
         "Pernambuco",
         "Rua 34 do Estado Pernambuco",
         931.0,
         null
        ],
        [
         52,
         "2017-12-04T17:42:34.000Z",
         "Bruno",
         "Anjos",
         "bruno@teste.com",
         "9 3004-3740",
         "Brasil",
         "Goiás",
         "Rua 53 do Estado Goiás",
         825.0,
         null
        ],
        [
         53,
         "2018-03-25T14:26:49.000Z",
         "Daniela",
         "Mendes",
         "daniela@teste.com",
         "9 3797-3399",
         "Brasil",
         "Pernambuco",
         "Rua 71 do Estado Pernambuco",
         760.0,
         "Apto 14"
        ],
        [
         54,
         "2018-01-25T02:11:25.000Z",
         "Diego",
         "Teixeira",
         "diego@exemplo.com",
         "9 5247-1737",
         "Brasil",
         "Pará",
         "Rua 8 do Estado Pará",
         722.0,
         "Conjunto 16"
        ],
        [
         55,
         "2018-07-10T18:40:07.000Z",
         "Gabriela",
         "Pires",
         "gabriela@meu_email.com",
         "9 1214-1539",
         "Brasil",
         "Rio de Janeiro",
         "Rua 32 do Estado Rio de Janeiro",
         838.0,
         "Apto 29"
        ],
        [
         56,
         "2017-12-01T22:40:40.000Z",
         "Cristiano",
         "Fagundes",
         "cristiano@usuario.com",
         "9 7680-6400",
         "Brasil",
         "Piauí",
         "Avenida 20 do Estado Piauí",
         236.0,
         "Apto 30"
        ],
        [
         57,
         "2018-08-23T03:31:05.000Z",
         "Stephanie",
         "Barboza",
         "stephanie@meu_email.com",
         "9 1168-6722",
         "Brasil",
         "Maranhão",
         "Avenida 25 do Estado Maranhão",
         795.0,
         null
        ],
        [
         58,
         "2018-09-13T03:13:02.000Z",
         "Rafael",
         "Rodrigues",
         "rafael@meu_email.com",
         "9 6550-3557",
         "Brasil",
         "Bahia",
         "Praça 94 do Estado Bahia",
         647.0,
         "Apto 25"
        ],
        [
         59,
         "2017-12-03T16:24:32.000Z",
         "Stephanie",
         "Freire",
         "stephanie@usuario.com",
         "9 3256-1853",
         "Brasil",
         "São Paulo",
         "Rua 52 do Estado São Paulo",
         34.0,
         "Apto 24"
        ],
        [
         60,
         "2018-06-26T18:47:12.000Z",
         "Carol",
         "Bueno",
         "carol@usuario.com",
         "9 9814-4736",
         "Brasil",
         "Santa Catarina",
         "Rua 10 do Estado Santa Catarina",
         47.0,
         "Conjunto 12"
        ],
        [
         61,
         "2018-04-30T18:36:56.000Z",
         "Francisco",
         "Abreu",
         "francisco@exemplo.com",
         "9 6754-1775",
         "Brasil",
         "Amapá",
         "Rua 72 do Estado Amapá",
         50.0,
         "Apto 12"
        ],
        [
         62,
         "2018-01-21T13:56:16.000Z",
         "Carol",
         "Anjos",
         "carol@usuario.com",
         "9 2123-9306",
         "Brasil",
         "Pernambuco",
         "Praça 12 do Estado Pernambuco",
         928.0,
         "Conjunto 26"
        ],
        [
         63,
         "2018-05-05T17:52:26.000Z",
         "Caíque",
         "Batista",
         "caíque@teste.com",
         "9 8818-5886",
         "Brasil",
         "Ceará",
         "Rua 76 do Estado Ceará",
         239.0,
         "Apto 19"
        ],
        [
         64,
         "2018-10-30T15:47:32.000Z",
         "Luan",
         "Ramos",
         "luan@exemplo.com",
         "9 6843-3876",
         "Brasil",
         "Pernambuco",
         "Rua 63 do Estado Pernambuco",
         345.0,
         "Conjunto 10"
        ],
        [
         65,
         "2018-02-06T05:56:36.000Z",
         "Willian",
         "Freitas",
         null,
         "9 3043-7382",
         "Brasil",
         "Rio de Janeiro",
         "Rua 91 do Estado Rio de Janeiro",
         96.0,
         "Apto 7"
        ],
        [
         66,
         "2018-10-18T04:31:59.000Z",
         "Stephanie",
         "Abreu",
         "stephanie@meu_email.com",
         "9 6466-2389",
         "Brasil",
         "Mato Grosso",
         "Rua 19 do Estado Mato Grosso",
         53.0,
         "Conjunto 13"
        ],
        [
         67,
         "2018-08-31T18:22:52.000Z",
         "Laura",
         "Pires",
         "laura@meu_email.com",
         "9 8144-6047",
         "Brasil",
         "Mato Grosso do Sul",
         "Praça 23 do Estado Mato Grosso do Sul",
         47.0,
         "Apto 7"
        ],
        [
         68,
         "2018-11-14T11:04:35.000Z",
         "José",
         "Pires",
         "josé@usuario.com",
         "9 8189-2149",
         "Brasil",
         "Ceará",
         "Avenida 99 do Estado Ceará",
         231.0,
         null
        ],
        [
         69,
         "2018-02-20T19:16:26.000Z",
         "Gustavo",
         "Cardoso",
         "gustavo@teste.com",
         "9 7594-9211",
         "Brasil",
         "Amazonas",
         "Praça 52 do Estado Amazonas",
         698.0,
         null
        ],
        [
         70,
         "2017-10-22T12:49:39.000Z",
         "Diego",
         "Barboza",
         null,
         "9 4849-7409",
         "Brasil",
         "Mato Grosso do Sul",
         "Avenida 3 do Estado Mato Grosso do Sul",
         250.0,
         null
        ],
        [
         71,
         "2017-12-12T16:16:52.000Z",
         "Gerson",
         "Barroso",
         "gerson@exemplo.com",
         "9 5719-4227",
         "Brasil",
         "Pernambuco",
         null,
         null,
         "Apto 2"
        ],
        [
         72,
         "2018-01-29T03:19:24.000Z",
         "Neymar",
         "Elísio",
         "neymar@teste.com",
         "9 5373-1785",
         "Brasil",
         "Rio Grande do Sul",
         "Rua 49 do Estado Rio Grande do Sul",
         929.0,
         null
        ],
        [
         73,
         "2018-02-03T07:37:38.000Z",
         "Cristiano",
         "Almeida",
         "cristiano@usuario.com",
         "9 2630-9907",
         "Brasil",
         null,
         null,
         null,
         "Conjunto 24"
        ],
        [
         74,
         "2018-04-22T05:00:28.000Z",
         "Júlia",
         "Almeida",
         "júlia@meu_email.com",
         "9 9208-5213",
         "Brasil",
         "Maranhão",
         "Praça 25 do Estado Maranhão",
         953.0,
         "Conjunto 4"
        ],
        [
         75,
         "2018-06-21T14:28:03.000Z",
         "Marta",
         "Abreu",
         null,
         "9 9024-3467",
         "Brasil",
         "Roraima",
         "Avenida 67 do Estado Roraima",
         410.0,
         "Conjunto 23"
        ],
        [
         76,
         "2018-04-16T04:53:31.000Z",
         "Romário",
         "Rosa",
         "romário@meu_email.com",
         "9 8710-8305",
         "Brasil",
         "Rio Grande do Sul",
         "Praça 75 do Estado Rio Grande do Sul",
         110.0,
         "Conjunto 10"
        ],
        [
         77,
         "2018-11-30T10:29:55.000Z",
         "Ana",
         "Monteiro",
         "ana@teste.com",
         "9 3871-4132",
         "Brasil",
         "Bahia",
         "Praça 86 do Estado Bahia",
         604.0,
         "Apto 30"
        ],
        [
         78,
         "2017-11-02T22:13:22.000Z",
         "Laura",
         "Queiroz",
         "laura@exemplo.com",
         "9 6338-8617",
         "Brasil",
         "São Paulo",
         "Praça 19 do Estado São Paulo",
         878.0,
         "Conjunto 3"
        ],
        [
         79,
         "2017-12-13T08:41:05.000Z",
         "Hélen",
         "Souza",
         "hélen@teste.com",
         "9 9974-1066",
         "Brasil",
         "Paraná",
         "Avenida 20 do Estado Paraná",
         661.0,
         "Conjunto 13"
        ],
        [
         80,
         "2018-10-10T00:06:32.000Z",
         "Daniela",
         "Góes",
         "daniela@usuario.com",
         "9 5394-6677",
         "Brasil",
         "Alagoas",
         "Praça 22 do Estado Alagoas",
         235.0,
         null
        ],
        [
         81,
         "2018-01-13T10:35:01.000Z",
         "Alice",
         "Ferreira",
         "alice@teste.com",
         "9 9005-2493",
         "Brasil",
         "Minas Gerais",
         "Praça 53 do Estado Minas Gerais",
         83.0,
         null
        ],
        [
         82,
         "2018-11-04T18:02:42.000Z",
         "Heitor",
         "Rocha",
         "heitor@teste.com",
         "9 3236-7429",
         "Brasil",
         "Espírito Santo",
         "Praça 82 do Estado Espírito Santo",
         14.0,
         null
        ],
        [
         83,
         "2018-01-05T00:15:03.000Z",
         "Frida",
         "Freire",
         null,
         "9 4760-1383",
         "Brasil",
         "Alagoas",
         "Rua 25 do Estado Alagoas",
         679.0,
         "Conjunto 9"
        ],
        [
         84,
         "2018-11-01T15:39:40.000Z",
         "Carol",
         "Bueno",
         "carol@meu_email.com",
         "9 3760-2211",
         "Brasil",
         null,
         null,
         null,
         "Conjunto 26"
        ],
        [
         85,
         "2017-11-24T12:44:36.000Z",
         "Eduardo",
         "Teixeira",
         null,
         "9 2537-7930",
         "Brasil",
         "Rio Grande do Norte",
         null,
         null,
         null
        ],
        [
         86,
         "2018-03-12T09:30:24.000Z",
         "Adalberto",
         "Oliveira",
         "adalberto@teste.com",
         "9 3081-3441",
         "Brasil",
         "Roraima",
         "Rua 40 do Estado Roraima",
         401.0,
         "Conjunto 17"
        ],
        [
         87,
         "2018-08-16T20:25:23.000Z",
         "Beatriz",
         "Abreu",
         "beatriz@usuario.com",
         "9 2254-6798",
         "Brasil",
         "Acre",
         "Rua 95 do Estado Acre",
         482.0,
         "Conjunto 16"
        ],
        [
         88,
         "2017-10-12T15:17:05.000Z",
         "Rafael",
         "Batista",
         "rafael@usuario.com",
         "9 8656-5668",
         "Brasil",
         "Ceará",
         "Rua 78 do Estado Ceará",
         787.0,
         "Apto 3"
        ],
        [
         89,
         "2017-12-07T19:24:54.000Z",
         "Daniela",
         "Pires",
         "daniela@usuario.com",
         "9 6666-2265",
         "Brasil",
         "Bahia",
         "Rua 31 do Estado Bahia",
         441.0,
         null
        ],
        [
         90,
         "2017-12-16T22:14:58.000Z",
         "Stephanie",
         "Rosa",
         null,
         "9 3040-4414",
         "Brasil",
         "Rio Grande do Norte",
         null,
         null,
         null
        ],
        [
         91,
         "2018-09-12T22:12:05.000Z",
         "Daniel",
         "Costa",
         "daniel@teste.com",
         "9 4761-6557",
         "Brasil",
         "Rio Grande do Norte",
         "Praça 25 do Estado Rio Grande do Norte",
         281.0,
         "Apto 8"
        ],
        [
         92,
         "2017-10-16T16:29:15.000Z",
         "Beatriz",
         "Bueno",
         "beatriz@teste.com",
         "9 4435-2960",
         "Brasil",
         "Acre",
         "Rua 71 do Estado Acre",
         978.0,
         "Apto 24"
        ],
        [
         93,
         "2018-11-02T08:43:47.000Z",
         "Ronaldo",
         "Galo",
         "ronaldo@meu_email.com",
         "9 8821-9577",
         "Brasil",
         "Pernambuco",
         "Avenida 8 do Estado Pernambuco",
         758.0,
         "Apto 2"
        ],
        [
         94,
         "2018-10-29T11:39:58.000Z",
         "Cristiano",
         "Pereira",
         "cristiano@meu_email.com",
         "9 4404-8717",
         "Brasil",
         "Piauí",
         "Praça 100 do Estado Piauí",
         809.0,
         null
        ],
        [
         95,
         "2018-10-01T11:35:59.000Z",
         "Mariana",
         "Rosa",
         "mariana@usuario.com",
         "9 3139-2145",
         "Brasil",
         null,
         null,
         null,
         null
        ],
        [
         96,
         "2018-01-23T19:14:21.000Z",
         "Paulo",
         "Câmara",
         "paulo@usuario.com",
         "9 4785-1135",
         "Brasil",
         "Sergipe",
         "Praça 73 do Estado Sergipe",
         219.0,
         "Apto 6"
        ],
        [
         97,
         "2018-07-04T18:45:41.000Z",
         "Marta",
         "Góes",
         "marta@teste.com",
         "9 4102-4352",
         "Brasil",
         "Paraná",
         "Rua 61 do Estado Paraná",
         402.0,
         "Apto 24"
        ],
        [
         98,
         "2018-01-24T16:21:06.000Z",
         "Cibele",
         "Costa",
         "cibele@meu_email.com",
         "9 4211-6968",
         "Brasil",
         "Mato Grosso",
         "Praça 75 do Estado Mato Grosso",
         24.0,
         null
        ],
        [
         99,
         "2018-07-24T08:26:27.000Z",
         "Jéssica",
         "Jesus",
         "jéssica@usuario.com",
         "9 6100-1466",
         "Brasil",
         "Paraná",
         "Avenida 19 do Estado Paraná",
         738.0,
         "Conjunto 22"
        ]
       ],
       "datasetInfos": [
        {
         "name": "_sqldf",
         "schema": {
          "fields": [
           {
            "metadata": {},
            "name": "id",
            "nullable": true,
            "type": "integer"
           },
           {
            "metadata": {},
            "name": "created_at",
            "nullable": true,
            "type": "timestamp"
           },
           {
            "metadata": {},
            "name": "first_name",
            "nullable": true,
            "type": "string"
           },
           {
            "metadata": {},
            "name": "last_name",
            "nullable": true,
            "type": "string"
           },
           {
            "metadata": {},
            "name": "email",
            "nullable": true,
            "type": "string"
           },
           {
            "metadata": {},
            "name": "cell_phone",
            "nullable": true,
            "type": "string"
           },
           {
            "metadata": {},
            "name": "country",
            "nullable": true,
            "type": "string"
           },
           {
            "metadata": {},
            "name": "state",
            "nullable": true,
            "type": "string"
           },
           {
            "metadata": {},
            "name": "street",
            "nullable": true,
            "type": "string"
           },
           {
            "metadata": {},
            "name": "number",
            "nullable": true,
            "type": "double"
           },
           {
            "metadata": {},
            "name": "additionals",
            "nullable": true,
            "type": "string"
           }
          ],
          "type": "struct"
         },
         "tableIdentifier": null,
         "typeStr": "pyspark.sql.connect.dataframe.DataFrame"
        }
       ],
       "dbfsResultPath": null,
       "isJsonSchema": true,
       "metadata": {
        "createTempViewForImplicitDf": true,
        "dataframeName": "_sqldf",
        "executionCount": 76
       },
       "overflow": false,
       "plotOptions": {
        "customPlotOptions": {},
        "displayType": "table",
        "pivotAggregation": null,
        "pivotColumns": null,
        "xColumns": null,
        "yColumns": null
       },
       "removedWidgets": [],
       "schema": [
        {
         "metadata": "{}",
         "name": "id",
         "type": "\"integer\""
        },
        {
         "metadata": "{}",
         "name": "created_at",
         "type": "\"timestamp\""
        },
        {
         "metadata": "{}",
         "name": "first_name",
         "type": "\"string\""
        },
        {
         "metadata": "{}",
         "name": "last_name",
         "type": "\"string\""
        },
        {
         "metadata": "{}",
         "name": "email",
         "type": "\"string\""
        },
        {
         "metadata": "{}",
         "name": "cell_phone",
         "type": "\"string\""
        },
        {
         "metadata": "{}",
         "name": "country",
         "type": "\"string\""
        },
        {
         "metadata": "{}",
         "name": "state",
         "type": "\"string\""
        },
        {
         "metadata": "{}",
         "name": "street",
         "type": "\"string\""
        },
        {
         "metadata": "{}",
         "name": "number",
         "type": "\"double\""
        },
        {
         "metadata": "{}",
         "name": "additionals",
         "type": "\"string\""
        }
       ],
       "type": "table"
      }
     },
     "output_type": "display_data"
    }
   ],
   "source": [
    "%sql\n",
    "select * from Clientes"
   ]
  },
  {
   "cell_type": "code",
   "execution_count": 0,
   "metadata": {
    "application/vnd.databricks.v1+cell": {
     "cellMetadata": {
      "byteLimit": 2048000,
      "implicitDf": true,
      "rowLimit": 10000
     },
     "inputWidgets": {},
     "nuid": "2a162e28-8b34-47e3-ae80-70e9f128ebb2",
     "showTitle": false,
     "tableResultSettingsMap": {},
     "title": ""
    }
   },
   "outputs": [
    {
     "output_type": "display_data",
     "data": {
      "text/html": [
       "<style scoped>\n",
       "  .table-result-container {\n",
       "    max-height: 300px;\n",
       "    overflow: auto;\n",
       "  }\n",
       "  table, th, td {\n",
       "    border: 1px solid black;\n",
       "    border-collapse: collapse;\n",
       "  }\n",
       "  th, td {\n",
       "    padding: 5px;\n",
       "  }\n",
       "  th {\n",
       "    text-align: left;\n",
       "  }\n",
       "</style><div class='table-result-container'><table class='table-result'><thead style='background-color: white'><tr><th>qtd_clientes</th><th>estado</th></tr></thead><tbody><tr><td>5</td><td>Ceará</td></tr><tr><td>4</td><td>Paraná</td></tr><tr><td>4</td><td>null</td></tr><tr><td>4</td><td>Mato Grosso do Sul</td></tr><tr><td>6</td><td>Maranhão</td></tr><tr><td>1</td><td>Rondônia</td></tr><tr><td>5</td><td>Rio Grande do Norte</td></tr><tr><td>5</td><td>Goiás</td></tr><tr><td>5</td><td>Mato Grosso</td></tr><tr><td>2</td><td>Roraima</td></tr><tr><td>4</td><td>Acre</td></tr><tr><td>4</td><td>São Paulo</td></tr><tr><td>6</td><td>Bahia</td></tr><tr><td>3</td><td>Distrito Federal</td></tr><tr><td>4</td><td>Espírito Santo</td></tr><tr><td>3</td><td>Alagoas</td></tr><tr><td>3</td><td>Santa Catarina</td></tr><tr><td>4</td><td>Rio de Janeiro</td></tr><tr><td>1</td><td>Pará</td></tr><tr><td>2</td><td>Amapá</td></tr><tr><td>4</td><td>Minas Gerais</td></tr><tr><td>6</td><td>Rio Grande do Sul</td></tr><tr><td>2</td><td>Sergipe</td></tr><tr><td>2</td><td>Amazonas</td></tr><tr><td>8</td><td>Pernambuco</td></tr><tr><td>3</td><td>Piauí</td></tr></tbody></table></div>"
      ]
     },
     "metadata": {
      "application/vnd.databricks.v1+output": {
       "addedWidgets": {},
       "aggData": [],
       "aggError": "",
       "aggOverflow": false,
       "aggSchema": [],
       "aggSeriesLimitReached": false,
       "aggType": "",
       "arguments": {},
       "columnCustomDisplayInfos": {},
       "data": [
        [
         5,
         "Ceará"
        ],
        [
         4,
         "Paraná"
        ],
        [
         4,
         null
        ],
        [
         4,
         "Mato Grosso do Sul"
        ],
        [
         6,
         "Maranhão"
        ],
        [
         1,
         "Rondônia"
        ],
        [
         5,
         "Rio Grande do Norte"
        ],
        [
         5,
         "Goiás"
        ],
        [
         5,
         "Mato Grosso"
        ],
        [
         2,
         "Roraima"
        ],
        [
         4,
         "Acre"
        ],
        [
         4,
         "São Paulo"
        ],
        [
         6,
         "Bahia"
        ],
        [
         3,
         "Distrito Federal"
        ],
        [
         4,
         "Espírito Santo"
        ],
        [
         3,
         "Alagoas"
        ],
        [
         3,
         "Santa Catarina"
        ],
        [
         4,
         "Rio de Janeiro"
        ],
        [
         1,
         "Pará"
        ],
        [
         2,
         "Amapá"
        ],
        [
         4,
         "Minas Gerais"
        ],
        [
         6,
         "Rio Grande do Sul"
        ],
        [
         2,
         "Sergipe"
        ],
        [
         2,
         "Amazonas"
        ],
        [
         8,
         "Pernambuco"
        ],
        [
         3,
         "Piauí"
        ]
       ],
       "datasetInfos": [
        {
         "name": "_sqldf",
         "schema": {
          "fields": [
           {
            "metadata": {},
            "name": "qtd_clientes",
            "nullable": false,
            "type": "long"
           },
           {
            "metadata": {},
            "name": "estado",
            "nullable": true,
            "type": "string"
           }
          ],
          "type": "struct"
         },
         "tableIdentifier": null,
         "typeStr": "pyspark.sql.connect.dataframe.DataFrame"
        }
       ],
       "dbfsResultPath": null,
       "isJsonSchema": true,
       "metadata": {
        "createTempViewForImplicitDf": true,
        "dataframeName": "_sqldf",
        "executionCount": 83
       },
       "overflow": false,
       "plotOptions": {
        "customPlotOptions": {},
        "displayType": "table",
        "pivotAggregation": null,
        "pivotColumns": null,
        "xColumns": null,
        "yColumns": null
       },
       "removedWidgets": [],
       "schema": [
        {
         "metadata": "{}",
         "name": "qtd_clientes",
         "type": "\"long\""
        },
        {
         "metadata": "{}",
         "name": "estado",
         "type": "\"string\""
        }
       ],
       "type": "table"
      }
     },
     "output_type": "display_data"
    }
   ],
   "source": [
    "%sql\n",
    "use Teste;\n",
    "--  quantos Clientes Por Estado\n",
    "select count(id) as qtd_clientes,\n",
    "state as estado\n",
    "from Clientes\n",
    "group by state;\n"
   ]
  },
  {
   "cell_type": "markdown",
   "metadata": {
    "application/vnd.databricks.v1+cell": {
     "cellMetadata": {},
     "inputWidgets": {},
     "nuid": "dec27f8b-fb05-48b8-830e-3858ef5f5ce9",
     "showTitle": false,
     "tableResultSettingsMap": {},
     "title": ""
    }
   },
   "source": [
    "##### Criando outras tabelas"
   ]
  },
  {
   "cell_type": "code",
   "execution_count": 0,
   "metadata": {
    "application/vnd.databricks.v1+cell": {
     "cellMetadata": {
      "byteLimit": 2048000,
      "rowLimit": 10000
     },
     "inputWidgets": {},
     "nuid": "244c8ae9-2620-4945-885f-238b82aabfca",
     "showTitle": false,
     "tableResultSettingsMap": {},
     "title": ""
    }
   },
   "outputs": [],
   "source": [
    "display(dbutils.fs.ls('/FileStore/tables/Bikes/'))"
   ]
  },
  {
   "cell_type": "code",
   "execution_count": 0,
   "metadata": {
    "application/vnd.databricks.v1+cell": {
     "cellMetadata": {
      "byteLimit": 2048000,
      "implicitDf": true,
      "rowLimit": 10000
     },
     "inputWidgets": {},
     "nuid": "c64025a7-9d73-4e63-af8c-fe66e0a4ad2a",
     "showTitle": false,
     "tableResultSettingsMap": {},
     "title": ""
    }
   },
   "outputs": [],
   "source": [
    "%python\n",
    "\n",
    "file_path_brands = \"/Volumes/workspace/default/arquivos-aula/Bike Store/brands.csv\"\n",
    "file_path_categories = \"/Volumes/workspace/default/arquivos-aula/Bike Store/categories.csv\"\n",
    "file_path_order_items = \"/Volumes/workspace/default/arquivos-aula/Bike Store/order_items.csv\"\n",
    "file_path_orders = \"/Volumes/workspace/default/arquivos-aula/Bike Store/orders.csv\"\n",
    "file_path_staffs = \"/Volumes/workspace/default/arquivos-aula/Bike Store/staffs.csv\"\n",
    "file_path_stocks = \"/Volumes/workspace/default/arquivos-aula/Bike Store/stocks.csv\"\n",
    "file_path_stores = \"/Volumes/workspace/default/arquivos-aula/Bike Store/stores.csv\"\n",
    "\n",
    "df_brands = spark.read.format(\"csv\").option(\"header\", \"true\").option(\"inferSchema\", \"true\").option(\"delimiter\", ',').load(file_path_brands)\n",
    "df_categories = spark.read.format(\"csv\").option(\"header\", \"true\").option(\"inferSchema\", \"true\").option(\"delimiter\", ',').load(file_path_categories)\n",
    "df_order_items = spark.read.format(\"csv\").option(\"header\", \"true\").option(\"inferSchema\", \"true\").option(\"delimiter\", ',').load(file_path_order_items)\n",
    "df_orders = spark.read.format(\"csv\").option(\"header\", \"true\").option(\"inferSchema\", \"true\").option(\"delimiter\", ',').load(file_path_orders)\n",
    "df_staffs = spark.read.format(\"csv\").option(\"header\", \"true\").option(\"inferSchema\", \"true\").option(\"delimiter\", ',').load(file_path_staffs)\n",
    "df_stocks = spark.read.format(\"csv\").option(\"header\", \"true\").option(\"inferSchema\", \"true\").option(\"delimiter\", ',').load(file_path_stocks)\n",
    "df_stores = spark.read.format(\"csv\").option(\"header\", \"true\").option(\"inferSchema\", \"true\").option(\"delimiter\", ',').load(file_path_stores)\n",
    "\n",
    "\n",
    "df_brands.createOrReplaceTempView(\"Brands\")\n",
    "df_categories.createOrReplaceTempView(\"Categories\")\n",
    "df_order_items.createOrReplaceTempView(\"Order_Items\")\n",
    "df_orders.createOrReplaceTempView(\"Orders\")\n",
    "df_staffs.createOrReplaceTempView(\"Staffs\")\n",
    "df_stocks.createOrReplaceTempView(\"Stocks\")\n",
    "df_stores.createOrReplaceTempView(\"Stores\")\n",
    "\n"
   ]
  },
  {
   "cell_type": "code",
   "execution_count": 0,
   "metadata": {
    "application/vnd.databricks.v1+cell": {
     "cellMetadata": {
      "byteLimit": 2048000,
      "implicitDf": true,
      "rowLimit": 10000
     },
     "inputWidgets": {},
     "nuid": "b41b9a85-2020-4f11-9b61-869000b528bd",
     "showTitle": false,
     "tableResultSettingsMap": {},
     "title": ""
    }
   },
   "outputs": [
    {
     "output_type": "display_data",
     "data": {
      "text/html": [
       "<style scoped>\n",
       "  .table-result-container {\n",
       "    max-height: 300px;\n",
       "    overflow: auto;\n",
       "  }\n",
       "  table, th, td {\n",
       "    border: 1px solid black;\n",
       "    border-collapse: collapse;\n",
       "  }\n",
       "  th, td {\n",
       "    padding: 5px;\n",
       "  }\n",
       "  th {\n",
       "    text-align: left;\n",
       "  }\n",
       "</style><div class='table-result-container'><table class='table-result'><thead style='background-color: white'><tr><th>store_id</th><th>store_name</th><th>phone</th><th>email</th><th>street</th><th>city</th><th>state</th><th>zip_code</th></tr></thead><tbody><tr><td>1</td><td>Santa Cruz Bikes</td><td>(831) 476-4321</td><td>santacruz@bikes.shop</td><td>3700 Portola Drive</td><td>Santa Cruz</td><td>CA</td><td>95060</td></tr><tr><td>2</td><td>Baldwin Bikes</td><td>(516) 379-8888</td><td>baldwin@bikes.shop</td><td>4200 Chestnut Lane</td><td>Baldwin</td><td>NY</td><td>11432</td></tr><tr><td>3</td><td>Rowlett Bikes</td><td>(972) 530-5555</td><td>rowlett@bikes.shop</td><td>8000 Fairway Avenue</td><td>Rowlett</td><td>TX</td><td>75088</td></tr></tbody></table></div>"
      ]
     },
     "metadata": {
      "application/vnd.databricks.v1+output": {
       "addedWidgets": {},
       "aggData": [],
       "aggError": "",
       "aggOverflow": false,
       "aggSchema": [],
       "aggSeriesLimitReached": false,
       "aggType": "",
       "arguments": {},
       "columnCustomDisplayInfos": {},
       "data": [
        [
         1,
         "Santa Cruz Bikes",
         "(831) 476-4321",
         "santacruz@bikes.shop",
         "3700 Portola Drive",
         "Santa Cruz",
         "CA",
         95060
        ],
        [
         2,
         "Baldwin Bikes",
         "(516) 379-8888",
         "baldwin@bikes.shop",
         "4200 Chestnut Lane",
         "Baldwin",
         "NY",
         11432
        ],
        [
         3,
         "Rowlett Bikes",
         "(972) 530-5555",
         "rowlett@bikes.shop",
         "8000 Fairway Avenue",
         "Rowlett",
         "TX",
         75088
        ]
       ],
       "datasetInfos": [
        {
         "name": "_sqldf",
         "schema": {
          "fields": [
           {
            "metadata": {},
            "name": "store_id",
            "nullable": true,
            "type": "integer"
           },
           {
            "metadata": {},
            "name": "store_name",
            "nullable": true,
            "type": "string"
           },
           {
            "metadata": {},
            "name": "phone",
            "nullable": true,
            "type": "string"
           },
           {
            "metadata": {},
            "name": "email",
            "nullable": true,
            "type": "string"
           },
           {
            "metadata": {},
            "name": "street",
            "nullable": true,
            "type": "string"
           },
           {
            "metadata": {},
            "name": "city",
            "nullable": true,
            "type": "string"
           },
           {
            "metadata": {},
            "name": "state",
            "nullable": true,
            "type": "string"
           },
           {
            "metadata": {},
            "name": "zip_code",
            "nullable": true,
            "type": "integer"
           }
          ],
          "type": "struct"
         },
         "tableIdentifier": null,
         "typeStr": "pyspark.sql.connect.dataframe.DataFrame"
        }
       ],
       "dbfsResultPath": null,
       "isJsonSchema": true,
       "metadata": {
        "createTempViewForImplicitDf": true,
        "dataframeName": "_sqldf",
        "executionCount": 92
       },
       "overflow": false,
       "plotOptions": {
        "customPlotOptions": {},
        "displayType": "table",
        "pivotAggregation": null,
        "pivotColumns": null,
        "xColumns": null,
        "yColumns": null
       },
       "removedWidgets": [],
       "schema": [
        {
         "metadata": "{}",
         "name": "store_id",
         "type": "\"integer\""
        },
        {
         "metadata": "{}",
         "name": "store_name",
         "type": "\"string\""
        },
        {
         "metadata": "{}",
         "name": "phone",
         "type": "\"string\""
        },
        {
         "metadata": "{}",
         "name": "email",
         "type": "\"string\""
        },
        {
         "metadata": "{}",
         "name": "street",
         "type": "\"string\""
        },
        {
         "metadata": "{}",
         "name": "city",
         "type": "\"string\""
        },
        {
         "metadata": "{}",
         "name": "state",
         "type": "\"string\""
        },
        {
         "metadata": "{}",
         "name": "zip_code",
         "type": "\"integer\""
        }
       ],
       "type": "table"
      }
     },
     "output_type": "display_data"
    }
   ],
   "source": [
    "%sql\n",
    "\n",
    "select * from stores"
   ]
  },
  {
   "cell_type": "code",
   "execution_count": 0,
   "metadata": {
    "application/vnd.databricks.v1+cell": {
     "cellMetadata": {
      "byteLimit": 2048000,
      "implicitDf": true,
      "rowLimit": 10000
     },
     "inputWidgets": {},
     "nuid": "a36de7d0-7c67-4a37-a3ef-fe33851de326",
     "showTitle": false,
     "tableResultSettingsMap": {},
     "title": ""
    }
   },
   "outputs": [
    {
     "output_type": "display_data",
     "data": {
      "text/html": [
       "<style scoped>\n",
       "  .table-result-container {\n",
       "    max-height: 300px;\n",
       "    overflow: auto;\n",
       "  }\n",
       "  table, th, td {\n",
       "    border: 1px solid black;\n",
       "    border-collapse: collapse;\n",
       "  }\n",
       "  th, td {\n",
       "    padding: 5px;\n",
       "  }\n",
       "  th {\n",
       "    text-align: left;\n",
       "  }\n",
       "</style><div class='table-result-container'><table class='table-result'><thead style='background-color: white'><tr><th>num_affected_rows</th><th>num_inserted_rows</th></tr></thead><tbody></tbody></table></div>"
      ]
     },
     "metadata": {
      "application/vnd.databricks.v1+output": {
       "addedWidgets": {},
       "aggData": [],
       "aggError": "",
       "aggOverflow": false,
       "aggSchema": [],
       "aggSeriesLimitReached": false,
       "aggType": "",
       "arguments": {},
       "columnCustomDisplayInfos": {},
       "data": [],
       "datasetInfos": [
        {
         "name": "_sqldf",
         "schema": {
          "fields": [
           {
            "metadata": {},
            "name": "num_affected_rows",
            "nullable": true,
            "type": "long"
           },
           {
            "metadata": {},
            "name": "num_inserted_rows",
            "nullable": true,
            "type": "long"
           }
          ],
          "type": "struct"
         },
         "tableIdentifier": null,
         "typeStr": "pyspark.sql.connect.dataframe.DataFrame"
        }
       ],
       "dbfsResultPath": null,
       "isJsonSchema": true,
       "metadata": {
        "createTempViewForImplicitDf": true,
        "dataframeName": "_sqldf",
        "executionCount": 136
       },
       "overflow": false,
       "plotOptions": {
        "customPlotOptions": {},
        "displayType": "table",
        "pivotAggregation": null,
        "pivotColumns": null,
        "xColumns": null,
        "yColumns": null
       },
       "removedWidgets": [],
       "schema": [
        {
         "metadata": "{}",
         "name": "num_affected_rows",
         "type": "\"long\""
        },
        {
         "metadata": "{}",
         "name": "num_inserted_rows",
         "type": "\"long\""
        }
       ],
       "type": "table"
      }
     },
     "output_type": "display_data"
    }
   ],
   "source": [
    "%sql\n",
    "\n",
    "-- Criando tabelas a parte de csv\n",
    "use teste;\n",
    "\n",
    "-- tabela brands\n",
    "CREATE OR REPLACE TEMPORARY VIEW brands_tmp USING CSV \n",
    "OPTIONS (path '/Volumes/workspace/default/arquivos-aula/Bike Store/brands.csv', header 'true', inferSchema 'true');\n",
    "CREATE TABLE IF NOT EXISTS brands AS SELECT * FROM brands_tmp;\n",
    "\n",
    "-- tabela categories\n",
    "CREATE OR REPLACE TEMPORARY VIEW categories_tmp USING CSV \n",
    "OPTIONS (path '/Volumes/workspace/default/arquivos-aula/Bike Store/categories.csv', header 'true', inferSchema 'true');\n",
    "CREATE TABLE IF NOT EXISTS categories AS SELECT * FROM categories_tmp;\n",
    "\n",
    "-- tabela order_items\n",
    "CREATE OR REPLACE TEMPORARY VIEW order_items_tmp USING CSV \n",
    "OPTIONS (path '/Volumes/workspace/default/arquivos-aula/Bike Store/order_items.csv', header 'true', inferSchema 'true');\n",
    "CREATE TABLE IF NOT EXISTS order_items AS SELECT * FROM order_items_tmp;\n",
    "\n",
    "-- tabela orders\n",
    "CREATE OR REPLACE TEMPORARY VIEW orders_tmp USING CSV \n",
    "OPTIONS (path '/Volumes/workspace/default/arquivos-aula/Bike Store/orders.csv', header 'true', inferSchema 'true');\n",
    "CREATE TABLE IF NOT EXISTS orders AS SELECT * FROM orders_tmp;\n",
    "\n",
    "-- tabela staffs\n",
    "CREATE OR REPLACE TEMPORARY VIEW staffs_tmp USING CSV \n",
    "OPTIONS (path '/Volumes/workspace/default/arquivos-aula/Bike Store/staffs.csv', header 'true', inferSchema 'true');\n",
    "CREATE TABLE IF NOT EXISTS staffs AS SELECT * FROM staffs_tmp;\n",
    "\n",
    "-- tabela stocks\n",
    "CREATE OR REPLACE TEMPORARY VIEW stocks_tmp USING CSV \n",
    "OPTIONS (path '/Volumes/workspace/default/arquivos-aula/Bike Store/stocks.csv', header 'true', inferSchema 'true');\n",
    "CREATE TABLE IF NOT EXISTS stocks AS SELECT * FROM stocks_tmp;\n",
    "\n",
    "-- tabela stores\n",
    "CREATE OR REPLACE TEMPORARY VIEW stores_tmp USING CSV \n",
    "OPTIONS (path '/Volumes/workspace/default/arquivos-aula/Bike Store/stores.csv', header 'true', inferSchema 'true');\n",
    "CREATE TABLE IF NOT EXISTS stores AS SELECT * FROM stores_tmp;\n"
   ]
  },
  {
   "cell_type": "code",
   "execution_count": 0,
   "metadata": {
    "application/vnd.databricks.v1+cell": {
     "cellMetadata": {
      "byteLimit": 2048000,
      "implicitDf": true,
      "rowLimit": 10000
     },
     "inputWidgets": {},
     "nuid": "349af63f-02ba-4f05-9591-87a039a8e6b4",
     "showTitle": false,
     "tableResultSettingsMap": {},
     "title": ""
    }
   },
   "outputs": [
    {
     "output_type": "display_data",
     "data": {
      "text/html": [
       "<style scoped>\n",
       "  .table-result-container {\n",
       "    max-height: 300px;\n",
       "    overflow: auto;\n",
       "  }\n",
       "  table, th, td {\n",
       "    border: 1px solid black;\n",
       "    border-collapse: collapse;\n",
       "  }\n",
       "  th, td {\n",
       "    padding: 5px;\n",
       "  }\n",
       "  th {\n",
       "    text-align: left;\n",
       "  }\n",
       "</style><div class='table-result-container'><table class='table-result'><thead style='background-color: white'><tr><th>brand_id</th><th>brand_name</th></tr></thead><tbody><tr><td>1</td><td>Electra</td></tr><tr><td>2</td><td>Haro</td></tr><tr><td>3</td><td>Heller</td></tr><tr><td>4</td><td>Pure Cycles</td></tr><tr><td>5</td><td>Ritchey</td></tr><tr><td>6</td><td>Strider</td></tr><tr><td>7</td><td>Sun Bicycles</td></tr><tr><td>8</td><td>Surly</td></tr><tr><td>9</td><td>Trek</td></tr></tbody></table></div>"
      ]
     },
     "metadata": {
      "application/vnd.databricks.v1+output": {
       "addedWidgets": {},
       "aggData": [],
       "aggError": "",
       "aggOverflow": false,
       "aggSchema": [],
       "aggSeriesLimitReached": false,
       "aggType": "",
       "arguments": {},
       "columnCustomDisplayInfos": {},
       "data": [
        [
         1,
         "Electra"
        ],
        [
         2,
         "Haro"
        ],
        [
         3,
         "Heller"
        ],
        [
         4,
         "Pure Cycles"
        ],
        [
         5,
         "Ritchey"
        ],
        [
         6,
         "Strider"
        ],
        [
         7,
         "Sun Bicycles"
        ],
        [
         8,
         "Surly"
        ],
        [
         9,
         "Trek"
        ]
       ],
       "datasetInfos": [
        {
         "name": "_sqldf",
         "schema": {
          "fields": [
           {
            "metadata": {},
            "name": "brand_id",
            "nullable": true,
            "type": "integer"
           },
           {
            "metadata": {},
            "name": "brand_name",
            "nullable": true,
            "type": "string"
           }
          ],
          "type": "struct"
         },
         "tableIdentifier": null,
         "typeStr": "pyspark.sql.connect.dataframe.DataFrame"
        }
       ],
       "dbfsResultPath": null,
       "isJsonSchema": true,
       "metadata": {
        "createTempViewForImplicitDf": true,
        "dataframeName": "_sqldf",
        "executionCount": 133
       },
       "overflow": false,
       "plotOptions": {
        "customPlotOptions": {},
        "displayType": "table",
        "pivotAggregation": null,
        "pivotColumns": null,
        "xColumns": null,
        "yColumns": null
       },
       "removedWidgets": [],
       "schema": [
        {
         "metadata": "{}",
         "name": "brand_id",
         "type": "\"integer\""
        },
        {
         "metadata": "{}",
         "name": "brand_name",
         "type": "\"string\""
        }
       ],
       "type": "table"
      }
     },
     "output_type": "display_data"
    }
   ],
   "source": [
    "%sql\n",
    "use teste;\n",
    "select * from brands limit 10"
   ]
  }
 ],
 "metadata": {
  "application/vnd.databricks.v1+notebook": {
   "computePreferences": null,
   "dashboards": [],
   "environmentMetadata": null,
   "inputWidgetPreferences": null,
   "language": "python",
   "notebookMetadata": {
    "mostRecentlyExecutedCommandWithImplicitDF": {
     "commandId": 6412191759971789,
     "dataframes": [
      "_sqldf"
     ]
    },
    "pythonIndentUnit": 4
   },
   "notebookName": "02. Criando Tabelas Via Comando SQL",
   "widgets": {}
  },
  "language_info": {
   "name": "python"
  }
 },
 "nbformat": 4,
 "nbformat_minor": 0
}