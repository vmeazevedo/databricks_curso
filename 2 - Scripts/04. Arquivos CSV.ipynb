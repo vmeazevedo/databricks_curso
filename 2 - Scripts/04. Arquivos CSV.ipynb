{
 "cells": [
  {
   "cell_type": "code",
   "execution_count": 0,
   "metadata": {
    "application/vnd.databricks.v1+cell": {
     "cellMetadata": {},
     "inputWidgets": {},
     "nuid": "c77d0b04-d58c-49c8-8ff6-5a90d5d3f010",
     "showTitle": false,
     "tableResultSettingsMap": {},
     "title": ""
    }
   },
   "outputs": [],
   "source": [
    "# pesquisar google dados gov dados publicos\n",
    "# https://dados.gov.br/dados/conjuntos-dados\n",
    "# Defesa e segurança Formato csv > Recursos\n",
    "# https://dados.gov.br/dados/conjuntos-dados/ocorrncias-aeronuticas\n"
   ]
  },
  {
   "cell_type": "markdown",
   "metadata": {
    "application/vnd.databricks.v1+cell": {
     "cellMetadata": {},
     "inputWidgets": {},
     "nuid": "4225feea-5f60-41b3-8afc-a67f4d8880e4",
     "showTitle": false,
     "tableResultSettingsMap": {},
     "title": ""
    }
   },
   "source": [
    "#####Documentação CSV\n",
    "######Pesquisar csv documentation databricks\\\n",
    "https://docs.databricks.com/pt/external-data/csv.html"
   ]
  },
  {
   "cell_type": "code",
   "execution_count": 0,
   "metadata": {
    "application/vnd.databricks.v1+cell": {
     "cellMetadata": {
      "byteLimit": 2048000,
      "rowLimit": 10000
     },
     "inputWidgets": {},
     "nuid": "1385d9fb-4265-4b00-a347-53160ae489e2",
     "showTitle": false,
     "tableResultSettingsMap": {},
     "title": ""
    }
   },
   "outputs": [],
   "source": [
    "#Criar nova pasta\n",
    "dbutils.fs.mkdirs(\"/FileStore/tables/Anac\")\n"
   ]
  },
  {
   "cell_type": "code",
   "execution_count": 0,
   "metadata": {
    "application/vnd.databricks.v1+cell": {
     "cellMetadata": {
      "byteLimit": 2048000,
      "rowLimit": 10000
     },
     "inputWidgets": {},
     "nuid": "7b5c9a55-4216-4c71-8a15-7cc18324127e",
     "showTitle": false,
     "tableResultSettingsMap": {},
     "title": ""
    }
   },
   "outputs": [],
   "source": [
    "display(dbutils.fs.ls(\"/Volumes/workspace/default/arquivos-aula/Anac/\"))"
   ]
  },
  {
   "cell_type": "code",
   "execution_count": 0,
   "metadata": {
    "application/vnd.databricks.v1+cell": {
     "cellMetadata": {
      "byteLimit": 2048000,
      "rowLimit": 10000
     },
     "inputWidgets": {},
     "nuid": "f4c2be02-42e2-4d04-8314-d8bfc438bf60",
     "showTitle": false,
     "tableResultSettingsMap": {
      "0": {
       "dataGridStateBlob": "{\"version\":1,\"tableState\":{\"columnPinning\":{\"left\":[\"#row_number#\"],\"right\":[]},\"columnSizing\":{},\"columnVisibility\":{}},\"settings\":{\"columns\":{}},\"syncTimestamp\":1755202275333}",
       "filterBlob": null,
       "queryPlanFiltersBlob": null,
       "tableResultIndex": 0
      }
     },
     "title": ""
    }
   },
   "outputs": [],
   "source": [
    "#modo anterior\n",
    "# Caminho para o arquivo CSV\n",
    "caminho_csv = \"/Volumes/workspace/default/arquivos-aula/Anac/V_OCORRENCIA_AMPLA.csv\"\n",
    "\n",
    "# Ler o arquivo CSV em um DataFrame  modo antigo sem tratamento\n",
    "df_csv = spark.read.csv(caminho_csv)\n",
    "display(df_csv)"
   ]
  },
  {
   "cell_type": "code",
   "execution_count": 0,
   "metadata": {
    "application/vnd.databricks.v1+cell": {
     "cellMetadata": {
      "byteLimit": 2048000,
      "rowLimit": 10000
     },
     "inputWidgets": {},
     "nuid": "a2fd7f9f-f322-4c18-a3b1-33a5851e51d0",
     "showTitle": false,
     "tableResultSettingsMap": {
      "0": {
       "dataGridStateBlob": "{\"version\":1,\"tableState\":{\"columnPinning\":{\"left\":[\"#row_number#\"],\"right\":[]},\"columnSizing\":{},\"columnVisibility\":{}},\"settings\":{\"columns\":{}},\"syncTimestamp\":1755202352934}",
       "filterBlob": null,
       "queryPlanFiltersBlob": null,
       "tableResultIndex": 0
      }
     },
     "title": ""
    }
   },
   "outputs": [],
   "source": [
    "caminho_csv = \"/Volumes/workspace/default/arquivos-aula/Anac/V_OCORRENCIA_AMPLA.csv\"\n",
    "\n",
    "#Passando Opções avançadas \n",
    "df = spark.read\\\n",
    "    .format(\"csv\")\\\n",
    "    .option(\"skipRows\", 1)\\\n",
    "    .option(\"header\", True)\\\n",
    "    .option(\"sep\", \";\")\\\n",
    "    .option(\"inferSchema\", True)\\\n",
    "    .load(caminho_csv)\n",
    "display(df)\n"
   ]
  },
  {
   "cell_type": "code",
   "execution_count": 0,
   "metadata": {
    "application/vnd.databricks.v1+cell": {
     "cellMetadata": {
      "byteLimit": 2048000,
      "rowLimit": 10000
     },
     "inputWidgets": {},
     "nuid": "7b3e055f-6fee-438c-8435-0e55c178ae2a",
     "showTitle": false,
     "tableResultSettingsMap": {},
     "title": ""
    }
   },
   "outputs": [],
   "source": [
    "#Treino obs(estrutura vai server para outros formatos , vamos ver nas poximas aulas)\n",
    "df = spark.read\\                    # Modo de Leitura do spark\n",
    "    .format(\"csv\")\\                 # Formato do Arquivo\n",
    "    .option(\"skipRows\", 1)\\         # Quantas Linhas Pular\n",
    "    .option(\"header\", True)\\        # 1° linha é o Cabeçalho\n",
    "    .option(\"sep\", \";\")\\            # Separador do CSV\n",
    "    .option(\"inferSchema\", True)\\   # inserir os tipos de Dados automaticamente\n",
    "    .load(\"/FileStore/tables/Anac/V_OCORRENCIA_AMPLA.csv\")              # Comando para Carregar o Arquivo\n",
    "display(df)"
   ]
  },
  {
   "cell_type": "markdown",
   "metadata": {
    "application/vnd.databricks.v1+cell": {
     "cellMetadata": {},
     "inputWidgets": {},
     "nuid": "5a685709-7d36-468f-9721-e287705c201d",
     "showTitle": false,
     "tableResultSettingsMap": {},
     "title": ""
    }
   },
   "source": [
    "#####Mais Links\n",
    "https://spark.apache.org/docs/latest/sql-data-sources-csv.html"
   ]
  },
  {
   "cell_type": "markdown",
   "metadata": {
    "application/vnd.databricks.v1+cell": {
     "cellMetadata": {},
     "inputWidgets": {},
     "nuid": "62c5e38c-fed9-4374-9db0-c69ad01aa529",
     "showTitle": false,
     "tableResultSettingsMap": {},
     "title": ""
    }
   },
   "source": [
    "#####Fazendo Gambiarra"
   ]
  },
  {
   "cell_type": "code",
   "execution_count": 0,
   "metadata": {
    "application/vnd.databricks.v1+cell": {
     "cellMetadata": {
      "byteLimit": 2048000,
      "rowLimit": 10000
     },
     "inputWidgets": {},
     "nuid": "04486952-3ccf-47d8-89bd-64b3df91ef22",
     "showTitle": false,
     "tableResultSettingsMap": {},
     "title": ""
    }
   },
   "outputs": [],
   "source": [
    "#Csv ContatoShar da aula anterior (3. Transformado Consulta de Tabela SQL em DataFlame)\n",
    "caminho_csv = \"/Volumes/workspace/default/arquivos-aula/DiferentesSaidas/ContatoEl.csv\"\n",
    "df_csv = spark.read.csv(caminho_csv, header=False, inferSchema=True)\n",
    "display(df_csv)"
   ]
  },
  {
   "cell_type": "code",
   "execution_count": 0,
   "metadata": {
    "application/vnd.databricks.v1+cell": {
     "cellMetadata": {
      "byteLimit": 2048000,
      "rowLimit": 10000
     },
     "inputWidgets": {},
     "nuid": "8738af18-89e1-42bf-a5d2-53d03096b11f",
     "showTitle": false,
     "tableResultSettingsMap": {},
     "title": ""
    }
   },
   "outputs": [],
   "source": [
    "# Renomenado colunas\n",
    "df_csv = df_csv.withColumnRenamed(\"_c0\", \"ID\") \\\n",
    "               .withColumnRenamed(\"_c1\", \"Nome\") \\\n",
    "               .withColumnRenamed(\"_c2\", \"Telefone\") \\\n",
    "               .withColumnRenamed(\"_c3\", \"E-mail\")\n",
    "\n",
    "display(df_csv)\n"
   ]
  },
  {
   "cell_type": "markdown",
   "metadata": {
    "application/vnd.databricks.v1+cell": {
     "cellMetadata": {},
     "inputWidgets": {},
     "nuid": "fe3acd93-4106-4796-9520-9c4dbfd870de",
     "showTitle": false,
     "tableResultSettingsMap": {},
     "title": ""
    }
   },
   "source": [
    "##### Salvando Arquivo em Tamanho reduzido\n",
    "https://spark.apache.org/docs/latest/sql-data-sources-csv.html\n",
    "\n",
    "Pesquisar no google conversor bytes para mb"
   ]
  },
  {
   "cell_type": "code",
   "execution_count": 0,
   "metadata": {
    "application/vnd.databricks.v1+cell": {
     "cellMetadata": {
      "byteLimit": 2048000,
      "rowLimit": 10000
     },
     "inputWidgets": {},
     "nuid": "da50d83c-4774-4d7d-a733-d529c436d2e2",
     "showTitle": false,
     "tableResultSettingsMap": {},
     "title": ""
    }
   },
   "outputs": [],
   "source": [
    "display(dbutils.fs.ls(\"/Volumes/workspace/default/arquivos-aula/Anac/V_OCORRENCIA_AMPLA.csv\"))"
   ]
  },
  {
   "cell_type": "code",
   "execution_count": 0,
   "metadata": {
    "application/vnd.databricks.v1+cell": {
     "cellMetadata": {
      "byteLimit": 2048000,
      "rowLimit": 10000
     },
     "inputWidgets": {},
     "nuid": "8b2ade5b-48dd-4945-aeb4-d4f09c374270",
     "showTitle": false,
     "tableResultSettingsMap": {},
     "title": ""
    }
   },
   "outputs": [],
   "source": [
    "#Salvando um DataFlame\n",
    "caminho_csv = \"/Volumes/workspace/default/arquivos-aula/Anac/V_OCORRENCIA_AMPLA.csv\"\n",
    "df = spark.read\\\n",
    "    .format(\"csv\")\\\n",
    "    .option(\"skipRows\", 1)\\\n",
    "    .option(\"header\", True)\\\n",
    "    .option(\"sep\", \";\")\\\n",
    "    .option(\"inferSchema\", True)\\\n",
    "    .load(caminho_csv)\n",
    "display(df)"
   ]
  },
  {
   "cell_type": "code",
   "execution_count": 0,
   "metadata": {
    "application/vnd.databricks.v1+cell": {
     "cellMetadata": {
      "byteLimit": 2048000,
      "rowLimit": 10000
     },
     "inputWidgets": {},
     "nuid": "7b81bddc-b5d3-45f6-8134-9d72a6939c31",
     "showTitle": false,
     "tableResultSettingsMap": {},
     "title": ""
    }
   },
   "outputs": [],
   "source": [
    "#Salvando em formato comprimido (melhor para questoes de armazenamento em nuvem onde paga pelo tanto que armazenar)\n",
    "#write significa Gravar\\Escrever \n",
    "#overwrite = sobrescrever o arquivo\n",
    "df.write \\\n",
    "    .format(\"csv\") \\\n",
    "    .option(\"compression\", \"gzip\") \\\n",
    "    .option(\"header\", \"true\") \\\n",
    "    .option(\"sep\", \";\") \\\n",
    "    .mode(\"overwrite\") \\\n",
    "    .save(\"/Volumes/workspace/default/arquivos-aula/Anac/V_OCORRENCIA_AMPLA-zip\")"
   ]
  },
  {
   "cell_type": "code",
   "execution_count": 0,
   "metadata": {
    "application/vnd.databricks.v1+cell": {
     "cellMetadata": {
      "byteLimit": 2048000,
      "rowLimit": 10000
     },
     "inputWidgets": {},
     "nuid": "e14122aa-20ee-4324-a0c3-a6424849de81",
     "showTitle": false,
     "tableResultSettingsMap": {
      "0": {
       "dataGridStateBlob": "{\"version\":1,\"tableState\":{\"columnPinning\":{\"left\":[\"#row_number#\"],\"right\":[]},\"columnSizing\":{\"path\":498},\"columnVisibility\":{}},\"settings\":{\"columns\":{}},\"syncTimestamp\":1755202672939}",
       "filterBlob": null,
       "queryPlanFiltersBlob": null,
       "tableResultIndex": 0
      }
     },
     "title": ""
    }
   },
   "outputs": [],
   "source": [
    "display(dbutils.fs.ls(\"/Volumes/workspace/default/arquivos-aula/Anac\"))"
   ]
  },
  {
   "cell_type": "code",
   "execution_count": 0,
   "metadata": {
    "application/vnd.databricks.v1+cell": {
     "cellMetadata": {
      "byteLimit": 2048000,
      "rowLimit": 10000
     },
     "inputWidgets": {},
     "nuid": "fe33b8c7-fc63-4cf8-81b9-0ff565cffb09",
     "showTitle": false,
     "tableResultSettingsMap": {
      "0": {
       "dataGridStateBlob": "{\"version\":1,\"tableState\":{\"columnPinning\":{\"left\":[\"#row_number#\"],\"right\":[]},\"columnSizing\":{\"path\":1006},\"columnVisibility\":{}},\"settings\":{\"columns\":{}},\"syncTimestamp\":1755202764940}",
       "filterBlob": null,
       "queryPlanFiltersBlob": null,
       "tableResultIndex": 0
      },
      "1": {
       "dataGridStateBlob": "{\"version\":1,\"tableState\":{\"columnPinning\":{\"left\":[\"#row_number#\"],\"right\":[]},\"columnSizing\":{\"path\":525},\"columnVisibility\":{}},\"settings\":{\"columns\":{}},\"syncTimestamp\":1755202760852}",
       "filterBlob": null,
       "queryPlanFiltersBlob": null,
       "tableResultIndex": 1
      }
     },
     "title": ""
    }
   },
   "outputs": [],
   "source": [
    "display(dbutils.fs.ls(\"/Volumes/workspace/default/arquivos-aula/Anac/V_OCORRENCIA_AMPLA-zip\"))\n",
    "display(dbutils.fs.ls(\"/Volumes/workspace/default/arquivos-aula/Anac/V_OCORRENCIA_AMPLA.csv\"))"
   ]
  },
  {
   "cell_type": "code",
   "execution_count": 0,
   "metadata": {
    "application/vnd.databricks.v1+cell": {
     "cellMetadata": {},
     "inputWidgets": {},
     "nuid": "60687ae5-a55f-4b85-b45e-fc1e5b85495c",
     "showTitle": false,
     "tableResultSettingsMap": {},
     "title": ""
    }
   },
   "outputs": [],
   "source": [
    "#pesquisar no google por conversor de bytes para mb mais basicamente 1 milhao de Byte = 1 Megabyte"
   ]
  },
  {
   "cell_type": "markdown",
   "metadata": {
    "application/vnd.databricks.v1+cell": {
     "cellMetadata": {},
     "inputWidgets": {},
     "nuid": "1b3c1e07-018c-4338-845f-70336bf7e9b1",
     "showTitle": false,
     "tableResultSettingsMap": {},
     "title": ""
    }
   },
   "source": [
    "#####Lendo Arquivo salvo  em tamanho reduzido"
   ]
  },
  {
   "cell_type": "code",
   "execution_count": 0,
   "metadata": {
    "application/vnd.databricks.v1+cell": {
     "cellMetadata": {
      "byteLimit": 2048000,
      "rowLimit": 10000
     },
     "inputWidgets": {},
     "nuid": "cefcd61d-fd89-4a85-90e3-b6f0c016be70",
     "showTitle": false,
     "tableResultSettingsMap": {},
     "title": ""
    }
   },
   "outputs": [],
   "source": [
    "#read = ler fazer a leitura do arquivo\n",
    "dfnovo = spark.read \\\n",
    "            .option(\"compression\", \"gzip\") \\\n",
    "            .option(\"header\", \"true\") \\\n",
    "            .option(\"inferSchema\", \"true\") \\\n",
    "            .option(\"sep\", \";\") \\\n",
    "            .csv(\"/Volumes/workspace/default/arquivos-aula/Anac/V_OCORRENCIA_AMPLA-zip\")\n",
    "\n",
    "display(dfnovo)"
   ]
  }
 ],
 "metadata": {
  "application/vnd.databricks.v1+notebook": {
   "computePreferences": null,
   "dashboards": [],
   "environmentMetadata": null,
   "inputWidgetPreferences": null,
   "language": "python",
   "notebookMetadata": {
    "pythonIndentUnit": 4
   },
   "notebookName": "04. Arquivos CSV",
   "widgets": {}
  },
  "language_info": {
   "name": "python"
  }
 },
 "nbformat": 4,
 "nbformat_minor": 0
}