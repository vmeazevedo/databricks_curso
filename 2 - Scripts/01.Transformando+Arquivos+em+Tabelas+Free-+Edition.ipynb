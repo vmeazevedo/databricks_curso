{
 "cells": [
  {
   "cell_type": "code",
   "execution_count": 0,
   "metadata": {
    "application/vnd.databricks.v1+cell": {
     "cellMetadata": {
      "byteLimit": 2048000,
      "rowLimit": 10000
     },
     "inputWidgets": {},
     "nuid": "8e614499-986d-4f53-9222-834efcfe83d0",
     "showTitle": false,
     "tableResultSettingsMap": {},
     "title": ""
    }
   },
   "outputs": [
    {
     "output_type": "display_data",
     "data": {
      "text/html": [
       "<style scoped>\n",
       "  .table-result-container {\n",
       "    max-height: 300px;\n",
       "    overflow: auto;\n",
       "  }\n",
       "  table, th, td {\n",
       "    border: 1px solid black;\n",
       "    border-collapse: collapse;\n",
       "  }\n",
       "  th, td {\n",
       "    padding: 5px;\n",
       "  }\n",
       "  th {\n",
       "    text-align: left;\n",
       "  }\n",
       "</style><div class='table-result-container'><table class='table-result'><thead style='background-color: white'><tr><th>path</th><th>name</th><th>size</th><th>modificationTime</th></tr></thead><tbody><tr><td>dbfs:/Volumes/</td><td>Volumes/</td><td>0</td><td>0</td></tr><tr><td>dbfs:/databricks-datasets/</td><td>databricks-datasets/</td><td>0</td><td>0</td></tr></tbody></table></div>"
      ]
     },
     "metadata": {
      "application/vnd.databricks.v1+output": {
       "addedWidgets": {},
       "aggData": [],
       "aggError": "",
       "aggOverflow": false,
       "aggSchema": [],
       "aggSeriesLimitReached": false,
       "aggType": "",
       "arguments": {},
       "columnCustomDisplayInfos": {},
       "data": [
        [
         "dbfs:/Volumes/",
         "Volumes/",
         0,
         0
        ],
        [
         "dbfs:/databricks-datasets/",
         "databricks-datasets/",
         0,
         0
        ]
       ],
       "datasetInfos": [],
       "dbfsResultPath": null,
       "isJsonSchema": true,
       "metadata": {},
       "overflow": false,
       "plotOptions": {
        "customPlotOptions": {},
        "displayType": "table",
        "pivotAggregation": null,
        "pivotColumns": null,
        "xColumns": null,
        "yColumns": null
       },
       "removedWidgets": [],
       "schema": [
        {
         "metadata": "{}",
         "name": "path",
         "type": "\"string\""
        },
        {
         "metadata": "{}",
         "name": "name",
         "type": "\"string\""
        },
        {
         "metadata": "{}",
         "name": "size",
         "type": "\"long\""
        },
        {
         "metadata": "{}",
         "name": "modificationTime",
         "type": "\"long\""
        }
       ],
       "type": "table"
      }
     },
     "output_type": "display_data"
    }
   ],
   "source": [
    "%fs\n",
    "ls dbfs:/\n"
   ]
  },
  {
   "cell_type": "code",
   "execution_count": 0,
   "metadata": {
    "application/vnd.databricks.v1+cell": {
     "cellMetadata": {
      "byteLimit": 2048000,
      "rowLimit": 10000
     },
     "inputWidgets": {},
     "nuid": "49fa1365-42d0-4649-b03d-070c3d3b419e",
     "showTitle": false,
     "tableResultSettingsMap": {},
     "title": ""
    }
   },
   "outputs": [
    {
     "output_type": "display_data",
     "data": {
      "text/html": [
       "<style scoped>\n",
       "  .table-result-container {\n",
       "    max-height: 300px;\n",
       "    overflow: auto;\n",
       "  }\n",
       "  table, th, td {\n",
       "    border: 1px solid black;\n",
       "    border-collapse: collapse;\n",
       "  }\n",
       "  th, td {\n",
       "    padding: 5px;\n",
       "  }\n",
       "  th {\n",
       "    text-align: left;\n",
       "  }\n",
       "</style><div class='table-result-container'><table class='table-result'><thead style='background-color: white'><tr><th>path</th><th>name</th><th>size</th><th>modificationTime</th></tr></thead><tbody><tr><td>dbfs:/Volumes/workspace/default/arquivos-aula/Anac/</td><td>Anac/</td><td>0</td><td>1751490870749</td></tr><tr><td>dbfs:/Volumes/workspace/default/arquivos-aula/Bike Store/</td><td>Bike Store/</td><td>0</td><td>1751490870749</td></tr><tr><td>dbfs:/Volumes/workspace/default/arquivos-aula/arquivos_csv/</td><td>arquivos_csv/</td><td>0</td><td>1751490870749</td></tr></tbody></table></div>"
      ]
     },
     "metadata": {
      "application/vnd.databricks.v1+output": {
       "addedWidgets": {},
       "aggData": [],
       "aggError": "",
       "aggOverflow": false,
       "aggSchema": [],
       "aggSeriesLimitReached": false,
       "aggType": "",
       "arguments": {},
       "columnCustomDisplayInfos": {},
       "data": [
        [
         "dbfs:/Volumes/workspace/default/arquivos-aula/Anac/",
         "Anac/",
         0,
         1751490870749
        ],
        [
         "dbfs:/Volumes/workspace/default/arquivos-aula/Bike Store/",
         "Bike Store/",
         0,
         1751490870749
        ],
        [
         "dbfs:/Volumes/workspace/default/arquivos-aula/arquivos_csv/",
         "arquivos_csv/",
         0,
         1751490870749
        ]
       ],
       "datasetInfos": [],
       "dbfsResultPath": null,
       "isJsonSchema": true,
       "metadata": {},
       "overflow": false,
       "plotOptions": {
        "customPlotOptions": {},
        "displayType": "table",
        "pivotAggregation": null,
        "pivotColumns": null,
        "xColumns": null,
        "yColumns": null
       },
       "removedWidgets": [],
       "schema": [
        {
         "metadata": "{}",
         "name": "path",
         "type": "\"string\""
        },
        {
         "metadata": "{}",
         "name": "name",
         "type": "\"string\""
        },
        {
         "metadata": "{}",
         "name": "size",
         "type": "\"long\""
        },
        {
         "metadata": "{}",
         "name": "modificationTime",
         "type": "\"long\""
        }
       ],
       "type": "table"
      }
     },
     "output_type": "display_data"
    }
   ],
   "source": [
    "%fs\n",
    "ls '/Volumes/workspace/default/arquivos-aula'"
   ]
  },
  {
   "cell_type": "code",
   "execution_count": 0,
   "metadata": {
    "application/vnd.databricks.v1+cell": {
     "cellMetadata": {
      "byteLimit": 2048000,
      "rowLimit": 10000
     },
     "inputWidgets": {},
     "nuid": "28414383-0481-4813-882a-c9a6287e2e4b",
     "showTitle": false,
     "tableResultSettingsMap": {},
     "title": ""
    }
   },
   "outputs": [
    {
     "output_type": "display_data",
     "data": {
      "text/html": [
       "<style scoped>\n",
       "  .table-result-container {\n",
       "    max-height: 300px;\n",
       "    overflow: auto;\n",
       "  }\n",
       "  table, th, td {\n",
       "    border: 1px solid black;\n",
       "    border-collapse: collapse;\n",
       "  }\n",
       "  th, td {\n",
       "    padding: 5px;\n",
       "  }\n",
       "  th {\n",
       "    text-align: left;\n",
       "  }\n",
       "</style><div class='table-result-container'><table class='table-result'><thead style='background-color: white'><tr><th>path</th><th>name</th><th>size</th><th>modificationTime</th></tr></thead><tbody><tr><td>dbfs:/Volumes/workspace/default/arquivos-aula/arquivos_csv/Clientes.csv</td><td>Clientes.csv</td><td>12356</td><td>1749760684000</td></tr></tbody></table></div>"
      ]
     },
     "metadata": {
      "application/vnd.databricks.v1+output": {
       "addedWidgets": {},
       "aggData": [],
       "aggError": "",
       "aggOverflow": false,
       "aggSchema": [],
       "aggSeriesLimitReached": false,
       "aggType": "",
       "arguments": {},
       "columnCustomDisplayInfos": {},
       "data": [
        [
         "dbfs:/Volumes/workspace/default/arquivos-aula/arquivos_csv/Clientes.csv",
         "Clientes.csv",
         12356,
         1749760684000
        ]
       ],
       "datasetInfos": [],
       "dbfsResultPath": null,
       "isJsonSchema": true,
       "metadata": {},
       "overflow": false,
       "plotOptions": {
        "customPlotOptions": {},
        "displayType": "table",
        "pivotAggregation": null,
        "pivotColumns": null,
        "xColumns": null,
        "yColumns": null
       },
       "removedWidgets": [],
       "schema": [
        {
         "metadata": "{}",
         "name": "path",
         "type": "\"string\""
        },
        {
         "metadata": "{}",
         "name": "name",
         "type": "\"string\""
        },
        {
         "metadata": "{}",
         "name": "size",
         "type": "\"long\""
        },
        {
         "metadata": "{}",
         "name": "modificationTime",
         "type": "\"long\""
        }
       ],
       "type": "table"
      }
     },
     "output_type": "display_data"
    }
   ],
   "source": [
    "%fs\n",
    "ls 'dbfs:/Volumes/workspace/default/arquivos-aula/arquivos_csv/'"
   ]
  },
  {
   "cell_type": "code",
   "execution_count": 0,
   "metadata": {
    "application/vnd.databricks.v1+cell": {
     "cellMetadata": {
      "byteLimit": 2048000,
      "rowLimit": 10000
     },
     "inputWidgets": {},
     "nuid": "f50163e4-fc65-44cd-8b4c-e54a266a2029",
     "showTitle": false,
     "tableResultSettingsMap": {},
     "title": ""
    }
   },
   "outputs": [
    {
     "output_type": "display_data",
     "data": {
      "text/html": [
       "<style scoped>\n",
       "  .table-result-container {\n",
       "    max-height: 300px;\n",
       "    overflow: auto;\n",
       "  }\n",
       "  table, th, td {\n",
       "    border: 1px solid black;\n",
       "    border-collapse: collapse;\n",
       "  }\n",
       "  th, td {\n",
       "    padding: 5px;\n",
       "  }\n",
       "  th {\n",
       "    text-align: left;\n",
       "  }\n",
       "</style><div class='table-result-container'><table class='table-result'><thead style='background-color: white'><tr><th>id</th><th>created_at</th><th>first_name</th><th>last_name</th><th>email</th><th>cell_phone</th><th>country</th><th>state</th><th>street</th><th>number</th><th>additionals</th></tr></thead><tbody><tr><td>0</td><td>2017-11-01T14:45:41.000Z</td><td>Marta</td><td>Jesus</td><td>null</td><td>9 9102-7834</td><td>Brasil</td><td>Acre</td><td>null</td><td>null</td><td>Conjunto 16</td></tr><tr><td>1</td><td>2017-10-16T00:50:39.000Z</td><td>Luana</td><td>Almeida</td><td>null</td><td>9 7328-8718</td><td>Brasil</td><td>Rio Grande do Sul</td><td>Avenida 56 do Estado Rio Grande do Sul</td><td>989.0</td><td>Conjunto 17</td></tr><tr><td>2</td><td>2018-06-16T17:51:29.000Z</td><td>Frida</td><td>Mendes</td><td>frida@meu_email.com</td><td>9 5906-7552</td><td>Brasil</td><td>São Paulo</td><td>Avenida 59 do Estado São Paulo</td><td>534.0</td><td>null</td></tr><tr><td>3</td><td>2018-01-17T03:02:58.000Z</td><td>Daniela</td><td>Avelino</td><td>daniela@exemplo.com</td><td>9 4642-9486</td><td>Brasil</td><td>Mato Grosso</td><td>null</td><td>null</td><td>null</td></tr><tr><td>4</td><td>2018-08-06T07:24:16.000Z</td><td>Romário</td><td>Teixeira</td><td>null</td><td>9 3093-6522</td><td>Brasil</td><td>Bahia</td><td>Praça 56 do Estado Bahia</td><td>191.0</td><td>Apto 12</td></tr><tr><td>5</td><td>2018-01-05T17:20:49.000Z</td><td>Marcelo</td><td>Barroso</td><td>null</td><td>9 2830-2088</td><td>Brasil</td><td>Rio Grande do Sul</td><td>Rua 28 do Estado Rio Grande do Sul</td><td>805.0</td><td>Conjunto 13</td></tr><tr><td>6</td><td>2018-06-18T11:17:42.000Z</td><td>Cristiano</td><td>Elísio</td><td>cristiano@exemplo.com</td><td>9 3532-8404</td><td>Brasil</td><td>Goiás</td><td>Rua 78 do Estado Goiás</td><td>877.0</td><td>Apto 14</td></tr><tr><td>7</td><td>2018-02-08T12:36:09.000Z</td><td>Everton</td><td>Barbosa</td><td>everton@meu_email.com</td><td>9 2553-4087</td><td>Brasil</td><td>Distrito Federal</td><td>Avenida 86 do Estado Distrito Federal</td><td>864.0</td><td>Apto 14</td></tr><tr><td>8</td><td>2017-12-16T20:47:03.000Z</td><td>Gabriela</td><td>Alves</td><td>gabriela@exemplo.com</td><td>9 1353-8433</td><td>Brasil</td><td>Santa Catarina</td><td>null</td><td>null</td><td>null</td></tr><tr><td>9</td><td>2018-11-11T11:48:41.000Z</td><td>Luan</td><td>Dias</td><td>luan@exemplo.com</td><td>9 2417-3678</td><td>Brasil</td><td>Distrito Federal</td><td>Avenida 54 do Estado Distrito Federal</td><td>889.0</td><td>Conjunto 14</td></tr><tr><td>10</td><td>2017-12-16T15:41:00.000Z</td><td>Mariana</td><td>Alves</td><td>mariana@meu_email.com</td><td>9 1846-6377</td><td>Brasil</td><td>Santa Catarina</td><td>null</td><td>null</td><td>null</td></tr><tr><td>11</td><td>2018-05-16T03:39:52.000Z</td><td>James</td><td>Albuquerque</td><td>null</td><td>9 2430-5905</td><td>Brasil</td><td>Sergipe</td><td>Rua 30 do Estado Sergipe</td><td>229.0</td><td>null</td></tr><tr><td>12</td><td>2018-03-28T00:24:00.000Z</td><td>Carol</td><td>Barboza</td><td>carol@exemplo.com</td><td>9 8487-3501</td><td>Brasil</td><td>Mato Grosso</td><td>Rua 31 do Estado Mato Grosso</td><td>1.0</td><td>Conjunto 23</td></tr><tr><td>13</td><td>2018-08-27T21:15:17.000Z</td><td>Carolina</td><td>Monteiro</td><td>carolina@teste.com</td><td>9 1226-4267</td><td>Brasil</td><td>Rio Grande do Sul</td><td>Rua 4 do Estado Rio Grande do Sul</td><td>444.0</td><td>Apto 21</td></tr><tr><td>14</td><td>2017-11-12T03:02:41.000Z</td><td>Francisco</td><td>Nascimento</td><td>francisco@exemplo.com</td><td>9 7264-9020</td><td>Brasil</td><td>Distrito Federal</td><td>Rua 75 do Estado Distrito Federal</td><td>47.0</td><td>null</td></tr><tr><td>15</td><td>2018-11-15T18:00:53.000Z</td><td>Stephanie</td><td>Barbosa</td><td>stephanie@usuario.com</td><td>9 1446-3560</td><td>Brasil</td><td>Mato Grosso</td><td>null</td><td>null</td><td>Conjunto 4</td></tr><tr><td>16</td><td>2017-12-12T21:29:54.000Z</td><td>Laura</td><td>Santos</td><td>laura@exemplo.com</td><td>9 7802-6152</td><td>Brasil</td><td>Maranhão</td><td>Rua 57 do Estado Maranhão</td><td>213.0</td><td>null</td></tr><tr><td>17</td><td>2017-10-19T20:18:14.000Z</td><td>João</td><td>Magalhães</td><td>joão@exemplo.com</td><td>9 5995-1272</td><td>Brasil</td><td>Pernambuco</td><td>Rua 20 do Estado Pernambuco</td><td>781.0</td><td>Apto 17</td></tr><tr><td>18</td><td>2018-06-28T04:53:52.000Z</td><td>Jair</td><td>Magalhães</td><td>jair@exemplo.com</td><td>9 8368-1315</td><td>Brasil</td><td>Alagoas</td><td>Avenida 74 do Estado Alagoas</td><td>118.0</td><td>Conjunto 8</td></tr><tr><td>19</td><td>2018-10-20T19:31:52.000Z</td><td>Caíque</td><td>Monteiro</td><td>caíque@exemplo.com</td><td>9 9793-9986</td><td>Brasil</td><td>Piauí</td><td>null</td><td>null</td><td>Conjunto 13</td></tr><tr><td>20</td><td>2017-12-22T10:51:28.000Z</td><td>Adalberto</td><td>Silva</td><td>adalberto@usuario.com</td><td>9 1338-1447</td><td>Brasil</td><td>São Paulo</td><td>Rua 57 do Estado São Paulo</td><td>851.0</td><td>Conjunto 20</td></tr><tr><td>21</td><td>2018-02-21T15:35:55.000Z</td><td>Diego</td><td>Freire</td><td>diego@teste.com</td><td>9 6686-4094</td><td>Brasil</td><td>Bahia</td><td>Praça 4 do Estado Bahia</td><td>906.0</td><td>Apto 20</td></tr><tr><td>22</td><td>2018-04-18T22:43:29.000Z</td><td>Heitor</td><td>Pereira</td><td>null</td><td>9 4839-8118</td><td>Brasil</td><td>Maranhão</td><td>Avenida 84 do Estado Maranhão</td><td>948.0</td><td>null</td></tr><tr><td>23</td><td>2017-10-26T00:35:22.000Z</td><td>Maria</td><td>Pires</td><td>null</td><td>9 8229-1067</td><td>Brasil</td><td>Amazonas</td><td>Avenida 80 do Estado Amazonas</td><td>581.0</td><td>null</td></tr><tr><td>24</td><td>2018-07-25T09:34:12.000Z</td><td>Jair</td><td>Barroso</td><td>jair@teste.com</td><td>9 6679-6120</td><td>Brasil</td><td>Ceará</td><td>Rua 86 do Estado Ceará</td><td>770.0</td><td>Apto 21</td></tr><tr><td>25</td><td>2018-08-07T12:22:40.000Z</td><td>Alice</td><td>Veloso</td><td>alice@exemplo.com</td><td>9 9869-3706</td><td>Brasil</td><td>Minas Gerais</td><td>Praça 73 do Estado Minas Gerais</td><td>571.0</td><td>null</td></tr><tr><td>26</td><td>2018-12-12T11:56:14.000Z</td><td>Eloá</td><td>da Silva</td><td>eloá@usuario.com</td><td>9 3982-5948</td><td>Brasil</td><td>Espírito Santo</td><td>Avenida 98 do Estado Espírito Santo</td><td>706.0</td><td>null</td></tr><tr><td>27</td><td>2018-11-08T11:12:47.000Z</td><td>Luan</td><td>Lima</td><td>luan@teste.com</td><td>9 2529-8197</td><td>Brasil</td><td>Acre</td><td>Praça 86 do Estado Acre</td><td>303.0</td><td>Apto 27</td></tr><tr><td>28</td><td>2017-11-26T05:17:39.000Z</td><td>Beatriz</td><td>Araújo</td><td>beatriz@usuario.com</td><td>9 4543-3853</td><td>Brasil</td><td>Minas Gerais</td><td>Praça 7 do Estado Minas Gerais</td><td>536.0</td><td>Conjunto 5</td></tr><tr><td>29</td><td>2018-06-03T17:08:52.000Z</td><td>Geisa</td><td>Santos</td><td>geisa@meu_email.com</td><td>9 4653-9739</td><td>Brasil</td><td>Rio Grande do Norte</td><td>Avenida 77 do Estado Rio Grande do Norte</td><td>486.0</td><td>Conjunto 13</td></tr><tr><td>30</td><td>2018-06-08T07:49:50.000Z</td><td>Gabriel</td><td>Teixeira</td><td>gabriel@exemplo.com</td><td>9 7419-5325</td><td>Brasil</td><td>Rio Grande do Sul</td><td>Avenida 7 do Estado Rio Grande do Sul</td><td>94.0</td><td>null</td></tr><tr><td>31</td><td>2018-07-02T22:04:08.000Z</td><td>Geisa</td><td>Freitas</td><td>geisa@exemplo.com</td><td>9 6772-5310</td><td>Brasil</td><td>Mato Grosso do Sul</td><td>Rua 18 do Estado Mato Grosso do Sul</td><td>128.0</td><td>null</td></tr><tr><td>32</td><td>2018-07-22T11:59:27.000Z</td><td>Ana</td><td>Campos</td><td>ana@teste.com</td><td>9 1932-9841</td><td>Brasil</td><td>Bahia</td><td>Avenida 52 do Estado Bahia</td><td>402.0</td><td>null</td></tr><tr><td>33</td><td>2017-12-28T12:51:34.000Z</td><td>João</td><td>da Silva</td><td>joão@usuario.com</td><td>9 2813-8103</td><td>Brasil</td><td>Paraná</td><td>Avenida 27 do Estado Paraná</td><td>240.0</td><td>Apto 6</td></tr><tr><td>34</td><td>2018-10-05T01:14:05.000Z</td><td>José</td><td>Campos</td><td>josé@teste.com</td><td>9 7552-4340</td><td>Brasil</td><td>Goiás</td><td>Praça 25 do Estado Goiás</td><td>884.0</td><td>Apto 7</td></tr><tr><td>35</td><td>2018-04-19T10:10:22.000Z</td><td>Adalberto</td><td>Dias</td><td>adalberto@usuario.com</td><td>9 8395-7004</td><td>Brasil</td><td>Espírito Santo</td><td>Rua 37 do Estado Espírito Santo</td><td>383.0</td><td>Apto 13</td></tr><tr><td>36</td><td>2018-01-26T03:29:13.000Z</td><td>Mariana</td><td>Góes</td><td>mariana@meu_email.com</td><td>9 7324-4293</td><td>Brasil</td><td>null</td><td>null</td><td>null</td><td>Apto 25</td></tr><tr><td>37</td><td>2018-03-02T22:27:03.000Z</td><td>Daniela</td><td>Monteiro</td><td>daniela@meu_email.com</td><td>9 4704-5844</td><td>Brasil</td><td>Goiás</td><td>Rua 43 do Estado Goiás</td><td>116.0</td><td>Apto 28</td></tr><tr><td>38</td><td>2018-09-01T09:33:57.000Z</td><td>Marcelo</td><td>Mendes</td><td>null</td><td>9 6773-1560</td><td>Brasil</td><td>Espírito Santo</td><td>Avenida 64 do Estado Espírito Santo</td><td>213.0</td><td>null</td></tr><tr><td>39</td><td>2017-11-15T07:17:25.000Z</td><td>Caio</td><td>Batista</td><td>caio@usuario.com</td><td>9 4761-6542</td><td>Brasil</td><td>Maranhão</td><td>Avenida 87 do Estado Maranhão</td><td>656.0</td><td>Apto 25</td></tr><tr><td>40</td><td>2018-08-17T13:21:08.000Z</td><td>Gabriela</td><td>Nascimento</td><td>gabriela@teste.com</td><td>9 5382-5772</td><td>Brasil</td><td>Amapá</td><td>Avenida 85 do Estado Amapá</td><td>476.0</td><td>null</td></tr><tr><td>41</td><td>2018-11-30T17:44:09.000Z</td><td>Maria</td><td>Morais</td><td>maria@usuario.com</td><td>9 1519-4181</td><td>Brasil</td><td>Pernambuco</td><td>Avenida 69 do Estado Pernambuco</td><td>633.0</td><td>null</td></tr><tr><td>42</td><td>2018-04-09T19:12:23.000Z</td><td>João</td><td>Almeida</td><td>joão@usuario.com</td><td>9 4650-1753</td><td>Brasil</td><td>Goiás</td><td>Praça 3 do Estado Goiás</td><td>986.0</td><td>Apto 9</td></tr><tr><td>43</td><td>2018-01-07T07:54:22.000Z</td><td>Daniela</td><td>Lima</td><td>null</td><td>9 1763-2584</td><td>Brasil</td><td>Rio de Janeiro</td><td>null</td><td>null</td><td>Apto 20</td></tr><tr><td>44</td><td>2018-04-08T07:18:45.000Z</td><td>Júlia</td><td>Costa</td><td>júlia@usuario.com</td><td>9 5446-9508</td><td>Brasil</td><td>Rio Grande do Norte</td><td>Avenida 46 do Estado Rio Grande do Norte</td><td>277.0</td><td>Conjunto 14</td></tr><tr><td>45</td><td>2018-05-10T23:09:25.000Z</td><td>Gerson</td><td>Anjos</td><td>gerson@meu_email.com</td><td>9 1590-8972</td><td>Brasil</td><td>Mato Grosso do Sul</td><td>Avenida 35 do Estado Mato Grosso do Sul</td><td>229.0</td><td>Apto 29</td></tr><tr><td>46</td><td>2018-07-19T08:33:32.000Z</td><td>Rafael</td><td>Freire</td><td>rafael@exemplo.com</td><td>9 8703-1006</td><td>Brasil</td><td>Maranhão</td><td>Praça 97 do Estado Maranhão</td><td>138.0</td><td>null</td></tr><tr><td>47</td><td>2018-09-01T23:00:40.000Z</td><td>Júlia</td><td>Castro</td><td>júlia@exemplo.com</td><td>9 7096-1780</td><td>Brasil</td><td>Rio de Janeiro</td><td>Rua 39 do Estado Rio de Janeiro</td><td>983.0</td><td>Conjunto 7</td></tr><tr><td>48</td><td>2018-05-29T04:22:54.000Z</td><td>Clarissa</td><td>Albuquerque</td><td>clarissa@exemplo.com</td><td>9 7403-4273</td><td>Brasil</td><td>Ceará</td><td>null</td><td>null</td><td>Apto 12</td></tr><tr><td>49</td><td>2018-11-01T02:13:51.000Z</td><td>Júlia</td><td>Sousa</td><td>júlia@exemplo.com</td><td>9 2094-8467</td><td>Brasil</td><td>Rondônia</td><td>Rua 12 do Estado Rondônia</td><td>260.0</td><td>Apto 27</td></tr><tr><td>50</td><td>2018-08-24T07:52:23.000Z</td><td>Beatriz</td><td>Monteiro</td><td>beatriz@teste.com</td><td>9 3570-4464</td><td>Brasil</td><td>Minas Gerais</td><td>Avenida 17 do Estado Minas Gerais</td><td>223.0</td><td>Conjunto 22</td></tr><tr><td>51</td><td>2017-12-26T15:38:15.000Z</td><td>Caio</td><td>Mendes</td><td>caio@teste.com</td><td>9 6437-5008</td><td>Brasil</td><td>Pernambuco</td><td>Rua 34 do Estado Pernambuco</td><td>931.0</td><td>null</td></tr><tr><td>52</td><td>2017-12-04T17:42:34.000Z</td><td>Bruno</td><td>Anjos</td><td>bruno@teste.com</td><td>9 3004-3740</td><td>Brasil</td><td>Goiás</td><td>Rua 53 do Estado Goiás</td><td>825.0</td><td>null</td></tr><tr><td>53</td><td>2018-03-25T14:26:49.000Z</td><td>Daniela</td><td>Mendes</td><td>daniela@teste.com</td><td>9 3797-3399</td><td>Brasil</td><td>Pernambuco</td><td>Rua 71 do Estado Pernambuco</td><td>760.0</td><td>Apto 14</td></tr><tr><td>54</td><td>2018-01-25T02:11:25.000Z</td><td>Diego</td><td>Teixeira</td><td>diego@exemplo.com</td><td>9 5247-1737</td><td>Brasil</td><td>Pará</td><td>Rua 8 do Estado Pará</td><td>722.0</td><td>Conjunto 16</td></tr><tr><td>55</td><td>2018-07-10T18:40:07.000Z</td><td>Gabriela</td><td>Pires</td><td>gabriela@meu_email.com</td><td>9 1214-1539</td><td>Brasil</td><td>Rio de Janeiro</td><td>Rua 32 do Estado Rio de Janeiro</td><td>838.0</td><td>Apto 29</td></tr><tr><td>56</td><td>2017-12-01T22:40:40.000Z</td><td>Cristiano</td><td>Fagundes</td><td>cristiano@usuario.com</td><td>9 7680-6400</td><td>Brasil</td><td>Piauí</td><td>Avenida 20 do Estado Piauí</td><td>236.0</td><td>Apto 30</td></tr><tr><td>57</td><td>2018-08-23T03:31:05.000Z</td><td>Stephanie</td><td>Barboza</td><td>stephanie@meu_email.com</td><td>9 1168-6722</td><td>Brasil</td><td>Maranhão</td><td>Avenida 25 do Estado Maranhão</td><td>795.0</td><td>null</td></tr><tr><td>58</td><td>2018-09-13T03:13:02.000Z</td><td>Rafael</td><td>Rodrigues</td><td>rafael@meu_email.com</td><td>9 6550-3557</td><td>Brasil</td><td>Bahia</td><td>Praça 94 do Estado Bahia</td><td>647.0</td><td>Apto 25</td></tr><tr><td>59</td><td>2017-12-03T16:24:32.000Z</td><td>Stephanie</td><td>Freire</td><td>stephanie@usuario.com</td><td>9 3256-1853</td><td>Brasil</td><td>São Paulo</td><td>Rua 52 do Estado São Paulo</td><td>34.0</td><td>Apto 24</td></tr><tr><td>60</td><td>2018-06-26T18:47:12.000Z</td><td>Carol</td><td>Bueno</td><td>carol@usuario.com</td><td>9 9814-4736</td><td>Brasil</td><td>Santa Catarina</td><td>Rua 10 do Estado Santa Catarina</td><td>47.0</td><td>Conjunto 12</td></tr><tr><td>61</td><td>2018-04-30T18:36:56.000Z</td><td>Francisco</td><td>Abreu</td><td>francisco@exemplo.com</td><td>9 6754-1775</td><td>Brasil</td><td>Amapá</td><td>Rua 72 do Estado Amapá</td><td>50.0</td><td>Apto 12</td></tr><tr><td>62</td><td>2018-01-21T13:56:16.000Z</td><td>Carol</td><td>Anjos</td><td>carol@usuario.com</td><td>9 2123-9306</td><td>Brasil</td><td>Pernambuco</td><td>Praça 12 do Estado Pernambuco</td><td>928.0</td><td>Conjunto 26</td></tr><tr><td>63</td><td>2018-05-05T17:52:26.000Z</td><td>Caíque</td><td>Batista</td><td>caíque@teste.com</td><td>9 8818-5886</td><td>Brasil</td><td>Ceará</td><td>Rua 76 do Estado Ceará</td><td>239.0</td><td>Apto 19</td></tr><tr><td>64</td><td>2018-10-30T15:47:32.000Z</td><td>Luan</td><td>Ramos</td><td>luan@exemplo.com</td><td>9 6843-3876</td><td>Brasil</td><td>Pernambuco</td><td>Rua 63 do Estado Pernambuco</td><td>345.0</td><td>Conjunto 10</td></tr><tr><td>65</td><td>2018-02-06T05:56:36.000Z</td><td>Willian</td><td>Freitas</td><td>null</td><td>9 3043-7382</td><td>Brasil</td><td>Rio de Janeiro</td><td>Rua 91 do Estado Rio de Janeiro</td><td>96.0</td><td>Apto 7</td></tr><tr><td>66</td><td>2018-10-18T04:31:59.000Z</td><td>Stephanie</td><td>Abreu</td><td>stephanie@meu_email.com</td><td>9 6466-2389</td><td>Brasil</td><td>Mato Grosso</td><td>Rua 19 do Estado Mato Grosso</td><td>53.0</td><td>Conjunto 13</td></tr><tr><td>67</td><td>2018-08-31T18:22:52.000Z</td><td>Laura</td><td>Pires</td><td>laura@meu_email.com</td><td>9 8144-6047</td><td>Brasil</td><td>Mato Grosso do Sul</td><td>Praça 23 do Estado Mato Grosso do Sul</td><td>47.0</td><td>Apto 7</td></tr><tr><td>68</td><td>2018-11-14T11:04:35.000Z</td><td>José</td><td>Pires</td><td>josé@usuario.com</td><td>9 8189-2149</td><td>Brasil</td><td>Ceará</td><td>Avenida 99 do Estado Ceará</td><td>231.0</td><td>null</td></tr><tr><td>69</td><td>2018-02-20T19:16:26.000Z</td><td>Gustavo</td><td>Cardoso</td><td>gustavo@teste.com</td><td>9 7594-9211</td><td>Brasil</td><td>Amazonas</td><td>Praça 52 do Estado Amazonas</td><td>698.0</td><td>null</td></tr><tr><td>70</td><td>2017-10-22T12:49:39.000Z</td><td>Diego</td><td>Barboza</td><td>null</td><td>9 4849-7409</td><td>Brasil</td><td>Mato Grosso do Sul</td><td>Avenida 3 do Estado Mato Grosso do Sul</td><td>250.0</td><td>null</td></tr><tr><td>71</td><td>2017-12-12T16:16:52.000Z</td><td>Gerson</td><td>Barroso</td><td>gerson@exemplo.com</td><td>9 5719-4227</td><td>Brasil</td><td>Pernambuco</td><td>null</td><td>null</td><td>Apto 2</td></tr><tr><td>72</td><td>2018-01-29T03:19:24.000Z</td><td>Neymar</td><td>Elísio</td><td>neymar@teste.com</td><td>9 5373-1785</td><td>Brasil</td><td>Rio Grande do Sul</td><td>Rua 49 do Estado Rio Grande do Sul</td><td>929.0</td><td>null</td></tr><tr><td>73</td><td>2018-02-03T07:37:38.000Z</td><td>Cristiano</td><td>Almeida</td><td>cristiano@usuario.com</td><td>9 2630-9907</td><td>Brasil</td><td>null</td><td>null</td><td>null</td><td>Conjunto 24</td></tr><tr><td>74</td><td>2018-04-22T05:00:28.000Z</td><td>Júlia</td><td>Almeida</td><td>júlia@meu_email.com</td><td>9 9208-5213</td><td>Brasil</td><td>Maranhão</td><td>Praça 25 do Estado Maranhão</td><td>953.0</td><td>Conjunto 4</td></tr><tr><td>75</td><td>2018-06-21T14:28:03.000Z</td><td>Marta</td><td>Abreu</td><td>null</td><td>9 9024-3467</td><td>Brasil</td><td>Roraima</td><td>Avenida 67 do Estado Roraima</td><td>410.0</td><td>Conjunto 23</td></tr><tr><td>76</td><td>2018-04-16T04:53:31.000Z</td><td>Romário</td><td>Rosa</td><td>romário@meu_email.com</td><td>9 8710-8305</td><td>Brasil</td><td>Rio Grande do Sul</td><td>Praça 75 do Estado Rio Grande do Sul</td><td>110.0</td><td>Conjunto 10</td></tr><tr><td>77</td><td>2018-11-30T10:29:55.000Z</td><td>Ana</td><td>Monteiro</td><td>ana@teste.com</td><td>9 3871-4132</td><td>Brasil</td><td>Bahia</td><td>Praça 86 do Estado Bahia</td><td>604.0</td><td>Apto 30</td></tr><tr><td>78</td><td>2017-11-02T22:13:22.000Z</td><td>Laura</td><td>Queiroz</td><td>laura@exemplo.com</td><td>9 6338-8617</td><td>Brasil</td><td>São Paulo</td><td>Praça 19 do Estado São Paulo</td><td>878.0</td><td>Conjunto 3</td></tr><tr><td>79</td><td>2017-12-13T08:41:05.000Z</td><td>Hélen</td><td>Souza</td><td>hélen@teste.com</td><td>9 9974-1066</td><td>Brasil</td><td>Paraná</td><td>Avenida 20 do Estado Paraná</td><td>661.0</td><td>Conjunto 13</td></tr><tr><td>80</td><td>2018-10-10T00:06:32.000Z</td><td>Daniela</td><td>Góes</td><td>daniela@usuario.com</td><td>9 5394-6677</td><td>Brasil</td><td>Alagoas</td><td>Praça 22 do Estado Alagoas</td><td>235.0</td><td>null</td></tr><tr><td>81</td><td>2018-01-13T10:35:01.000Z</td><td>Alice</td><td>Ferreira</td><td>alice@teste.com</td><td>9 9005-2493</td><td>Brasil</td><td>Minas Gerais</td><td>Praça 53 do Estado Minas Gerais</td><td>83.0</td><td>null</td></tr><tr><td>82</td><td>2018-11-04T18:02:42.000Z</td><td>Heitor</td><td>Rocha</td><td>heitor@teste.com</td><td>9 3236-7429</td><td>Brasil</td><td>Espírito Santo</td><td>Praça 82 do Estado Espírito Santo</td><td>14.0</td><td>null</td></tr><tr><td>83</td><td>2018-01-05T00:15:03.000Z</td><td>Frida</td><td>Freire</td><td>null</td><td>9 4760-1383</td><td>Brasil</td><td>Alagoas</td><td>Rua 25 do Estado Alagoas</td><td>679.0</td><td>Conjunto 9</td></tr><tr><td>84</td><td>2018-11-01T15:39:40.000Z</td><td>Carol</td><td>Bueno</td><td>carol@meu_email.com</td><td>9 3760-2211</td><td>Brasil</td><td>null</td><td>null</td><td>null</td><td>Conjunto 26</td></tr><tr><td>85</td><td>2017-11-24T12:44:36.000Z</td><td>Eduardo</td><td>Teixeira</td><td>null</td><td>9 2537-7930</td><td>Brasil</td><td>Rio Grande do Norte</td><td>null</td><td>null</td><td>null</td></tr><tr><td>86</td><td>2018-03-12T09:30:24.000Z</td><td>Adalberto</td><td>Oliveira</td><td>adalberto@teste.com</td><td>9 3081-3441</td><td>Brasil</td><td>Roraima</td><td>Rua 40 do Estado Roraima</td><td>401.0</td><td>Conjunto 17</td></tr><tr><td>87</td><td>2018-08-16T20:25:23.000Z</td><td>Beatriz</td><td>Abreu</td><td>beatriz@usuario.com</td><td>9 2254-6798</td><td>Brasil</td><td>Acre</td><td>Rua 95 do Estado Acre</td><td>482.0</td><td>Conjunto 16</td></tr><tr><td>88</td><td>2017-10-12T15:17:05.000Z</td><td>Rafael</td><td>Batista</td><td>rafael@usuario.com</td><td>9 8656-5668</td><td>Brasil</td><td>Ceará</td><td>Rua 78 do Estado Ceará</td><td>787.0</td><td>Apto 3</td></tr><tr><td>89</td><td>2017-12-07T19:24:54.000Z</td><td>Daniela</td><td>Pires</td><td>daniela@usuario.com</td><td>9 6666-2265</td><td>Brasil</td><td>Bahia</td><td>Rua 31 do Estado Bahia</td><td>441.0</td><td>null</td></tr><tr><td>90</td><td>2017-12-16T22:14:58.000Z</td><td>Stephanie</td><td>Rosa</td><td>null</td><td>9 3040-4414</td><td>Brasil</td><td>Rio Grande do Norte</td><td>null</td><td>null</td><td>null</td></tr><tr><td>91</td><td>2018-09-12T22:12:05.000Z</td><td>Daniel</td><td>Costa</td><td>daniel@teste.com</td><td>9 4761-6557</td><td>Brasil</td><td>Rio Grande do Norte</td><td>Praça 25 do Estado Rio Grande do Norte</td><td>281.0</td><td>Apto 8</td></tr><tr><td>92</td><td>2017-10-16T16:29:15.000Z</td><td>Beatriz</td><td>Bueno</td><td>beatriz@teste.com</td><td>9 4435-2960</td><td>Brasil</td><td>Acre</td><td>Rua 71 do Estado Acre</td><td>978.0</td><td>Apto 24</td></tr><tr><td>93</td><td>2018-11-02T08:43:47.000Z</td><td>Ronaldo</td><td>Galo</td><td>ronaldo@meu_email.com</td><td>9 8821-9577</td><td>Brasil</td><td>Pernambuco</td><td>Avenida 8 do Estado Pernambuco</td><td>758.0</td><td>Apto 2</td></tr><tr><td>94</td><td>2018-10-29T11:39:58.000Z</td><td>Cristiano</td><td>Pereira</td><td>cristiano@meu_email.com</td><td>9 4404-8717</td><td>Brasil</td><td>Piauí</td><td>Praça 100 do Estado Piauí</td><td>809.0</td><td>null</td></tr><tr><td>95</td><td>2018-10-01T11:35:59.000Z</td><td>Mariana</td><td>Rosa</td><td>mariana@usuario.com</td><td>9 3139-2145</td><td>Brasil</td><td>null</td><td>null</td><td>null</td><td>null</td></tr><tr><td>96</td><td>2018-01-23T19:14:21.000Z</td><td>Paulo</td><td>Câmara</td><td>paulo@usuario.com</td><td>9 4785-1135</td><td>Brasil</td><td>Sergipe</td><td>Praça 73 do Estado Sergipe</td><td>219.0</td><td>Apto 6</td></tr><tr><td>97</td><td>2018-07-04T18:45:41.000Z</td><td>Marta</td><td>Góes</td><td>marta@teste.com</td><td>9 4102-4352</td><td>Brasil</td><td>Paraná</td><td>Rua 61 do Estado Paraná</td><td>402.0</td><td>Apto 24</td></tr><tr><td>98</td><td>2018-01-24T16:21:06.000Z</td><td>Cibele</td><td>Costa</td><td>cibele@meu_email.com</td><td>9 4211-6968</td><td>Brasil</td><td>Mato Grosso</td><td>Praça 75 do Estado Mato Grosso</td><td>24.0</td><td>null</td></tr><tr><td>99</td><td>2018-07-24T08:26:27.000Z</td><td>Jéssica</td><td>Jesus</td><td>jéssica@usuario.com</td><td>9 6100-1466</td><td>Brasil</td><td>Paraná</td><td>Avenida 19 do Estado Paraná</td><td>738.0</td><td>Conjunto 22</td></tr></tbody></table></div>"
      ]
     },
     "metadata": {
      "application/vnd.databricks.v1+output": {
       "addedWidgets": {},
       "aggData": [],
       "aggError": "",
       "aggOverflow": false,
       "aggSchema": [],
       "aggSeriesLimitReached": false,
       "aggType": "",
       "arguments": {},
       "columnCustomDisplayInfos": {},
       "data": [
        [
         0,
         "2017-11-01T14:45:41.000Z",
         "Marta",
         "Jesus",
         null,
         "9 9102-7834",
         "Brasil",
         "Acre",
         null,
         null,
         "Conjunto 16"
        ],
        [
         1,
         "2017-10-16T00:50:39.000Z",
         "Luana",
         "Almeida",
         null,
         "9 7328-8718",
         "Brasil",
         "Rio Grande do Sul",
         "Avenida 56 do Estado Rio Grande do Sul",
         989.0,
         "Conjunto 17"
        ],
        [
         2,
         "2018-06-16T17:51:29.000Z",
         "Frida",
         "Mendes",
         "frida@meu_email.com",
         "9 5906-7552",
         "Brasil",
         "São Paulo",
         "Avenida 59 do Estado São Paulo",
         534.0,
         null
        ],
        [
         3,
         "2018-01-17T03:02:58.000Z",
         "Daniela",
         "Avelino",
         "daniela@exemplo.com",
         "9 4642-9486",
         "Brasil",
         "Mato Grosso",
         null,
         null,
         null
        ],
        [
         4,
         "2018-08-06T07:24:16.000Z",
         "Romário",
         "Teixeira",
         null,
         "9 3093-6522",
         "Brasil",
         "Bahia",
         "Praça 56 do Estado Bahia",
         191.0,
         "Apto 12"
        ],
        [
         5,
         "2018-01-05T17:20:49.000Z",
         "Marcelo",
         "Barroso",
         null,
         "9 2830-2088",
         "Brasil",
         "Rio Grande do Sul",
         "Rua 28 do Estado Rio Grande do Sul",
         805.0,
         "Conjunto 13"
        ],
        [
         6,
         "2018-06-18T11:17:42.000Z",
         "Cristiano",
         "Elísio",
         "cristiano@exemplo.com",
         "9 3532-8404",
         "Brasil",
         "Goiás",
         "Rua 78 do Estado Goiás",
         877.0,
         "Apto 14"
        ],
        [
         7,
         "2018-02-08T12:36:09.000Z",
         "Everton",
         "Barbosa",
         "everton@meu_email.com",
         "9 2553-4087",
         "Brasil",
         "Distrito Federal",
         "Avenida 86 do Estado Distrito Federal",
         864.0,
         "Apto 14"
        ],
        [
         8,
         "2017-12-16T20:47:03.000Z",
         "Gabriela",
         "Alves",
         "gabriela@exemplo.com",
         "9 1353-8433",
         "Brasil",
         "Santa Catarina",
         null,
         null,
         null
        ],
        [
         9,
         "2018-11-11T11:48:41.000Z",
         "Luan",
         "Dias",
         "luan@exemplo.com",
         "9 2417-3678",
         "Brasil",
         "Distrito Federal",
         "Avenida 54 do Estado Distrito Federal",
         889.0,
         "Conjunto 14"
        ],
        [
         10,
         "2017-12-16T15:41:00.000Z",
         "Mariana",
         "Alves",
         "mariana@meu_email.com",
         "9 1846-6377",
         "Brasil",
         "Santa Catarina",
         null,
         null,
         null
        ],
        [
         11,
         "2018-05-16T03:39:52.000Z",
         "James",
         "Albuquerque",
         null,
         "9 2430-5905",
         "Brasil",
         "Sergipe",
         "Rua 30 do Estado Sergipe",
         229.0,
         null
        ],
        [
         12,
         "2018-03-28T00:24:00.000Z",
         "Carol",
         "Barboza",
         "carol@exemplo.com",
         "9 8487-3501",
         "Brasil",
         "Mato Grosso",
         "Rua 31 do Estado Mato Grosso",
         1.0,
         "Conjunto 23"
        ],
        [
         13,
         "2018-08-27T21:15:17.000Z",
         "Carolina",
         "Monteiro",
         "carolina@teste.com",
         "9 1226-4267",
         "Brasil",
         "Rio Grande do Sul",
         "Rua 4 do Estado Rio Grande do Sul",
         444.0,
         "Apto 21"
        ],
        [
         14,
         "2017-11-12T03:02:41.000Z",
         "Francisco",
         "Nascimento",
         "francisco@exemplo.com",
         "9 7264-9020",
         "Brasil",
         "Distrito Federal",
         "Rua 75 do Estado Distrito Federal",
         47.0,
         null
        ],
        [
         15,
         "2018-11-15T18:00:53.000Z",
         "Stephanie",
         "Barbosa",
         "stephanie@usuario.com",
         "9 1446-3560",
         "Brasil",
         "Mato Grosso",
         null,
         null,
         "Conjunto 4"
        ],
        [
         16,
         "2017-12-12T21:29:54.000Z",
         "Laura",
         "Santos",
         "laura@exemplo.com",
         "9 7802-6152",
         "Brasil",
         "Maranhão",
         "Rua 57 do Estado Maranhão",
         213.0,
         null
        ],
        [
         17,
         "2017-10-19T20:18:14.000Z",
         "João",
         "Magalhães",
         "joão@exemplo.com",
         "9 5995-1272",
         "Brasil",
         "Pernambuco",
         "Rua 20 do Estado Pernambuco",
         781.0,
         "Apto 17"
        ],
        [
         18,
         "2018-06-28T04:53:52.000Z",
         "Jair",
         "Magalhães",
         "jair@exemplo.com",
         "9 8368-1315",
         "Brasil",
         "Alagoas",
         "Avenida 74 do Estado Alagoas",
         118.0,
         "Conjunto 8"
        ],
        [
         19,
         "2018-10-20T19:31:52.000Z",
         "Caíque",
         "Monteiro",
         "caíque@exemplo.com",
         "9 9793-9986",
         "Brasil",
         "Piauí",
         null,
         null,
         "Conjunto 13"
        ],
        [
         20,
         "2017-12-22T10:51:28.000Z",
         "Adalberto",
         "Silva",
         "adalberto@usuario.com",
         "9 1338-1447",
         "Brasil",
         "São Paulo",
         "Rua 57 do Estado São Paulo",
         851.0,
         "Conjunto 20"
        ],
        [
         21,
         "2018-02-21T15:35:55.000Z",
         "Diego",
         "Freire",
         "diego@teste.com",
         "9 6686-4094",
         "Brasil",
         "Bahia",
         "Praça 4 do Estado Bahia",
         906.0,
         "Apto 20"
        ],
        [
         22,
         "2018-04-18T22:43:29.000Z",
         "Heitor",
         "Pereira",
         null,
         "9 4839-8118",
         "Brasil",
         "Maranhão",
         "Avenida 84 do Estado Maranhão",
         948.0,
         null
        ],
        [
         23,
         "2017-10-26T00:35:22.000Z",
         "Maria",
         "Pires",
         null,
         "9 8229-1067",
         "Brasil",
         "Amazonas",
         "Avenida 80 do Estado Amazonas",
         581.0,
         null
        ],
        [
         24,
         "2018-07-25T09:34:12.000Z",
         "Jair",
         "Barroso",
         "jair@teste.com",
         "9 6679-6120",
         "Brasil",
         "Ceará",
         "Rua 86 do Estado Ceará",
         770.0,
         "Apto 21"
        ],
        [
         25,
         "2018-08-07T12:22:40.000Z",
         "Alice",
         "Veloso",
         "alice@exemplo.com",
         "9 9869-3706",
         "Brasil",
         "Minas Gerais",
         "Praça 73 do Estado Minas Gerais",
         571.0,
         null
        ],
        [
         26,
         "2018-12-12T11:56:14.000Z",
         "Eloá",
         "da Silva",
         "eloá@usuario.com",
         "9 3982-5948",
         "Brasil",
         "Espírito Santo",
         "Avenida 98 do Estado Espírito Santo",
         706.0,
         null
        ],
        [
         27,
         "2018-11-08T11:12:47.000Z",
         "Luan",
         "Lima",
         "luan@teste.com",
         "9 2529-8197",
         "Brasil",
         "Acre",
         "Praça 86 do Estado Acre",
         303.0,
         "Apto 27"
        ],
        [
         28,
         "2017-11-26T05:17:39.000Z",
         "Beatriz",
         "Araújo",
         "beatriz@usuario.com",
         "9 4543-3853",
         "Brasil",
         "Minas Gerais",
         "Praça 7 do Estado Minas Gerais",
         536.0,
         "Conjunto 5"
        ],
        [
         29,
         "2018-06-03T17:08:52.000Z",
         "Geisa",
         "Santos",
         "geisa@meu_email.com",
         "9 4653-9739",
         "Brasil",
         "Rio Grande do Norte",
         "Avenida 77 do Estado Rio Grande do Norte",
         486.0,
         "Conjunto 13"
        ],
        [
         30,
         "2018-06-08T07:49:50.000Z",
         "Gabriel",
         "Teixeira",
         "gabriel@exemplo.com",
         "9 7419-5325",
         "Brasil",
         "Rio Grande do Sul",
         "Avenida 7 do Estado Rio Grande do Sul",
         94.0,
         null
        ],
        [
         31,
         "2018-07-02T22:04:08.000Z",
         "Geisa",
         "Freitas",
         "geisa@exemplo.com",
         "9 6772-5310",
         "Brasil",
         "Mato Grosso do Sul",
         "Rua 18 do Estado Mato Grosso do Sul",
         128.0,
         null
        ],
        [
         32,
         "2018-07-22T11:59:27.000Z",
         "Ana",
         "Campos",
         "ana@teste.com",
         "9 1932-9841",
         "Brasil",
         "Bahia",
         "Avenida 52 do Estado Bahia",
         402.0,
         null
        ],
        [
         33,
         "2017-12-28T12:51:34.000Z",
         "João",
         "da Silva",
         "joão@usuario.com",
         "9 2813-8103",
         "Brasil",
         "Paraná",
         "Avenida 27 do Estado Paraná",
         240.0,
         "Apto 6"
        ],
        [
         34,
         "2018-10-05T01:14:05.000Z",
         "José",
         "Campos",
         "josé@teste.com",
         "9 7552-4340",
         "Brasil",
         "Goiás",
         "Praça 25 do Estado Goiás",
         884.0,
         "Apto 7"
        ],
        [
         35,
         "2018-04-19T10:10:22.000Z",
         "Adalberto",
         "Dias",
         "adalberto@usuario.com",
         "9 8395-7004",
         "Brasil",
         "Espírito Santo",
         "Rua 37 do Estado Espírito Santo",
         383.0,
         "Apto 13"
        ],
        [
         36,
         "2018-01-26T03:29:13.000Z",
         "Mariana",
         "Góes",
         "mariana@meu_email.com",
         "9 7324-4293",
         "Brasil",
         null,
         null,
         null,
         "Apto 25"
        ],
        [
         37,
         "2018-03-02T22:27:03.000Z",
         "Daniela",
         "Monteiro",
         "daniela@meu_email.com",
         "9 4704-5844",
         "Brasil",
         "Goiás",
         "Rua 43 do Estado Goiás",
         116.0,
         "Apto 28"
        ],
        [
         38,
         "2018-09-01T09:33:57.000Z",
         "Marcelo",
         "Mendes",
         null,
         "9 6773-1560",
         "Brasil",
         "Espírito Santo",
         "Avenida 64 do Estado Espírito Santo",
         213.0,
         null
        ],
        [
         39,
         "2017-11-15T07:17:25.000Z",
         "Caio",
         "Batista",
         "caio@usuario.com",
         "9 4761-6542",
         "Brasil",
         "Maranhão",
         "Avenida 87 do Estado Maranhão",
         656.0,
         "Apto 25"
        ],
        [
         40,
         "2018-08-17T13:21:08.000Z",
         "Gabriela",
         "Nascimento",
         "gabriela@teste.com",
         "9 5382-5772",
         "Brasil",
         "Amapá",
         "Avenida 85 do Estado Amapá",
         476.0,
         null
        ],
        [
         41,
         "2018-11-30T17:44:09.000Z",
         "Maria",
         "Morais",
         "maria@usuario.com",
         "9 1519-4181",
         "Brasil",
         "Pernambuco",
         "Avenida 69 do Estado Pernambuco",
         633.0,
         null
        ],
        [
         42,
         "2018-04-09T19:12:23.000Z",
         "João",
         "Almeida",
         "joão@usuario.com",
         "9 4650-1753",
         "Brasil",
         "Goiás",
         "Praça 3 do Estado Goiás",
         986.0,
         "Apto 9"
        ],
        [
         43,
         "2018-01-07T07:54:22.000Z",
         "Daniela",
         "Lima",
         null,
         "9 1763-2584",
         "Brasil",
         "Rio de Janeiro",
         null,
         null,
         "Apto 20"
        ],
        [
         44,
         "2018-04-08T07:18:45.000Z",
         "Júlia",
         "Costa",
         "júlia@usuario.com",
         "9 5446-9508",
         "Brasil",
         "Rio Grande do Norte",
         "Avenida 46 do Estado Rio Grande do Norte",
         277.0,
         "Conjunto 14"
        ],
        [
         45,
         "2018-05-10T23:09:25.000Z",
         "Gerson",
         "Anjos",
         "gerson@meu_email.com",
         "9 1590-8972",
         "Brasil",
         "Mato Grosso do Sul",
         "Avenida 35 do Estado Mato Grosso do Sul",
         229.0,
         "Apto 29"
        ],
        [
         46,
         "2018-07-19T08:33:32.000Z",
         "Rafael",
         "Freire",
         "rafael@exemplo.com",
         "9 8703-1006",
         "Brasil",
         "Maranhão",
         "Praça 97 do Estado Maranhão",
         138.0,
         null
        ],
        [
         47,
         "2018-09-01T23:00:40.000Z",
         "Júlia",
         "Castro",
         "júlia@exemplo.com",
         "9 7096-1780",
         "Brasil",
         "Rio de Janeiro",
         "Rua 39 do Estado Rio de Janeiro",
         983.0,
         "Conjunto 7"
        ],
        [
         48,
         "2018-05-29T04:22:54.000Z",
         "Clarissa",
         "Albuquerque",
         "clarissa@exemplo.com",
         "9 7403-4273",
         "Brasil",
         "Ceará",
         null,
         null,
         "Apto 12"
        ],
        [
         49,
         "2018-11-01T02:13:51.000Z",
         "Júlia",
         "Sousa",
         "júlia@exemplo.com",
         "9 2094-8467",
         "Brasil",
         "Rondônia",
         "Rua 12 do Estado Rondônia",
         260.0,
         "Apto 27"
        ],
        [
         50,
         "2018-08-24T07:52:23.000Z",
         "Beatriz",
         "Monteiro",
         "beatriz@teste.com",
         "9 3570-4464",
         "Brasil",
         "Minas Gerais",
         "Avenida 17 do Estado Minas Gerais",
         223.0,
         "Conjunto 22"
        ],
        [
         51,
         "2017-12-26T15:38:15.000Z",
         "Caio",
         "Mendes",
         "caio@teste.com",
         "9 6437-5008",
         "Brasil",
         "Pernambuco",
         "Rua 34 do Estado Pernambuco",
         931.0,
         null
        ],
        [
         52,
         "2017-12-04T17:42:34.000Z",
         "Bruno",
         "Anjos",
         "bruno@teste.com",
         "9 3004-3740",
         "Brasil",
         "Goiás",
         "Rua 53 do Estado Goiás",
         825.0,
         null
        ],
        [
         53,
         "2018-03-25T14:26:49.000Z",
         "Daniela",
         "Mendes",
         "daniela@teste.com",
         "9 3797-3399",
         "Brasil",
         "Pernambuco",
         "Rua 71 do Estado Pernambuco",
         760.0,
         "Apto 14"
        ],
        [
         54,
         "2018-01-25T02:11:25.000Z",
         "Diego",
         "Teixeira",
         "diego@exemplo.com",
         "9 5247-1737",
         "Brasil",
         "Pará",
         "Rua 8 do Estado Pará",
         722.0,
         "Conjunto 16"
        ],
        [
         55,
         "2018-07-10T18:40:07.000Z",
         "Gabriela",
         "Pires",
         "gabriela@meu_email.com",
         "9 1214-1539",
         "Brasil",
         "Rio de Janeiro",
         "Rua 32 do Estado Rio de Janeiro",
         838.0,
         "Apto 29"
        ],
        [
         56,
         "2017-12-01T22:40:40.000Z",
         "Cristiano",
         "Fagundes",
         "cristiano@usuario.com",
         "9 7680-6400",
         "Brasil",
         "Piauí",
         "Avenida 20 do Estado Piauí",
         236.0,
         "Apto 30"
        ],
        [
         57,
         "2018-08-23T03:31:05.000Z",
         "Stephanie",
         "Barboza",
         "stephanie@meu_email.com",
         "9 1168-6722",
         "Brasil",
         "Maranhão",
         "Avenida 25 do Estado Maranhão",
         795.0,
         null
        ],
        [
         58,
         "2018-09-13T03:13:02.000Z",
         "Rafael",
         "Rodrigues",
         "rafael@meu_email.com",
         "9 6550-3557",
         "Brasil",
         "Bahia",
         "Praça 94 do Estado Bahia",
         647.0,
         "Apto 25"
        ],
        [
         59,
         "2017-12-03T16:24:32.000Z",
         "Stephanie",
         "Freire",
         "stephanie@usuario.com",
         "9 3256-1853",
         "Brasil",
         "São Paulo",
         "Rua 52 do Estado São Paulo",
         34.0,
         "Apto 24"
        ],
        [
         60,
         "2018-06-26T18:47:12.000Z",
         "Carol",
         "Bueno",
         "carol@usuario.com",
         "9 9814-4736",
         "Brasil",
         "Santa Catarina",
         "Rua 10 do Estado Santa Catarina",
         47.0,
         "Conjunto 12"
        ],
        [
         61,
         "2018-04-30T18:36:56.000Z",
         "Francisco",
         "Abreu",
         "francisco@exemplo.com",
         "9 6754-1775",
         "Brasil",
         "Amapá",
         "Rua 72 do Estado Amapá",
         50.0,
         "Apto 12"
        ],
        [
         62,
         "2018-01-21T13:56:16.000Z",
         "Carol",
         "Anjos",
         "carol@usuario.com",
         "9 2123-9306",
         "Brasil",
         "Pernambuco",
         "Praça 12 do Estado Pernambuco",
         928.0,
         "Conjunto 26"
        ],
        [
         63,
         "2018-05-05T17:52:26.000Z",
         "Caíque",
         "Batista",
         "caíque@teste.com",
         "9 8818-5886",
         "Brasil",
         "Ceará",
         "Rua 76 do Estado Ceará",
         239.0,
         "Apto 19"
        ],
        [
         64,
         "2018-10-30T15:47:32.000Z",
         "Luan",
         "Ramos",
         "luan@exemplo.com",
         "9 6843-3876",
         "Brasil",
         "Pernambuco",
         "Rua 63 do Estado Pernambuco",
         345.0,
         "Conjunto 10"
        ],
        [
         65,
         "2018-02-06T05:56:36.000Z",
         "Willian",
         "Freitas",
         null,
         "9 3043-7382",
         "Brasil",
         "Rio de Janeiro",
         "Rua 91 do Estado Rio de Janeiro",
         96.0,
         "Apto 7"
        ],
        [
         66,
         "2018-10-18T04:31:59.000Z",
         "Stephanie",
         "Abreu",
         "stephanie@meu_email.com",
         "9 6466-2389",
         "Brasil",
         "Mato Grosso",
         "Rua 19 do Estado Mato Grosso",
         53.0,
         "Conjunto 13"
        ],
        [
         67,
         "2018-08-31T18:22:52.000Z",
         "Laura",
         "Pires",
         "laura@meu_email.com",
         "9 8144-6047",
         "Brasil",
         "Mato Grosso do Sul",
         "Praça 23 do Estado Mato Grosso do Sul",
         47.0,
         "Apto 7"
        ],
        [
         68,
         "2018-11-14T11:04:35.000Z",
         "José",
         "Pires",
         "josé@usuario.com",
         "9 8189-2149",
         "Brasil",
         "Ceará",
         "Avenida 99 do Estado Ceará",
         231.0,
         null
        ],
        [
         69,
         "2018-02-20T19:16:26.000Z",
         "Gustavo",
         "Cardoso",
         "gustavo@teste.com",
         "9 7594-9211",
         "Brasil",
         "Amazonas",
         "Praça 52 do Estado Amazonas",
         698.0,
         null
        ],
        [
         70,
         "2017-10-22T12:49:39.000Z",
         "Diego",
         "Barboza",
         null,
         "9 4849-7409",
         "Brasil",
         "Mato Grosso do Sul",
         "Avenida 3 do Estado Mato Grosso do Sul",
         250.0,
         null
        ],
        [
         71,
         "2017-12-12T16:16:52.000Z",
         "Gerson",
         "Barroso",
         "gerson@exemplo.com",
         "9 5719-4227",
         "Brasil",
         "Pernambuco",
         null,
         null,
         "Apto 2"
        ],
        [
         72,
         "2018-01-29T03:19:24.000Z",
         "Neymar",
         "Elísio",
         "neymar@teste.com",
         "9 5373-1785",
         "Brasil",
         "Rio Grande do Sul",
         "Rua 49 do Estado Rio Grande do Sul",
         929.0,
         null
        ],
        [
         73,
         "2018-02-03T07:37:38.000Z",
         "Cristiano",
         "Almeida",
         "cristiano@usuario.com",
         "9 2630-9907",
         "Brasil",
         null,
         null,
         null,
         "Conjunto 24"
        ],
        [
         74,
         "2018-04-22T05:00:28.000Z",
         "Júlia",
         "Almeida",
         "júlia@meu_email.com",
         "9 9208-5213",
         "Brasil",
         "Maranhão",
         "Praça 25 do Estado Maranhão",
         953.0,
         "Conjunto 4"
        ],
        [
         75,
         "2018-06-21T14:28:03.000Z",
         "Marta",
         "Abreu",
         null,
         "9 9024-3467",
         "Brasil",
         "Roraima",
         "Avenida 67 do Estado Roraima",
         410.0,
         "Conjunto 23"
        ],
        [
         76,
         "2018-04-16T04:53:31.000Z",
         "Romário",
         "Rosa",
         "romário@meu_email.com",
         "9 8710-8305",
         "Brasil",
         "Rio Grande do Sul",
         "Praça 75 do Estado Rio Grande do Sul",
         110.0,
         "Conjunto 10"
        ],
        [
         77,
         "2018-11-30T10:29:55.000Z",
         "Ana",
         "Monteiro",
         "ana@teste.com",
         "9 3871-4132",
         "Brasil",
         "Bahia",
         "Praça 86 do Estado Bahia",
         604.0,
         "Apto 30"
        ],
        [
         78,
         "2017-11-02T22:13:22.000Z",
         "Laura",
         "Queiroz",
         "laura@exemplo.com",
         "9 6338-8617",
         "Brasil",
         "São Paulo",
         "Praça 19 do Estado São Paulo",
         878.0,
         "Conjunto 3"
        ],
        [
         79,
         "2017-12-13T08:41:05.000Z",
         "Hélen",
         "Souza",
         "hélen@teste.com",
         "9 9974-1066",
         "Brasil",
         "Paraná",
         "Avenida 20 do Estado Paraná",
         661.0,
         "Conjunto 13"
        ],
        [
         80,
         "2018-10-10T00:06:32.000Z",
         "Daniela",
         "Góes",
         "daniela@usuario.com",
         "9 5394-6677",
         "Brasil",
         "Alagoas",
         "Praça 22 do Estado Alagoas",
         235.0,
         null
        ],
        [
         81,
         "2018-01-13T10:35:01.000Z",
         "Alice",
         "Ferreira",
         "alice@teste.com",
         "9 9005-2493",
         "Brasil",
         "Minas Gerais",
         "Praça 53 do Estado Minas Gerais",
         83.0,
         null
        ],
        [
         82,
         "2018-11-04T18:02:42.000Z",
         "Heitor",
         "Rocha",
         "heitor@teste.com",
         "9 3236-7429",
         "Brasil",
         "Espírito Santo",
         "Praça 82 do Estado Espírito Santo",
         14.0,
         null
        ],
        [
         83,
         "2018-01-05T00:15:03.000Z",
         "Frida",
         "Freire",
         null,
         "9 4760-1383",
         "Brasil",
         "Alagoas",
         "Rua 25 do Estado Alagoas",
         679.0,
         "Conjunto 9"
        ],
        [
         84,
         "2018-11-01T15:39:40.000Z",
         "Carol",
         "Bueno",
         "carol@meu_email.com",
         "9 3760-2211",
         "Brasil",
         null,
         null,
         null,
         "Conjunto 26"
        ],
        [
         85,
         "2017-11-24T12:44:36.000Z",
         "Eduardo",
         "Teixeira",
         null,
         "9 2537-7930",
         "Brasil",
         "Rio Grande do Norte",
         null,
         null,
         null
        ],
        [
         86,
         "2018-03-12T09:30:24.000Z",
         "Adalberto",
         "Oliveira",
         "adalberto@teste.com",
         "9 3081-3441",
         "Brasil",
         "Roraima",
         "Rua 40 do Estado Roraima",
         401.0,
         "Conjunto 17"
        ],
        [
         87,
         "2018-08-16T20:25:23.000Z",
         "Beatriz",
         "Abreu",
         "beatriz@usuario.com",
         "9 2254-6798",
         "Brasil",
         "Acre",
         "Rua 95 do Estado Acre",
         482.0,
         "Conjunto 16"
        ],
        [
         88,
         "2017-10-12T15:17:05.000Z",
         "Rafael",
         "Batista",
         "rafael@usuario.com",
         "9 8656-5668",
         "Brasil",
         "Ceará",
         "Rua 78 do Estado Ceará",
         787.0,
         "Apto 3"
        ],
        [
         89,
         "2017-12-07T19:24:54.000Z",
         "Daniela",
         "Pires",
         "daniela@usuario.com",
         "9 6666-2265",
         "Brasil",
         "Bahia",
         "Rua 31 do Estado Bahia",
         441.0,
         null
        ],
        [
         90,
         "2017-12-16T22:14:58.000Z",
         "Stephanie",
         "Rosa",
         null,
         "9 3040-4414",
         "Brasil",
         "Rio Grande do Norte",
         null,
         null,
         null
        ],
        [
         91,
         "2018-09-12T22:12:05.000Z",
         "Daniel",
         "Costa",
         "daniel@teste.com",
         "9 4761-6557",
         "Brasil",
         "Rio Grande do Norte",
         "Praça 25 do Estado Rio Grande do Norte",
         281.0,
         "Apto 8"
        ],
        [
         92,
         "2017-10-16T16:29:15.000Z",
         "Beatriz",
         "Bueno",
         "beatriz@teste.com",
         "9 4435-2960",
         "Brasil",
         "Acre",
         "Rua 71 do Estado Acre",
         978.0,
         "Apto 24"
        ],
        [
         93,
         "2018-11-02T08:43:47.000Z",
         "Ronaldo",
         "Galo",
         "ronaldo@meu_email.com",
         "9 8821-9577",
         "Brasil",
         "Pernambuco",
         "Avenida 8 do Estado Pernambuco",
         758.0,
         "Apto 2"
        ],
        [
         94,
         "2018-10-29T11:39:58.000Z",
         "Cristiano",
         "Pereira",
         "cristiano@meu_email.com",
         "9 4404-8717",
         "Brasil",
         "Piauí",
         "Praça 100 do Estado Piauí",
         809.0,
         null
        ],
        [
         95,
         "2018-10-01T11:35:59.000Z",
         "Mariana",
         "Rosa",
         "mariana@usuario.com",
         "9 3139-2145",
         "Brasil",
         null,
         null,
         null,
         null
        ],
        [
         96,
         "2018-01-23T19:14:21.000Z",
         "Paulo",
         "Câmara",
         "paulo@usuario.com",
         "9 4785-1135",
         "Brasil",
         "Sergipe",
         "Praça 73 do Estado Sergipe",
         219.0,
         "Apto 6"
        ],
        [
         97,
         "2018-07-04T18:45:41.000Z",
         "Marta",
         "Góes",
         "marta@teste.com",
         "9 4102-4352",
         "Brasil",
         "Paraná",
         "Rua 61 do Estado Paraná",
         402.0,
         "Apto 24"
        ],
        [
         98,
         "2018-01-24T16:21:06.000Z",
         "Cibele",
         "Costa",
         "cibele@meu_email.com",
         "9 4211-6968",
         "Brasil",
         "Mato Grosso",
         "Praça 75 do Estado Mato Grosso",
         24.0,
         null
        ],
        [
         99,
         "2018-07-24T08:26:27.000Z",
         "Jéssica",
         "Jesus",
         "jéssica@usuario.com",
         "9 6100-1466",
         "Brasil",
         "Paraná",
         "Avenida 19 do Estado Paraná",
         738.0,
         "Conjunto 22"
        ]
       ],
       "datasetInfos": [],
       "dbfsResultPath": null,
       "isJsonSchema": true,
       "metadata": {},
       "overflow": false,
       "plotOptions": {
        "customPlotOptions": {},
        "displayType": "table",
        "pivotAggregation": null,
        "pivotColumns": null,
        "xColumns": null,
        "yColumns": null
       },
       "removedWidgets": [],
       "schema": [
        {
         "metadata": "{}",
         "name": "id",
         "type": "\"integer\""
        },
        {
         "metadata": "{}",
         "name": "created_at",
         "type": "\"timestamp\""
        },
        {
         "metadata": "{}",
         "name": "first_name",
         "type": "\"string\""
        },
        {
         "metadata": "{}",
         "name": "last_name",
         "type": "\"string\""
        },
        {
         "metadata": "{}",
         "name": "email",
         "type": "\"string\""
        },
        {
         "metadata": "{}",
         "name": "cell_phone",
         "type": "\"string\""
        },
        {
         "metadata": "{}",
         "name": "country",
         "type": "\"string\""
        },
        {
         "metadata": "{}",
         "name": "state",
         "type": "\"string\""
        },
        {
         "metadata": "{}",
         "name": "street",
         "type": "\"string\""
        },
        {
         "metadata": "{}",
         "name": "number",
         "type": "\"double\""
        },
        {
         "metadata": "{}",
         "name": "additionals",
         "type": "\"string\""
        }
       ],
       "type": "table"
      }
     },
     "output_type": "display_data"
    }
   ],
   "source": [
    "# Caminho do arquivo\n",
    "file_path = 'dbfs:/Volumes/workspace/default/arquivos-aula/arquivos_csv/Clientes.csv'\n",
    "\n",
    "# Leitura do arquivo CSV\n",
    "df_clientes = spark.read.format('csv') \\\n",
    "    .option('header', 'true') \\\n",
    "    .option('inferSchema', 'true')\\\n",
    "    .option('delimiter', ',') \\\n",
    "    .load(file_path)\n",
    "\n",
    "# Exibir o DataFrame\n",
    "display(df_clientes)"
   ]
  },
  {
   "cell_type": "markdown",
   "metadata": {
    "application/vnd.databricks.v1+cell": {
     "cellMetadata": {},
     "inputWidgets": {},
     "nuid": "c2fdc522-780a-4965-a107-7d5109e69e13",
     "showTitle": false,
     "tableResultSettingsMap": {},
     "title": ""
    }
   },
   "source": [
    "Salvando em tabela fisica"
   ]
  },
  {
   "cell_type": "code",
   "execution_count": 0,
   "metadata": {
    "application/vnd.databricks.v1+cell": {
     "cellMetadata": {
      "byteLimit": 2048000,
      "rowLimit": 10000
     },
     "inputWidgets": {},
     "nuid": "8b58a402-db95-4dac-95dc-93472ef56d88",
     "showTitle": false,
     "tableResultSettingsMap": {},
     "title": ""
    }
   },
   "outputs": [],
   "source": [
    "%python\n",
    "# Caminho do arquivo\n",
    "file_path = 'dbfs:/Volumes/workspace/default/arquivos-aula/arquivos_csv/Clientes.csv'\n",
    "\n",
    "# Leitura do arquivo CSV\n",
    "df_clientes = spark.read.format('csv') \\\n",
    "    .option('header', 'true') \\\n",
    "    .option('inferSchema', 'true') \\\n",
    "    .option('delimiter', ',') \\\n",
    "    .load(file_path)\n",
    "\n",
    "# Salvar o DataFrame como uma tabela física\n",
    "df_clientes.write.mode('overwrite').saveAsTable('clientes')\n",
    "\n"
   ]
  },
  {
   "cell_type": "code",
   "execution_count": 0,
   "metadata": {
    "application/vnd.databricks.v1+cell": {
     "cellMetadata": {
      "byteLimit": 2048000,
      "implicitDf": true,
      "rowLimit": 10000
     },
     "inputWidgets": {},
     "nuid": "b50de3ed-0b00-4d3c-af80-10422d3f234d",
     "showTitle": false,
     "tableResultSettingsMap": {},
     "title": ""
    }
   },
   "outputs": [
    {
     "output_type": "display_data",
     "data": {
      "text/html": [
       "<style scoped>\n",
       "  .table-result-container {\n",
       "    max-height: 300px;\n",
       "    overflow: auto;\n",
       "  }\n",
       "  table, th, td {\n",
       "    border: 1px solid black;\n",
       "    border-collapse: collapse;\n",
       "  }\n",
       "  th, td {\n",
       "    padding: 5px;\n",
       "  }\n",
       "  th {\n",
       "    text-align: left;\n",
       "  }\n",
       "</style><div class='table-result-container'><table class='table-result'><thead style='background-color: white'><tr><th>id</th><th>created_at</th><th>first_name</th><th>last_name</th><th>email</th><th>cell_phone</th><th>country</th><th>state</th><th>street</th><th>number</th><th>additionals</th></tr></thead><tbody><tr><td>0</td><td>2017-11-01T14:45:41.000Z</td><td>Marta</td><td>Jesus</td><td>null</td><td>9 9102-7834</td><td>Brasil</td><td>Acre</td><td>null</td><td>null</td><td>Conjunto 16</td></tr><tr><td>1</td><td>2017-10-16T00:50:39.000Z</td><td>Luana</td><td>Almeida</td><td>null</td><td>9 7328-8718</td><td>Brasil</td><td>Rio Grande do Sul</td><td>Avenida 56 do Estado Rio Grande do Sul</td><td>989.0</td><td>Conjunto 17</td></tr><tr><td>2</td><td>2018-06-16T17:51:29.000Z</td><td>Frida</td><td>Mendes</td><td>frida@meu_email.com</td><td>9 5906-7552</td><td>Brasil</td><td>São Paulo</td><td>Avenida 59 do Estado São Paulo</td><td>534.0</td><td>null</td></tr><tr><td>3</td><td>2018-01-17T03:02:58.000Z</td><td>Daniela</td><td>Avelino</td><td>daniela@exemplo.com</td><td>9 4642-9486</td><td>Brasil</td><td>Mato Grosso</td><td>null</td><td>null</td><td>null</td></tr><tr><td>4</td><td>2018-08-06T07:24:16.000Z</td><td>Romário</td><td>Teixeira</td><td>null</td><td>9 3093-6522</td><td>Brasil</td><td>Bahia</td><td>Praça 56 do Estado Bahia</td><td>191.0</td><td>Apto 12</td></tr><tr><td>5</td><td>2018-01-05T17:20:49.000Z</td><td>Marcelo</td><td>Barroso</td><td>null</td><td>9 2830-2088</td><td>Brasil</td><td>Rio Grande do Sul</td><td>Rua 28 do Estado Rio Grande do Sul</td><td>805.0</td><td>Conjunto 13</td></tr><tr><td>6</td><td>2018-06-18T11:17:42.000Z</td><td>Cristiano</td><td>Elísio</td><td>cristiano@exemplo.com</td><td>9 3532-8404</td><td>Brasil</td><td>Goiás</td><td>Rua 78 do Estado Goiás</td><td>877.0</td><td>Apto 14</td></tr><tr><td>7</td><td>2018-02-08T12:36:09.000Z</td><td>Everton</td><td>Barbosa</td><td>everton@meu_email.com</td><td>9 2553-4087</td><td>Brasil</td><td>Distrito Federal</td><td>Avenida 86 do Estado Distrito Federal</td><td>864.0</td><td>Apto 14</td></tr><tr><td>8</td><td>2017-12-16T20:47:03.000Z</td><td>Gabriela</td><td>Alves</td><td>gabriela@exemplo.com</td><td>9 1353-8433</td><td>Brasil</td><td>Santa Catarina</td><td>null</td><td>null</td><td>null</td></tr><tr><td>9</td><td>2018-11-11T11:48:41.000Z</td><td>Luan</td><td>Dias</td><td>luan@exemplo.com</td><td>9 2417-3678</td><td>Brasil</td><td>Distrito Federal</td><td>Avenida 54 do Estado Distrito Federal</td><td>889.0</td><td>Conjunto 14</td></tr><tr><td>10</td><td>2017-12-16T15:41:00.000Z</td><td>Mariana</td><td>Alves</td><td>mariana@meu_email.com</td><td>9 1846-6377</td><td>Brasil</td><td>Santa Catarina</td><td>null</td><td>null</td><td>null</td></tr><tr><td>11</td><td>2018-05-16T03:39:52.000Z</td><td>James</td><td>Albuquerque</td><td>null</td><td>9 2430-5905</td><td>Brasil</td><td>Sergipe</td><td>Rua 30 do Estado Sergipe</td><td>229.0</td><td>null</td></tr><tr><td>12</td><td>2018-03-28T00:24:00.000Z</td><td>Carol</td><td>Barboza</td><td>carol@exemplo.com</td><td>9 8487-3501</td><td>Brasil</td><td>Mato Grosso</td><td>Rua 31 do Estado Mato Grosso</td><td>1.0</td><td>Conjunto 23</td></tr><tr><td>13</td><td>2018-08-27T21:15:17.000Z</td><td>Carolina</td><td>Monteiro</td><td>carolina@teste.com</td><td>9 1226-4267</td><td>Brasil</td><td>Rio Grande do Sul</td><td>Rua 4 do Estado Rio Grande do Sul</td><td>444.0</td><td>Apto 21</td></tr><tr><td>14</td><td>2017-11-12T03:02:41.000Z</td><td>Francisco</td><td>Nascimento</td><td>francisco@exemplo.com</td><td>9 7264-9020</td><td>Brasil</td><td>Distrito Federal</td><td>Rua 75 do Estado Distrito Federal</td><td>47.0</td><td>null</td></tr><tr><td>15</td><td>2018-11-15T18:00:53.000Z</td><td>Stephanie</td><td>Barbosa</td><td>stephanie@usuario.com</td><td>9 1446-3560</td><td>Brasil</td><td>Mato Grosso</td><td>null</td><td>null</td><td>Conjunto 4</td></tr><tr><td>16</td><td>2017-12-12T21:29:54.000Z</td><td>Laura</td><td>Santos</td><td>laura@exemplo.com</td><td>9 7802-6152</td><td>Brasil</td><td>Maranhão</td><td>Rua 57 do Estado Maranhão</td><td>213.0</td><td>null</td></tr><tr><td>17</td><td>2017-10-19T20:18:14.000Z</td><td>João</td><td>Magalhães</td><td>joão@exemplo.com</td><td>9 5995-1272</td><td>Brasil</td><td>Pernambuco</td><td>Rua 20 do Estado Pernambuco</td><td>781.0</td><td>Apto 17</td></tr><tr><td>18</td><td>2018-06-28T04:53:52.000Z</td><td>Jair</td><td>Magalhães</td><td>jair@exemplo.com</td><td>9 8368-1315</td><td>Brasil</td><td>Alagoas</td><td>Avenida 74 do Estado Alagoas</td><td>118.0</td><td>Conjunto 8</td></tr><tr><td>19</td><td>2018-10-20T19:31:52.000Z</td><td>Caíque</td><td>Monteiro</td><td>caíque@exemplo.com</td><td>9 9793-9986</td><td>Brasil</td><td>Piauí</td><td>null</td><td>null</td><td>Conjunto 13</td></tr><tr><td>20</td><td>2017-12-22T10:51:28.000Z</td><td>Adalberto</td><td>Silva</td><td>adalberto@usuario.com</td><td>9 1338-1447</td><td>Brasil</td><td>São Paulo</td><td>Rua 57 do Estado São Paulo</td><td>851.0</td><td>Conjunto 20</td></tr><tr><td>21</td><td>2018-02-21T15:35:55.000Z</td><td>Diego</td><td>Freire</td><td>diego@teste.com</td><td>9 6686-4094</td><td>Brasil</td><td>Bahia</td><td>Praça 4 do Estado Bahia</td><td>906.0</td><td>Apto 20</td></tr><tr><td>22</td><td>2018-04-18T22:43:29.000Z</td><td>Heitor</td><td>Pereira</td><td>null</td><td>9 4839-8118</td><td>Brasil</td><td>Maranhão</td><td>Avenida 84 do Estado Maranhão</td><td>948.0</td><td>null</td></tr><tr><td>23</td><td>2017-10-26T00:35:22.000Z</td><td>Maria</td><td>Pires</td><td>null</td><td>9 8229-1067</td><td>Brasil</td><td>Amazonas</td><td>Avenida 80 do Estado Amazonas</td><td>581.0</td><td>null</td></tr><tr><td>24</td><td>2018-07-25T09:34:12.000Z</td><td>Jair</td><td>Barroso</td><td>jair@teste.com</td><td>9 6679-6120</td><td>Brasil</td><td>Ceará</td><td>Rua 86 do Estado Ceará</td><td>770.0</td><td>Apto 21</td></tr><tr><td>25</td><td>2018-08-07T12:22:40.000Z</td><td>Alice</td><td>Veloso</td><td>alice@exemplo.com</td><td>9 9869-3706</td><td>Brasil</td><td>Minas Gerais</td><td>Praça 73 do Estado Minas Gerais</td><td>571.0</td><td>null</td></tr><tr><td>26</td><td>2018-12-12T11:56:14.000Z</td><td>Eloá</td><td>da Silva</td><td>eloá@usuario.com</td><td>9 3982-5948</td><td>Brasil</td><td>Espírito Santo</td><td>Avenida 98 do Estado Espírito Santo</td><td>706.0</td><td>null</td></tr><tr><td>27</td><td>2018-11-08T11:12:47.000Z</td><td>Luan</td><td>Lima</td><td>luan@teste.com</td><td>9 2529-8197</td><td>Brasil</td><td>Acre</td><td>Praça 86 do Estado Acre</td><td>303.0</td><td>Apto 27</td></tr><tr><td>28</td><td>2017-11-26T05:17:39.000Z</td><td>Beatriz</td><td>Araújo</td><td>beatriz@usuario.com</td><td>9 4543-3853</td><td>Brasil</td><td>Minas Gerais</td><td>Praça 7 do Estado Minas Gerais</td><td>536.0</td><td>Conjunto 5</td></tr><tr><td>29</td><td>2018-06-03T17:08:52.000Z</td><td>Geisa</td><td>Santos</td><td>geisa@meu_email.com</td><td>9 4653-9739</td><td>Brasil</td><td>Rio Grande do Norte</td><td>Avenida 77 do Estado Rio Grande do Norte</td><td>486.0</td><td>Conjunto 13</td></tr><tr><td>30</td><td>2018-06-08T07:49:50.000Z</td><td>Gabriel</td><td>Teixeira</td><td>gabriel@exemplo.com</td><td>9 7419-5325</td><td>Brasil</td><td>Rio Grande do Sul</td><td>Avenida 7 do Estado Rio Grande do Sul</td><td>94.0</td><td>null</td></tr><tr><td>31</td><td>2018-07-02T22:04:08.000Z</td><td>Geisa</td><td>Freitas</td><td>geisa@exemplo.com</td><td>9 6772-5310</td><td>Brasil</td><td>Mato Grosso do Sul</td><td>Rua 18 do Estado Mato Grosso do Sul</td><td>128.0</td><td>null</td></tr><tr><td>32</td><td>2018-07-22T11:59:27.000Z</td><td>Ana</td><td>Campos</td><td>ana@teste.com</td><td>9 1932-9841</td><td>Brasil</td><td>Bahia</td><td>Avenida 52 do Estado Bahia</td><td>402.0</td><td>null</td></tr><tr><td>33</td><td>2017-12-28T12:51:34.000Z</td><td>João</td><td>da Silva</td><td>joão@usuario.com</td><td>9 2813-8103</td><td>Brasil</td><td>Paraná</td><td>Avenida 27 do Estado Paraná</td><td>240.0</td><td>Apto 6</td></tr><tr><td>34</td><td>2018-10-05T01:14:05.000Z</td><td>José</td><td>Campos</td><td>josé@teste.com</td><td>9 7552-4340</td><td>Brasil</td><td>Goiás</td><td>Praça 25 do Estado Goiás</td><td>884.0</td><td>Apto 7</td></tr><tr><td>35</td><td>2018-04-19T10:10:22.000Z</td><td>Adalberto</td><td>Dias</td><td>adalberto@usuario.com</td><td>9 8395-7004</td><td>Brasil</td><td>Espírito Santo</td><td>Rua 37 do Estado Espírito Santo</td><td>383.0</td><td>Apto 13</td></tr><tr><td>36</td><td>2018-01-26T03:29:13.000Z</td><td>Mariana</td><td>Góes</td><td>mariana@meu_email.com</td><td>9 7324-4293</td><td>Brasil</td><td>null</td><td>null</td><td>null</td><td>Apto 25</td></tr><tr><td>37</td><td>2018-03-02T22:27:03.000Z</td><td>Daniela</td><td>Monteiro</td><td>daniela@meu_email.com</td><td>9 4704-5844</td><td>Brasil</td><td>Goiás</td><td>Rua 43 do Estado Goiás</td><td>116.0</td><td>Apto 28</td></tr><tr><td>38</td><td>2018-09-01T09:33:57.000Z</td><td>Marcelo</td><td>Mendes</td><td>null</td><td>9 6773-1560</td><td>Brasil</td><td>Espírito Santo</td><td>Avenida 64 do Estado Espírito Santo</td><td>213.0</td><td>null</td></tr><tr><td>39</td><td>2017-11-15T07:17:25.000Z</td><td>Caio</td><td>Batista</td><td>caio@usuario.com</td><td>9 4761-6542</td><td>Brasil</td><td>Maranhão</td><td>Avenida 87 do Estado Maranhão</td><td>656.0</td><td>Apto 25</td></tr><tr><td>40</td><td>2018-08-17T13:21:08.000Z</td><td>Gabriela</td><td>Nascimento</td><td>gabriela@teste.com</td><td>9 5382-5772</td><td>Brasil</td><td>Amapá</td><td>Avenida 85 do Estado Amapá</td><td>476.0</td><td>null</td></tr><tr><td>41</td><td>2018-11-30T17:44:09.000Z</td><td>Maria</td><td>Morais</td><td>maria@usuario.com</td><td>9 1519-4181</td><td>Brasil</td><td>Pernambuco</td><td>Avenida 69 do Estado Pernambuco</td><td>633.0</td><td>null</td></tr><tr><td>42</td><td>2018-04-09T19:12:23.000Z</td><td>João</td><td>Almeida</td><td>joão@usuario.com</td><td>9 4650-1753</td><td>Brasil</td><td>Goiás</td><td>Praça 3 do Estado Goiás</td><td>986.0</td><td>Apto 9</td></tr><tr><td>43</td><td>2018-01-07T07:54:22.000Z</td><td>Daniela</td><td>Lima</td><td>null</td><td>9 1763-2584</td><td>Brasil</td><td>Rio de Janeiro</td><td>null</td><td>null</td><td>Apto 20</td></tr><tr><td>44</td><td>2018-04-08T07:18:45.000Z</td><td>Júlia</td><td>Costa</td><td>júlia@usuario.com</td><td>9 5446-9508</td><td>Brasil</td><td>Rio Grande do Norte</td><td>Avenida 46 do Estado Rio Grande do Norte</td><td>277.0</td><td>Conjunto 14</td></tr><tr><td>45</td><td>2018-05-10T23:09:25.000Z</td><td>Gerson</td><td>Anjos</td><td>gerson@meu_email.com</td><td>9 1590-8972</td><td>Brasil</td><td>Mato Grosso do Sul</td><td>Avenida 35 do Estado Mato Grosso do Sul</td><td>229.0</td><td>Apto 29</td></tr><tr><td>46</td><td>2018-07-19T08:33:32.000Z</td><td>Rafael</td><td>Freire</td><td>rafael@exemplo.com</td><td>9 8703-1006</td><td>Brasil</td><td>Maranhão</td><td>Praça 97 do Estado Maranhão</td><td>138.0</td><td>null</td></tr><tr><td>47</td><td>2018-09-01T23:00:40.000Z</td><td>Júlia</td><td>Castro</td><td>júlia@exemplo.com</td><td>9 7096-1780</td><td>Brasil</td><td>Rio de Janeiro</td><td>Rua 39 do Estado Rio de Janeiro</td><td>983.0</td><td>Conjunto 7</td></tr><tr><td>48</td><td>2018-05-29T04:22:54.000Z</td><td>Clarissa</td><td>Albuquerque</td><td>clarissa@exemplo.com</td><td>9 7403-4273</td><td>Brasil</td><td>Ceará</td><td>null</td><td>null</td><td>Apto 12</td></tr><tr><td>49</td><td>2018-11-01T02:13:51.000Z</td><td>Júlia</td><td>Sousa</td><td>júlia@exemplo.com</td><td>9 2094-8467</td><td>Brasil</td><td>Rondônia</td><td>Rua 12 do Estado Rondônia</td><td>260.0</td><td>Apto 27</td></tr><tr><td>50</td><td>2018-08-24T07:52:23.000Z</td><td>Beatriz</td><td>Monteiro</td><td>beatriz@teste.com</td><td>9 3570-4464</td><td>Brasil</td><td>Minas Gerais</td><td>Avenida 17 do Estado Minas Gerais</td><td>223.0</td><td>Conjunto 22</td></tr><tr><td>51</td><td>2017-12-26T15:38:15.000Z</td><td>Caio</td><td>Mendes</td><td>caio@teste.com</td><td>9 6437-5008</td><td>Brasil</td><td>Pernambuco</td><td>Rua 34 do Estado Pernambuco</td><td>931.0</td><td>null</td></tr><tr><td>52</td><td>2017-12-04T17:42:34.000Z</td><td>Bruno</td><td>Anjos</td><td>bruno@teste.com</td><td>9 3004-3740</td><td>Brasil</td><td>Goiás</td><td>Rua 53 do Estado Goiás</td><td>825.0</td><td>null</td></tr><tr><td>53</td><td>2018-03-25T14:26:49.000Z</td><td>Daniela</td><td>Mendes</td><td>daniela@teste.com</td><td>9 3797-3399</td><td>Brasil</td><td>Pernambuco</td><td>Rua 71 do Estado Pernambuco</td><td>760.0</td><td>Apto 14</td></tr><tr><td>54</td><td>2018-01-25T02:11:25.000Z</td><td>Diego</td><td>Teixeira</td><td>diego@exemplo.com</td><td>9 5247-1737</td><td>Brasil</td><td>Pará</td><td>Rua 8 do Estado Pará</td><td>722.0</td><td>Conjunto 16</td></tr><tr><td>55</td><td>2018-07-10T18:40:07.000Z</td><td>Gabriela</td><td>Pires</td><td>gabriela@meu_email.com</td><td>9 1214-1539</td><td>Brasil</td><td>Rio de Janeiro</td><td>Rua 32 do Estado Rio de Janeiro</td><td>838.0</td><td>Apto 29</td></tr><tr><td>56</td><td>2017-12-01T22:40:40.000Z</td><td>Cristiano</td><td>Fagundes</td><td>cristiano@usuario.com</td><td>9 7680-6400</td><td>Brasil</td><td>Piauí</td><td>Avenida 20 do Estado Piauí</td><td>236.0</td><td>Apto 30</td></tr><tr><td>57</td><td>2018-08-23T03:31:05.000Z</td><td>Stephanie</td><td>Barboza</td><td>stephanie@meu_email.com</td><td>9 1168-6722</td><td>Brasil</td><td>Maranhão</td><td>Avenida 25 do Estado Maranhão</td><td>795.0</td><td>null</td></tr><tr><td>58</td><td>2018-09-13T03:13:02.000Z</td><td>Rafael</td><td>Rodrigues</td><td>rafael@meu_email.com</td><td>9 6550-3557</td><td>Brasil</td><td>Bahia</td><td>Praça 94 do Estado Bahia</td><td>647.0</td><td>Apto 25</td></tr><tr><td>59</td><td>2017-12-03T16:24:32.000Z</td><td>Stephanie</td><td>Freire</td><td>stephanie@usuario.com</td><td>9 3256-1853</td><td>Brasil</td><td>São Paulo</td><td>Rua 52 do Estado São Paulo</td><td>34.0</td><td>Apto 24</td></tr><tr><td>60</td><td>2018-06-26T18:47:12.000Z</td><td>Carol</td><td>Bueno</td><td>carol@usuario.com</td><td>9 9814-4736</td><td>Brasil</td><td>Santa Catarina</td><td>Rua 10 do Estado Santa Catarina</td><td>47.0</td><td>Conjunto 12</td></tr><tr><td>61</td><td>2018-04-30T18:36:56.000Z</td><td>Francisco</td><td>Abreu</td><td>francisco@exemplo.com</td><td>9 6754-1775</td><td>Brasil</td><td>Amapá</td><td>Rua 72 do Estado Amapá</td><td>50.0</td><td>Apto 12</td></tr><tr><td>62</td><td>2018-01-21T13:56:16.000Z</td><td>Carol</td><td>Anjos</td><td>carol@usuario.com</td><td>9 2123-9306</td><td>Brasil</td><td>Pernambuco</td><td>Praça 12 do Estado Pernambuco</td><td>928.0</td><td>Conjunto 26</td></tr><tr><td>63</td><td>2018-05-05T17:52:26.000Z</td><td>Caíque</td><td>Batista</td><td>caíque@teste.com</td><td>9 8818-5886</td><td>Brasil</td><td>Ceará</td><td>Rua 76 do Estado Ceará</td><td>239.0</td><td>Apto 19</td></tr><tr><td>64</td><td>2018-10-30T15:47:32.000Z</td><td>Luan</td><td>Ramos</td><td>luan@exemplo.com</td><td>9 6843-3876</td><td>Brasil</td><td>Pernambuco</td><td>Rua 63 do Estado Pernambuco</td><td>345.0</td><td>Conjunto 10</td></tr><tr><td>65</td><td>2018-02-06T05:56:36.000Z</td><td>Willian</td><td>Freitas</td><td>null</td><td>9 3043-7382</td><td>Brasil</td><td>Rio de Janeiro</td><td>Rua 91 do Estado Rio de Janeiro</td><td>96.0</td><td>Apto 7</td></tr><tr><td>66</td><td>2018-10-18T04:31:59.000Z</td><td>Stephanie</td><td>Abreu</td><td>stephanie@meu_email.com</td><td>9 6466-2389</td><td>Brasil</td><td>Mato Grosso</td><td>Rua 19 do Estado Mato Grosso</td><td>53.0</td><td>Conjunto 13</td></tr><tr><td>67</td><td>2018-08-31T18:22:52.000Z</td><td>Laura</td><td>Pires</td><td>laura@meu_email.com</td><td>9 8144-6047</td><td>Brasil</td><td>Mato Grosso do Sul</td><td>Praça 23 do Estado Mato Grosso do Sul</td><td>47.0</td><td>Apto 7</td></tr><tr><td>68</td><td>2018-11-14T11:04:35.000Z</td><td>José</td><td>Pires</td><td>josé@usuario.com</td><td>9 8189-2149</td><td>Brasil</td><td>Ceará</td><td>Avenida 99 do Estado Ceará</td><td>231.0</td><td>null</td></tr><tr><td>69</td><td>2018-02-20T19:16:26.000Z</td><td>Gustavo</td><td>Cardoso</td><td>gustavo@teste.com</td><td>9 7594-9211</td><td>Brasil</td><td>Amazonas</td><td>Praça 52 do Estado Amazonas</td><td>698.0</td><td>null</td></tr><tr><td>70</td><td>2017-10-22T12:49:39.000Z</td><td>Diego</td><td>Barboza</td><td>null</td><td>9 4849-7409</td><td>Brasil</td><td>Mato Grosso do Sul</td><td>Avenida 3 do Estado Mato Grosso do Sul</td><td>250.0</td><td>null</td></tr><tr><td>71</td><td>2017-12-12T16:16:52.000Z</td><td>Gerson</td><td>Barroso</td><td>gerson@exemplo.com</td><td>9 5719-4227</td><td>Brasil</td><td>Pernambuco</td><td>null</td><td>null</td><td>Apto 2</td></tr><tr><td>72</td><td>2018-01-29T03:19:24.000Z</td><td>Neymar</td><td>Elísio</td><td>neymar@teste.com</td><td>9 5373-1785</td><td>Brasil</td><td>Rio Grande do Sul</td><td>Rua 49 do Estado Rio Grande do Sul</td><td>929.0</td><td>null</td></tr><tr><td>73</td><td>2018-02-03T07:37:38.000Z</td><td>Cristiano</td><td>Almeida</td><td>cristiano@usuario.com</td><td>9 2630-9907</td><td>Brasil</td><td>null</td><td>null</td><td>null</td><td>Conjunto 24</td></tr><tr><td>74</td><td>2018-04-22T05:00:28.000Z</td><td>Júlia</td><td>Almeida</td><td>júlia@meu_email.com</td><td>9 9208-5213</td><td>Brasil</td><td>Maranhão</td><td>Praça 25 do Estado Maranhão</td><td>953.0</td><td>Conjunto 4</td></tr><tr><td>75</td><td>2018-06-21T14:28:03.000Z</td><td>Marta</td><td>Abreu</td><td>null</td><td>9 9024-3467</td><td>Brasil</td><td>Roraima</td><td>Avenida 67 do Estado Roraima</td><td>410.0</td><td>Conjunto 23</td></tr><tr><td>76</td><td>2018-04-16T04:53:31.000Z</td><td>Romário</td><td>Rosa</td><td>romário@meu_email.com</td><td>9 8710-8305</td><td>Brasil</td><td>Rio Grande do Sul</td><td>Praça 75 do Estado Rio Grande do Sul</td><td>110.0</td><td>Conjunto 10</td></tr><tr><td>77</td><td>2018-11-30T10:29:55.000Z</td><td>Ana</td><td>Monteiro</td><td>ana@teste.com</td><td>9 3871-4132</td><td>Brasil</td><td>Bahia</td><td>Praça 86 do Estado Bahia</td><td>604.0</td><td>Apto 30</td></tr><tr><td>78</td><td>2017-11-02T22:13:22.000Z</td><td>Laura</td><td>Queiroz</td><td>laura@exemplo.com</td><td>9 6338-8617</td><td>Brasil</td><td>São Paulo</td><td>Praça 19 do Estado São Paulo</td><td>878.0</td><td>Conjunto 3</td></tr><tr><td>79</td><td>2017-12-13T08:41:05.000Z</td><td>Hélen</td><td>Souza</td><td>hélen@teste.com</td><td>9 9974-1066</td><td>Brasil</td><td>Paraná</td><td>Avenida 20 do Estado Paraná</td><td>661.0</td><td>Conjunto 13</td></tr><tr><td>80</td><td>2018-10-10T00:06:32.000Z</td><td>Daniela</td><td>Góes</td><td>daniela@usuario.com</td><td>9 5394-6677</td><td>Brasil</td><td>Alagoas</td><td>Praça 22 do Estado Alagoas</td><td>235.0</td><td>null</td></tr><tr><td>81</td><td>2018-01-13T10:35:01.000Z</td><td>Alice</td><td>Ferreira</td><td>alice@teste.com</td><td>9 9005-2493</td><td>Brasil</td><td>Minas Gerais</td><td>Praça 53 do Estado Minas Gerais</td><td>83.0</td><td>null</td></tr><tr><td>82</td><td>2018-11-04T18:02:42.000Z</td><td>Heitor</td><td>Rocha</td><td>heitor@teste.com</td><td>9 3236-7429</td><td>Brasil</td><td>Espírito Santo</td><td>Praça 82 do Estado Espírito Santo</td><td>14.0</td><td>null</td></tr><tr><td>83</td><td>2018-01-05T00:15:03.000Z</td><td>Frida</td><td>Freire</td><td>null</td><td>9 4760-1383</td><td>Brasil</td><td>Alagoas</td><td>Rua 25 do Estado Alagoas</td><td>679.0</td><td>Conjunto 9</td></tr><tr><td>84</td><td>2018-11-01T15:39:40.000Z</td><td>Carol</td><td>Bueno</td><td>carol@meu_email.com</td><td>9 3760-2211</td><td>Brasil</td><td>null</td><td>null</td><td>null</td><td>Conjunto 26</td></tr><tr><td>85</td><td>2017-11-24T12:44:36.000Z</td><td>Eduardo</td><td>Teixeira</td><td>null</td><td>9 2537-7930</td><td>Brasil</td><td>Rio Grande do Norte</td><td>null</td><td>null</td><td>null</td></tr><tr><td>86</td><td>2018-03-12T09:30:24.000Z</td><td>Adalberto</td><td>Oliveira</td><td>adalberto@teste.com</td><td>9 3081-3441</td><td>Brasil</td><td>Roraima</td><td>Rua 40 do Estado Roraima</td><td>401.0</td><td>Conjunto 17</td></tr><tr><td>87</td><td>2018-08-16T20:25:23.000Z</td><td>Beatriz</td><td>Abreu</td><td>beatriz@usuario.com</td><td>9 2254-6798</td><td>Brasil</td><td>Acre</td><td>Rua 95 do Estado Acre</td><td>482.0</td><td>Conjunto 16</td></tr><tr><td>88</td><td>2017-10-12T15:17:05.000Z</td><td>Rafael</td><td>Batista</td><td>rafael@usuario.com</td><td>9 8656-5668</td><td>Brasil</td><td>Ceará</td><td>Rua 78 do Estado Ceará</td><td>787.0</td><td>Apto 3</td></tr><tr><td>89</td><td>2017-12-07T19:24:54.000Z</td><td>Daniela</td><td>Pires</td><td>daniela@usuario.com</td><td>9 6666-2265</td><td>Brasil</td><td>Bahia</td><td>Rua 31 do Estado Bahia</td><td>441.0</td><td>null</td></tr><tr><td>90</td><td>2017-12-16T22:14:58.000Z</td><td>Stephanie</td><td>Rosa</td><td>null</td><td>9 3040-4414</td><td>Brasil</td><td>Rio Grande do Norte</td><td>null</td><td>null</td><td>null</td></tr><tr><td>91</td><td>2018-09-12T22:12:05.000Z</td><td>Daniel</td><td>Costa</td><td>daniel@teste.com</td><td>9 4761-6557</td><td>Brasil</td><td>Rio Grande do Norte</td><td>Praça 25 do Estado Rio Grande do Norte</td><td>281.0</td><td>Apto 8</td></tr><tr><td>92</td><td>2017-10-16T16:29:15.000Z</td><td>Beatriz</td><td>Bueno</td><td>beatriz@teste.com</td><td>9 4435-2960</td><td>Brasil</td><td>Acre</td><td>Rua 71 do Estado Acre</td><td>978.0</td><td>Apto 24</td></tr><tr><td>93</td><td>2018-11-02T08:43:47.000Z</td><td>Ronaldo</td><td>Galo</td><td>ronaldo@meu_email.com</td><td>9 8821-9577</td><td>Brasil</td><td>Pernambuco</td><td>Avenida 8 do Estado Pernambuco</td><td>758.0</td><td>Apto 2</td></tr><tr><td>94</td><td>2018-10-29T11:39:58.000Z</td><td>Cristiano</td><td>Pereira</td><td>cristiano@meu_email.com</td><td>9 4404-8717</td><td>Brasil</td><td>Piauí</td><td>Praça 100 do Estado Piauí</td><td>809.0</td><td>null</td></tr><tr><td>95</td><td>2018-10-01T11:35:59.000Z</td><td>Mariana</td><td>Rosa</td><td>mariana@usuario.com</td><td>9 3139-2145</td><td>Brasil</td><td>null</td><td>null</td><td>null</td><td>null</td></tr><tr><td>96</td><td>2018-01-23T19:14:21.000Z</td><td>Paulo</td><td>Câmara</td><td>paulo@usuario.com</td><td>9 4785-1135</td><td>Brasil</td><td>Sergipe</td><td>Praça 73 do Estado Sergipe</td><td>219.0</td><td>Apto 6</td></tr><tr><td>97</td><td>2018-07-04T18:45:41.000Z</td><td>Marta</td><td>Góes</td><td>marta@teste.com</td><td>9 4102-4352</td><td>Brasil</td><td>Paraná</td><td>Rua 61 do Estado Paraná</td><td>402.0</td><td>Apto 24</td></tr><tr><td>98</td><td>2018-01-24T16:21:06.000Z</td><td>Cibele</td><td>Costa</td><td>cibele@meu_email.com</td><td>9 4211-6968</td><td>Brasil</td><td>Mato Grosso</td><td>Praça 75 do Estado Mato Grosso</td><td>24.0</td><td>null</td></tr><tr><td>99</td><td>2018-07-24T08:26:27.000Z</td><td>Jéssica</td><td>Jesus</td><td>jéssica@usuario.com</td><td>9 6100-1466</td><td>Brasil</td><td>Paraná</td><td>Avenida 19 do Estado Paraná</td><td>738.0</td><td>Conjunto 22</td></tr></tbody></table></div>"
      ]
     },
     "metadata": {
      "application/vnd.databricks.v1+output": {
       "addedWidgets": {},
       "aggData": [],
       "aggError": "",
       "aggOverflow": false,
       "aggSchema": [],
       "aggSeriesLimitReached": false,
       "aggType": "",
       "arguments": {},
       "columnCustomDisplayInfos": {},
       "data": [
        [
         0,
         "2017-11-01T14:45:41.000Z",
         "Marta",
         "Jesus",
         null,
         "9 9102-7834",
         "Brasil",
         "Acre",
         null,
         null,
         "Conjunto 16"
        ],
        [
         1,
         "2017-10-16T00:50:39.000Z",
         "Luana",
         "Almeida",
         null,
         "9 7328-8718",
         "Brasil",
         "Rio Grande do Sul",
         "Avenida 56 do Estado Rio Grande do Sul",
         989.0,
         "Conjunto 17"
        ],
        [
         2,
         "2018-06-16T17:51:29.000Z",
         "Frida",
         "Mendes",
         "frida@meu_email.com",
         "9 5906-7552",
         "Brasil",
         "São Paulo",
         "Avenida 59 do Estado São Paulo",
         534.0,
         null
        ],
        [
         3,
         "2018-01-17T03:02:58.000Z",
         "Daniela",
         "Avelino",
         "daniela@exemplo.com",
         "9 4642-9486",
         "Brasil",
         "Mato Grosso",
         null,
         null,
         null
        ],
        [
         4,
         "2018-08-06T07:24:16.000Z",
         "Romário",
         "Teixeira",
         null,
         "9 3093-6522",
         "Brasil",
         "Bahia",
         "Praça 56 do Estado Bahia",
         191.0,
         "Apto 12"
        ],
        [
         5,
         "2018-01-05T17:20:49.000Z",
         "Marcelo",
         "Barroso",
         null,
         "9 2830-2088",
         "Brasil",
         "Rio Grande do Sul",
         "Rua 28 do Estado Rio Grande do Sul",
         805.0,
         "Conjunto 13"
        ],
        [
         6,
         "2018-06-18T11:17:42.000Z",
         "Cristiano",
         "Elísio",
         "cristiano@exemplo.com",
         "9 3532-8404",
         "Brasil",
         "Goiás",
         "Rua 78 do Estado Goiás",
         877.0,
         "Apto 14"
        ],
        [
         7,
         "2018-02-08T12:36:09.000Z",
         "Everton",
         "Barbosa",
         "everton@meu_email.com",
         "9 2553-4087",
         "Brasil",
         "Distrito Federal",
         "Avenida 86 do Estado Distrito Federal",
         864.0,
         "Apto 14"
        ],
        [
         8,
         "2017-12-16T20:47:03.000Z",
         "Gabriela",
         "Alves",
         "gabriela@exemplo.com",
         "9 1353-8433",
         "Brasil",
         "Santa Catarina",
         null,
         null,
         null
        ],
        [
         9,
         "2018-11-11T11:48:41.000Z",
         "Luan",
         "Dias",
         "luan@exemplo.com",
         "9 2417-3678",
         "Brasil",
         "Distrito Federal",
         "Avenida 54 do Estado Distrito Federal",
         889.0,
         "Conjunto 14"
        ],
        [
         10,
         "2017-12-16T15:41:00.000Z",
         "Mariana",
         "Alves",
         "mariana@meu_email.com",
         "9 1846-6377",
         "Brasil",
         "Santa Catarina",
         null,
         null,
         null
        ],
        [
         11,
         "2018-05-16T03:39:52.000Z",
         "James",
         "Albuquerque",
         null,
         "9 2430-5905",
         "Brasil",
         "Sergipe",
         "Rua 30 do Estado Sergipe",
         229.0,
         null
        ],
        [
         12,
         "2018-03-28T00:24:00.000Z",
         "Carol",
         "Barboza",
         "carol@exemplo.com",
         "9 8487-3501",
         "Brasil",
         "Mato Grosso",
         "Rua 31 do Estado Mato Grosso",
         1.0,
         "Conjunto 23"
        ],
        [
         13,
         "2018-08-27T21:15:17.000Z",
         "Carolina",
         "Monteiro",
         "carolina@teste.com",
         "9 1226-4267",
         "Brasil",
         "Rio Grande do Sul",
         "Rua 4 do Estado Rio Grande do Sul",
         444.0,
         "Apto 21"
        ],
        [
         14,
         "2017-11-12T03:02:41.000Z",
         "Francisco",
         "Nascimento",
         "francisco@exemplo.com",
         "9 7264-9020",
         "Brasil",
         "Distrito Federal",
         "Rua 75 do Estado Distrito Federal",
         47.0,
         null
        ],
        [
         15,
         "2018-11-15T18:00:53.000Z",
         "Stephanie",
         "Barbosa",
         "stephanie@usuario.com",
         "9 1446-3560",
         "Brasil",
         "Mato Grosso",
         null,
         null,
         "Conjunto 4"
        ],
        [
         16,
         "2017-12-12T21:29:54.000Z",
         "Laura",
         "Santos",
         "laura@exemplo.com",
         "9 7802-6152",
         "Brasil",
         "Maranhão",
         "Rua 57 do Estado Maranhão",
         213.0,
         null
        ],
        [
         17,
         "2017-10-19T20:18:14.000Z",
         "João",
         "Magalhães",
         "joão@exemplo.com",
         "9 5995-1272",
         "Brasil",
         "Pernambuco",
         "Rua 20 do Estado Pernambuco",
         781.0,
         "Apto 17"
        ],
        [
         18,
         "2018-06-28T04:53:52.000Z",
         "Jair",
         "Magalhães",
         "jair@exemplo.com",
         "9 8368-1315",
         "Brasil",
         "Alagoas",
         "Avenida 74 do Estado Alagoas",
         118.0,
         "Conjunto 8"
        ],
        [
         19,
         "2018-10-20T19:31:52.000Z",
         "Caíque",
         "Monteiro",
         "caíque@exemplo.com",
         "9 9793-9986",
         "Brasil",
         "Piauí",
         null,
         null,
         "Conjunto 13"
        ],
        [
         20,
         "2017-12-22T10:51:28.000Z",
         "Adalberto",
         "Silva",
         "adalberto@usuario.com",
         "9 1338-1447",
         "Brasil",
         "São Paulo",
         "Rua 57 do Estado São Paulo",
         851.0,
         "Conjunto 20"
        ],
        [
         21,
         "2018-02-21T15:35:55.000Z",
         "Diego",
         "Freire",
         "diego@teste.com",
         "9 6686-4094",
         "Brasil",
         "Bahia",
         "Praça 4 do Estado Bahia",
         906.0,
         "Apto 20"
        ],
        [
         22,
         "2018-04-18T22:43:29.000Z",
         "Heitor",
         "Pereira",
         null,
         "9 4839-8118",
         "Brasil",
         "Maranhão",
         "Avenida 84 do Estado Maranhão",
         948.0,
         null
        ],
        [
         23,
         "2017-10-26T00:35:22.000Z",
         "Maria",
         "Pires",
         null,
         "9 8229-1067",
         "Brasil",
         "Amazonas",
         "Avenida 80 do Estado Amazonas",
         581.0,
         null
        ],
        [
         24,
         "2018-07-25T09:34:12.000Z",
         "Jair",
         "Barroso",
         "jair@teste.com",
         "9 6679-6120",
         "Brasil",
         "Ceará",
         "Rua 86 do Estado Ceará",
         770.0,
         "Apto 21"
        ],
        [
         25,
         "2018-08-07T12:22:40.000Z",
         "Alice",
         "Veloso",
         "alice@exemplo.com",
         "9 9869-3706",
         "Brasil",
         "Minas Gerais",
         "Praça 73 do Estado Minas Gerais",
         571.0,
         null
        ],
        [
         26,
         "2018-12-12T11:56:14.000Z",
         "Eloá",
         "da Silva",
         "eloá@usuario.com",
         "9 3982-5948",
         "Brasil",
         "Espírito Santo",
         "Avenida 98 do Estado Espírito Santo",
         706.0,
         null
        ],
        [
         27,
         "2018-11-08T11:12:47.000Z",
         "Luan",
         "Lima",
         "luan@teste.com",
         "9 2529-8197",
         "Brasil",
         "Acre",
         "Praça 86 do Estado Acre",
         303.0,
         "Apto 27"
        ],
        [
         28,
         "2017-11-26T05:17:39.000Z",
         "Beatriz",
         "Araújo",
         "beatriz@usuario.com",
         "9 4543-3853",
         "Brasil",
         "Minas Gerais",
         "Praça 7 do Estado Minas Gerais",
         536.0,
         "Conjunto 5"
        ],
        [
         29,
         "2018-06-03T17:08:52.000Z",
         "Geisa",
         "Santos",
         "geisa@meu_email.com",
         "9 4653-9739",
         "Brasil",
         "Rio Grande do Norte",
         "Avenida 77 do Estado Rio Grande do Norte",
         486.0,
         "Conjunto 13"
        ],
        [
         30,
         "2018-06-08T07:49:50.000Z",
         "Gabriel",
         "Teixeira",
         "gabriel@exemplo.com",
         "9 7419-5325",
         "Brasil",
         "Rio Grande do Sul",
         "Avenida 7 do Estado Rio Grande do Sul",
         94.0,
         null
        ],
        [
         31,
         "2018-07-02T22:04:08.000Z",
         "Geisa",
         "Freitas",
         "geisa@exemplo.com",
         "9 6772-5310",
         "Brasil",
         "Mato Grosso do Sul",
         "Rua 18 do Estado Mato Grosso do Sul",
         128.0,
         null
        ],
        [
         32,
         "2018-07-22T11:59:27.000Z",
         "Ana",
         "Campos",
         "ana@teste.com",
         "9 1932-9841",
         "Brasil",
         "Bahia",
         "Avenida 52 do Estado Bahia",
         402.0,
         null
        ],
        [
         33,
         "2017-12-28T12:51:34.000Z",
         "João",
         "da Silva",
         "joão@usuario.com",
         "9 2813-8103",
         "Brasil",
         "Paraná",
         "Avenida 27 do Estado Paraná",
         240.0,
         "Apto 6"
        ],
        [
         34,
         "2018-10-05T01:14:05.000Z",
         "José",
         "Campos",
         "josé@teste.com",
         "9 7552-4340",
         "Brasil",
         "Goiás",
         "Praça 25 do Estado Goiás",
         884.0,
         "Apto 7"
        ],
        [
         35,
         "2018-04-19T10:10:22.000Z",
         "Adalberto",
         "Dias",
         "adalberto@usuario.com",
         "9 8395-7004",
         "Brasil",
         "Espírito Santo",
         "Rua 37 do Estado Espírito Santo",
         383.0,
         "Apto 13"
        ],
        [
         36,
         "2018-01-26T03:29:13.000Z",
         "Mariana",
         "Góes",
         "mariana@meu_email.com",
         "9 7324-4293",
         "Brasil",
         null,
         null,
         null,
         "Apto 25"
        ],
        [
         37,
         "2018-03-02T22:27:03.000Z",
         "Daniela",
         "Monteiro",
         "daniela@meu_email.com",
         "9 4704-5844",
         "Brasil",
         "Goiás",
         "Rua 43 do Estado Goiás",
         116.0,
         "Apto 28"
        ],
        [
         38,
         "2018-09-01T09:33:57.000Z",
         "Marcelo",
         "Mendes",
         null,
         "9 6773-1560",
         "Brasil",
         "Espírito Santo",
         "Avenida 64 do Estado Espírito Santo",
         213.0,
         null
        ],
        [
         39,
         "2017-11-15T07:17:25.000Z",
         "Caio",
         "Batista",
         "caio@usuario.com",
         "9 4761-6542",
         "Brasil",
         "Maranhão",
         "Avenida 87 do Estado Maranhão",
         656.0,
         "Apto 25"
        ],
        [
         40,
         "2018-08-17T13:21:08.000Z",
         "Gabriela",
         "Nascimento",
         "gabriela@teste.com",
         "9 5382-5772",
         "Brasil",
         "Amapá",
         "Avenida 85 do Estado Amapá",
         476.0,
         null
        ],
        [
         41,
         "2018-11-30T17:44:09.000Z",
         "Maria",
         "Morais",
         "maria@usuario.com",
         "9 1519-4181",
         "Brasil",
         "Pernambuco",
         "Avenida 69 do Estado Pernambuco",
         633.0,
         null
        ],
        [
         42,
         "2018-04-09T19:12:23.000Z",
         "João",
         "Almeida",
         "joão@usuario.com",
         "9 4650-1753",
         "Brasil",
         "Goiás",
         "Praça 3 do Estado Goiás",
         986.0,
         "Apto 9"
        ],
        [
         43,
         "2018-01-07T07:54:22.000Z",
         "Daniela",
         "Lima",
         null,
         "9 1763-2584",
         "Brasil",
         "Rio de Janeiro",
         null,
         null,
         "Apto 20"
        ],
        [
         44,
         "2018-04-08T07:18:45.000Z",
         "Júlia",
         "Costa",
         "júlia@usuario.com",
         "9 5446-9508",
         "Brasil",
         "Rio Grande do Norte",
         "Avenida 46 do Estado Rio Grande do Norte",
         277.0,
         "Conjunto 14"
        ],
        [
         45,
         "2018-05-10T23:09:25.000Z",
         "Gerson",
         "Anjos",
         "gerson@meu_email.com",
         "9 1590-8972",
         "Brasil",
         "Mato Grosso do Sul",
         "Avenida 35 do Estado Mato Grosso do Sul",
         229.0,
         "Apto 29"
        ],
        [
         46,
         "2018-07-19T08:33:32.000Z",
         "Rafael",
         "Freire",
         "rafael@exemplo.com",
         "9 8703-1006",
         "Brasil",
         "Maranhão",
         "Praça 97 do Estado Maranhão",
         138.0,
         null
        ],
        [
         47,
         "2018-09-01T23:00:40.000Z",
         "Júlia",
         "Castro",
         "júlia@exemplo.com",
         "9 7096-1780",
         "Brasil",
         "Rio de Janeiro",
         "Rua 39 do Estado Rio de Janeiro",
         983.0,
         "Conjunto 7"
        ],
        [
         48,
         "2018-05-29T04:22:54.000Z",
         "Clarissa",
         "Albuquerque",
         "clarissa@exemplo.com",
         "9 7403-4273",
         "Brasil",
         "Ceará",
         null,
         null,
         "Apto 12"
        ],
        [
         49,
         "2018-11-01T02:13:51.000Z",
         "Júlia",
         "Sousa",
         "júlia@exemplo.com",
         "9 2094-8467",
         "Brasil",
         "Rondônia",
         "Rua 12 do Estado Rondônia",
         260.0,
         "Apto 27"
        ],
        [
         50,
         "2018-08-24T07:52:23.000Z",
         "Beatriz",
         "Monteiro",
         "beatriz@teste.com",
         "9 3570-4464",
         "Brasil",
         "Minas Gerais",
         "Avenida 17 do Estado Minas Gerais",
         223.0,
         "Conjunto 22"
        ],
        [
         51,
         "2017-12-26T15:38:15.000Z",
         "Caio",
         "Mendes",
         "caio@teste.com",
         "9 6437-5008",
         "Brasil",
         "Pernambuco",
         "Rua 34 do Estado Pernambuco",
         931.0,
         null
        ],
        [
         52,
         "2017-12-04T17:42:34.000Z",
         "Bruno",
         "Anjos",
         "bruno@teste.com",
         "9 3004-3740",
         "Brasil",
         "Goiás",
         "Rua 53 do Estado Goiás",
         825.0,
         null
        ],
        [
         53,
         "2018-03-25T14:26:49.000Z",
         "Daniela",
         "Mendes",
         "daniela@teste.com",
         "9 3797-3399",
         "Brasil",
         "Pernambuco",
         "Rua 71 do Estado Pernambuco",
         760.0,
         "Apto 14"
        ],
        [
         54,
         "2018-01-25T02:11:25.000Z",
         "Diego",
         "Teixeira",
         "diego@exemplo.com",
         "9 5247-1737",
         "Brasil",
         "Pará",
         "Rua 8 do Estado Pará",
         722.0,
         "Conjunto 16"
        ],
        [
         55,
         "2018-07-10T18:40:07.000Z",
         "Gabriela",
         "Pires",
         "gabriela@meu_email.com",
         "9 1214-1539",
         "Brasil",
         "Rio de Janeiro",
         "Rua 32 do Estado Rio de Janeiro",
         838.0,
         "Apto 29"
        ],
        [
         56,
         "2017-12-01T22:40:40.000Z",
         "Cristiano",
         "Fagundes",
         "cristiano@usuario.com",
         "9 7680-6400",
         "Brasil",
         "Piauí",
         "Avenida 20 do Estado Piauí",
         236.0,
         "Apto 30"
        ],
        [
         57,
         "2018-08-23T03:31:05.000Z",
         "Stephanie",
         "Barboza",
         "stephanie@meu_email.com",
         "9 1168-6722",
         "Brasil",
         "Maranhão",
         "Avenida 25 do Estado Maranhão",
         795.0,
         null
        ],
        [
         58,
         "2018-09-13T03:13:02.000Z",
         "Rafael",
         "Rodrigues",
         "rafael@meu_email.com",
         "9 6550-3557",
         "Brasil",
         "Bahia",
         "Praça 94 do Estado Bahia",
         647.0,
         "Apto 25"
        ],
        [
         59,
         "2017-12-03T16:24:32.000Z",
         "Stephanie",
         "Freire",
         "stephanie@usuario.com",
         "9 3256-1853",
         "Brasil",
         "São Paulo",
         "Rua 52 do Estado São Paulo",
         34.0,
         "Apto 24"
        ],
        [
         60,
         "2018-06-26T18:47:12.000Z",
         "Carol",
         "Bueno",
         "carol@usuario.com",
         "9 9814-4736",
         "Brasil",
         "Santa Catarina",
         "Rua 10 do Estado Santa Catarina",
         47.0,
         "Conjunto 12"
        ],
        [
         61,
         "2018-04-30T18:36:56.000Z",
         "Francisco",
         "Abreu",
         "francisco@exemplo.com",
         "9 6754-1775",
         "Brasil",
         "Amapá",
         "Rua 72 do Estado Amapá",
         50.0,
         "Apto 12"
        ],
        [
         62,
         "2018-01-21T13:56:16.000Z",
         "Carol",
         "Anjos",
         "carol@usuario.com",
         "9 2123-9306",
         "Brasil",
         "Pernambuco",
         "Praça 12 do Estado Pernambuco",
         928.0,
         "Conjunto 26"
        ],
        [
         63,
         "2018-05-05T17:52:26.000Z",
         "Caíque",
         "Batista",
         "caíque@teste.com",
         "9 8818-5886",
         "Brasil",
         "Ceará",
         "Rua 76 do Estado Ceará",
         239.0,
         "Apto 19"
        ],
        [
         64,
         "2018-10-30T15:47:32.000Z",
         "Luan",
         "Ramos",
         "luan@exemplo.com",
         "9 6843-3876",
         "Brasil",
         "Pernambuco",
         "Rua 63 do Estado Pernambuco",
         345.0,
         "Conjunto 10"
        ],
        [
         65,
         "2018-02-06T05:56:36.000Z",
         "Willian",
         "Freitas",
         null,
         "9 3043-7382",
         "Brasil",
         "Rio de Janeiro",
         "Rua 91 do Estado Rio de Janeiro",
         96.0,
         "Apto 7"
        ],
        [
         66,
         "2018-10-18T04:31:59.000Z",
         "Stephanie",
         "Abreu",
         "stephanie@meu_email.com",
         "9 6466-2389",
         "Brasil",
         "Mato Grosso",
         "Rua 19 do Estado Mato Grosso",
         53.0,
         "Conjunto 13"
        ],
        [
         67,
         "2018-08-31T18:22:52.000Z",
         "Laura",
         "Pires",
         "laura@meu_email.com",
         "9 8144-6047",
         "Brasil",
         "Mato Grosso do Sul",
         "Praça 23 do Estado Mato Grosso do Sul",
         47.0,
         "Apto 7"
        ],
        [
         68,
         "2018-11-14T11:04:35.000Z",
         "José",
         "Pires",
         "josé@usuario.com",
         "9 8189-2149",
         "Brasil",
         "Ceará",
         "Avenida 99 do Estado Ceará",
         231.0,
         null
        ],
        [
         69,
         "2018-02-20T19:16:26.000Z",
         "Gustavo",
         "Cardoso",
         "gustavo@teste.com",
         "9 7594-9211",
         "Brasil",
         "Amazonas",
         "Praça 52 do Estado Amazonas",
         698.0,
         null
        ],
        [
         70,
         "2017-10-22T12:49:39.000Z",
         "Diego",
         "Barboza",
         null,
         "9 4849-7409",
         "Brasil",
         "Mato Grosso do Sul",
         "Avenida 3 do Estado Mato Grosso do Sul",
         250.0,
         null
        ],
        [
         71,
         "2017-12-12T16:16:52.000Z",
         "Gerson",
         "Barroso",
         "gerson@exemplo.com",
         "9 5719-4227",
         "Brasil",
         "Pernambuco",
         null,
         null,
         "Apto 2"
        ],
        [
         72,
         "2018-01-29T03:19:24.000Z",
         "Neymar",
         "Elísio",
         "neymar@teste.com",
         "9 5373-1785",
         "Brasil",
         "Rio Grande do Sul",
         "Rua 49 do Estado Rio Grande do Sul",
         929.0,
         null
        ],
        [
         73,
         "2018-02-03T07:37:38.000Z",
         "Cristiano",
         "Almeida",
         "cristiano@usuario.com",
         "9 2630-9907",
         "Brasil",
         null,
         null,
         null,
         "Conjunto 24"
        ],
        [
         74,
         "2018-04-22T05:00:28.000Z",
         "Júlia",
         "Almeida",
         "júlia@meu_email.com",
         "9 9208-5213",
         "Brasil",
         "Maranhão",
         "Praça 25 do Estado Maranhão",
         953.0,
         "Conjunto 4"
        ],
        [
         75,
         "2018-06-21T14:28:03.000Z",
         "Marta",
         "Abreu",
         null,
         "9 9024-3467",
         "Brasil",
         "Roraima",
         "Avenida 67 do Estado Roraima",
         410.0,
         "Conjunto 23"
        ],
        [
         76,
         "2018-04-16T04:53:31.000Z",
         "Romário",
         "Rosa",
         "romário@meu_email.com",
         "9 8710-8305",
         "Brasil",
         "Rio Grande do Sul",
         "Praça 75 do Estado Rio Grande do Sul",
         110.0,
         "Conjunto 10"
        ],
        [
         77,
         "2018-11-30T10:29:55.000Z",
         "Ana",
         "Monteiro",
         "ana@teste.com",
         "9 3871-4132",
         "Brasil",
         "Bahia",
         "Praça 86 do Estado Bahia",
         604.0,
         "Apto 30"
        ],
        [
         78,
         "2017-11-02T22:13:22.000Z",
         "Laura",
         "Queiroz",
         "laura@exemplo.com",
         "9 6338-8617",
         "Brasil",
         "São Paulo",
         "Praça 19 do Estado São Paulo",
         878.0,
         "Conjunto 3"
        ],
        [
         79,
         "2017-12-13T08:41:05.000Z",
         "Hélen",
         "Souza",
         "hélen@teste.com",
         "9 9974-1066",
         "Brasil",
         "Paraná",
         "Avenida 20 do Estado Paraná",
         661.0,
         "Conjunto 13"
        ],
        [
         80,
         "2018-10-10T00:06:32.000Z",
         "Daniela",
         "Góes",
         "daniela@usuario.com",
         "9 5394-6677",
         "Brasil",
         "Alagoas",
         "Praça 22 do Estado Alagoas",
         235.0,
         null
        ],
        [
         81,
         "2018-01-13T10:35:01.000Z",
         "Alice",
         "Ferreira",
         "alice@teste.com",
         "9 9005-2493",
         "Brasil",
         "Minas Gerais",
         "Praça 53 do Estado Minas Gerais",
         83.0,
         null
        ],
        [
         82,
         "2018-11-04T18:02:42.000Z",
         "Heitor",
         "Rocha",
         "heitor@teste.com",
         "9 3236-7429",
         "Brasil",
         "Espírito Santo",
         "Praça 82 do Estado Espírito Santo",
         14.0,
         null
        ],
        [
         83,
         "2018-01-05T00:15:03.000Z",
         "Frida",
         "Freire",
         null,
         "9 4760-1383",
         "Brasil",
         "Alagoas",
         "Rua 25 do Estado Alagoas",
         679.0,
         "Conjunto 9"
        ],
        [
         84,
         "2018-11-01T15:39:40.000Z",
         "Carol",
         "Bueno",
         "carol@meu_email.com",
         "9 3760-2211",
         "Brasil",
         null,
         null,
         null,
         "Conjunto 26"
        ],
        [
         85,
         "2017-11-24T12:44:36.000Z",
         "Eduardo",
         "Teixeira",
         null,
         "9 2537-7930",
         "Brasil",
         "Rio Grande do Norte",
         null,
         null,
         null
        ],
        [
         86,
         "2018-03-12T09:30:24.000Z",
         "Adalberto",
         "Oliveira",
         "adalberto@teste.com",
         "9 3081-3441",
         "Brasil",
         "Roraima",
         "Rua 40 do Estado Roraima",
         401.0,
         "Conjunto 17"
        ],
        [
         87,
         "2018-08-16T20:25:23.000Z",
         "Beatriz",
         "Abreu",
         "beatriz@usuario.com",
         "9 2254-6798",
         "Brasil",
         "Acre",
         "Rua 95 do Estado Acre",
         482.0,
         "Conjunto 16"
        ],
        [
         88,
         "2017-10-12T15:17:05.000Z",
         "Rafael",
         "Batista",
         "rafael@usuario.com",
         "9 8656-5668",
         "Brasil",
         "Ceará",
         "Rua 78 do Estado Ceará",
         787.0,
         "Apto 3"
        ],
        [
         89,
         "2017-12-07T19:24:54.000Z",
         "Daniela",
         "Pires",
         "daniela@usuario.com",
         "9 6666-2265",
         "Brasil",
         "Bahia",
         "Rua 31 do Estado Bahia",
         441.0,
         null
        ],
        [
         90,
         "2017-12-16T22:14:58.000Z",
         "Stephanie",
         "Rosa",
         null,
         "9 3040-4414",
         "Brasil",
         "Rio Grande do Norte",
         null,
         null,
         null
        ],
        [
         91,
         "2018-09-12T22:12:05.000Z",
         "Daniel",
         "Costa",
         "daniel@teste.com",
         "9 4761-6557",
         "Brasil",
         "Rio Grande do Norte",
         "Praça 25 do Estado Rio Grande do Norte",
         281.0,
         "Apto 8"
        ],
        [
         92,
         "2017-10-16T16:29:15.000Z",
         "Beatriz",
         "Bueno",
         "beatriz@teste.com",
         "9 4435-2960",
         "Brasil",
         "Acre",
         "Rua 71 do Estado Acre",
         978.0,
         "Apto 24"
        ],
        [
         93,
         "2018-11-02T08:43:47.000Z",
         "Ronaldo",
         "Galo",
         "ronaldo@meu_email.com",
         "9 8821-9577",
         "Brasil",
         "Pernambuco",
         "Avenida 8 do Estado Pernambuco",
         758.0,
         "Apto 2"
        ],
        [
         94,
         "2018-10-29T11:39:58.000Z",
         "Cristiano",
         "Pereira",
         "cristiano@meu_email.com",
         "9 4404-8717",
         "Brasil",
         "Piauí",
         "Praça 100 do Estado Piauí",
         809.0,
         null
        ],
        [
         95,
         "2018-10-01T11:35:59.000Z",
         "Mariana",
         "Rosa",
         "mariana@usuario.com",
         "9 3139-2145",
         "Brasil",
         null,
         null,
         null,
         null
        ],
        [
         96,
         "2018-01-23T19:14:21.000Z",
         "Paulo",
         "Câmara",
         "paulo@usuario.com",
         "9 4785-1135",
         "Brasil",
         "Sergipe",
         "Praça 73 do Estado Sergipe",
         219.0,
         "Apto 6"
        ],
        [
         97,
         "2018-07-04T18:45:41.000Z",
         "Marta",
         "Góes",
         "marta@teste.com",
         "9 4102-4352",
         "Brasil",
         "Paraná",
         "Rua 61 do Estado Paraná",
         402.0,
         "Apto 24"
        ],
        [
         98,
         "2018-01-24T16:21:06.000Z",
         "Cibele",
         "Costa",
         "cibele@meu_email.com",
         "9 4211-6968",
         "Brasil",
         "Mato Grosso",
         "Praça 75 do Estado Mato Grosso",
         24.0,
         null
        ],
        [
         99,
         "2018-07-24T08:26:27.000Z",
         "Jéssica",
         "Jesus",
         "jéssica@usuario.com",
         "9 6100-1466",
         "Brasil",
         "Paraná",
         "Avenida 19 do Estado Paraná",
         738.0,
         "Conjunto 22"
        ]
       ],
       "datasetInfos": [
        {
         "name": "_sqldf",
         "schema": {
          "fields": [
           {
            "metadata": {},
            "name": "id",
            "nullable": true,
            "type": "integer"
           },
           {
            "metadata": {},
            "name": "created_at",
            "nullable": true,
            "type": "timestamp"
           },
           {
            "metadata": {},
            "name": "first_name",
            "nullable": true,
            "type": "string"
           },
           {
            "metadata": {},
            "name": "last_name",
            "nullable": true,
            "type": "string"
           },
           {
            "metadata": {},
            "name": "email",
            "nullable": true,
            "type": "string"
           },
           {
            "metadata": {},
            "name": "cell_phone",
            "nullable": true,
            "type": "string"
           },
           {
            "metadata": {},
            "name": "country",
            "nullable": true,
            "type": "string"
           },
           {
            "metadata": {},
            "name": "state",
            "nullable": true,
            "type": "string"
           },
           {
            "metadata": {},
            "name": "street",
            "nullable": true,
            "type": "string"
           },
           {
            "metadata": {},
            "name": "number",
            "nullable": true,
            "type": "double"
           },
           {
            "metadata": {},
            "name": "additionals",
            "nullable": true,
            "type": "string"
           }
          ],
          "type": "struct"
         },
         "tableIdentifier": null,
         "typeStr": "pyspark.sql.connect.dataframe.DataFrame"
        }
       ],
       "dbfsResultPath": null,
       "isJsonSchema": true,
       "metadata": {
        "createTempViewForImplicitDf": true,
        "dataframeName": "_sqldf",
        "executionCount": 44
       },
       "overflow": false,
       "plotOptions": {
        "customPlotOptions": {},
        "displayType": "table",
        "pivotAggregation": null,
        "pivotColumns": null,
        "xColumns": null,
        "yColumns": null
       },
       "removedWidgets": [],
       "schema": [
        {
         "metadata": "{}",
         "name": "id",
         "type": "\"integer\""
        },
        {
         "metadata": "{}",
         "name": "created_at",
         "type": "\"timestamp\""
        },
        {
         "metadata": "{}",
         "name": "first_name",
         "type": "\"string\""
        },
        {
         "metadata": "{}",
         "name": "last_name",
         "type": "\"string\""
        },
        {
         "metadata": "{}",
         "name": "email",
         "type": "\"string\""
        },
        {
         "metadata": "{}",
         "name": "cell_phone",
         "type": "\"string\""
        },
        {
         "metadata": "{}",
         "name": "country",
         "type": "\"string\""
        },
        {
         "metadata": "{}",
         "name": "state",
         "type": "\"string\""
        },
        {
         "metadata": "{}",
         "name": "street",
         "type": "\"string\""
        },
        {
         "metadata": "{}",
         "name": "number",
         "type": "\"double\""
        },
        {
         "metadata": "{}",
         "name": "additionals",
         "type": "\"string\""
        }
       ],
       "type": "table"
      }
     },
     "output_type": "display_data"
    }
   ],
   "source": [
    "%sql\n",
    "--Exibir o DataFrame\n",
    "select * from default.clientes"
   ]
  },
  {
   "cell_type": "markdown",
   "metadata": {
    "application/vnd.databricks.v1+cell": {
     "cellMetadata": {},
     "inputWidgets": {},
     "nuid": "e29d5802-cf9f-4df4-b09b-746b1bf401a8",
     "showTitle": false,
     "tableResultSettingsMap": {},
     "title": ""
    }
   },
   "source": [
    "Separando por Schema"
   ]
  },
  {
   "cell_type": "code",
   "execution_count": 0,
   "metadata": {
    "application/vnd.databricks.v1+cell": {
     "cellMetadata": {
      "byteLimit": 2048000,
      "implicitDf": true,
      "rowLimit": 10000
     },
     "inputWidgets": {},
     "nuid": "cd23fd45-ff8d-4f5b-a6b7-bf7ebf08e760",
     "showTitle": false,
     "tableResultSettingsMap": {},
     "title": ""
    }
   },
   "outputs": [],
   "source": [
    "%sql\n",
    "CREATE SCHEMA WORKSPACE.TESTE    \n"
   ]
  },
  {
   "cell_type": "code",
   "execution_count": 0,
   "metadata": {
    "application/vnd.databricks.v1+cell": {
     "cellMetadata": {
      "byteLimit": 2048000,
      "rowLimit": 10000
     },
     "inputWidgets": {},
     "nuid": "62015db2-1e53-4d38-8a09-80aa48d409a3",
     "showTitle": false,
     "tableResultSettingsMap": {},
     "title": ""
    }
   },
   "outputs": [],
   "source": [
    "%python\n",
    "# Caminho do arquivo\n",
    "file_path = 'dbfs:/Volumes/workspace/default/arquivos-aula/arquivos_csv/Clientes.csv'\n",
    "\n",
    "# Leitura do arquivo CSV\n",
    "df_clientes = spark.read.format('csv') \\\n",
    "    .option('header', 'true') \\\n",
    "    .option('inferSchema', 'true') \\\n",
    "    .option('delimiter', ',') \\\n",
    "    .load(file_path)\n",
    "\n",
    "# Salvar o DataFrame como uma tabela física\n",
    "df_clientes.write.mode('overwrite').saveAsTable('workspace.teste.clientes')\n",
    "\n"
   ]
  },
  {
   "cell_type": "code",
   "execution_count": 0,
   "metadata": {
    "application/vnd.databricks.v1+cell": {
     "cellMetadata": {
      "byteLimit": 2048000,
      "implicitDf": true,
      "rowLimit": 10000
     },
     "inputWidgets": {},
     "nuid": "766e841e-53fd-4d2a-9118-dff9ae1006d6",
     "showTitle": false,
     "tableResultSettingsMap": {},
     "title": ""
    }
   },
   "outputs": [],
   "source": [
    "%sql\n",
    "DROP SCHEMA WORKSPACE.TESTE CASCADE\n",
    "\n",
    "-- Não execute este comando de forma alguma em produção ou em sua empresa, exemplo somente para a nossa aula , isso pode deletar todo o banco e dados da sua organização "
   ]
  },
  {
   "cell_type": "code",
   "execution_count": 0,
   "metadata": {
    "application/vnd.databricks.v1+cell": {
     "cellMetadata": {
      "byteLimit": 2048000,
      "implicitDf": true,
      "rowLimit": 10000
     },
     "inputWidgets": {},
     "nuid": "fc40f4a9-634a-4dc2-8f4e-7a8ba3305ec1",
     "showTitle": false,
     "tableResultSettingsMap": {},
     "title": ""
    }
   },
   "outputs": [],
   "source": [
    "%sql\n",
    "--deletar tabela  \n",
    "drop table default.clientes"
   ]
  },
  {
   "cell_type": "markdown",
   "metadata": {
    "application/vnd.databricks.v1+cell": {
     "cellMetadata": {},
     "inputWidgets": {},
     "nuid": "f41e95e4-a818-4b27-9eaf-0898c9144905",
     "showTitle": false,
     "tableResultSettingsMap": {},
     "title": ""
    }
   },
   "source": []
  }
 ],
 "metadata": {
  "application/vnd.databricks.v1+notebook": {
   "computePreferences": {
    "hardware": {
     "accelerator": null,
     "gpuPoolId": null,
     "memory": "HIGH"
    }
   },
   "dashboards": [],
   "environmentMetadata": {
    "base_environment": "",
    "environment_version": "2"
   },
   "inputWidgetPreferences": null,
   "language": "python",
   "notebookMetadata": {
    "mostRecentlyExecutedCommandWithImplicitDF": {
     "commandId": 5709143742458395,
     "dataframes": [
      "_sqldf"
     ]
    },
    "pythonIndentUnit": 4
   },
   "notebookName": "01.Transformando Arquivos em Tabelas Free- Edition",
   "widgets": {}
  },
  "language_info": {
   "name": "python"
  }
 },
 "nbformat": 4,
 "nbformat_minor": 0
}