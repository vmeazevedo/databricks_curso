{
 "cells": [
  {
   "cell_type": "markdown",
   "metadata": {
    "application/vnd.databricks.v1+cell": {
     "cellMetadata": {},
     "inputWidgets": {},
     "nuid": "160e5382-b237-4673-b19b-4fee3c095827",
     "showTitle": false,
     "tableResultSettingsMap": {},
     "title": ""
    }
   },
   "source": [
    "#####Documentação\n",
    "\n",
    "https://spark.apache.org/docs/latest/api/python/reference/pyspark.sql/api/pyspark.sql.DataFrame.filter.html\n"
   ]
  },
  {
   "cell_type": "code",
   "execution_count": 0,
   "metadata": {
    "application/vnd.databricks.v1+cell": {
     "cellMetadata": {
      "byteLimit": 2048000,
      "rowLimit": 10000
     },
     "inputWidgets": {},
     "nuid": "c282ccce-d940-4362-bff8-5e9ef3b38dcf",
     "showTitle": false,
     "tableResultSettingsMap": {},
     "title": ""
    }
   },
   "outputs": [],
   "source": [
    "df = spark.read.json(\"/Volumes/workspace/default/arquivos-aula/Anac/V_OCORRENCIA_AMPLA.json\")\n",
    "display(df)"
   ]
  },
  {
   "cell_type": "markdown",
   "metadata": {
    "application/vnd.databricks.v1+cell": {
     "cellMetadata": {},
     "inputWidgets": {},
     "nuid": "84b83204-eacb-43ed-8299-3bfc60b89137",
     "showTitle": false,
     "tableResultSettingsMap": {},
     "title": ""
    }
   },
   "source": [
    "##### Filtros de texto \n",
    "Sintaxe (Filter)"
   ]
  },
  {
   "cell_type": "code",
   "execution_count": 0,
   "metadata": {
    "application/vnd.databricks.v1+cell": {
     "cellMetadata": {
      "byteLimit": 2048000,
      "rowLimit": 10000
     },
     "inputWidgets": {},
     "nuid": "1ce1ab1d-082d-4aa9-8a6f-66f81bb4eb10",
     "showTitle": false,
     "tableResultSettingsMap": {},
     "title": ""
    }
   },
   "outputs": [],
   "source": [
    "#sintaxe . filter 1° localiza a coluna e faz o filtro como é string o criterio tem que ser emtre aspas simples ou duplas \n",
    "df.filter(df.UF == \"MG\") # nao rodar "
   ]
  },
  {
   "cell_type": "code",
   "execution_count": 0,
   "metadata": {
    "application/vnd.databricks.v1+cell": {
     "cellMetadata": {
      "byteLimit": 2048000,
      "rowLimit": 10000
     },
     "inputWidgets": {},
     "nuid": "b3a8d633-a7a7-4d06-877b-1bcc194e1502",
     "showTitle": false,
     "tableResultSettingsMap": {},
     "title": ""
    }
   },
   "outputs": [],
   "source": [
    "#vizualizando os dados sem salvar em um DF novo ou sobrescrever o antigo \n",
    "display(df.filter(df.UF == \"MG\"))"
   ]
  },
  {
   "cell_type": "code",
   "execution_count": 0,
   "metadata": {
    "application/vnd.databricks.v1+cell": {
     "cellMetadata": {
      "byteLimit": 2048000,
      "rowLimit": 10000
     },
     "inputWidgets": {},
     "nuid": "b7086451-e104-4335-91e3-51bcbe0f73f7",
     "showTitle": false,
     "tableResultSettingsMap": {},
     "title": ""
    }
   },
   "outputs": [],
   "source": [
    "#Salvando em um novo DF\n",
    "df_MG = df.filter(df.UF == \"MG\")\n",
    "display(df_MG)\n"
   ]
  },
  {
   "cell_type": "markdown",
   "metadata": {
    "application/vnd.databricks.v1+cell": {
     "cellMetadata": {},
     "inputWidgets": {},
     "nuid": "c3146394-151b-40d1-b2ee-3feee792e2d7",
     "showTitle": false,
     "tableResultSettingsMap": {},
     "title": ""
    }
   },
   "source": [
    "###### Vários Critérios"
   ]
  },
  {
   "cell_type": "code",
   "execution_count": 0,
   "metadata": {
    "application/vnd.databricks.v1+cell": {
     "cellMetadata": {},
     "inputWidgets": {},
     "nuid": "bc12fb88-e7fd-4aba-bab9-3d8d48ba2500",
     "showTitle": false,
     "tableResultSettingsMap": {},
     "title": ""
    }
   },
   "outputs": [],
   "source": [
    "# Para voce treinar \n",
    "\"\"\"\n",
    "\n",
    "& = \"E\" lógico  ,  tem que cumprir todos os criterios para retornar o resultado 1° filtro e o 2° filtro o que tiver resultado igual nos 2 criterios ele vai trazer \n",
    "| = \"OU\" lógico , quando obedcer um criterio ou o outro ele vai trazer \n",
    "!= (significa diferente)\n",
    "\n",
    "Nomes \n",
    "& = e comercial\n",
    "| = \"barra vertical\" ou \"pipe\". \n",
    "\n",
    "\"\"\""
   ]
  },
  {
   "cell_type": "code",
   "execution_count": 0,
   "metadata": {
    "application/vnd.databricks.v1+cell": {
     "cellMetadata": {
      "byteLimit": 2048000,
      "rowLimit": 10000
     },
     "inputWidgets": {},
     "nuid": "c0db5a8a-a98e-48f1-b2e3-508f956073ab",
     "showTitle": false,
     "tableResultSettingsMap": {},
     "title": ""
    }
   },
   "outputs": [],
   "source": [
    "df = spark.read.json(\"/Volumes/workspace/default/arquivos-aula/Anac/V_OCORRENCIA_AMPLA.json\")\n",
    "display(df)"
   ]
  },
  {
   "cell_type": "code",
   "execution_count": 0,
   "metadata": {
    "application/vnd.databricks.v1+cell": {
     "cellMetadata": {
      "byteLimit": 2048000,
      "rowLimit": 10000
     },
     "inputWidgets": {},
     "nuid": "32b9be9d-b789-4e61-badd-07001378f870",
     "showTitle": false,
     "tableResultSettingsMap": {},
     "title": ""
    }
   },
   "outputs": [],
   "source": [
    "#Obs Passar cada Criterio emtre parenteses com o operador lógico no meio para separar os criterios \n",
    "display(df.filter((df.UF == \"MG\") & (df.Classificacao_da_Ocorrência == \"Incidente\")))"
   ]
  },
  {
   "cell_type": "code",
   "execution_count": 0,
   "metadata": {
    "application/vnd.databricks.v1+cell": {
     "cellMetadata": {
      "byteLimit": 2048000,
      "rowLimit": 10000
     },
     "inputWidgets": {},
     "nuid": "5775819b-9b33-488f-925b-528bb354bb2f",
     "showTitle": false,
     "tableResultSettingsMap": {},
     "title": ""
    }
   },
   "outputs": [],
   "source": [
    "display(df.filter((df.Danos_a_Aeronave == \"leve\") | (df.Classificacao_da_Ocorrência == \"Incidente\")))"
   ]
  },
  {
   "cell_type": "code",
   "execution_count": 0,
   "metadata": {
    "application/vnd.databricks.v1+cell": {
     "cellMetadata": {
      "byteLimit": 2048000,
      "rowLimit": 10000
     },
     "inputWidgets": {},
     "nuid": "30ed1a23-a670-4f15-98fd-48a89b33fe0b",
     "showTitle": false,
     "tableResultSettingsMap": {},
     "title": ""
    }
   },
   "outputs": [],
   "source": [
    "#Mesmo exemplo com o &\n",
    "display(df.filter((df.Danos_a_Aeronave == \"Leve\") & (df.Classificacao_da_Ocorrência == \"Incidente\")))"
   ]
  },
  {
   "cell_type": "code",
   "execution_count": 0,
   "metadata": {
    "application/vnd.databricks.v1+cell": {
     "cellMetadata": {
      "byteLimit": 2048000,
      "rowLimit": 10000
     },
     "inputWidgets": {},
     "nuid": "410cef2d-343e-4662-8a90-caf026103b16",
     "showTitle": false,
     "tableResultSettingsMap": {},
     "title": ""
    }
   },
   "outputs": [],
   "source": [
    "#Salvando em um Df novo\n",
    "dfnovo = df.filter((df.Danos_a_Aeronave != \"Leve\") & (df.Classificacao_da_Ocorrência == \"Incidente\"))\n",
    "display(dfnovo)"
   ]
  },
  {
   "cell_type": "markdown",
   "metadata": {
    "application/vnd.databricks.v1+cell": {
     "cellMetadata": {},
     "inputWidgets": {},
     "nuid": "59a1d56b-b8df-4945-8179-03a30e32552a",
     "showTitle": false,
     "tableResultSettingsMap": {},
     "title": ""
    }
   },
   "source": [
    "###### Metodo where"
   ]
  },
  {
   "cell_type": "code",
   "execution_count": 0,
   "metadata": {
    "application/vnd.databricks.v1+cell": {
     "cellMetadata": {
      "byteLimit": 2048000,
      "rowLimit": 10000
     },
     "inputWidgets": {},
     "nuid": "9f24841a-9a4b-495c-842e-f21a57d3e0dd",
     "showTitle": false,
     "tableResultSettingsMap": {},
     "title": ""
    }
   },
   "outputs": [],
   "source": [
    "df = spark.read.json(\"/Volumes/workspace/default/arquivos-aula/Anac/V_OCORRENCIA_AMPLA.json\")\n",
    "display(df)"
   ]
  },
  {
   "cell_type": "code",
   "execution_count": 0,
   "metadata": {
    "application/vnd.databricks.v1+cell": {
     "cellMetadata": {},
     "inputWidgets": {},
     "nuid": "3117ed56-1951-4e07-9545-7f31f30ad3ef",
     "showTitle": false,
     "tableResultSettingsMap": {},
     "title": ""
    }
   },
   "outputs": [],
   "source": [
    "#sintaxe (where = Onde)\n",
    "df.where(df.UF == 'SP') # nao rodar\n"
   ]
  },
  {
   "cell_type": "code",
   "execution_count": 0,
   "metadata": {
    "application/vnd.databricks.v1+cell": {
     "cellMetadata": {
      "byteLimit": 2048000,
      "rowLimit": 10000
     },
     "inputWidgets": {},
     "nuid": "ac860868-0051-4423-ada1-9446b006e52e",
     "showTitle": false,
     "tableResultSettingsMap": {},
     "title": ""
    }
   },
   "outputs": [],
   "source": [
    "#visualizando os dados nao estou salvando em lugar nenhum \n",
    "display(df.where(df.UF == 'SP'))"
   ]
  },
  {
   "cell_type": "code",
   "execution_count": 0,
   "metadata": {
    "application/vnd.databricks.v1+cell": {
     "cellMetadata": {
      "byteLimit": 2048000,
      "rowLimit": 10000
     },
     "inputWidgets": {},
     "nuid": "c827aed8-d064-4f95-9133-21b32c9b3bd5",
     "showTitle": false,
     "tableResultSettingsMap": {},
     "title": ""
    }
   },
   "outputs": [],
   "source": [
    "display(  df.where((df.Danos_a_Aeronave == \"Leve\") & (df.Classificacao_da_Ocorrência == \"Incidente\")) )"
   ]
  },
  {
   "cell_type": "code",
   "execution_count": 0,
   "metadata": {
    "application/vnd.databricks.v1+cell": {
     "cellMetadata": {
      "byteLimit": 2048000,
      "rowLimit": 10000
     },
     "inputWidgets": {},
     "nuid": "fedc057c-3689-4d2c-a3a1-7e1d9431e4d3",
     "showTitle": false,
     "tableResultSettingsMap": {},
     "title": ""
    }
   },
   "outputs": [],
   "source": [
    "#Salvando em um DF\n",
    "DfFiltrado =   df.where((df.Danos_a_Aeronave == \"Leve\") & (df.Classificacao_da_Ocorrência == \"Incidente\"))\n",
    "display(DfFiltrado)"
   ]
  },
  {
   "cell_type": "markdown",
   "metadata": {
    "application/vnd.databricks.v1+cell": {
     "cellMetadata": {},
     "inputWidgets": {},
     "nuid": "1ef3792a-cdf8-4389-8dc9-965d325949a7",
     "showTitle": false,
     "tableResultSettingsMap": {},
     "title": ""
    }
   },
   "source": [
    "######Método Comando SQL\n",
    "Documentação https://spark.apache.org/docs/latest/api/sql/"
   ]
  },
  {
   "cell_type": "code",
   "execution_count": 0,
   "metadata": {
    "application/vnd.databricks.v1+cell": {
     "cellMetadata": {
      "byteLimit": 2048000,
      "rowLimit": 10000
     },
     "inputWidgets": {},
     "nuid": "ac08975e-a117-4495-8156-95caf35dd5fc",
     "showTitle": false,
     "tableResultSettingsMap": {},
     "title": ""
    }
   },
   "outputs": [],
   "source": [
    "df = spark.read.json(\"/Volumes/workspace/default/arquivos-aula/Anac/V_OCORRENCIA_AMPLA.json\")\n",
    "display(df)"
   ]
  },
  {
   "cell_type": "code",
   "execution_count": 0,
   "metadata": {
    "application/vnd.databricks.v1+cell": {
     "cellMetadata": {
      "byteLimit": 2048000,
      "rowLimit": 10000
     },
     "inputWidgets": {},
     "nuid": "14953403-e7fa-4b7c-b8e1-e0526f084694",
     "showTitle": false,
     "tableResultSettingsMap": {},
     "title": ""
    }
   },
   "outputs": [],
   "source": [
    "#Criar uma tabela temporaria\n",
    "\n",
    "df.createOrReplaceTempView(\"temp_teste\")\n",
    "mg = spark.sql('''  \n",
    "SELECT \n",
    "\"Classificacao_da_Ocorrência\" as Classificacao\n",
    ",Descricao_do_Tipo            as Tipo\n",
    ",Fase_da_Operacao                Fase\n",
    ",Municipio \n",
    ",UF                           as Estado\n",
    "FROM temp_teste\n",
    "WHERE UF = \"MG\" \n",
    "and Fase_da_Operacao = \"Decolagem\"\n",
    "''')\n",
    "\n",
    "display(mg)\n"
   ]
  },
  {
   "cell_type": "code",
   "execution_count": 0,
   "metadata": {
    "application/vnd.databricks.v1+cell": {
     "cellMetadata": {
      "byteLimit": 2048000,
      "rowLimit": 10000
     },
     "inputWidgets": {},
     "nuid": "9c82d378-a24d-4e7f-9fe0-cf16863c4c75",
     "showTitle": false,
     "tableResultSettingsMap": {},
     "title": ""
    }
   },
   "outputs": [],
   "source": [
    "#Exemplo sem as 3 aspas simples ou Duplas\n",
    "mg = spark.sql(' SELECT * FROM temp_teste WHERE UF = \"MG\" ')\n",
    "display(mg)"
   ]
  },
  {
   "cell_type": "code",
   "execution_count": 0,
   "metadata": {
    "application/vnd.databricks.v1+cell": {
     "cellMetadata": {
      "byteLimit": 2048000,
      "implicitDf": true,
      "rowLimit": 10000
     },
     "inputWidgets": {},
     "nuid": "44a27d2d-4e42-4ace-bd70-14785f4c8229",
     "showTitle": false,
     "tableResultSettingsMap": {},
     "title": ""
    }
   },
   "outputs": [],
   "source": [
    "%sql\n",
    "show databases"
   ]
  },
  {
   "cell_type": "code",
   "execution_count": 0,
   "metadata": {
    "application/vnd.databricks.v1+cell": {
     "cellMetadata": {
      "byteLimit": 2048000,
      "implicitDf": true,
      "rowLimit": 10000
     },
     "inputWidgets": {},
     "nuid": "092d2030-be7d-4bda-aeda-a1dd25bf780d",
     "showTitle": false,
     "tableResultSettingsMap": {},
     "title": ""
    }
   },
   "outputs": [],
   "source": [
    "%sql\n",
    "show tables"
   ]
  },
  {
   "cell_type": "code",
   "execution_count": 0,
   "metadata": {
    "application/vnd.databricks.v1+cell": {
     "cellMetadata": {
      "byteLimit": 2048000,
      "implicitDf": true,
      "rowLimit": 10000
     },
     "inputWidgets": {},
     "nuid": "bcbee79f-445c-4325-a200-35e98d869d0f",
     "showTitle": false,
     "tableResultSettingsMap": {},
     "title": ""
    }
   },
   "outputs": [],
   "source": [
    "%sql\n",
    "DROP TABLE IF EXISTS temp_teste;\n"
   ]
  },
  {
   "cell_type": "markdown",
   "metadata": {
    "application/vnd.databricks.v1+cell": {
     "cellMetadata": {},
     "inputWidgets": {},
     "nuid": "2daf4757-1ee9-4601-9037-2adc1051f222",
     "showTitle": false,
     "tableResultSettingsMap": {},
     "title": ""
    }
   },
   "source": [
    "###### Functions do Spark\n",
    "Documentação functions\n",
    "https://spark.apache.org/docs/latest/sql-ref-functions.html\n",
    "\n",
    "Documentação functions string\n",
    "https://spark.apache.org/docs/latest/sql-ref-functions-builtin.html#string-functions"
   ]
  },
  {
   "cell_type": "code",
   "execution_count": 0,
   "metadata": {
    "application/vnd.databricks.v1+cell": {
     "cellMetadata": {
      "byteLimit": 2048000,
      "rowLimit": 10000
     },
     "inputWidgets": {},
     "nuid": "28d0c4de-396f-46ca-aa45-54b5014394f5",
     "showTitle": false,
     "tableResultSettingsMap": {},
     "title": ""
    }
   },
   "outputs": [],
   "source": [
    "from pyspark.sql.functions import *  # importanto mais funções * traz tudo pode trocar o * por uma especifica \n",
    "\"\"\"\n",
    "O PySpark fornece uma ampla gama de funções dentro do módulo pyspark.sql.functions.\n",
    "Alguns Exemplos\n",
    "\n",
    "col: Retorna uma coluna do DataFrame com base no nome fornecido.\n",
    "Exemplo: col(\"nome_da_coluna\")\n",
    "\n",
    "concat: Concatena várias colunas em uma única coluna.\n",
    "Exemplo: concat(col(\"coluna1\"), lit(\" \"), col(\"coluna2\"))\n",
    "\n",
    "substring: Retorna uma parte de uma coluna de texto com base em índices.\n",
    "Exemplo: substring(col(\"texto\"), 1, 3)\n",
    "\n",
    "length: Retorna o comprimento de uma coluna de texto.\n",
    "Exemplo: length(col(\"texto\"))\n",
    "\n",
    "lower: Converte o texto de uma coluna para minúsculas.\n",
    "Exemplo: lower(col(\"texto\"))\n",
    "\n",
    "upper: Converte o texto de uma coluna para maiúsculas.\n",
    "Exemplo: upper(col(\"texto\"))\n",
    "\n",
    "trim:Remove espaços em branco em branco do início e do final de uma coluna de texto.\n",
    "Exemplo: trim(col(\"texto\"))\n",
    "\n",
    "replace:Substitui um padrão por outro em uma coluna de texto.\n",
    "Exemplo: replace(col(\"texto\"), \"old\", \"new\")\n",
    "\n",
    "regexp_replace: Substitui um padrão de expressão regular por outro em uma coluna de texto.\n",
    "Exemplo: regexp_replace(col(\"texto\"), \"pattern\", \"replacement\")\n",
    "\n",
    "split:Divide uma coluna de texto em um array com base em um delimitador.\n",
    "Exemplo: split(col(\"texto\"), \" \")\n",
    "\n",
    "substring_index:Retorna as primeiras n ocorrências de um delimitador em uma coluna de texto.\n",
    "Exemplo: substring_index(col(\"texto\"), \" \", 2)\n",
    "\n",
    "concat_ws:Concatena colunas usando um delimitador especificado.\n",
    "Exemplo: concat_ws(\" \", col(\"coluna1\"), col(\"coluna2\"))\n",
    "\n",
    "when: Realiza uma operação condicional em uma coluna com base em uma condição.\n",
    "Exemplo: when(col(\"idade\") >= 18, \"adulto\").otherwise(\"menor\")\n",
    "\n",
    "coalesce: Retorna a primeira coluna não nula de um conjunto de colunas.\n",
    "Exemplo: coalesce(col(\"coluna1\"), col(\"coluna2\"), col(\"coluna3\"))\n",
    "\n",
    "Es'sas são apenas algumas das muitas funções' disponíveis no módulo pyspark.sql.functions\n",
    "\n",
    "\"\"\""
   ]
  },
  {
   "cell_type": "code",
   "execution_count": 0,
   "metadata": {
    "application/vnd.databricks.v1+cell": {
     "cellMetadata": {
      "byteLimit": 2048000,
      "rowLimit": 10000
     },
     "inputWidgets": {},
     "nuid": "73e314fe-2ac4-4ce8-ae3b-60098c93fca1",
     "showTitle": false,
     "tableResultSettingsMap": {},
     "title": ""
    }
   },
   "outputs": [],
   "source": [
    "df = spark.read.json(\"/Volumes/workspace/default/arquivos-aula/Anac/V_OCORRENCIA_AMPLA.json\")\n",
    "display(df)"
   ]
  },
  {
   "cell_type": "code",
   "execution_count": 0,
   "metadata": {
    "application/vnd.databricks.v1+cell": {
     "cellMetadata": {
      "byteLimit": 2048000,
      "rowLimit": 10000
     },
     "inputWidgets": {},
     "nuid": "04f89817-c386-4819-93d2-7a6d90064e73",
     "showTitle": false,
     "tableResultSettingsMap": {},
     "title": ""
    }
   },
   "outputs": [],
   "source": [
    "from pyspark.sql.functions import *\n",
    "#importando + funções do Spark\n"
   ]
  },
  {
   "cell_type": "code",
   "execution_count": 0,
   "metadata": {
    "application/vnd.databricks.v1+cell": {
     "cellMetadata": {
      "byteLimit": 2048000,
      "rowLimit": 10000
     },
     "inputWidgets": {},
     "nuid": "791d7910-c0fe-4e1d-b777-c600c1cee626",
     "showTitle": false,
     "tableResultSettingsMap": {},
     "title": ""
    }
   },
   "outputs": [],
   "source": [
    "  # Retorna uma coluna do DataFrame passando nome como referencia\n",
    "  display(df.filter(col('UF') == 'SP'))  \n",
    "\n",
    "# display(df.filter(df.UF == 'SP')) Jeito aulas anteriores"
   ]
  },
  {
   "cell_type": "markdown",
   "metadata": {
    "application/vnd.databricks.v1+cell": {
     "cellMetadata": {},
     "inputWidgets": {},
     "nuid": "395b0964-c68e-4f17-a65b-5b2f695d1418",
     "showTitle": false,
     "tableResultSettingsMap": {},
     "title": ""
    }
   },
   "source": [
    "######Filtrando pelo indice da coluna"
   ]
  },
  {
   "cell_type": "code",
   "execution_count": 0,
   "metadata": {
    "application/vnd.databricks.v1+cell": {
     "cellMetadata": {
      "byteLimit": 2048000,
      "rowLimit": 10000
     },
     "inputWidgets": {},
     "nuid": "1ad27753-a27a-4a2f-81d6-3059c789a196",
     "showTitle": false,
     "tableResultSettingsMap": {},
     "title": ""
    }
   },
   "outputs": [],
   "source": [
    "#Localizando Indice em Dados com varias colunas \n",
    "Coluna = \"Operador\"\n",
    "Indice = df.columns.index(Coluna)\n",
    "display(Indice)"
   ]
  },
  {
   "cell_type": "code",
   "execution_count": 0,
   "metadata": {
    "application/vnd.databricks.v1+cell": {
     "cellMetadata": {
      "byteLimit": 2048000,
      "rowLimit": 10000
     },
     "inputWidgets": {},
     "nuid": "6d8b8b55-1232-4c85-8d97-3ddcebbd201f",
     "showTitle": false,
     "tableResultSettingsMap": {},
     "title": ""
    }
   },
   "outputs": [],
   "source": [
    "# Lista vazia para inserir os dados\n",
    "ListaIndices = []\n",
    "\n",
    "# Loop \n",
    "for Coluna in df.columns:\n",
    "    Indice = df.columns.index(Coluna)\n",
    "    ListaIndices.append((Coluna, Indice))\n",
    "\n",
    "# Salvar lista em DF\n",
    "df_indices = spark.createDataFrame(ListaIndices, [\"Coluna\", \"Indice\"])\n",
    "\n",
    "display(df_indices)\n"
   ]
  },
  {
   "cell_type": "code",
   "execution_count": 0,
   "metadata": {
    "application/vnd.databricks.v1+cell": {
     "cellMetadata": {
      "byteLimit": 2048000,
      "rowLimit": 10000
     },
     "inputWidgets": {},
     "nuid": "19f34516-368c-4d03-b312-e0f6b8a7d480",
     "showTitle": false,
     "tableResultSettingsMap": {},
     "title": ""
    }
   },
   "outputs": [],
   "source": [
    "# Filtrando pelo indice \n",
    "df_filtrado = df.filter(col(df.columns[43]) == \"SCF-PP\") \n",
    "display(df_filtrado)\n"
   ]
  },
  {
   "cell_type": "code",
   "execution_count": 0,
   "metadata": {
    "application/vnd.databricks.v1+cell": {
     "cellMetadata": {
      "byteLimit": 2048000,
      "rowLimit": 10000
     },
     "inputWidgets": {},
     "nuid": "3fadf409-818f-422a-866f-84009f915151",
     "showTitle": false,
     "tableResultSettingsMap": {},
     "title": ""
    }
   },
   "outputs": [],
   "source": [
    "# Filtro Personalizado  com variaveis , vai da muito certo e organizado \n",
    "Coluna = 'UF'\n",
    "Filtro = 'SP'\n",
    "display(df.filter(df[Coluna] == Filtro))\n",
    "\n"
   ]
  },
  {
   "cell_type": "code",
   "execution_count": 0,
   "metadata": {
    "application/vnd.databricks.v1+cell": {
     "cellMetadata": {
      "byteLimit": 2048000,
      "rowLimit": 10000
     },
     "inputWidgets": {},
     "nuid": "0202a23f-c464-46df-8e2d-0353d1b5ad26",
     "showTitle": false,
     "tableResultSettingsMap": {},
     "title": ""
    }
   },
   "outputs": [],
   "source": [
    "Coluna = 'Fase_da_Operacao'\n",
    "Filtro = 'Decolagem'\n",
    "display(df.filter(df[Coluna] == Filtro))\n"
   ]
  },
  {
   "cell_type": "code",
   "execution_count": 0,
   "metadata": {
    "application/vnd.databricks.v1+cell": {
     "cellMetadata": {
      "byteLimit": 2048000,
      "rowLimit": 10000
     },
     "inputWidgets": {},
     "nuid": "448f9957-62d9-4d29-90d8-09989c5d7489",
     "showTitle": false,
     "tableResultSettingsMap": {},
     "title": ""
    }
   },
   "outputs": [],
   "source": [
    "Coluna1 = 'Fase_da_Operacao'\n",
    "Filtro1 = 'Decolagem'\n",
    "Coluna2 = 'UF'\n",
    "Filtro2 = 'MG'\n",
    "\n",
    "display(df.filter( (df[Coluna1] == Filtro1) & (df[Coluna2] == Filtro2)   )  )\n",
    "\n",
    "#Obs entre a criação da variavel e o criterio no filtro == ou !="
   ]
  },
  {
   "cell_type": "markdown",
   "metadata": {
    "application/vnd.databricks.v1+cell": {
     "cellMetadata": {},
     "inputWidgets": {},
     "nuid": "b38c7bb6-bf3f-44be-aa1a-f4801ec77813",
     "showTitle": false,
     "tableResultSettingsMap": {},
     "title": ""
    }
   },
   "source": [
    "######Corrigindo erro de maiúsculas e minúsculas"
   ]
  },
  {
   "cell_type": "code",
   "execution_count": 0,
   "metadata": {
    "application/vnd.databricks.v1+cell": {
     "cellMetadata": {
      "byteLimit": 2048000,
      "rowLimit": 10000
     },
     "inputWidgets": {},
     "nuid": "0ae42be1-3c63-4593-b22b-8c38b00e3704",
     "showTitle": false,
     "tableResultSettingsMap": {},
     "title": ""
    }
   },
   "outputs": [],
   "source": [
    "df = spark.read.json(\"/Volumes/workspace/default/arquivos-aula/Anac/V_OCORRENCIA_AMPLA.json\")\n",
    "display(df)"
   ]
  },
  {
   "cell_type": "code",
   "execution_count": 0,
   "metadata": {
    "application/vnd.databricks.v1+cell": {
     "cellMetadata": {
      "byteLimit": 2048000,
      "rowLimit": 10000
     },
     "inputWidgets": {},
     "nuid": "72adb0f0-c21a-4dd4-b48a-9e26b64e0c5d",
     "showTitle": false,
     "tableResultSettingsMap": {},
     "title": ""
    }
   },
   "outputs": [],
   "source": [
    "display(df.filter(df.Fase_da_Operacao == 'Decolagem'))"
   ]
  },
  {
   "cell_type": "code",
   "execution_count": 0,
   "metadata": {
    "application/vnd.databricks.v1+cell": {
     "cellMetadata": {
      "byteLimit": 2048000,
      "rowLimit": 10000
     },
     "inputWidgets": {},
     "nuid": "b76c5344-7107-4b86-9e8c-b314dd6405dc",
     "showTitle": false,
     "tableResultSettingsMap": {},
     "title": ""
    }
   },
   "outputs": [],
   "source": [
    "display(df.filter(df.Fase_da_Operacao == 'decolagem'))"
   ]
  },
  {
   "cell_type": "code",
   "execution_count": 0,
   "metadata": {
    "application/vnd.databricks.v1+cell": {
     "cellMetadata": {
      "byteLimit": 2048000,
      "rowLimit": 10000
     },
     "inputWidgets": {},
     "nuid": "9573d9d9-fa49-4bca-a29d-22d252c39545",
     "showTitle": false,
     "tableResultSettingsMap": {},
     "title": ""
    }
   },
   "outputs": [],
   "source": [
    "#Correção para bases grandes\n",
    "#1° verificar comportamento \n",
    "#2° criar um padrão para as colunas\n",
    "\n",
    "df.select(\"Fase_da_Operacao\").distinct().show()\n"
   ]
  },
  {
   "cell_type": "code",
   "execution_count": 0,
   "metadata": {
    "application/vnd.databricks.v1+cell": {
     "cellMetadata": {},
     "inputWidgets": {},
     "nuid": "dc7abb69-5c00-4830-9c10-1502fabdc19d",
     "showTitle": false,
     "tableResultSettingsMap": {},
     "title": ""
    }
   },
   "outputs": [],
   "source": [
    "from pyspark.sql.functions import upper,lower #poderia ser * tambem para traser tudo "
   ]
  },
  {
   "cell_type": "code",
   "execution_count": 0,
   "metadata": {
    "application/vnd.databricks.v1+cell": {
     "cellMetadata": {
      "byteLimit": 2048000,
      "rowLimit": 10000
     },
     "inputWidgets": {},
     "nuid": "ab4bc084-654c-4471-b187-a004f81223c7",
     "showTitle": false,
     "tableResultSettingsMap": {},
     "title": ""
    }
   },
   "outputs": [],
   "source": [
    "# Upper  = Transforma dados da coluna em maiúsculas\n",
    "display(df.select(upper(\"Fase_da_Operacao\")).distinct())"
   ]
  },
  {
   "cell_type": "code",
   "execution_count": 0,
   "metadata": {
    "application/vnd.databricks.v1+cell": {
     "cellMetadata": {
      "byteLimit": 2048000,
      "rowLimit": 10000
     },
     "inputWidgets": {},
     "nuid": "fc3b81d3-e44d-4a95-b4be-4c512a2b83d0",
     "showTitle": false,
     "tableResultSettingsMap": {},
     "title": ""
    }
   },
   "outputs": [],
   "source": [
    "# lower  = Transforma dados da coluna em minúsculas \n",
    "display(df.select(lower(\"Fase_da_Operacao\")).distinct())"
   ]
  },
  {
   "cell_type": "code",
   "execution_count": 0,
   "metadata": {
    "application/vnd.databricks.v1+cell": {
     "cellMetadata": {
      "byteLimit": 2048000,
      "rowLimit": 10000
     },
     "inputWidgets": {},
     "nuid": "2a69fc65-a6ff-48b8-a63b-7d049f7729e8",
     "showTitle": false,
     "tableResultSettingsMap": {},
     "title": ""
    }
   },
   "outputs": [],
   "source": [
    "#Filtro sem erro eu resolvi  fazer minúsculas\n",
    "display(df.filter(lower(df.Fase_da_Operacao) == 'decolagem'))"
   ]
  },
  {
   "cell_type": "code",
   "execution_count": 0,
   "metadata": {
    "application/vnd.databricks.v1+cell": {
     "cellMetadata": {
      "byteLimit": 2048000,
      "rowLimit": 10000
     },
     "inputWidgets": {},
     "nuid": "7bd7957e-2391-427e-8687-c7832bc51a44",
     "showTitle": false,
     "tableResultSettingsMap": {},
     "title": ""
    }
   },
   "outputs": [],
   "source": [
    "#salvar em um novo DF\n",
    "novo_df = df.filter(lower(df.Fase_da_Operacao) == 'decolagem')\n",
    "display(novo_df)\n",
    "\"\"\"\n",
    "notem que no DF Permanece como Maiusculo , usei somente no filtro para nao haver erro\n",
    "O Df permanece original depois vamos aprender a alterar direto na base \n",
    "\"\"\""
   ]
  },
  {
   "cell_type": "markdown",
   "metadata": {
    "application/vnd.databricks.v1+cell": {
     "cellMetadata": {},
     "inputWidgets": {},
     "nuid": "0630a830-a835-4d20-bc9d-d87a268f9f40",
     "showTitle": false,
     "tableResultSettingsMap": {},
     "title": ""
    }
   },
   "source": [
    "###### Resolvendo erros de Digitação com Espaços Excessivos"
   ]
  },
  {
   "cell_type": "code",
   "execution_count": 0,
   "metadata": {
    "application/vnd.databricks.v1+cell": {
     "cellMetadata": {
      "byteLimit": 2048000,
      "rowLimit": 10000
     },
     "inputWidgets": {},
     "nuid": "0d497374-0c75-4624-bfde-fb1ccd2c89df",
     "showTitle": false,
     "tableResultSettingsMap": {},
     "title": ""
    }
   },
   "outputs": [],
   "source": [
    "Dados = [(\"Belo Horizonte \", \"MG\", 2512070),\n",
    "        (\" Belo Horizonte \", \"MG\", 12106920),\n",
    "        (\"Rio de Janeiro\", \"RJ\", 6718903),\n",
    "        (\" Belo Horizonte\", \"MG\", 20001151),\n",
    "        (\"Brasília\", \"DF\", 3015268)]\n",
    "\n",
    "Colunas = [\"Cidade\", \"UF\", \"População\"]\n",
    "\n",
    "df = spark.createDataFrame(Dados, Colunas)\n",
    "display(df)"
   ]
  },
  {
   "cell_type": "code",
   "execution_count": 0,
   "metadata": {
    "application/vnd.databricks.v1+cell": {
     "cellMetadata": {
      "byteLimit": 2048000,
      "rowLimit": 10000
     },
     "inputWidgets": {},
     "nuid": "d59a3404-59ce-4a0e-8c24-eae425ab8c00",
     "showTitle": false,
     "tableResultSettingsMap": {},
     "title": ""
    }
   },
   "outputs": [],
   "source": [
    "display(df.filter(df.Cidade == 'Belo Horizonte'))"
   ]
  },
  {
   "cell_type": "code",
   "execution_count": 0,
   "metadata": {
    "application/vnd.databricks.v1+cell": {
     "cellMetadata": {
      "byteLimit": 2048000,
      "rowLimit": 10000
     },
     "inputWidgets": {},
     "nuid": "860c827a-29d9-4655-a914-eb5a4cd1bde9",
     "showTitle": false,
     "tableResultSettingsMap": {},
     "title": ""
    }
   },
   "outputs": [],
   "source": [
    "from pyspark.sql.functions import rtrim,ltrim,trim \n",
    "#poderia ser * tambem \n",
    "\"\"\"\n",
    "trim:  Remove espaços em branco do início e do final de uma coluna de texto.\n",
    "rtrim: Remove espaços em branco da direita \n",
    "ltrim: Remove espaços em branco da esquerda\n",
    "\n",
    "\"\"\"\n"
   ]
  },
  {
   "cell_type": "code",
   "execution_count": 0,
   "metadata": {
    "application/vnd.databricks.v1+cell": {
     "cellMetadata": {
      "byteLimit": 2048000,
      "rowLimit": 10000
     },
     "inputWidgets": {},
     "nuid": "17e234c0-8c0f-4b54-bed6-f219f6f87cbb",
     "showTitle": false,
     "tableResultSettingsMap": {},
     "title": ""
    }
   },
   "outputs": [],
   "source": [
    "display(df.filter(ltrim(df.Cidade) == 'Belo Horizonte'))\n",
    "# neste ele eliminou o espaço da esquerda e trouxe o resultado"
   ]
  },
  {
   "cell_type": "code",
   "execution_count": 0,
   "metadata": {
    "application/vnd.databricks.v1+cell": {
     "cellMetadata": {
      "byteLimit": 2048000,
      "rowLimit": 10000
     },
     "inputWidgets": {},
     "nuid": "69185cbc-1b05-4dcf-aa08-e5a1fc87c427",
     "showTitle": false,
     "tableResultSettingsMap": {},
     "title": ""
    }
   },
   "outputs": [],
   "source": [
    "display(df.filter(rtrim(df.Cidade) == 'Belo Horizonte'))\n",
    "# neste ele eliminou o espaço da direita e trouxe o resultado"
   ]
  },
  {
   "cell_type": "code",
   "execution_count": 0,
   "metadata": {
    "application/vnd.databricks.v1+cell": {
     "cellMetadata": {
      "byteLimit": 2048000,
      "rowLimit": 10000
     },
     "inputWidgets": {},
     "nuid": "6ec59329-334b-4575-b773-82195ac6e7b2",
     "showTitle": false,
     "tableResultSettingsMap": {},
     "title": ""
    }
   },
   "outputs": [],
   "source": [
    "display(df.filter(rtrim(ltrim(df.Cidade)) == 'Belo Horizonte'))"
   ]
  },
  {
   "cell_type": "code",
   "execution_count": 0,
   "metadata": {
    "application/vnd.databricks.v1+cell": {
     "cellMetadata": {
      "byteLimit": 2048000,
      "rowLimit": 10000
     },
     "inputWidgets": {},
     "nuid": "3073ecf4-20c2-4f24-b7ca-31167e9d402a",
     "showTitle": false,
     "tableResultSettingsMap": {},
     "title": ""
    }
   },
   "outputs": [],
   "source": [
    "display(df.filter(trim(df.Cidade) == 'Belo Horizonte'))\n",
    "#ja elimina os 2 o melhor de usar é esse "
   ]
  },
  {
   "cell_type": "code",
   "execution_count": 0,
   "metadata": {
    "application/vnd.databricks.v1+cell": {
     "cellMetadata": {
      "byteLimit": 2048000,
      "rowLimit": 10000
     },
     "inputWidgets": {},
     "nuid": "60caac46-c86f-4b4c-aa66-a6b56ffd3844",
     "showTitle": false,
     "tableResultSettingsMap": {},
     "title": ""
    }
   },
   "outputs": [],
   "source": [
    "BH =  df.filter(trim(df.Cidade) == 'Belo Horizonte')\n",
    "display(BH)"
   ]
  },
  {
   "cell_type": "code",
   "execution_count": 0,
   "metadata": {
    "application/vnd.databricks.v1+cell": {
     "cellMetadata": {
      "byteLimit": 2048000,
      "rowLimit": 10000
     },
     "inputWidgets": {},
     "nuid": "76035f32-7a9a-4d9b-897e-b3c92cd1af8f",
     "showTitle": false,
     "tableResultSettingsMap": {},
     "title": ""
    }
   },
   "outputs": [],
   "source": [
    "from pyspark.sql.functions import trim \n",
    "#Novo DF avacalhado para simular \n",
    "Dados = [(\"Belo Horizonte \", \"MG\", 2512070),\n",
    "        (\" Belo Horizonte \", \"MG\", 12106920),\n",
    "        (\"Rio de Janeiro\", \"RJ\", 6718903),\n",
    "        (\" Belo Horizonte\", \"MG\", 20001151),\n",
    "        (\"Brasília\", \"DF\", 3015268)]\n",
    "\n",
    "Colunas = [\"Cidade\", \"UF\", \"População\"]\n",
    "\n",
    "df = spark.createDataFrame(Dados, Colunas)\n",
    "display(df)\n"
   ]
  },
  {
   "cell_type": "code",
   "execution_count": 0,
   "metadata": {
    "application/vnd.databricks.v1+cell": {
     "cellMetadata": {
      "byteLimit": 2048000,
      "rowLimit": 10000
     },
     "inputWidgets": {},
     "nuid": "ef7c6c15-c449-4a89-8b99-05570eb69a89",
     "showTitle": false,
     "tableResultSettingsMap": {},
     "title": ""
    }
   },
   "outputs": [],
   "source": [
    "#colocando Df Certinho\n",
    "#withColumn adiciona ou substitui uma coluna (mesmo nome substitui nome diferente adiciona)\n",
    "df = df.withColumn(\"Cidade\", trim(df.Cidade))\n",
    "display(df)"
   ]
  },
  {
   "cell_type": "code",
   "execution_count": 0,
   "metadata": {
    "application/vnd.databricks.v1+cell": {
     "cellMetadata": {
      "byteLimit": 2048000,
      "rowLimit": 10000
     },
     "inputWidgets": {},
     "nuid": "03b98c91-ec5e-4cfa-ae95-7038e347aa50",
     "showTitle": false,
     "tableResultSettingsMap": {},
     "title": ""
    }
   },
   "outputs": [],
   "source": [
    "#Filtro sem usar o ltrim rtrim trim zrim gtrim jtrim rsrsrs ja foi tratado antes \n",
    "display(df.filter(df.Cidade == 'Belo Horizonte'))"
   ]
  },
  {
   "cell_type": "markdown",
   "metadata": {
    "application/vnd.databricks.v1+cell": {
     "cellMetadata": {},
     "inputWidgets": {},
     "nuid": "6a4df3a1-dc9a-47a4-a431-342d3616f890",
     "showTitle": false,
     "tableResultSettingsMap": {},
     "title": ""
    }
   },
   "source": [
    "###### Substituindo Dados avançados \n"
   ]
  },
  {
   "cell_type": "code",
   "execution_count": 0,
   "metadata": {
    "application/vnd.databricks.v1+cell": {
     "cellMetadata": {
      "byteLimit": 2048000,
      "rowLimit": 10000
     },
     "inputWidgets": {},
     "nuid": "3a4e45e0-f43a-4392-9259-c856d45365be",
     "showTitle": false,
     "tableResultSettingsMap": {},
     "title": ""
    }
   },
   "outputs": [],
   "source": [
    "# Simulando dados para os 27 estados do Brasil\n",
    "dados = [\n",
    "    (\"Acre\", \"AC\", 894470),\n",
    "    (\"Alagoas\", \"AL\", 3337357),\n",
    "    (\"Amapá\", \"AP\", 861773),\n",
    "    (\"Amazonas\", \"AM\", 4207714),\n",
    "    (\"Bahia\", \"BA\", 14930634),\n",
    "    (\"Ceará\", \"CE\", 9132078),\n",
    "    (\"Distrito Federal\", \"DF\", 3055149),\n",
    "    (\"Espírito Santo\", \"ES\", 4018650),\n",
    "    (\"Goiás\", \"GO\", 7113540),\n",
    "    (\"Maranhão\", \"MA\", 7114598),\n",
    "    (\"Mato Grosso\", \"MT\", 3526220),\n",
    "    (\"Mato Grosso do Sul\", \"MS\", 2809394),\n",
    "    (\"Minas Gerais\", \"MG\", 21168791),\n",
    "    (\"Pará\", \"PA\", 8690745),\n",
    "    (\"Paraíba\", \"PB\", 4039277),\n",
    "    (\"Paraná\", \"PR\", 11433957),\n",
    "    (\"Pernambuco\", \"PE\", 9616621),\n",
    "    (\"Piauí\", \"PI\", 3273227),\n",
    "    (\"Rio de Janeiro\", \"RJ\", 17366189),\n",
    "    (\"Rio Grande do Norte\", \"RN\", 3534165),\n",
    "    (\"Rio Grande do Sul\", \"RS\", 11422973),\n",
    "    (\"Rondônia\", \"RO\", 1796460),\n",
    "    (\"Roraima\", \"RR\", 631181),\n",
    "    (\"Santa Catarina\", \"SC\", 7252502),\n",
    "    (\"São Paulo\", \"SP\", 46289333),\n",
    "    (\"Sergipe\", \"SE\", 2318822),\n",
    "    (\"Tocantins\", \"TO\", 1590248),\n",
    "]\n",
    "\n",
    "colunas = [\"Estado\", \"UF\", \"População\"]\n",
    "\n",
    "# Criando o DataFrame\n",
    "df_estados = spark.createDataFrame(dados,colunas)\n",
    "display(df_estados)\n"
   ]
  },
  {
   "cell_type": "code",
   "execution_count": 0,
   "metadata": {
    "application/vnd.databricks.v1+cell": {
     "cellMetadata": {
      "byteLimit": 2048000,
      "rowLimit": 10000
     },
     "inputWidgets": {},
     "nuid": "79ac5892-3e7b-43f8-ad7b-2623f9a50f31",
     "showTitle": false,
     "tableResultSettingsMap": {},
     "title": ""
    }
   },
   "outputs": [],
   "source": [
    "from pyspark.sql.functions import regexp_replace"
   ]
  },
  {
   "cell_type": "code",
   "execution_count": 0,
   "metadata": {
    "application/vnd.databricks.v1+cell": {
     "cellMetadata": {
      "byteLimit": 2048000,
      "rowLimit": 10000
     },
     "inputWidgets": {},
     "nuid": "cc1d05cd-1338-41b2-a796-a0a2947d7caa",
     "showTitle": false,
     "tableResultSettingsMap": {},
     "title": ""
    }
   },
   "outputs": [],
   "source": [
    "\n",
    "df_estados = df_estados.withColumn(\"EstadoSemAcento\", regexp_replace(df_estados.Estado, \"á\", \"a\")) \n",
    "display(df_estados)\n",
    "\n",
    "#poderia localidar a coluna tambm df_estados[\"Estado\"] ou pelo indice"
   ]
  },
  {
   "cell_type": "code",
   "execution_count": 0,
   "metadata": {
    "application/vnd.databricks.v1+cell": {
     "cellMetadata": {
      "byteLimit": 2048000,
      "rowLimit": 10000
     },
     "inputWidgets": {},
     "nuid": "73b68dc0-5a3a-4362-b4a6-c4396829d00d",
     "showTitle": false,
     "tableResultSettingsMap": {},
     "title": ""
    }
   },
   "outputs": [],
   "source": [
    "from pyspark.sql.functions import translate\n",
    "# tem que ser na mesma ordem \n",
    "acentos     = \"áàãâéèêíìóòõôúùûç\"\n",
    "sem_acentos = \"aaaaeeeiioooouuuc\"\n",
    "\n",
    "# Aplicar a substituição usando a função translate\n",
    "df_estados = df_estados.withColumn(\"EstadoSemAcento\", translate(df_estados.Estado, acentos, sem_acentos))\n",
    "\n",
    "# Exibir o DataFrame\n",
    "display(df_estados)"
   ]
  },
  {
   "cell_type": "code",
   "execution_count": 0,
   "metadata": {
    "application/vnd.databricks.v1+cell": {
     "cellMetadata": {
      "byteLimit": 2048000,
      "rowLimit": 10000
     },
     "inputWidgets": {},
     "nuid": "d985e9ef-be07-48f6-8a1b-cb4782a0f3c2",
     "showTitle": false,
     "tableResultSettingsMap": {},
     "title": ""
    }
   },
   "outputs": [],
   "source": [
    "#Usando translatee lower pra nao ter problema de forma alguma tudo sem acento e minusculo\n",
    "from pyspark.sql.functions import translate,lower\n",
    "acentos     = \"áàãâéèêíìóòõôúùûç\"\n",
    "sem_acentos = \"aaaaeeeiioooouuuc\"\n",
    "\n",
    "df_estados = df_estados.withColumn(\"EstadoSemAcento\", translate(df_estados.Estado, acentos, sem_acentos))\n",
    "display(df_estados)"
   ]
  },
  {
   "cell_type": "code",
   "execution_count": 0,
   "metadata": {
    "application/vnd.databricks.v1+cell": {
     "cellMetadata": {
      "byteLimit": 2048000,
      "rowLimit": 10000
     },
     "inputWidgets": {},
     "nuid": "3c7c4519-dec5-45e3-aef0-bf415f98c128",
     "showTitle": false,
     "tableResultSettingsMap": {},
     "title": ""
    }
   },
   "outputs": [],
   "source": [
    "display( df_estados.filter(df_estados.EstadoSemAcento == 'Maranhao' ))"
   ]
  },
  {
   "cell_type": "code",
   "execution_count": 0,
   "metadata": {
    "application/vnd.databricks.v1+cell": {
     "cellMetadata": {
      "byteLimit": 2048000,
      "rowLimit": 10000
     },
     "inputWidgets": {},
     "nuid": "60a227bf-0aa5-4a9d-a379-ceccf228dfb2",
     "showTitle": false,
     "tableResultSettingsMap": {},
     "title": ""
    }
   },
   "outputs": [],
   "source": [
    "#Sendo um Analista Senior e usando todas as funções possiveis pra nao te encherem kkkkkk\n",
    "#sem acento , tudo minusculo e sem espaços escessivos\n",
    "from pyspark.sql.functions import translate,lower,trim\n",
    "acentos     = \"áàãâéèêíìóòõôúùûç\"\n",
    "sem_acentos = \"aaaaeeeiioooouuuc\"\n",
    "\n",
    "df_estados = df_estados.withColumn(\"EstadoSemAcento\", trim(lower(translate(df_estados.Estado, acentos, sem_acentos))) )\n",
    "display(df_estados)"
   ]
  },
  {
   "cell_type": "code",
   "execution_count": 0,
   "metadata": {
    "application/vnd.databricks.v1+cell": {
     "cellMetadata": {
      "byteLimit": 2048000,
      "rowLimit": 10000
     },
     "inputWidgets": {},
     "nuid": "910829b7-435e-45db-a538-c2e5fe8ac463",
     "showTitle": false,
     "tableResultSettingsMap": {},
     "title": ""
    }
   },
   "outputs": [],
   "source": [
    "display(df_estados.filter(df_estados.EstadoSemAcento == 'sao paulo'))"
   ]
  },
  {
   "cell_type": "code",
   "execution_count": 0,
   "metadata": {
    "application/vnd.databricks.v1+cell": {
     "cellMetadata": {
      "byteLimit": 2048000,
      "rowLimit": 10000
     },
     "inputWidgets": {},
     "nuid": "37903bbd-eca6-4daa-b31d-da934b0d0703",
     "showTitle": false,
     "tableResultSettingsMap": {},
     "title": ""
    }
   },
   "outputs": [],
   "source": [
    "#subtituindo coluna e nao adicionando uma nova \n",
    "from pyspark.sql.functions import translate,lower,trim\n",
    "acentos     = \"áàãâéèêíìóòõôúùûç\"\n",
    "sem_acentos = \"aaaaeeeiioooouuuc\"\n",
    "\n",
    "df_estados = df_estados.withColumn(\"Estado\", trim(lower(translate(df_estados.Estado, acentos, sem_acentos))) )\n",
    "display(df_estados)"
   ]
  },
  {
   "cell_type": "markdown",
   "metadata": {
    "application/vnd.databricks.v1+cell": {
     "cellMetadata": {},
     "inputWidgets": {},
     "nuid": "14090b6e-fd7c-4adf-b8b7-3f9ec5da97c9",
     "showTitle": false,
     "tableResultSettingsMap": {},
     "title": ""
    }
   },
   "source": [
    "######Função Like"
   ]
  },
  {
   "cell_type": "code",
   "execution_count": 0,
   "metadata": {
    "application/vnd.databricks.v1+cell": {
     "cellMetadata": {
      "byteLimit": 2048000,
      "rowLimit": 10000
     },
     "inputWidgets": {},
     "nuid": "e2b23f71-b8df-4b78-b144-ccc92eed39a0",
     "showTitle": false,
     "tableResultSettingsMap": {},
     "title": ""
    }
   },
   "outputs": [],
   "source": [
    "df = spark.read.json(\"/Volumes/workspace/default/arquivos-aula/Anac/V_OCORRENCIA_AMPLA.json\")\n",
    "display(df)"
   ]
  },
  {
   "cell_type": "code",
   "execution_count": 0,
   "metadata": {
    "application/vnd.databricks.v1+cell": {
     "cellMetadata": {
      "byteLimit": 2048000,
      "rowLimit": 10000
     },
     "inputWidgets": {},
     "nuid": "656ffc9e-2b26-4d0a-a227-066f649d22f6",
     "showTitle": false,
     "tableResultSettingsMap": {},
     "title": ""
    }
   },
   "outputs": [],
   "source": [
    "#passar filtro por trecho especifico \n",
    "# % a grosso modo significa todo o resto , voce vai entender na prática\n",
    "resultado = df.filter(df.Descricao_do_Tipo.like(\"%AVE\"))\n",
    "display(resultado)\n",
    "\n",
    "#Resumo pra ficar facil \n",
    "\"\"\"\n",
    "%Texto%  = traz todo o resto pra frente e pra tras do texto\n",
    "Texto%   = inicia com o texto e nao importa o que tem pra frente\n",
    "%Texto   = finaliza com o texto nao importa o que tem para tras\n",
    "\n",
    "\"\"\"\n"
   ]
  },
  {
   "cell_type": "markdown",
   "metadata": {
    "application/vnd.databricks.v1+cell": {
     "cellMetadata": {},
     "inputWidgets": {},
     "nuid": "bfe1a87e-b009-49ae-bdff-d9897456097e",
     "showTitle": false,
     "tableResultSettingsMap": {},
     "title": ""
    }
   },
   "source": [
    "######Filtro de Valores"
   ]
  },
  {
   "cell_type": "code",
   "execution_count": 0,
   "metadata": {
    "application/vnd.databricks.v1+cell": {
     "cellMetadata": {
      "byteLimit": 2048000,
      "rowLimit": 10000
     },
     "inputWidgets": {},
     "nuid": "503edd76-fdc1-4360-83ff-cbad9fb69950",
     "showTitle": false,
     "tableResultSettingsMap": {},
     "title": ""
    }
   },
   "outputs": [],
   "source": [
    "orders_df = spark.read.\\\n",
    "    format(\"csv\")\\\n",
    "    .option(\"header\", \"true\")\\\n",
    "    .option(\"inferSchema\", \"true\")\\\n",
    "    .load(\"/FileStore/tables/Bikes/orders.csv\")\n",
    "display(orders_df)"
   ]
  },
  {
   "cell_type": "code",
   "execution_count": 0,
   "metadata": {
    "application/vnd.databricks.v1+cell": {
     "cellMetadata": {
      "byteLimit": 2048000,
      "rowLimit": 10000
     },
     "inputWidgets": {},
     "nuid": "c565e155-1014-48e9-b986-487d62c7c9cf",
     "showTitle": false,
     "tableResultSettingsMap": {},
     "title": ""
    }
   },
   "outputs": [],
   "source": [
    "display(orders_df.filter(orders_df.order_status == 1) )"
   ]
  },
  {
   "cell_type": "code",
   "execution_count": 0,
   "metadata": {
    "application/vnd.databricks.v1+cell": {
     "cellMetadata": {
      "byteLimit": 2048000,
      "rowLimit": 10000
     },
     "inputWidgets": {},
     "nuid": "18166f77-d85a-4ce3-b26c-b02bc2515058",
     "showTitle": false,
     "tableResultSettingsMap": {},
     "title": ""
    }
   },
   "outputs": [],
   "source": [
    "#sanlvando em um df simulando que 1 seja pedidos pendentes \n",
    "PedidosPendentes = orders_df.filter(orders_df.order_status == 1) \n",
    "display(PedidosPendentes)"
   ]
  },
  {
   "cell_type": "code",
   "execution_count": 0,
   "metadata": {
    "application/vnd.databricks.v1+cell": {
     "cellMetadata": {
      "byteLimit": 2048000,
      "rowLimit": 10000
     },
     "inputWidgets": {},
     "nuid": "221bcabc-a59b-4b38-91a4-392db756744a",
     "showTitle": false,
     "tableResultSettingsMap": {},
     "title": ""
    }
   },
   "outputs": [],
   "source": [
    "#pedidos de uma loja especifica \n",
    "Loja2 = orders_df.filter(orders_df.store_id == 2) \n",
    "display(Loja2)"
   ]
  },
  {
   "cell_type": "code",
   "execution_count": 0,
   "metadata": {
    "application/vnd.databricks.v1+cell": {
     "cellMetadata": {
      "byteLimit": 2048000,
      "rowLimit": 10000
     },
     "inputWidgets": {},
     "nuid": "34e839b3-b35b-4173-a046-1f355a8d4a86",
     "showTitle": false,
     "tableResultSettingsMap": {},
     "title": ""
    }
   },
   "outputs": [],
   "source": [
    "#pedidos diferentes de uma loja espefica\n",
    "fora3 = orders_df.filter(orders_df.store_id != 3) \n",
    "display(fora3)"
   ]
  },
  {
   "cell_type": "code",
   "execution_count": 0,
   "metadata": {
    "application/vnd.databricks.v1+cell": {
     "cellMetadata": {
      "byteLimit": 2048000,
      "rowLimit": 10000
     },
     "inputWidgets": {},
     "nuid": "a41686a8-48f8-496d-91d7-c3f60281ad3f",
     "showTitle": false,
     "tableResultSettingsMap": {},
     "title": ""
    }
   },
   "outputs": [],
   "source": [
    "#Filtro composto exemplo pedidos da Loja 3 com status =1\n",
    "StatusLoja3 = orders_df.filter( (orders_df.store_id == 3) & (orders_df.order_status == 1)  )  \n",
    "display(StatusLoja3)\n"
   ]
  },
  {
   "cell_type": "code",
   "execution_count": 0,
   "metadata": {
    "application/vnd.databricks.v1+cell": {
     "cellMetadata": {
      "byteLimit": 2048000,
      "rowLimit": 10000
     },
     "inputWidgets": {},
     "nuid": "6d4b82f6-3a11-421a-80e8-46ffcd9f7d97",
     "showTitle": false,
     "tableResultSettingsMap": {},
     "title": ""
    }
   },
   "outputs": [],
   "source": [
    "order_items       = spark.read.\\\n",
    "    format(\"csv\")\\\n",
    "    .option(\"header\", \"true\")\\\n",
    "    .option(\"inferSchema\", \"true\")\\\n",
    "    .load(\"/FileStore/tables/Bikes/order_items.csv\")\n",
    "display(order_items)"
   ]
  },
  {
   "cell_type": "code",
   "execution_count": 0,
   "metadata": {
    "application/vnd.databricks.v1+cell": {
     "cellMetadata": {
      "byteLimit": 2048000,
      "rowLimit": 10000
     },
     "inputWidgets": {},
     "nuid": "45e619c0-9a65-4465-afe6-89483fe41d6b",
     "showTitle": false,
     "tableResultSettingsMap": {},
     "title": ""
    }
   },
   "outputs": [],
   "source": [
    "# Exemplos de faixa de preços\n",
    "Barato = order_items.filter(order_items.list_price < 300 ) \n",
    "display(Barato)"
   ]
  },
  {
   "cell_type": "code",
   "execution_count": 0,
   "metadata": {
    "application/vnd.databricks.v1+cell": {
     "cellMetadata": {
      "byteLimit": 2048000,
      "rowLimit": 10000
     },
     "inputWidgets": {},
     "nuid": "a0b3ac97-17a4-4a35-8f40-00d820619e1d",
     "showTitle": false,
     "tableResultSettingsMap": {},
     "title": ""
    }
   },
   "outputs": [],
   "source": [
    "Caro = order_items.filter(order_items.list_price > 2000 ) \n",
    "display(Caro)"
   ]
  },
  {
   "cell_type": "code",
   "execution_count": 0,
   "metadata": {
    "application/vnd.databricks.v1+cell": {
     "cellMetadata": {
      "byteLimit": 2048000,
      "rowLimit": 10000
     },
     "inputWidgets": {},
     "nuid": "0a981162-f875-41e4-96ba-c2ab318f7ac5",
     "showTitle": false,
     "tableResultSettingsMap": {},
     "title": ""
    }
   },
   "outputs": [],
   "source": [
    "medio = order_items.filter((order_items.list_price >= 700) & (order_items.list_price <= 1200))\n",
    "display(medio)"
   ]
  },
  {
   "cell_type": "code",
   "execution_count": 0,
   "metadata": {
    "application/vnd.databricks.v1+cell": {
     "cellMetadata": {
      "byteLimit": 2048000,
      "rowLimit": 10000
     },
     "inputWidgets": {},
     "nuid": "fa87d9eb-2586-40be-ae53-7535c2d0d6bf",
     "showTitle": false,
     "tableResultSettingsMap": {},
     "title": ""
    }
   },
   "outputs": [],
   "source": [
    "from pyspark.sql.functions import col\n",
    "medio = order_items.filter((col(\"list_price\") >= 700) & (col(\"list_price\") <= 1200))\n",
    "display(medio)\n",
    "#exemplo Col \n"
   ]
  },
  {
   "cell_type": "code",
   "execution_count": 0,
   "metadata": {
    "application/vnd.databricks.v1+cell": {
     "cellMetadata": {
      "byteLimit": 2048000,
      "rowLimit": 10000
     },
     "inputWidgets": {},
     "nuid": "3f4f4b88-ae3b-40ca-b3aa-628d04cef4e9",
     "showTitle": false,
     "tableResultSettingsMap": {},
     "title": ""
    }
   },
   "outputs": [],
   "source": [
    "# com variaveis \n",
    "ValorMinimo= 50\n",
    "ValorMaximo= 100\n",
    "\n",
    "df_resultado = order_items.filter((order_items.list_price >= ValorMinimo) & (order_items.list_price <= ValorMaximo))\n",
    "display(df_resultado)"
   ]
  },
  {
   "cell_type": "code",
   "execution_count": 0,
   "metadata": {
    "application/vnd.databricks.v1+cell": {
     "cellMetadata": {
      "byteLimit": 2048000,
      "rowLimit": 10000
     },
     "inputWidgets": {},
     "nuid": "a79bca99-1f72-4437-bb46-130bb91020b2",
     "showTitle": false,
     "tableResultSettingsMap": {},
     "title": ""
    }
   },
   "outputs": [],
   "source": [
    "df = spark.read.json(\"dbfs:/FileStore/tables/Anac/V_OCORRENCIA_AMPLA.json\")\n",
    "display(df)"
   ]
  }
 ],
 "metadata": {
  "application/vnd.databricks.v1+notebook": {
   "computePreferences": null,
   "dashboards": [],
   "environmentMetadata": null,
   "inputWidgetPreferences": null,
   "language": "python",
   "notebookMetadata": {
    "mostRecentlyExecutedCommandWithImplicitDF": {
     "commandId": 7335706250536314,
     "dataframes": [
      "_sqldf"
     ]
    },
    "pythonIndentUnit": 4
   },
   "notebookName": "10. Filtro de Dados no Databricks",
   "widgets": {}
  },
  "language_info": {
   "name": "python"
  }
 },
 "nbformat": 4,
 "nbformat_minor": 0
}